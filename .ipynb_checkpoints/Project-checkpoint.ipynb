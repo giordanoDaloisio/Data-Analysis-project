{
 "cells": [
  {
   "cell_type": "code",
   "execution_count": 1,
   "metadata": {},
   "outputs": [],
   "source": [
    "from joblib import Memory\n",
    "import sklearn.datasets as sd\n",
    "from sklearn import svm\n",
    "import scipy.sparse as sparse"
   ]
  },
  {
   "cell_type": "code",
   "execution_count": 2,
   "metadata": {},
   "outputs": [],
   "source": [
    "import pandas as pd\n",
    "import numpy as np\n",
    "import matplotlib.pyplot as plt\n",
    "%load_ext memory_profiler\n",
    "%load_ext line_profiler"
   ]
  },
  {
   "cell_type": "code",
   "execution_count": 3,
   "metadata": {},
   "outputs": [
    {
     "data": {
      "text/plain": [
       "<dask.config.set at 0x7f6b4cfbd048>"
      ]
     },
     "execution_count": 3,
     "metadata": {},
     "output_type": "execute_result"
    }
   ],
   "source": [
    "import dask\n",
    "import dask.dataframe as dd\n",
    "import dask.array as da\n",
    "dask.config.set(scheduler='threads')"
   ]
  },
  {
   "cell_type": "code",
   "execution_count": 4,
   "metadata": {},
   "outputs": [],
   "source": [
    "filelist = [\"./url_svmlight/Day%s.svm\" % i for i in range(0,121)]"
   ]
  },
  {
   "cell_type": "code",
   "execution_count": 5,
   "metadata": {},
   "outputs": [],
   "source": [
    "def descriptiveStat (x):\n",
    "    print ('Dataset lenght:', x.size)\n",
    "    print ('Minimum value:', np.min(x))\n",
    "    print ('Maximum value:', np.max(x))\n",
    "    print ('Mean value:', np.mean(x))\n",
    "    #print ('Median value:', np.median(x))"
   ]
  },
  {
   "cell_type": "markdown",
   "metadata": {},
   "source": [
    "## Import file using sklearn datasets"
   ]
  },
  {
   "cell_type": "code",
   "execution_count": 6,
   "metadata": {},
   "outputs": [],
   "source": [
    "mem = Memory(\"./cache\")"
   ]
  },
  {
   "cell_type": "code",
   "execution_count": 9,
   "metadata": {},
   "outputs": [],
   "source": [
    "@mem.cache\n",
    "def get_data():\n",
    "    data = sd.load_svmlight_files(filelist)\n",
    "    return data"
   ]
  },
  {
   "cell_type": "code",
   "execution_count": 10,
   "metadata": {
    "scrolled": true
   },
   "outputs": [],
   "source": [
    "data = get_data()"
   ]
  },
  {
   "cell_type": "code",
   "execution_count": 11,
   "metadata": {},
   "outputs": [],
   "source": [
    "days = da.array([(data[i], data[i+1]) for i in range(0, len(data)) if i%2==0])"
   ]
  },
  {
   "cell_type": "code",
   "execution_count": 12,
   "metadata": {
    "scrolled": true
   },
   "outputs": [
    {
     "data": {
      "text/plain": [
       "121"
      ]
     },
     "execution_count": 12,
     "metadata": {},
     "output_type": "execute_result"
    }
   ],
   "source": [
    "len(days)"
   ]
  },
  {
   "cell_type": "code",
   "execution_count": 13,
   "metadata": {},
   "outputs": [],
   "source": [
    "day0 = days[0]\n",
    "day1 = days[1]"
   ]
  },
  {
   "cell_type": "markdown",
   "metadata": {},
   "source": [
    "# Testing Day0"
   ]
  },
  {
   "cell_type": "code",
   "execution_count": 14,
   "metadata": {},
   "outputs": [
    {
     "name": "stdout",
     "output_type": "stream",
     "text": [
      "  (0, 3)\t0.0788382\n",
      "  (0, 4)\t0.124138\n",
      "  (0, 5)\t0.117647\n",
      "  (0, 10)\t0.428571\n",
      "  (0, 15)\t0.1\n",
      "  (0, 16)\t0.749633\n",
      "  (0, 17)\t0.843029\n",
      "  (0, 18)\t0.197344\n",
      "  (0, 20)\t0.142856\n",
      "  (0, 21)\t0.142857\n",
      "  (0, 22)\t0.142857\n",
      "  (0, 27)\t1.0\n",
      "  (0, 32)\t0.0555556\n",
      "  (0, 40)\t0.1\n",
      "  (0, 53)\t1.0\n",
      "  (0, 55)\t1.0\n",
      "  (0, 63)\t1.0\n",
      "  (0, 69)\t1.0\n",
      "  (0, 71)\t1.0\n",
      "  (0, 73)\t1.0\n",
      "  (0, 75)\t1.0\n",
      "  (0, 81)\t1.0\n",
      "  (0, 83)\t1.0\n",
      "  (0, 85)\t1.0\n",
      "  (0, 87)\t1.0\n",
      "  :\t:\n",
      "  (15999, 155191)\t1.0\n",
      "  (15999, 155192)\t1.0\n",
      "  (15999, 155193)\t1.0\n",
      "  (15999, 155194)\t1.0\n",
      "  (15999, 155195)\t1.0\n",
      "  (15999, 155196)\t1.0\n",
      "  (15999, 155197)\t1.0\n",
      "  (15999, 155198)\t1.0\n",
      "  (15999, 155199)\t1.0\n",
      "  (15999, 155200)\t1.0\n",
      "  (15999, 155201)\t1.0\n",
      "  (15999, 155202)\t1.0\n",
      "  (15999, 155203)\t1.0\n",
      "  (15999, 155204)\t1.0\n",
      "  (15999, 155205)\t1.0\n",
      "  (15999, 155206)\t1.0\n",
      "  (15999, 155207)\t1.0\n",
      "  (15999, 155208)\t1.0\n",
      "  (15999, 155209)\t1.0\n",
      "  (15999, 155210)\t1.0\n",
      "  (15999, 155211)\t1.0\n",
      "  (15999, 155212)\t1.0\n",
      "  (15999, 303785)\t1.0\n",
      "  (15999, 1418394)\t1.0\n",
      "  (15999, 2384702)\t1.0\n"
     ]
    }
   ],
   "source": [
    "print(day0[0])"
   ]
  },
  {
   "cell_type": "code",
   "execution_count": 15,
   "metadata": {
    "scrolled": false
   },
   "outputs": [
    {
     "data": {
      "image/png": "[encoded data removed]",
      "text/plain": [
       "<Figure size 432x288 with 1 Axes>"
      ]
     },
     "metadata": {
      "needs_background": "light"
     },
     "output_type": "display_data"
    }
   ],
   "source": [
    "hist0 = plt.hist(day0[1], 100)\n",
    "plt.xlabel(\"Day 0 URLs\", fontdict={'fontsize': 14, 'family': 'monospace'})\n",
    "\n",
    "plt.show()"
   ]
  },
  {
   "cell_type": "code",
   "execution_count": 16,
   "metadata": {
    "scrolled": true
   },
   "outputs": [
    {
     "name": "stdout",
     "output_type": "stream",
     "text": [
      "Dataset lenght: 1847536\n",
      "Minimum value: 0.0\n",
      "Maximum value: 1.0\n",
      "Mean value: 3.3005424586218573e-05\n"
     ]
    }
   ],
   "source": [
    "descriptiveStat(day0[0])"
   ]
  },
  {
   "cell_type": "markdown",
   "metadata": {},
   "source": [
    "## Testing TruncatedSVD"
   ]
  },
  {
   "cell_type": "code",
   "execution_count": 19,
   "metadata": {
    "scrolled": true
   },
   "outputs": [],
   "source": [
    "import dask_ml.decomposition as dec"
   ]
  },
  {
   "cell_type": "code",
   "execution_count": 20,
   "metadata": {},
   "outputs": [],
   "source": [
    "svd = dec.TruncatedSVD(n_components=5)"
   ]
  },
  {
   "cell_type": "code",
   "execution_count": null,
   "metadata": {},
   "outputs": [],
   "source": []
  },
  {
   "cell_type": "code",
   "execution_count": null,
   "metadata": {},
   "outputs": [],
   "source": []
  },
  {
   "cell_type": "markdown",
   "metadata": {},
   "source": [
    "# Testing all days"
   ]
  },
  {
   "cell_type": "code",
   "execution_count": null,
   "metadata": {},
   "outputs": [],
   "source": [
    "totalset = np.array([day[1] for day in days])"
   ]
  },
  {
   "cell_type": "code",
   "execution_count": null,
   "metadata": {
    "scrolled": false
   },
   "outputs": [],
   "source": [
    "plt.hist(totalset, 100)\n",
    "plt.xlabel(\"Total days URLs\", fontdict={'fontsize': 14, 'family': 'monospace'})\n",
    "plt.show()"
   ]
  },
  {
   "cell_type": "markdown",
   "metadata": {},
   "source": [
    "# Test for Dask DataFrame on Day 0"
   ]
  },
  {
   "cell_type": "code",
   "execution_count": null,
   "metadata": {},
   "outputs": [],
   "source": [
    "%%timeit\n",
    "%memit sd.load_svmlight_file('url_svmlight/Day0.svm')"
   ]
  },
  {
   "cell_type": "code",
   "execution_count": null,
   "metadata": {},
   "outputs": [],
   "source": [
    "da_day0 = da.from_array(day0[0])"
   ]
  },
  {
   "cell_type": "code",
   "execution_count": null,
   "metadata": {},
   "outputs": [],
   "source": [
    "da_day0"
   ]
  },
  {
   "cell_type": "code",
   "execution_count": null,
   "metadata": {},
   "outputs": [],
   "source": []
  }
 ],
 "metadata": {
  "kernelspec": {
   "display_name": "Python 3",
   "language": "python",
   "name": "python3"
  },
  "language_info": {
   "codemirror_mode": {
    "name": "ipython",
    "version": 3
   },
   "file_extension": ".py",
   "mimetype": "text/x-python",
   "name": "python",
   "nbconvert_exporter": "python",
   "pygments_lexer": "ipython3",
   "version": "3.6.8"
  }
 },
 "nbformat": 4,
 "nbformat_minor": 2
}
