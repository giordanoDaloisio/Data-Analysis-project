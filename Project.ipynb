{
 "cells": [
  {
   "cell_type": "code",
   "execution_count": 1,
   "metadata": {},
   "outputs": [],
   "source": [
    "from joblib import Memory\n",
    "import sklearn.datasets as sd\n",
    "from sklearn import svm"
   ]
  },
  {
   "cell_type": "code",
   "execution_count": 2,
   "metadata": {},
   "outputs": [],
   "source": [
    "import pandas as pd\n",
    "import numpy as np\n",
    "import matplotlib.pyplot as plt"
   ]
  },
  {
   "cell_type": "code",
   "execution_count": 3,
   "metadata": {},
   "outputs": [],
   "source": [
    "mem = Memory(\"./cache\")"
   ]
  },
  {
   "cell_type": "code",
   "execution_count": 4,
   "metadata": {},
   "outputs": [],
   "source": [
    "filelist = [\"./url_svmlight/Day%s.svm\" % i for i in range(0,121)]"
   ]
  },
  {
   "cell_type": "code",
   "execution_count": 5,
   "metadata": {},
   "outputs": [],
   "source": [
    "@mem.cache\n",
    "def get_data():\n",
    "    data = sd.load_svmlight_files(filelist)\n",
    "    return data"
   ]
  },
  {
   "cell_type": "code",
   "execution_count": 6,
   "metadata": {
    "scrolled": false
   },
   "outputs": [],
   "source": [
    "data = get_data()"
   ]
  },
  {
   "cell_type": "code",
   "execution_count": 7,
   "metadata": {
    "scrolled": true
   },
   "outputs": [
    {
     "data": {
      "text/plain": [
       "[<16000x3231961 sparse matrix of type '<class 'numpy.float64'>'\n",
       " \twith 1847536 stored elements in Compressed Sparse Row format>,\n",
       " array([-1., -1., -1., ..., -1., -1.,  1.]),\n",
       " <20000x3231961 sparse matrix of type '<class 'numpy.float64'>'\n",
       " \twith 2304202 stored elements in Compressed Sparse Row format>,\n",
       " array([-1., -1., -1., ..., -1., -1., -1.]),\n",
       " <20000x3231961 sparse matrix of type '<class 'numpy.float64'>'\n",
       " \twith 2300129 stored elements in Compressed Sparse Row format>,\n",
       " array([-1., -1.,  1., ...,  1.,  1.,  1.]),\n",
       " <20000x3231961 sparse matrix of type '<class 'numpy.float64'>'\n",
       " \twith 2302278 stored elements in Compressed Sparse Row format>,\n",
       " array([ 1.,  1.,  1., ...,  1., -1., -1.]),\n",
       " <20000x3231961 sparse matrix of type '<class 'numpy.float64'>'\n",
       " \twith 2298268 stored elements in Compressed Sparse Row format>,\n",
       " array([-1.,  1.,  1., ..., -1.,  1.,  1.]),\n",
       " <20000x3231961 sparse matrix of type '<class 'numpy.float64'>'\n",
       " \twith 2305094 stored elements in Compressed Sparse Row format>,\n",
       " array([-1.,  1.,  1., ...,  1., -1., -1.]),\n",
       " <20000x3231961 sparse matrix of type '<class 'numpy.float64'>'\n",
       " \twith 2318747 stored elements in Compressed Sparse Row format>,\n",
       " array([-1., -1., -1., ..., -1., -1.,  1.]),\n",
       " <20000x3231961 sparse matrix of type '<class 'numpy.float64'>'\n",
       " \twith 2350415 stored elements in Compressed Sparse Row format>,\n",
       " array([-1., -1.,  1., ...,  1., -1., -1.]),\n",
       " <20000x3231961 sparse matrix of type '<class 'numpy.float64'>'\n",
       " \twith 2323814 stored elements in Compressed Sparse Row format>,\n",
       " array([ 1., -1., -1., ...,  1., -1., -1.]),\n",
       " <20000x3231961 sparse matrix of type '<class 'numpy.float64'>'\n",
       " \twith 2323209 stored elements in Compressed Sparse Row format>,\n",
       " array([-1., -1., -1., ...,  1., -1., -1.]),\n",
       " <20000x3231961 sparse matrix of type '<class 'numpy.float64'>'\n",
       " \twith 2313933 stored elements in Compressed Sparse Row format>,\n",
       " array([-1., -1.,  1., ..., -1.,  1.,  1.]),\n",
       " <20000x3231961 sparse matrix of type '<class 'numpy.float64'>'\n",
       " \twith 2313039 stored elements in Compressed Sparse Row format>,\n",
       " array([-1., -1., -1., ...,  1.,  1., -1.]),\n",
       " <20000x3231961 sparse matrix of type '<class 'numpy.float64'>'\n",
       " \twith 2300858 stored elements in Compressed Sparse Row format>,\n",
       " array([-1., -1., -1., ..., -1., -1., -1.]),\n",
       " <20000x3231961 sparse matrix of type '<class 'numpy.float64'>'\n",
       " \twith 2262174 stored elements in Compressed Sparse Row format>,\n",
       " array([-1.,  1.,  1., ...,  1., -1., -1.]),\n",
       " <20000x3231961 sparse matrix of type '<class 'numpy.float64'>'\n",
       " \twith 2275293 stored elements in Compressed Sparse Row format>,\n",
       " array([-1.,  1., -1., ...,  1., -1., -1.]),\n",
       " <20000x3231961 sparse matrix of type '<class 'numpy.float64'>'\n",
       " \twith 2286674 stored elements in Compressed Sparse Row format>,\n",
       " array([ 1.,  1.,  1., ..., -1., -1., -1.]),\n",
       " <20000x3231961 sparse matrix of type '<class 'numpy.float64'>'\n",
       " \twith 2297863 stored elements in Compressed Sparse Row format>,\n",
       " array([-1.,  1., -1., ...,  1.,  1.,  1.]),\n",
       " <20000x3231961 sparse matrix of type '<class 'numpy.float64'>'\n",
       " \twith 2294389 stored elements in Compressed Sparse Row format>,\n",
       " array([ 1., -1.,  1., ...,  1., -1.,  1.]),\n",
       " <20000x3231961 sparse matrix of type '<class 'numpy.float64'>'\n",
       " \twith 2263777 stored elements in Compressed Sparse Row format>,\n",
       " array([ 1., -1., -1., ..., -1., -1.,  1.]),\n",
       " <20000x3231961 sparse matrix of type '<class 'numpy.float64'>'\n",
       " \twith 2266439 stored elements in Compressed Sparse Row format>,\n",
       " array([-1., -1., -1., ..., -1., -1., -1.]),\n",
       " <20000x3231961 sparse matrix of type '<class 'numpy.float64'>'\n",
       " \twith 2326404 stored elements in Compressed Sparse Row format>,\n",
       " array([-1., -1., -1., ..., -1., -1., -1.]),\n",
       " <20000x3231961 sparse matrix of type '<class 'numpy.float64'>'\n",
       " \twith 2346121 stored elements in Compressed Sparse Row format>,\n",
       " array([-1.,  1.,  1., ..., -1., -1., -1.]),\n",
       " <20000x3231961 sparse matrix of type '<class 'numpy.float64'>'\n",
       " \twith 2356102 stored elements in Compressed Sparse Row format>,\n",
       " array([-1., -1., -1., ...,  1.,  1.,  1.]),\n",
       " <20000x3231961 sparse matrix of type '<class 'numpy.float64'>'\n",
       " \twith 2291848 stored elements in Compressed Sparse Row format>,\n",
       " array([-1., -1., -1., ...,  1., -1.,  1.]),\n",
       " <20000x3231961 sparse matrix of type '<class 'numpy.float64'>'\n",
       " \twith 2343494 stored elements in Compressed Sparse Row format>,\n",
       " array([-1.,  1., -1., ...,  1.,  1., -1.]),\n",
       " <20000x3231961 sparse matrix of type '<class 'numpy.float64'>'\n",
       " \twith 2310788 stored elements in Compressed Sparse Row format>,\n",
       " array([ 1., -1., -1., ...,  1., -1., -1.]),\n",
       " <20000x3231961 sparse matrix of type '<class 'numpy.float64'>'\n",
       " \twith 2085620 stored elements in Compressed Sparse Row format>,\n",
       " array([-1., -1., -1., ..., -1.,  1., -1.]),\n",
       " <20000x3231961 sparse matrix of type '<class 'numpy.float64'>'\n",
       " \twith 2271101 stored elements in Compressed Sparse Row format>,\n",
       " array([-1., -1., -1., ..., -1., -1., -1.]),\n",
       " <20000x3231961 sparse matrix of type '<class 'numpy.float64'>'\n",
       " \twith 2268871 stored elements in Compressed Sparse Row format>,\n",
       " array([-1., -1., -1., ..., -1., -1., -1.]),\n",
       " <20000x3231961 sparse matrix of type '<class 'numpy.float64'>'\n",
       " \twith 2342325 stored elements in Compressed Sparse Row format>,\n",
       " array([-1., -1., -1., ..., -1., -1., -1.]),\n",
       " <20000x3231961 sparse matrix of type '<class 'numpy.float64'>'\n",
       " \twith 2345780 stored elements in Compressed Sparse Row format>,\n",
       " array([-1.,  1., -1., ..., -1., -1., -1.]),\n",
       " <20000x3231961 sparse matrix of type '<class 'numpy.float64'>'\n",
       " \twith 2333930 stored elements in Compressed Sparse Row format>,\n",
       " array([ 1., -1., -1., ..., -1., -1.,  1.]),\n",
       " <20000x3231961 sparse matrix of type '<class 'numpy.float64'>'\n",
       " \twith 2331850 stored elements in Compressed Sparse Row format>,\n",
       " array([-1.,  1.,  1., ..., -1.,  1., -1.]),\n",
       " <20000x3231961 sparse matrix of type '<class 'numpy.float64'>'\n",
       " \twith 2341132 stored elements in Compressed Sparse Row format>,\n",
       " array([ 1.,  1., -1., ...,  1.,  1.,  1.]),\n",
       " <20000x3231961 sparse matrix of type '<class 'numpy.float64'>'\n",
       " \twith 2336599 stored elements in Compressed Sparse Row format>,\n",
       " array([-1., -1., -1., ...,  1., -1.,  1.]),\n",
       " <20000x3231961 sparse matrix of type '<class 'numpy.float64'>'\n",
       " \twith 2353451 stored elements in Compressed Sparse Row format>,\n",
       " array([-1., -1., -1., ..., -1., -1., -1.]),\n",
       " <20000x3231961 sparse matrix of type '<class 'numpy.float64'>'\n",
       " \twith 2334734 stored elements in Compressed Sparse Row format>,\n",
       " array([-1.,  1.,  1., ..., -1., -1., -1.]),\n",
       " <20000x3231961 sparse matrix of type '<class 'numpy.float64'>'\n",
       " \twith 2336160 stored elements in Compressed Sparse Row format>,\n",
       " array([ 1.,  1., -1., ..., -1., -1., -1.]),\n",
       " <20000x3231961 sparse matrix of type '<class 'numpy.float64'>'\n",
       " \twith 2374757 stored elements in Compressed Sparse Row format>,\n",
       " array([-1., -1., -1., ...,  1.,  1.,  1.]),\n",
       " <20000x3231961 sparse matrix of type '<class 'numpy.float64'>'\n",
       " \twith 2363650 stored elements in Compressed Sparse Row format>,\n",
       " array([-1., -1., -1., ...,  1., -1.,  1.]),\n",
       " <20000x3231961 sparse matrix of type '<class 'numpy.float64'>'\n",
       " \twith 2355553 stored elements in Compressed Sparse Row format>,\n",
       " array([-1., -1., -1., ..., -1., -1.,  1.]),\n",
       " <20000x3231961 sparse matrix of type '<class 'numpy.float64'>'\n",
       " \twith 2315809 stored elements in Compressed Sparse Row format>,\n",
       " array([ 1., -1., -1., ...,  1., -1., -1.]),\n",
       " <20000x3231961 sparse matrix of type '<class 'numpy.float64'>'\n",
       " \twith 2315653 stored elements in Compressed Sparse Row format>,\n",
       " array([-1., -1., -1., ...,  1., -1., -1.]),\n",
       " <20000x3231961 sparse matrix of type '<class 'numpy.float64'>'\n",
       " \twith 2311644 stored elements in Compressed Sparse Row format>,\n",
       " array([-1., -1., -1., ..., -1., -1., -1.]),\n",
       " <20000x3231961 sparse matrix of type '<class 'numpy.float64'>'\n",
       " \twith 2310527 stored elements in Compressed Sparse Row format>,\n",
       " array([-1., -1., -1., ...,  1.,  1., -1.]),\n",
       " <130x3231961 sparse matrix of type '<class 'numpy.float64'>'\n",
       " \twith 15020 stored elements in Compressed Sparse Row format>,\n",
       " array([-1., -1., -1., -1.,  1., -1., -1.,  1.,  1.,  1., -1., -1.,  1.,\n",
       "        -1.,  1., -1.,  1., -1., -1., -1.,  1., -1., -1.,  1., -1., -1.,\n",
       "         1., -1., -1., -1., -1., -1., -1.,  1.,  1., -1., -1.,  1.,  1.,\n",
       "        -1.,  1., -1., -1., -1.,  1., -1., -1.,  1., -1., -1., -1., -1.,\n",
       "        -1., -1., -1., -1., -1., -1., -1., -1.,  1.,  1., -1., -1.,  1.,\n",
       "        -1., -1., -1.,  1.,  1., -1., -1., -1.,  1.,  1., -1.,  1., -1.,\n",
       "        -1., -1., -1., -1., -1., -1.,  1.,  1., -1., -1., -1., -1., -1.,\n",
       "         1.,  1., -1., -1.,  1.,  1.,  1., -1., -1., -1., -1.,  1., -1.,\n",
       "        -1.,  1., -1., -1., -1., -1., -1., -1.,  1., -1.,  1., -1., -1.,\n",
       "        -1., -1., -1., -1.,  1., -1., -1.,  1.,  1.,  1., -1.,  1., -1.]),\n",
       " <20000x3231961 sparse matrix of type '<class 'numpy.float64'>'\n",
       " \twith 2327668 stored elements in Compressed Sparse Row format>,\n",
       " array([-1., -1., -1., ..., -1., -1., -1.]),\n",
       " <20000x3231961 sparse matrix of type '<class 'numpy.float64'>'\n",
       " \twith 2337375 stored elements in Compressed Sparse Row format>,\n",
       " array([-1.,  1.,  1., ..., -1.,  1., -1.]),\n",
       " <20000x3231961 sparse matrix of type '<class 'numpy.float64'>'\n",
       " \twith 2352535 stored elements in Compressed Sparse Row format>,\n",
       " array([-1., -1., -1., ...,  1., -1., -1.]),\n",
       " <20000x3231961 sparse matrix of type '<class 'numpy.float64'>'\n",
       " \twith 2367071 stored elements in Compressed Sparse Row format>,\n",
       " array([-1., -1., -1., ..., -1.,  1.,  1.]),\n",
       " <20000x3231961 sparse matrix of type '<class 'numpy.float64'>'\n",
       " \twith 2362283 stored elements in Compressed Sparse Row format>,\n",
       " array([-1., -1.,  1., ..., -1., -1., -1.]),\n",
       " <20000x3231961 sparse matrix of type '<class 'numpy.float64'>'\n",
       " \twith 2339724 stored elements in Compressed Sparse Row format>,\n",
       " array([-1., -1.,  1., ..., -1., -1.,  1.]),\n",
       " <20000x3231961 sparse matrix of type '<class 'numpy.float64'>'\n",
       " \twith 2347018 stored elements in Compressed Sparse Row format>,\n",
       " array([-1., -1.,  1., ...,  1., -1., -1.]),\n",
       " <20000x3231961 sparse matrix of type '<class 'numpy.float64'>'\n",
       " \twith 2375268 stored elements in Compressed Sparse Row format>,\n",
       " array([-1., -1., -1., ..., -1.,  1.,  1.]),\n",
       " <20000x3231961 sparse matrix of type '<class 'numpy.float64'>'\n",
       " \twith 2385920 stored elements in Compressed Sparse Row format>,\n",
       " array([-1., -1., -1., ..., -1., -1., -1.]),\n",
       " <20000x3231961 sparse matrix of type '<class 'numpy.float64'>'\n",
       " \twith 2318742 stored elements in Compressed Sparse Row format>,\n",
       " array([-1.,  1., -1., ..., -1., -1., -1.]),\n",
       " <20000x3231961 sparse matrix of type '<class 'numpy.float64'>'\n",
       " \twith 2318174 stored elements in Compressed Sparse Row format>,\n",
       " array([ 1.,  1., -1., ..., -1., -1.,  1.]),\n",
       " <20000x3231961 sparse matrix of type '<class 'numpy.float64'>'\n",
       " \twith 2314036 stored elements in Compressed Sparse Row format>,\n",
       " array([-1., -1., -1., ...,  1.,  1., -1.]),\n",
       " <20000x3231961 sparse matrix of type '<class 'numpy.float64'>'\n",
       " \twith 2308886 stored elements in Compressed Sparse Row format>,\n",
       " array([-1., -1., -1., ..., -1., -1.,  1.]),\n",
       " <20000x3231961 sparse matrix of type '<class 'numpy.float64'>'\n",
       " \twith 2299309 stored elements in Compressed Sparse Row format>,\n",
       " array([-1., -1., -1., ...,  1., -1.,  1.]),\n",
       " <20000x3231961 sparse matrix of type '<class 'numpy.float64'>'\n",
       " \twith 2292401 stored elements in Compressed Sparse Row format>,\n",
       " array([ 1.,  1., -1., ..., -1., -1.,  1.]),\n",
       " <20000x3231961 sparse matrix of type '<class 'numpy.float64'>'\n",
       " \twith 2310981 stored elements in Compressed Sparse Row format>,\n",
       " array([-1., -1., -1., ..., -1., -1.,  1.]),\n",
       " <20000x3231961 sparse matrix of type '<class 'numpy.float64'>'\n",
       " \twith 2350946 stored elements in Compressed Sparse Row format>,\n",
       " array([ 1.,  1., -1., ...,  1., -1.,  1.]),\n",
       " <20000x3231961 sparse matrix of type '<class 'numpy.float64'>'\n",
       " \twith 2348825 stored elements in Compressed Sparse Row format>,\n",
       " array([-1., -1., -1., ..., -1., -1., -1.]),\n",
       " <20000x3231961 sparse matrix of type '<class 'numpy.float64'>'\n",
       " \twith 2344814 stored elements in Compressed Sparse Row format>,\n",
       " array([-1., -1., -1., ..., -1., -1., -1.]),\n",
       " <20000x3231961 sparse matrix of type '<class 'numpy.float64'>'\n",
       " \twith 2333942 stored elements in Compressed Sparse Row format>,\n",
       " array([-1., -1.,  1., ...,  1.,  1., -1.]),\n",
       " <20000x3231961 sparse matrix of type '<class 'numpy.float64'>'\n",
       " \twith 2336962 stored elements in Compressed Sparse Row format>,\n",
       " array([ 1., -1.,  1., ...,  1.,  1.,  1.]),\n",
       " <20000x3231961 sparse matrix of type '<class 'numpy.float64'>'\n",
       " \twith 2337580 stored elements in Compressed Sparse Row format>,\n",
       " array([ 1., -1.,  1., ..., -1.,  1.,  1.]),\n",
       " <20000x3231961 sparse matrix of type '<class 'numpy.float64'>'\n",
       " \twith 2329406 stored elements in Compressed Sparse Row format>,\n",
       " array([-1., -1.,  1., ...,  1., -1., -1.]),\n",
       " <20000x3231961 sparse matrix of type '<class 'numpy.float64'>'\n",
       " \twith 2364087 stored elements in Compressed Sparse Row format>,\n",
       " array([-1., -1.,  1., ..., -1., -1.,  1.]),\n",
       " <20000x3231961 sparse matrix of type '<class 'numpy.float64'>'\n",
       " \twith 2336661 stored elements in Compressed Sparse Row format>,\n",
       " array([-1.,  1.,  1., ...,  1., -1.,  1.]),\n",
       " <20000x3231961 sparse matrix of type '<class 'numpy.float64'>'\n",
       " \twith 2331935 stored elements in Compressed Sparse Row format>,\n",
       " array([ 1., -1., -1., ..., -1., -1.,  1.]),\n",
       " <20000x3231961 sparse matrix of type '<class 'numpy.float64'>'\n",
       " \twith 2337699 stored elements in Compressed Sparse Row format>,\n",
       " array([ 1.,  1.,  1., ..., -1., -1.,  1.]),\n",
       " <20000x3231961 sparse matrix of type '<class 'numpy.float64'>'\n",
       " \twith 2335832 stored elements in Compressed Sparse Row format>,\n",
       " array([-1., -1., -1., ..., -1., -1., -1.]),\n",
       " <20000x3231961 sparse matrix of type '<class 'numpy.float64'>'\n",
       " \twith 2324031 stored elements in Compressed Sparse Row format>,\n",
       " array([-1.,  1.,  1., ..., -1., -1., -1.]),\n",
       " <20000x3231961 sparse matrix of type '<class 'numpy.float64'>'\n",
       " \twith 2329882 stored elements in Compressed Sparse Row format>,\n",
       " array([ 1., -1., -1., ...,  1., -1., -1.]),\n",
       " <20000x3231961 sparse matrix of type '<class 'numpy.float64'>'\n",
       " \twith 2292964 stored elements in Compressed Sparse Row format>,\n",
       " array([-1.,  1.,  1., ...,  1.,  1.,  1.]),\n",
       " <20000x3231961 sparse matrix of type '<class 'numpy.float64'>'\n",
       " \twith 2272097 stored elements in Compressed Sparse Row format>,\n",
       " array([-1., -1., -1., ...,  1., -1.,  1.]),\n",
       " <20000x3231961 sparse matrix of type '<class 'numpy.float64'>'\n",
       " \twith 2284450 stored elements in Compressed Sparse Row format>,\n",
       " array([-1.,  1., -1., ..., -1., -1., -1.]),\n",
       " <20000x3231961 sparse matrix of type '<class 'numpy.float64'>'\n",
       " \twith 2277027 stored elements in Compressed Sparse Row format>,\n",
       " array([-1., -1.,  1., ..., -1., -1., -1.]),\n",
       " <20000x3231961 sparse matrix of type '<class 'numpy.float64'>'\n",
       " \twith 2277490 stored elements in Compressed Sparse Row format>,\n",
       " array([-1., -1.,  1., ...,  1.,  1., -1.]),\n",
       " <20000x3231961 sparse matrix of type '<class 'numpy.float64'>'\n",
       " \twith 2298819 stored elements in Compressed Sparse Row format>,\n",
       " array([-1., -1., -1., ..., -1., -1.,  1.]),\n",
       " <20000x3231961 sparse matrix of type '<class 'numpy.float64'>'\n",
       " \twith 2291807 stored elements in Compressed Sparse Row format>,\n",
       " array([ 1.,  1., -1., ..., -1.,  1.,  1.]),\n",
       " <20000x3231961 sparse matrix of type '<class 'numpy.float64'>'\n",
       " \twith 2289321 stored elements in Compressed Sparse Row format>,\n",
       " array([-1., -1., -1., ...,  1., -1., -1.]),\n",
       " <20000x3231961 sparse matrix of type '<class 'numpy.float64'>'\n",
       " \twith 2312341 stored elements in Compressed Sparse Row format>,\n",
       " array([ 1.,  1., -1., ...,  1., -1., -1.]),\n",
       " <20000x3231961 sparse matrix of type '<class 'numpy.float64'>'\n",
       " \twith 2299624 stored elements in Compressed Sparse Row format>,\n",
       " array([-1., -1., -1., ..., -1.,  1.,  1.]),\n",
       " <20000x3231961 sparse matrix of type '<class 'numpy.float64'>'\n",
       " \twith 2326550 stored elements in Compressed Sparse Row format>,\n",
       " array([-1., -1., -1., ...,  1., -1., -1.]),\n",
       " <20000x3231961 sparse matrix of type '<class 'numpy.float64'>'\n",
       " \twith 2325339 stored elements in Compressed Sparse Row format>,\n",
       " array([-1.,  1., -1., ..., -1., -1., -1.]),\n",
       " <20000x3231961 sparse matrix of type '<class 'numpy.float64'>'\n",
       " \twith 2317878 stored elements in Compressed Sparse Row format>,\n",
       " array([ 1.,  1.,  1., ..., -1., -1., -1.]),\n",
       " <20000x3231961 sparse matrix of type '<class 'numpy.float64'>'\n",
       " \twith 2288475 stored elements in Compressed Sparse Row format>,\n",
       " array([ 1.,  1.,  1., ..., -1., -1.,  1.]),\n",
       " <20000x3231961 sparse matrix of type '<class 'numpy.float64'>'\n",
       " \twith 2287225 stored elements in Compressed Sparse Row format>,\n",
       " array([ 1.,  1., -1., ...,  1., -1., -1.]),\n",
       " <20000x3231961 sparse matrix of type '<class 'numpy.float64'>'\n",
       " \twith 2272444 stored elements in Compressed Sparse Row format>,\n",
       " array([ 1.,  1.,  1., ...,  1., -1.,  1.]),\n",
       " <20000x3231961 sparse matrix of type '<class 'numpy.float64'>'\n",
       " \twith 2289585 stored elements in Compressed Sparse Row format>,\n",
       " array([ 1.,  1.,  1., ...,  1., -1., -1.]),\n",
       " <20000x3231961 sparse matrix of type '<class 'numpy.float64'>'\n",
       " \twith 2282518 stored elements in Compressed Sparse Row format>,\n",
       " array([ 1.,  1.,  1., ..., -1.,  1.,  1.]),\n",
       " <20000x3231961 sparse matrix of type '<class 'numpy.float64'>'\n",
       " \twith 2296394 stored elements in Compressed Sparse Row format>,\n",
       " array([ 1.,  1.,  1., ..., -1.,  1.,  1.]),\n",
       " <20000x3231961 sparse matrix of type '<class 'numpy.float64'>'\n",
       " \twith 2346194 stored elements in Compressed Sparse Row format>,\n",
       " array([ 1.,  1.,  1., ..., -1., -1., -1.]),\n",
       " <20000x3231961 sparse matrix of type '<class 'numpy.float64'>'\n",
       " \twith 2326696 stored elements in Compressed Sparse Row format>,\n",
       " array([-1., -1., -1., ..., -1.,  1.,  1.]),\n",
       " <20000x3231961 sparse matrix of type '<class 'numpy.float64'>'\n",
       " \twith 2376178 stored elements in Compressed Sparse Row format>,\n",
       " array([-1.,  1., -1., ...,  1.,  1.,  1.]),\n",
       " <20000x3231961 sparse matrix of type '<class 'numpy.float64'>'\n",
       " \twith 2305369 stored elements in Compressed Sparse Row format>,\n",
       " array([ 1., -1., -1., ..., -1., -1.,  1.]),\n",
       " <20000x3231961 sparse matrix of type '<class 'numpy.float64'>'\n",
       " \twith 2360941 stored elements in Compressed Sparse Row format>,\n",
       " array([ 1.,  1., -1., ..., -1., -1., -1.]),\n",
       " <20000x3231961 sparse matrix of type '<class 'numpy.float64'>'\n",
       " \twith 2355785 stored elements in Compressed Sparse Row format>,\n",
       " array([ 1.,  1., -1., ..., -1.,  1., -1.]),\n",
       " <20000x3231961 sparse matrix of type '<class 'numpy.float64'>'\n",
       " \twith 2340800 stored elements in Compressed Sparse Row format>,\n",
       " array([ 1.,  1., -1., ..., -1., -1., -1.]),\n",
       " <20000x3231961 sparse matrix of type '<class 'numpy.float64'>'\n",
       " \twith 2350258 stored elements in Compressed Sparse Row format>,\n",
       " array([ 1.,  1.,  1., ...,  1.,  1., -1.]),\n",
       " <20000x3231961 sparse matrix of type '<class 'numpy.float64'>'\n",
       " \twith 2327751 stored elements in Compressed Sparse Row format>,\n",
       " array([ 1.,  1.,  1., ..., -1.,  1., -1.]),\n",
       " <20000x3231961 sparse matrix of type '<class 'numpy.float64'>'\n",
       " \twith 2262535 stored elements in Compressed Sparse Row format>,\n",
       " array([ 1., -1., -1., ...,  1.,  1., -1.]),\n",
       " <20000x3231961 sparse matrix of type '<class 'numpy.float64'>'\n",
       " \twith 2275360 stored elements in Compressed Sparse Row format>,\n",
       " array([ 1., -1.,  1., ..., -1., -1.,  1.]),\n",
       " <20000x3231961 sparse matrix of type '<class 'numpy.float64'>'\n",
       " \twith 2259781 stored elements in Compressed Sparse Row format>,\n",
       " array([ 1., -1., -1., ..., -1., -1., -1.]),\n",
       " <20000x3231961 sparse matrix of type '<class 'numpy.float64'>'\n",
       " \twith 2248372 stored elements in Compressed Sparse Row format>,\n",
       " array([ 1.,  1., -1., ..., -1.,  1., -1.]),\n",
       " <20000x3231961 sparse matrix of type '<class 'numpy.float64'>'\n",
       " \twith 2290760 stored elements in Compressed Sparse Row format>,\n",
       " array([ 1., -1.,  1., ...,  1.,  1., -1.]),\n",
       " <20000x3231961 sparse matrix of type '<class 'numpy.float64'>'\n",
       " \twith 2251949 stored elements in Compressed Sparse Row format>,\n",
       " array([-1.,  1., -1., ..., -1.,  1., -1.]),\n",
       " <20000x3231961 sparse matrix of type '<class 'numpy.float64'>'\n",
       " \twith 2245868 stored elements in Compressed Sparse Row format>,\n",
       " array([ 1.,  1.,  1., ...,  1., -1., -1.]),\n",
       " <20000x3231961 sparse matrix of type '<class 'numpy.float64'>'\n",
       " \twith 2311224 stored elements in Compressed Sparse Row format>,\n",
       " array([-1., -1., -1., ..., -1., -1., -1.]),\n",
       " <20000x3231961 sparse matrix of type '<class 'numpy.float64'>'\n",
       " \twith 2278792 stored elements in Compressed Sparse Row format>,\n",
       " array([ 1.,  1.,  1., ..., -1., -1., -1.]),\n",
       " <20000x3231961 sparse matrix of type '<class 'numpy.float64'>'\n",
       " \twith 2283634 stored elements in Compressed Sparse Row format>,\n",
       " array([ 1.,  1., -1., ..., -1., -1., -1.]),\n",
       " <20000x3231961 sparse matrix of type '<class 'numpy.float64'>'\n",
       " \twith 2339028 stored elements in Compressed Sparse Row format>,\n",
       " array([-1., -1., -1., ..., -1.,  1., -1.]),\n",
       " <20000x3231961 sparse matrix of type '<class 'numpy.float64'>'\n",
       " \twith 2276463 stored elements in Compressed Sparse Row format>,\n",
       " array([ 1., -1., -1., ...,  1.,  1., -1.]),\n",
       " <20000x3231961 sparse matrix of type '<class 'numpy.float64'>'\n",
       " \twith 2303165 stored elements in Compressed Sparse Row format>,\n",
       " array([ 1., -1., -1., ..., -1., -1., -1.]),\n",
       " <20000x3231961 sparse matrix of type '<class 'numpy.float64'>'\n",
       " \twith 2275257 stored elements in Compressed Sparse Row format>,\n",
       " array([ 1.,  1.,  1., ...,  1.,  1., -1.]),\n",
       " <20000x3231961 sparse matrix of type '<class 'numpy.float64'>'\n",
       " \twith 2261819 stored elements in Compressed Sparse Row format>,\n",
       " array([-1.,  1., -1., ...,  1.,  1.,  1.]),\n",
       " <20000x3231961 sparse matrix of type '<class 'numpy.float64'>'\n",
       " \twith 2253014 stored elements in Compressed Sparse Row format>,\n",
       " array([ 1., -1., -1., ..., -1.,  1., -1.]),\n",
       " <20000x3231961 sparse matrix of type '<class 'numpy.float64'>'\n",
       " \twith 2302256 stored elements in Compressed Sparse Row format>,\n",
       " array([ 1.,  1.,  1., ...,  1., -1., -1.])]"
      ]
     },
     "execution_count": 7,
     "metadata": {},
     "output_type": "execute_result"
    }
   ],
   "source": [
    "data"
   ]
  },
  {
   "cell_type": "code",
   "execution_count": 8,
   "metadata": {},
   "outputs": [],
   "source": [
    "days = []\n",
    "for i in range(0, len(data)): \n",
    "    if i%2 ==0:\n",
    "        days.append((data[i], data[i+1]))"
   ]
  },
  {
   "cell_type": "code",
   "execution_count": 24,
   "metadata": {},
   "outputs": [
    {
     "data": {
      "text/plain": [
       "121"
      ]
     },
     "execution_count": 24,
     "metadata": {},
     "output_type": "execute_result"
    }
   ],
   "source": []
  },
  {
   "cell_type": "code",
   "execution_count": 9,
   "metadata": {},
   "outputs": [
    {
     "data": {
      "text/plain": [
       "(<16000x3231961 sparse matrix of type '<class 'numpy.float64'>'\n",
       " \twith 1847536 stored elements in Compressed Sparse Row format>,\n",
       " array([-1., -1., -1., ..., -1., -1.,  1.]))"
      ]
     },
     "execution_count": 9,
     "metadata": {},
     "output_type": "execute_result"
    }
   ],
   "source": [
    "days[0]"
   ]
  },
  {
   "cell_type": "code",
   "execution_count": 10,
   "metadata": {},
   "outputs": [],
   "source": [
    "day0 = days[0]\n",
    "day1 = days[1]"
   ]
  },
  {
   "cell_type": "code",
   "execution_count": 11,
   "metadata": {
    "scrolled": false
   },
   "outputs": [
    {
     "data": {
      "text/plain": [
       "(array([10037.,     0.,     0.,     0.,     0.,     0.,     0.,     0.,\n",
       "            0.,  5963.]),\n",
       " array([-1. , -0.8, -0.6, -0.4, -0.2,  0. ,  0.2,  0.4,  0.6,  0.8,  1. ]),\n",
       " <a list of 10 Patch objects>)"
      ]
     },
     "execution_count": 11,
     "metadata": {},
     "output_type": "execute_result"
    },
    {
     "data": {
      "image/png": "[encoded data removed]",
      "text/plain": [
       "<Figure size 432x288 with 1 Axes>"
      ]
     },
     "metadata": {
      "needs_background": "light"
     },
     "output_type": "display_data"
    }
   ],
   "source": [
    "plt.hist(day0[1])"
   ]
  },
  {
   "cell_type": "code",
   "execution_count": 25,
   "metadata": {},
   "outputs": [],
   "source": [
    "totalset = np.empty(0)"
   ]
  },
  {
   "cell_type": "code",
   "execution_count": 26,
   "metadata": {
    "scrolled": true
   },
   "outputs": [],
   "source": [
    "for day in days:\n",
    "    totalset =np.append(totalset, day[1])"
   ]
  },
  {
   "cell_type": "code",
   "execution_count": 28,
   "metadata": {},
   "outputs": [
    {
     "data": {
      "text/plain": [
       "array([-1., -1., -1., ...,  1., -1., -1.])"
      ]
     },
     "execution_count": 28,
     "metadata": {},
     "output_type": "execute_result"
    }
   ],
   "source": [
    "totalset"
   ]
  },
  {
   "cell_type": "code",
   "execution_count": 29,
   "metadata": {},
   "outputs": [
    {
     "data": {
      "text/plain": [
       "(array([1603985.,       0.,       0.,       0.,       0.,       0.,\n",
       "              0.,       0.,       0.,  792145.]),\n",
       " array([-1. , -0.8, -0.6, -0.4, -0.2,  0. ,  0.2,  0.4,  0.6,  0.8,  1. ]),\n",
       " <a list of 10 Patch objects>)"
      ]
     },
     "execution_count": 29,
     "metadata": {},
     "output_type": "execute_result"
    },
    {
     "data": {
      "image/png": "[encoded data removed]",
      "text/plain": [
       "<Figure size 432x288 with 1 Axes>"
      ]
     },
     "metadata": {
      "needs_background": "light"
     },
     "output_type": "display_data"
    }
   ],
   "source": [
    "plt.hist(totalset)"
   ]
  },
  {
   "cell_type": "markdown",
   "metadata": {},
   "source": [
    "## Testing Sklearn SVM classification"
   ]
  },
  {
   "cell_type": "code",
   "execution_count": 12,
   "metadata": {},
   "outputs": [],
   "source": [
    "clf = svm.SVC(C=100)"
   ]
  },
  {
   "cell_type": "markdown",
   "metadata": {},
   "source": [
    "### Training test: data of day 0"
   ]
  },
  {
   "cell_type": "code",
   "execution_count": 13,
   "metadata": {},
   "outputs": [
    {
     "name": "stderr",
     "output_type": "stream",
     "text": [
      "/home/giordano/anaconda3/envs/da2019/lib/python3.6/site-packages/sklearn/svm/base.py:196: FutureWarning: The default value of gamma will change from 'auto' to 'scale' in version 0.22 to account better for unscaled features. Set gamma explicitly to 'auto' or 'scale' to avoid this warning.\n",
      "  \"avoid this warning.\", FutureWarning)\n"
     ]
    },
    {
     "data": {
      "text/plain": [
       "SVC(C=100, cache_size=200, class_weight=None, coef0=0.0,\n",
       "  decision_function_shape='ovr', degree=3, gamma='auto_deprecated',\n",
       "  kernel='rbf', max_iter=-1, probability=False, random_state=None,\n",
       "  shrinking=True, tol=0.001, verbose=False)"
      ]
     },
     "execution_count": 13,
     "metadata": {},
     "output_type": "execute_result"
    }
   ],
   "source": [
    "clf.fit(day0[0], day0[1])"
   ]
  },
  {
   "cell_type": "markdown",
   "metadata": {},
   "source": [
    "### Predicting data of Day 1"
   ]
  },
  {
   "cell_type": "code",
   "execution_count": 15,
   "metadata": {
    "scrolled": true
   },
   "outputs": [
    {
     "data": {
      "text/plain": [
       "array([-1., -1., -1., ..., -1., -1., -1.])"
      ]
     },
     "execution_count": 15,
     "metadata": {},
     "output_type": "execute_result"
    }
   ],
   "source": [
    "clf.predict(day1[0])"
   ]
  },
  {
   "cell_type": "code",
   "execution_count": 19,
   "metadata": {},
   "outputs": [
    {
     "data": {
      "text/plain": [
       "0.8705"
      ]
     },
     "execution_count": 19,
     "metadata": {},
     "output_type": "execute_result"
    }
   ],
   "source": [
    "clf.score(day1[0], day1[1])"
   ]
  },
  {
   "cell_type": "markdown",
   "metadata": {},
   "source": [
    "## Testing PCA"
   ]
  },
  {
   "cell_type": "code",
   "execution_count": 1,
   "metadata": {},
   "outputs": [],
   "source": [
    "from sklearn.decomposition import PCA"
   ]
  },
  {
   "cell_type": "code",
   "execution_count": 2,
   "metadata": {},
   "outputs": [],
   "source": [
    "pca = PCA(n_components=0.8)"
   ]
  },
  {
   "cell_type": "code",
   "execution_count": 12,
   "metadata": {},
   "outputs": [
    {
     "ename": "TypeError",
     "evalue": "PCA does not support sparse input. See TruncatedSVD for a possible alternative.",
     "output_type": "error",
     "traceback": [
      "\u001b[0;31m---------------------------------------------------------------------------\u001b[0m",
      "\u001b[0;31mTypeError\u001b[0m                                 Traceback (most recent call last)",
      "\u001b[0;32m<ipython-input-12-5058b0b263f5>\u001b[0m in \u001b[0;36m<module>\u001b[0;34m\u001b[0m\n\u001b[0;32m----> 1\u001b[0;31m \u001b[0mpca\u001b[0m\u001b[0;34m.\u001b[0m\u001b[0mfit\u001b[0m\u001b[0;34m(\u001b[0m\u001b[0mdata\u001b[0m\u001b[0;34m[\u001b[0m\u001b[0;36m0\u001b[0m\u001b[0;34m]\u001b[0m\u001b[0;34m)\u001b[0m\u001b[0;34m\u001b[0m\u001b[0;34m\u001b[0m\u001b[0m\n\u001b[0m",
      "\u001b[0;32m~/anaconda3/envs/da2019/lib/python3.6/site-packages/sklearn/decomposition/pca.py\u001b[0m in \u001b[0;36mfit\u001b[0;34m(self, X, y)\u001b[0m\n\u001b[1;32m    338\u001b[0m             \u001b[0mReturns\u001b[0m \u001b[0mthe\u001b[0m \u001b[0minstance\u001b[0m \u001b[0mitself\u001b[0m\u001b[0;34m.\u001b[0m\u001b[0;34m\u001b[0m\u001b[0;34m\u001b[0m\u001b[0m\n\u001b[1;32m    339\u001b[0m         \"\"\"\n\u001b[0;32m--> 340\u001b[0;31m         \u001b[0mself\u001b[0m\u001b[0;34m.\u001b[0m\u001b[0m_fit\u001b[0m\u001b[0;34m(\u001b[0m\u001b[0mX\u001b[0m\u001b[0;34m)\u001b[0m\u001b[0;34m\u001b[0m\u001b[0;34m\u001b[0m\u001b[0m\n\u001b[0m\u001b[1;32m    341\u001b[0m         \u001b[0;32mreturn\u001b[0m \u001b[0mself\u001b[0m\u001b[0;34m\u001b[0m\u001b[0;34m\u001b[0m\u001b[0m\n\u001b[1;32m    342\u001b[0m \u001b[0;34m\u001b[0m\u001b[0m\n",
      "\u001b[0;32m~/anaconda3/envs/da2019/lib/python3.6/site-packages/sklearn/decomposition/pca.py\u001b[0m in \u001b[0;36m_fit\u001b[0;34m(self, X)\u001b[0m\n\u001b[1;32m    375\u001b[0m         \u001b[0;31m# This is more informative than the generic one raised by check_array.\u001b[0m\u001b[0;34m\u001b[0m\u001b[0;34m\u001b[0m\u001b[0;34m\u001b[0m\u001b[0m\n\u001b[1;32m    376\u001b[0m         \u001b[0;32mif\u001b[0m \u001b[0missparse\u001b[0m\u001b[0;34m(\u001b[0m\u001b[0mX\u001b[0m\u001b[0;34m)\u001b[0m\u001b[0;34m:\u001b[0m\u001b[0;34m\u001b[0m\u001b[0;34m\u001b[0m\u001b[0m\n\u001b[0;32m--> 377\u001b[0;31m             raise TypeError('PCA does not support sparse input. See '\n\u001b[0m\u001b[1;32m    378\u001b[0m                             'TruncatedSVD for a possible alternative.')\n\u001b[1;32m    379\u001b[0m \u001b[0;34m\u001b[0m\u001b[0m\n",
      "\u001b[0;31mTypeError\u001b[0m: PCA does not support sparse input. See TruncatedSVD for a possible alternative."
     ]
    }
   ],
   "source": [
    "pca.fit(features)"
   ]
  },
  {
   "cell_type": "markdown",
   "metadata": {},
   "source": [
    "# Test for Day 1"
   ]
  },
  {
   "cell_type": "code",
   "execution_count": 24,
   "metadata": {
    "scrolled": true
   },
   "outputs": [
    {
     "name": "stdout",
     "output_type": "stream",
     "text": [
      "  (0, 3)\t0.0788382\n",
      "  (0, 4)\t0.124138\n",
      "  (0, 5)\t0.117647\n",
      "  (0, 10)\t0.285714\n",
      "  (0, 15)\t0.1\n",
      "  (0, 16)\t0.723562\n",
      "  (0, 17)\t0.688263\n",
      "  (0, 18)\t0.274458\n",
      "  (0, 20)\t0.142856\n",
      "  (0, 21)\t0.142857\n",
      "  (0, 22)\t0.142857\n",
      "  (0, 23)\t1.0\n",
      "  (0, 24)\t1.0\n",
      "  (0, 27)\t1.0\n",
      "  (0, 35)\t1.0\n",
      "  (0, 43)\t1.0\n",
      "  (0, 61)\t1.0\n",
      "  (0, 63)\t1.0\n",
      "  (0, 65)\t1.0\n",
      "  (0, 67)\t1.0\n",
      "  (0, 69)\t1.0\n",
      "  (0, 71)\t1.0\n",
      "  (0, 81)\t1.0\n",
      "  (0, 83)\t1.0\n",
      "  (0, 85)\t1.0\n",
      "  :\t:\n",
      "  (0, 155182)\t1.0\n",
      "  (0, 155193)\t1.0\n",
      "  (0, 155194)\t1.0\n",
      "  (0, 155195)\t1.0\n",
      "  (0, 155196)\t1.0\n",
      "  (0, 155197)\t1.0\n",
      "  (0, 155198)\t1.0\n",
      "  (0, 155199)\t1.0\n",
      "  (0, 155200)\t1.0\n",
      "  (0, 155201)\t1.0\n",
      "  (0, 155202)\t1.0\n",
      "  (0, 155203)\t1.0\n",
      "  (0, 155204)\t1.0\n",
      "  (0, 155205)\t1.0\n",
      "  (0, 155206)\t1.0\n",
      "  (0, 155207)\t1.0\n",
      "  (0, 155208)\t1.0\n",
      "  (0, 155209)\t1.0\n",
      "  (0, 155210)\t1.0\n",
      "  (0, 155211)\t1.0\n",
      "  (0, 155212)\t1.0\n",
      "  (0, 1028503)\t1.0\n",
      "  (0, 2062402)\t1.0\n",
      "  (0, 3065540)\t1.0\n",
      "  (0, 3124062)\t1.0\n"
     ]
    }
   ],
   "source": [
    "print(day1[0][0])"
   ]
  },
  {
   "cell_type": "code",
   "execution_count": 10,
   "metadata": {},
   "outputs": [
    {
     "name": "stdout",
     "output_type": "stream",
     "text": [
      "20000\n"
     ]
    }
   ],
   "source": [
    "print(len(day1[1]))"
   ]
  },
  {
   "cell_type": "code",
   "execution_count": 10,
   "metadata": {},
   "outputs": [
    {
     "data": {
      "text/html": [
       "<div>\n",
       "<style scoped>\n",
       "    .dataframe tbody tr th:only-of-type {\n",
       "        vertical-align: middle;\n",
       "    }\n",
       "\n",
       "    .dataframe tbody tr th {\n",
       "        vertical-align: top;\n",
       "    }\n",
       "\n",
       "    .dataframe thead th {\n",
       "        text-align: right;\n",
       "    }\n",
       "</style>\n",
       "<table border=\"1\" class=\"dataframe\">\n",
       "  <thead>\n",
       "    <tr style=\"text-align: right;\">\n",
       "      <th></th>\n",
       "      <th>0</th>\n",
       "    </tr>\n",
       "  </thead>\n",
       "  <tbody>\n",
       "    <tr>\n",
       "      <th>0</th>\n",
       "      <td>-1.0</td>\n",
       "    </tr>\n",
       "    <tr>\n",
       "      <th>1</th>\n",
       "      <td>-1.0</td>\n",
       "    </tr>\n",
       "    <tr>\n",
       "      <th>2</th>\n",
       "      <td>-1.0</td>\n",
       "    </tr>\n",
       "    <tr>\n",
       "      <th>3</th>\n",
       "      <td>1.0</td>\n",
       "    </tr>\n",
       "    <tr>\n",
       "      <th>4</th>\n",
       "      <td>-1.0</td>\n",
       "    </tr>\n",
       "    <tr>\n",
       "      <th>5</th>\n",
       "      <td>1.0</td>\n",
       "    </tr>\n",
       "    <tr>\n",
       "      <th>6</th>\n",
       "      <td>-1.0</td>\n",
       "    </tr>\n",
       "    <tr>\n",
       "      <th>7</th>\n",
       "      <td>1.0</td>\n",
       "    </tr>\n",
       "    <tr>\n",
       "      <th>8</th>\n",
       "      <td>-1.0</td>\n",
       "    </tr>\n",
       "    <tr>\n",
       "      <th>9</th>\n",
       "      <td>-1.0</td>\n",
       "    </tr>\n",
       "    <tr>\n",
       "      <th>10</th>\n",
       "      <td>1.0</td>\n",
       "    </tr>\n",
       "    <tr>\n",
       "      <th>11</th>\n",
       "      <td>1.0</td>\n",
       "    </tr>\n",
       "    <tr>\n",
       "      <th>12</th>\n",
       "      <td>-1.0</td>\n",
       "    </tr>\n",
       "    <tr>\n",
       "      <th>13</th>\n",
       "      <td>-1.0</td>\n",
       "    </tr>\n",
       "    <tr>\n",
       "      <th>14</th>\n",
       "      <td>-1.0</td>\n",
       "    </tr>\n",
       "    <tr>\n",
       "      <th>15</th>\n",
       "      <td>1.0</td>\n",
       "    </tr>\n",
       "    <tr>\n",
       "      <th>16</th>\n",
       "      <td>-1.0</td>\n",
       "    </tr>\n",
       "    <tr>\n",
       "      <th>17</th>\n",
       "      <td>-1.0</td>\n",
       "    </tr>\n",
       "    <tr>\n",
       "      <th>18</th>\n",
       "      <td>-1.0</td>\n",
       "    </tr>\n",
       "    <tr>\n",
       "      <th>19</th>\n",
       "      <td>1.0</td>\n",
       "    </tr>\n",
       "    <tr>\n",
       "      <th>20</th>\n",
       "      <td>-1.0</td>\n",
       "    </tr>\n",
       "    <tr>\n",
       "      <th>21</th>\n",
       "      <td>-1.0</td>\n",
       "    </tr>\n",
       "    <tr>\n",
       "      <th>22</th>\n",
       "      <td>-1.0</td>\n",
       "    </tr>\n",
       "    <tr>\n",
       "      <th>23</th>\n",
       "      <td>-1.0</td>\n",
       "    </tr>\n",
       "    <tr>\n",
       "      <th>24</th>\n",
       "      <td>-1.0</td>\n",
       "    </tr>\n",
       "    <tr>\n",
       "      <th>25</th>\n",
       "      <td>1.0</td>\n",
       "    </tr>\n",
       "    <tr>\n",
       "      <th>26</th>\n",
       "      <td>1.0</td>\n",
       "    </tr>\n",
       "    <tr>\n",
       "      <th>27</th>\n",
       "      <td>-1.0</td>\n",
       "    </tr>\n",
       "    <tr>\n",
       "      <th>28</th>\n",
       "      <td>-1.0</td>\n",
       "    </tr>\n",
       "    <tr>\n",
       "      <th>29</th>\n",
       "      <td>-1.0</td>\n",
       "    </tr>\n",
       "    <tr>\n",
       "      <th>...</th>\n",
       "      <td>...</td>\n",
       "    </tr>\n",
       "    <tr>\n",
       "      <th>19970</th>\n",
       "      <td>-1.0</td>\n",
       "    </tr>\n",
       "    <tr>\n",
       "      <th>19971</th>\n",
       "      <td>-1.0</td>\n",
       "    </tr>\n",
       "    <tr>\n",
       "      <th>19972</th>\n",
       "      <td>1.0</td>\n",
       "    </tr>\n",
       "    <tr>\n",
       "      <th>19973</th>\n",
       "      <td>1.0</td>\n",
       "    </tr>\n",
       "    <tr>\n",
       "      <th>19974</th>\n",
       "      <td>1.0</td>\n",
       "    </tr>\n",
       "    <tr>\n",
       "      <th>19975</th>\n",
       "      <td>-1.0</td>\n",
       "    </tr>\n",
       "    <tr>\n",
       "      <th>19976</th>\n",
       "      <td>1.0</td>\n",
       "    </tr>\n",
       "    <tr>\n",
       "      <th>19977</th>\n",
       "      <td>1.0</td>\n",
       "    </tr>\n",
       "    <tr>\n",
       "      <th>19978</th>\n",
       "      <td>1.0</td>\n",
       "    </tr>\n",
       "    <tr>\n",
       "      <th>19979</th>\n",
       "      <td>1.0</td>\n",
       "    </tr>\n",
       "    <tr>\n",
       "      <th>19980</th>\n",
       "      <td>-1.0</td>\n",
       "    </tr>\n",
       "    <tr>\n",
       "      <th>19981</th>\n",
       "      <td>-1.0</td>\n",
       "    </tr>\n",
       "    <tr>\n",
       "      <th>19982</th>\n",
       "      <td>-1.0</td>\n",
       "    </tr>\n",
       "    <tr>\n",
       "      <th>19983</th>\n",
       "      <td>-1.0</td>\n",
       "    </tr>\n",
       "    <tr>\n",
       "      <th>19984</th>\n",
       "      <td>-1.0</td>\n",
       "    </tr>\n",
       "    <tr>\n",
       "      <th>19985</th>\n",
       "      <td>-1.0</td>\n",
       "    </tr>\n",
       "    <tr>\n",
       "      <th>19986</th>\n",
       "      <td>1.0</td>\n",
       "    </tr>\n",
       "    <tr>\n",
       "      <th>19987</th>\n",
       "      <td>1.0</td>\n",
       "    </tr>\n",
       "    <tr>\n",
       "      <th>19988</th>\n",
       "      <td>-1.0</td>\n",
       "    </tr>\n",
       "    <tr>\n",
       "      <th>19989</th>\n",
       "      <td>1.0</td>\n",
       "    </tr>\n",
       "    <tr>\n",
       "      <th>19990</th>\n",
       "      <td>-1.0</td>\n",
       "    </tr>\n",
       "    <tr>\n",
       "      <th>19991</th>\n",
       "      <td>-1.0</td>\n",
       "    </tr>\n",
       "    <tr>\n",
       "      <th>19992</th>\n",
       "      <td>-1.0</td>\n",
       "    </tr>\n",
       "    <tr>\n",
       "      <th>19993</th>\n",
       "      <td>-1.0</td>\n",
       "    </tr>\n",
       "    <tr>\n",
       "      <th>19994</th>\n",
       "      <td>1.0</td>\n",
       "    </tr>\n",
       "    <tr>\n",
       "      <th>19995</th>\n",
       "      <td>-1.0</td>\n",
       "    </tr>\n",
       "    <tr>\n",
       "      <th>19996</th>\n",
       "      <td>-1.0</td>\n",
       "    </tr>\n",
       "    <tr>\n",
       "      <th>19997</th>\n",
       "      <td>-1.0</td>\n",
       "    </tr>\n",
       "    <tr>\n",
       "      <th>19998</th>\n",
       "      <td>-1.0</td>\n",
       "    </tr>\n",
       "    <tr>\n",
       "      <th>19999</th>\n",
       "      <td>-1.0</td>\n",
       "    </tr>\n",
       "  </tbody>\n",
       "</table>\n",
       "<p>20000 rows × 1 columns</p>\n",
       "</div>"
      ],
      "text/plain": [
       "         0\n",
       "0     -1.0\n",
       "1     -1.0\n",
       "2     -1.0\n",
       "3      1.0\n",
       "4     -1.0\n",
       "5      1.0\n",
       "6     -1.0\n",
       "7      1.0\n",
       "8     -1.0\n",
       "9     -1.0\n",
       "10     1.0\n",
       "11     1.0\n",
       "12    -1.0\n",
       "13    -1.0\n",
       "14    -1.0\n",
       "15     1.0\n",
       "16    -1.0\n",
       "17    -1.0\n",
       "18    -1.0\n",
       "19     1.0\n",
       "20    -1.0\n",
       "21    -1.0\n",
       "22    -1.0\n",
       "23    -1.0\n",
       "24    -1.0\n",
       "25     1.0\n",
       "26     1.0\n",
       "27    -1.0\n",
       "28    -1.0\n",
       "29    -1.0\n",
       "...    ...\n",
       "19970 -1.0\n",
       "19971 -1.0\n",
       "19972  1.0\n",
       "19973  1.0\n",
       "19974  1.0\n",
       "19975 -1.0\n",
       "19976  1.0\n",
       "19977  1.0\n",
       "19978  1.0\n",
       "19979  1.0\n",
       "19980 -1.0\n",
       "19981 -1.0\n",
       "19982 -1.0\n",
       "19983 -1.0\n",
       "19984 -1.0\n",
       "19985 -1.0\n",
       "19986  1.0\n",
       "19987  1.0\n",
       "19988 -1.0\n",
       "19989  1.0\n",
       "19990 -1.0\n",
       "19991 -1.0\n",
       "19992 -1.0\n",
       "19993 -1.0\n",
       "19994  1.0\n",
       "19995 -1.0\n",
       "19996 -1.0\n",
       "19997 -1.0\n",
       "19998 -1.0\n",
       "19999 -1.0\n",
       "\n",
       "[20000 rows x 1 columns]"
      ]
     },
     "execution_count": 10,
     "metadata": {},
     "output_type": "execute_result"
    }
   ],
   "source": [
    "pd.DataFrame(day1[1])"
   ]
  },
  {
   "cell_type": "code",
   "execution_count": 11,
   "metadata": {},
   "outputs": [
    {
     "name": "stdout",
     "output_type": "stream",
     "text": [
      "  (0, 3)\t0.0788382\n",
      "  (0, 4)\t0.124138\n",
      "  (0, 5)\t0.117647\n",
      "  (0, 10)\t0.285714\n",
      "  (0, 15)\t0.1\n",
      "  (0, 16)\t0.723562\n",
      "  (0, 17)\t0.688263\n",
      "  (0, 18)\t0.274458\n",
      "  (0, 20)\t0.142856\n",
      "  (0, 21)\t0.142857\n",
      "  (0, 22)\t0.142857\n",
      "  (0, 23)\t1.0\n",
      "  (0, 24)\t1.0\n",
      "  (0, 27)\t1.0\n",
      "  (0, 35)\t1.0\n",
      "  (0, 43)\t1.0\n",
      "  (0, 61)\t1.0\n",
      "  (0, 63)\t1.0\n",
      "  (0, 65)\t1.0\n",
      "  (0, 67)\t1.0\n",
      "  (0, 69)\t1.0\n",
      "  (0, 71)\t1.0\n",
      "  (0, 81)\t1.0\n",
      "  (0, 83)\t1.0\n",
      "  (0, 85)\t1.0\n",
      "  :\t:\n",
      "  (19999, 155193)\t1.0\n",
      "  (19999, 155194)\t1.0\n",
      "  (19999, 155195)\t1.0\n",
      "  (19999, 155196)\t1.0\n",
      "  (19999, 155197)\t1.0\n",
      "  (19999, 155198)\t1.0\n",
      "  (19999, 155199)\t1.0\n",
      "  (19999, 155200)\t1.0\n",
      "  (19999, 155201)\t1.0\n",
      "  (19999, 155202)\t1.0\n",
      "  (19999, 155203)\t1.0\n",
      "  (19999, 155204)\t1.0\n",
      "  (19999, 155205)\t1.0\n",
      "  (19999, 155206)\t1.0\n",
      "  (19999, 155207)\t1.0\n",
      "  (19999, 155208)\t1.0\n",
      "  (19999, 155209)\t1.0\n",
      "  (19999, 155210)\t1.0\n",
      "  (19999, 155211)\t1.0\n",
      "  (19999, 155212)\t1.0\n",
      "  (19999, 424434)\t1.0\n",
      "  (19999, 1135228)\t1.0\n",
      "  (19999, 2120931)\t1.0\n",
      "  (19999, 2186470)\t1.0\n",
      "  (19999, 2223935)\t1.0\n"
     ]
    }
   ],
   "source": [
    "print(day1[0])"
   ]
  },
  {
   "cell_type": "code",
   "execution_count": 13,
   "metadata": {},
   "outputs": [
    {
     "data": {
      "text/plain": [
       "(array([13192.,     0.,     0.,     0.,     0.,     0.,     0.,     0.,\n",
       "            0.,  6808.]),\n",
       " array([-1. , -0.8, -0.6, -0.4, -0.2,  0. ,  0.2,  0.4,  0.6,  0.8,  1. ]),\n",
       " <a list of 10 Patch objects>)"
      ]
     },
     "execution_count": 13,
     "metadata": {},
     "output_type": "execute_result"
    },
    {
     "data": {
      "image/png": "[encoded data removed]",
      "text/plain": [
       "<Figure size 432x288 with 1 Axes>"
      ]
     },
     "metadata": {
      "needs_background": "light"
     },
     "output_type": "display_data"
    }
   ],
   "source": [
    "plt.hist(day1[1])"
   ]
  },
  {
   "cell_type": "code",
   "execution_count": null,
   "metadata": {},
   "outputs": [],
   "source": []
  }
 ],
 "metadata": {
  "kernelspec": {
   "display_name": "Python 3",
   "language": "python",
   "name": "python3"
  },
  "language_info": {
   "codemirror_mode": {
    "name": "ipython",
    "version": 3
   },
   "file_extension": ".py",
   "mimetype": "text/x-python",
   "name": "python",
   "nbconvert_exporter": "python",
   "pygments_lexer": "ipython3",
   "version": "3.6.8"
  }
 },
 "nbformat": 4,
 "nbformat_minor": 2
}
