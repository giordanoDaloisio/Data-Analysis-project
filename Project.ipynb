{
 "cells": [
  {
   "cell_type": "markdown",
   "metadata": {},
   "source": [
    "# Compare URL SVM classification with raw and decomposed data"
   ]
  },
  {
   "cell_type": "code",
   "execution_count": 146,
   "metadata": {},
   "outputs": [],
   "source": [
    "import random\n",
    "import itertools\n",
    "from joblib import Memory\n",
    "from sklearn import svm\n",
    "import sklearn.datasets as sd\n",
    "import scipy.sparse as sparse"
   ]
  },
  {
   "cell_type": "code",
   "execution_count": 147,
   "metadata": {},
   "outputs": [],
   "source": [
    "import matplotlib.pyplot as plt\n",
    "import h5py\n",
    "import numpy as np\n",
    "import pandas as pd"
   ]
  },
  {
   "cell_type": "code",
   "execution_count": 6,
   "metadata": {},
   "outputs": [],
   "source": [
    "from dask_ml.model_selection import GridSearchCV\n",
    "from sklearn.model_selection import train_test_split\n",
    "from sklearn.metrics import classification_report\n",
    "from sklearn.metrics import confusion_matrix\n",
    "from sklearn.utils.multiclass import unique_labels"
   ]
  },
  {
   "cell_type": "code",
   "execution_count": 7,
   "metadata": {},
   "outputs": [],
   "source": [
    "def random_index(dataset, old_index = \"\"):\n",
    "    new_index = random.randint(0, len(dataset))\n",
    "    while old_index == new_index:\n",
    "         new_index = random.randint(0, len(dataset))\n",
    "    return new_index"
   ]
  },
  {
   "cell_type": "code",
   "execution_count": 8,
   "metadata": {},
   "outputs": [],
   "source": [
    "def plot_confusion_matrix(y_true, y_pred, classes,\n",
    "                          normalize=False,\n",
    "                          title=None,\n",
    "                          cmap=plt.cm.Blues):\n",
    "    \"\"\"\n",
    "    This function prints and plots the confusion matrix.\n",
    "    Normalization can be applied by setting `normalize=True`.\n",
    "    \"\"\"\n",
    "    if not title:\n",
    "        if normalize:\n",
    "            title = 'Normalized confusion matrix'\n",
    "        else:\n",
    "            title = 'Confusion matrix, without normalization'\n",
    "\n",
    "    # Compute confusion matrix\n",
    "    cm = confusion_matrix(y_true, y_pred)\n",
    "    # Only use the labels that appear in the data\n",
    "    #classes = classes[unique_labels(y_true, y_pred)]\n",
    "    if normalize:\n",
    "        cm = cm.astype('float') / cm.sum(axis=1)[:, np.newaxis]\n",
    "        print(\"Normalized confusion matrix\")\n",
    "    else:\n",
    "        print('Confusion matrix, without normalization')\n",
    "\n",
    "    print(cm)\n",
    "\n",
    "    fig, ax = plt.subplots()\n",
    "    im = ax.imshow(cm, interpolation='nearest', cmap=cmap)\n",
    "    ax.figure.colorbar(im, ax=ax)\n",
    "    # We want to show all ticks...\n",
    "    ax.set(xticks=np.arange(cm.shape[1]),\n",
    "           yticks=np.arange(cm.shape[0]),\n",
    "           # ... and label them with the respective list entries\n",
    "           xticklabels=classes, yticklabels=classes,\n",
    "           title=title,\n",
    "           ylabel='True label',\n",
    "           xlabel='Predicted label')\n",
    "\n",
    "    # Rotate the tick labels and set their alignment.\n",
    "    plt.setp(ax.get_xticklabels(), rotation=45, ha=\"right\",\n",
    "             rotation_mode=\"anchor\")\n",
    "\n",
    "    # Loop over data dimensions and create text annotations.\n",
    "    fmt = '.2f' if normalize else 'd'\n",
    "    thresh = cm.max() / 2.\n",
    "    for i in range(cm.shape[0]):\n",
    "        for j in range(cm.shape[1]):\n",
    "            ax.text(j, i, format(cm[i, j], fmt),\n",
    "                    ha=\"center\", va=\"center\",\n",
    "                    color=\"white\" if cm[i, j] > thresh else \"black\")\n",
    "    fig.tight_layout()\n",
    "    return ax"
   ]
  },
  {
   "cell_type": "code",
   "execution_count": 153,
   "metadata": {},
   "outputs": [],
   "source": [
    "def plot_classification_report(classificationReport,\n",
    "                               title='Classification report',\n",
    "                               cmap='RdBu'):\n",
    "\n",
    "    classificationReport = classificationReport.replace('\\n\\n', '\\n')\n",
    "    classificationReport = classificationReport.replace(' / ', '/')\n",
    "    lines = classificationReport.split('\\n')\n",
    "\n",
    "    classes, plotMat, support, class_names = [], [], [], []\n",
    "    for line in lines[1:-4]:  # if you don't want avg/total result, then change [1:] into [1:-1]\n",
    "        t = line.strip().split()\n",
    "        if len(t) < 2:\n",
    "            continue\n",
    "        classes.append(t[0])\n",
    "        v = [float(x) for x in t[1: len(t) - 1]]\n",
    "        support.append(int(t[-1]))\n",
    "        class_names.append(t[0])\n",
    "        plotMat.append(v)\n",
    "\n",
    "    plotMat = np.array(plotMat)\n",
    "    xticklabels = ['Precision', 'Recall', 'F1-score']\n",
    "    yticklabels = ['{0} ({1})'.format(class_names[idx], sup)\n",
    "                   for idx, sup in enumerate(support)]\n",
    "\n",
    "    plt.imshow(plotMat, interpolation='nearest', cmap=cmap, aspect='auto')\n",
    "    plt.title(title)\n",
    "    plt.colorbar()\n",
    "    plt.xticks(np.arange(3), xticklabels, rotation=45)\n",
    "    plt.yticks(np.arange(len(classes)), yticklabels)\n",
    "\n",
    "    upper_thresh = plotMat.min() + (plotMat.max() - plotMat.min()) / 10 * 8\n",
    "    lower_thresh = plotMat.min() + (plotMat.max() - plotMat.min()) / 10 * 2\n",
    "    for i, j in itertools.product(range(plotMat.shape[0]), range(plotMat.shape[1])):\n",
    "        plt.text(j, i, format(plotMat[i, j], '.2f'),\n",
    "                 horizontalalignment=\"center\",\n",
    "                 color=\"white\" if (plotMat[i, j] > upper_thresh or plotMat[i, j] < lower_thresh) else \"black\")\n",
    "\n",
    "    plt.ylabel('Metrics')\n",
    "    plt.xlabel('Classes')\n",
    "    plt.tight_layout()"
   ]
  },
  {
   "cell_type": "code",
   "execution_count": 9,
   "metadata": {},
   "outputs": [],
   "source": [
    "%matplotlib inline"
   ]
  },
  {
   "cell_type": "markdown",
   "metadata": {},
   "source": [
    "## Creating the dataset"
   ]
  },
  {
   "cell_type": "code",
   "execution_count": 10,
   "metadata": {},
   "outputs": [],
   "source": [
    "filelist = [\"./url_svmlight/Day%s.svm\" % i for i in range(0,121)]"
   ]
  },
  {
   "cell_type": "code",
   "execution_count": 11,
   "metadata": {},
   "outputs": [],
   "source": [
    "mem = Memory(\"./cache\")"
   ]
  },
  {
   "cell_type": "code",
   "execution_count": 12,
   "metadata": {},
   "outputs": [],
   "source": [
    "@mem.cache\n",
    "def get_data():\n",
    "    data = sd.load_svmlight_files(filelist)\n",
    "    return data"
   ]
  },
  {
   "cell_type": "code",
   "execution_count": 13,
   "metadata": {
    "scrolled": true
   },
   "outputs": [],
   "source": [
    "data = get_data()"
   ]
  },
  {
   "cell_type": "code",
   "execution_count": 14,
   "metadata": {},
   "outputs": [],
   "source": [
    "days = np.array([(data[i], data[i+1]) for i in range(0, len(data)) if i%2==0])"
   ]
  },
  {
   "cell_type": "markdown",
   "metadata": {},
   "source": [
    "days"
   ]
  },
  {
   "cell_type": "code",
   "execution_count": 15,
   "metadata": {
    "scrolled": true
   },
   "outputs": [],
   "source": [
    "x = np.array([day[0] for day in days])"
   ]
  },
  {
   "cell_type": "code",
   "execution_count": 16,
   "metadata": {},
   "outputs": [],
   "source": [
    "y = np.array([day[1] for day in days])"
   ]
  },
  {
   "cell_type": "markdown",
   "metadata": {},
   "source": [
    "Removing the only two days with a different shape, so that each random sample will be of the same dimension"
   ]
  },
  {
   "cell_type": "code",
   "execution_count": 17,
   "metadata": {},
   "outputs": [
    {
     "name": "stdout",
     "output_type": "stream",
     "text": [
      "0\n",
      "45\n"
     ]
    }
   ],
   "source": [
    "for i in range(0, len(x)):\n",
    "    if x[i].shape != (20000, 3231961):\n",
    "        print(i)"
   ]
  },
  {
   "cell_type": "code",
   "execution_count": 18,
   "metadata": {},
   "outputs": [],
   "source": [
    "x = np.delete(x, 0)\n",
    "x = np.delete(x, 44)\n",
    "y = np.delete(y, 0)\n",
    "y = np.delete(y, 44)"
   ]
  },
  {
   "cell_type": "code",
   "execution_count": 19,
   "metadata": {},
   "outputs": [],
   "source": [
    "for i in range(0, len(x)):\n",
    "    if x[i].shape != (20000, 3231961):\n",
    "        print(i)"
   ]
  },
  {
   "cell_type": "code",
   "execution_count": 17,
   "metadata": {},
   "outputs": [
    {
     "data": {
      "text/plain": [
       "array([<20000x3231961 sparse matrix of type '<class 'numpy.float64'>'\n",
       "\twith 2304202 stored elements in Compressed Sparse Row format>,\n",
       "       <20000x3231961 sparse matrix of type '<class 'numpy.float64'>'\n",
       "\twith 2300129 stored elements in Compressed Sparse Row format>,\n",
       "       <20000x3231961 sparse matrix of type '<class 'numpy.float64'>'\n",
       "\twith 2302278 stored elements in Compressed Sparse Row format>,\n",
       "       <20000x3231961 sparse matrix of type '<class 'numpy.float64'>'\n",
       "\twith 2298268 stored elements in Compressed Sparse Row format>,\n",
       "       <20000x3231961 sparse matrix of type '<class 'numpy.float64'>'\n",
       "\twith 2305094 stored elements in Compressed Sparse Row format>,\n",
       "       <20000x3231961 sparse matrix of type '<class 'numpy.float64'>'\n",
       "\twith 2318747 stored elements in Compressed Sparse Row format>,\n",
       "       <20000x3231961 sparse matrix of type '<class 'numpy.float64'>'\n",
       "\twith 2350415 stored elements in Compressed Sparse Row format>,\n",
       "       <20000x3231961 sparse matrix of type '<class 'numpy.float64'>'\n",
       "\twith 2323814 stored elements in Compressed Sparse Row format>,\n",
       "       <20000x3231961 sparse matrix of type '<class 'numpy.float64'>'\n",
       "\twith 2323209 stored elements in Compressed Sparse Row format>,\n",
       "       <20000x3231961 sparse matrix of type '<class 'numpy.float64'>'\n",
       "\twith 2313933 stored elements in Compressed Sparse Row format>,\n",
       "       <20000x3231961 sparse matrix of type '<class 'numpy.float64'>'\n",
       "\twith 2313039 stored elements in Compressed Sparse Row format>,\n",
       "       <20000x3231961 sparse matrix of type '<class 'numpy.float64'>'\n",
       "\twith 2300858 stored elements in Compressed Sparse Row format>,\n",
       "       <20000x3231961 sparse matrix of type '<class 'numpy.float64'>'\n",
       "\twith 2262174 stored elements in Compressed Sparse Row format>,\n",
       "       <20000x3231961 sparse matrix of type '<class 'numpy.float64'>'\n",
       "\twith 2275293 stored elements in Compressed Sparse Row format>,\n",
       "       <20000x3231961 sparse matrix of type '<class 'numpy.float64'>'\n",
       "\twith 2286674 stored elements in Compressed Sparse Row format>,\n",
       "       <20000x3231961 sparse matrix of type '<class 'numpy.float64'>'\n",
       "\twith 2297863 stored elements in Compressed Sparse Row format>,\n",
       "       <20000x3231961 sparse matrix of type '<class 'numpy.float64'>'\n",
       "\twith 2294389 stored elements in Compressed Sparse Row format>,\n",
       "       <20000x3231961 sparse matrix of type '<class 'numpy.float64'>'\n",
       "\twith 2263777 stored elements in Compressed Sparse Row format>,\n",
       "       <20000x3231961 sparse matrix of type '<class 'numpy.float64'>'\n",
       "\twith 2266439 stored elements in Compressed Sparse Row format>,\n",
       "       <20000x3231961 sparse matrix of type '<class 'numpy.float64'>'\n",
       "\twith 2326404 stored elements in Compressed Sparse Row format>,\n",
       "       <20000x3231961 sparse matrix of type '<class 'numpy.float64'>'\n",
       "\twith 2346121 stored elements in Compressed Sparse Row format>,\n",
       "       <20000x3231961 sparse matrix of type '<class 'numpy.float64'>'\n",
       "\twith 2356102 stored elements in Compressed Sparse Row format>,\n",
       "       <20000x3231961 sparse matrix of type '<class 'numpy.float64'>'\n",
       "\twith 2291848 stored elements in Compressed Sparse Row format>,\n",
       "       <20000x3231961 sparse matrix of type '<class 'numpy.float64'>'\n",
       "\twith 2343494 stored elements in Compressed Sparse Row format>,\n",
       "       <20000x3231961 sparse matrix of type '<class 'numpy.float64'>'\n",
       "\twith 2310788 stored elements in Compressed Sparse Row format>,\n",
       "       <20000x3231961 sparse matrix of type '<class 'numpy.float64'>'\n",
       "\twith 2085620 stored elements in Compressed Sparse Row format>,\n",
       "       <20000x3231961 sparse matrix of type '<class 'numpy.float64'>'\n",
       "\twith 2271101 stored elements in Compressed Sparse Row format>,\n",
       "       <20000x3231961 sparse matrix of type '<class 'numpy.float64'>'\n",
       "\twith 2268871 stored elements in Compressed Sparse Row format>,\n",
       "       <20000x3231961 sparse matrix of type '<class 'numpy.float64'>'\n",
       "\twith 2342325 stored elements in Compressed Sparse Row format>,\n",
       "       <20000x3231961 sparse matrix of type '<class 'numpy.float64'>'\n",
       "\twith 2345780 stored elements in Compressed Sparse Row format>,\n",
       "       <20000x3231961 sparse matrix of type '<class 'numpy.float64'>'\n",
       "\twith 2333930 stored elements in Compressed Sparse Row format>,\n",
       "       <20000x3231961 sparse matrix of type '<class 'numpy.float64'>'\n",
       "\twith 2331850 stored elements in Compressed Sparse Row format>,\n",
       "       <20000x3231961 sparse matrix of type '<class 'numpy.float64'>'\n",
       "\twith 2341132 stored elements in Compressed Sparse Row format>,\n",
       "       <20000x3231961 sparse matrix of type '<class 'numpy.float64'>'\n",
       "\twith 2336599 stored elements in Compressed Sparse Row format>,\n",
       "       <20000x3231961 sparse matrix of type '<class 'numpy.float64'>'\n",
       "\twith 2353451 stored elements in Compressed Sparse Row format>,\n",
       "       <20000x3231961 sparse matrix of type '<class 'numpy.float64'>'\n",
       "\twith 2334734 stored elements in Compressed Sparse Row format>,\n",
       "       <20000x3231961 sparse matrix of type '<class 'numpy.float64'>'\n",
       "\twith 2336160 stored elements in Compressed Sparse Row format>,\n",
       "       <20000x3231961 sparse matrix of type '<class 'numpy.float64'>'\n",
       "\twith 2374757 stored elements in Compressed Sparse Row format>,\n",
       "       <20000x3231961 sparse matrix of type '<class 'numpy.float64'>'\n",
       "\twith 2363650 stored elements in Compressed Sparse Row format>,\n",
       "       <20000x3231961 sparse matrix of type '<class 'numpy.float64'>'\n",
       "\twith 2355553 stored elements in Compressed Sparse Row format>,\n",
       "       <20000x3231961 sparse matrix of type '<class 'numpy.float64'>'\n",
       "\twith 2315809 stored elements in Compressed Sparse Row format>,\n",
       "       <20000x3231961 sparse matrix of type '<class 'numpy.float64'>'\n",
       "\twith 2315653 stored elements in Compressed Sparse Row format>,\n",
       "       <20000x3231961 sparse matrix of type '<class 'numpy.float64'>'\n",
       "\twith 2311644 stored elements in Compressed Sparse Row format>,\n",
       "       <20000x3231961 sparse matrix of type '<class 'numpy.float64'>'\n",
       "\twith 2310527 stored elements in Compressed Sparse Row format>,\n",
       "       <20000x3231961 sparse matrix of type '<class 'numpy.float64'>'\n",
       "\twith 2327668 stored elements in Compressed Sparse Row format>,\n",
       "       <20000x3231961 sparse matrix of type '<class 'numpy.float64'>'\n",
       "\twith 2337375 stored elements in Compressed Sparse Row format>,\n",
       "       <20000x3231961 sparse matrix of type '<class 'numpy.float64'>'\n",
       "\twith 2352535 stored elements in Compressed Sparse Row format>,\n",
       "       <20000x3231961 sparse matrix of type '<class 'numpy.float64'>'\n",
       "\twith 2367071 stored elements in Compressed Sparse Row format>,\n",
       "       <20000x3231961 sparse matrix of type '<class 'numpy.float64'>'\n",
       "\twith 2362283 stored elements in Compressed Sparse Row format>,\n",
       "       <20000x3231961 sparse matrix of type '<class 'numpy.float64'>'\n",
       "\twith 2339724 stored elements in Compressed Sparse Row format>,\n",
       "       <20000x3231961 sparse matrix of type '<class 'numpy.float64'>'\n",
       "\twith 2347018 stored elements in Compressed Sparse Row format>,\n",
       "       <20000x3231961 sparse matrix of type '<class 'numpy.float64'>'\n",
       "\twith 2375268 stored elements in Compressed Sparse Row format>,\n",
       "       <20000x3231961 sparse matrix of type '<class 'numpy.float64'>'\n",
       "\twith 2385920 stored elements in Compressed Sparse Row format>,\n",
       "       <20000x3231961 sparse matrix of type '<class 'numpy.float64'>'\n",
       "\twith 2318742 stored elements in Compressed Sparse Row format>,\n",
       "       <20000x3231961 sparse matrix of type '<class 'numpy.float64'>'\n",
       "\twith 2318174 stored elements in Compressed Sparse Row format>,\n",
       "       <20000x3231961 sparse matrix of type '<class 'numpy.float64'>'\n",
       "\twith 2314036 stored elements in Compressed Sparse Row format>,\n",
       "       <20000x3231961 sparse matrix of type '<class 'numpy.float64'>'\n",
       "\twith 2308886 stored elements in Compressed Sparse Row format>,\n",
       "       <20000x3231961 sparse matrix of type '<class 'numpy.float64'>'\n",
       "\twith 2299309 stored elements in Compressed Sparse Row format>,\n",
       "       <20000x3231961 sparse matrix of type '<class 'numpy.float64'>'\n",
       "\twith 2292401 stored elements in Compressed Sparse Row format>,\n",
       "       <20000x3231961 sparse matrix of type '<class 'numpy.float64'>'\n",
       "\twith 2310981 stored elements in Compressed Sparse Row format>,\n",
       "       <20000x3231961 sparse matrix of type '<class 'numpy.float64'>'\n",
       "\twith 2350946 stored elements in Compressed Sparse Row format>,\n",
       "       <20000x3231961 sparse matrix of type '<class 'numpy.float64'>'\n",
       "\twith 2348825 stored elements in Compressed Sparse Row format>,\n",
       "       <20000x3231961 sparse matrix of type '<class 'numpy.float64'>'\n",
       "\twith 2344814 stored elements in Compressed Sparse Row format>,\n",
       "       <20000x3231961 sparse matrix of type '<class 'numpy.float64'>'\n",
       "\twith 2333942 stored elements in Compressed Sparse Row format>,\n",
       "       <20000x3231961 sparse matrix of type '<class 'numpy.float64'>'\n",
       "\twith 2336962 stored elements in Compressed Sparse Row format>,\n",
       "       <20000x3231961 sparse matrix of type '<class 'numpy.float64'>'\n",
       "\twith 2337580 stored elements in Compressed Sparse Row format>,\n",
       "       <20000x3231961 sparse matrix of type '<class 'numpy.float64'>'\n",
       "\twith 2329406 stored elements in Compressed Sparse Row format>,\n",
       "       <20000x3231961 sparse matrix of type '<class 'numpy.float64'>'\n",
       "\twith 2364087 stored elements in Compressed Sparse Row format>,\n",
       "       <20000x3231961 sparse matrix of type '<class 'numpy.float64'>'\n",
       "\twith 2336661 stored elements in Compressed Sparse Row format>,\n",
       "       <20000x3231961 sparse matrix of type '<class 'numpy.float64'>'\n",
       "\twith 2331935 stored elements in Compressed Sparse Row format>,\n",
       "       <20000x3231961 sparse matrix of type '<class 'numpy.float64'>'\n",
       "\twith 2337699 stored elements in Compressed Sparse Row format>,\n",
       "       <20000x3231961 sparse matrix of type '<class 'numpy.float64'>'\n",
       "\twith 2335832 stored elements in Compressed Sparse Row format>,\n",
       "       <20000x3231961 sparse matrix of type '<class 'numpy.float64'>'\n",
       "\twith 2324031 stored elements in Compressed Sparse Row format>,\n",
       "       <20000x3231961 sparse matrix of type '<class 'numpy.float64'>'\n",
       "\twith 2329882 stored elements in Compressed Sparse Row format>,\n",
       "       <20000x3231961 sparse matrix of type '<class 'numpy.float64'>'\n",
       "\twith 2292964 stored elements in Compressed Sparse Row format>,\n",
       "       <20000x3231961 sparse matrix of type '<class 'numpy.float64'>'\n",
       "\twith 2272097 stored elements in Compressed Sparse Row format>,\n",
       "       <20000x3231961 sparse matrix of type '<class 'numpy.float64'>'\n",
       "\twith 2284450 stored elements in Compressed Sparse Row format>,\n",
       "       <20000x3231961 sparse matrix of type '<class 'numpy.float64'>'\n",
       "\twith 2277027 stored elements in Compressed Sparse Row format>,\n",
       "       <20000x3231961 sparse matrix of type '<class 'numpy.float64'>'\n",
       "\twith 2277490 stored elements in Compressed Sparse Row format>,\n",
       "       <20000x3231961 sparse matrix of type '<class 'numpy.float64'>'\n",
       "\twith 2298819 stored elements in Compressed Sparse Row format>,\n",
       "       <20000x3231961 sparse matrix of type '<class 'numpy.float64'>'\n",
       "\twith 2291807 stored elements in Compressed Sparse Row format>,\n",
       "       <20000x3231961 sparse matrix of type '<class 'numpy.float64'>'\n",
       "\twith 2289321 stored elements in Compressed Sparse Row format>,\n",
       "       <20000x3231961 sparse matrix of type '<class 'numpy.float64'>'\n",
       "\twith 2312341 stored elements in Compressed Sparse Row format>,\n",
       "       <20000x3231961 sparse matrix of type '<class 'numpy.float64'>'\n",
       "\twith 2299624 stored elements in Compressed Sparse Row format>,\n",
       "       <20000x3231961 sparse matrix of type '<class 'numpy.float64'>'\n",
       "\twith 2326550 stored elements in Compressed Sparse Row format>,\n",
       "       <20000x3231961 sparse matrix of type '<class 'numpy.float64'>'\n",
       "\twith 2325339 stored elements in Compressed Sparse Row format>,\n",
       "       <20000x3231961 sparse matrix of type '<class 'numpy.float64'>'\n",
       "\twith 2317878 stored elements in Compressed Sparse Row format>,\n",
       "       <20000x3231961 sparse matrix of type '<class 'numpy.float64'>'\n",
       "\twith 2288475 stored elements in Compressed Sparse Row format>,\n",
       "       <20000x3231961 sparse matrix of type '<class 'numpy.float64'>'\n",
       "\twith 2287225 stored elements in Compressed Sparse Row format>,\n",
       "       <20000x3231961 sparse matrix of type '<class 'numpy.float64'>'\n",
       "\twith 2272444 stored elements in Compressed Sparse Row format>,\n",
       "       <20000x3231961 sparse matrix of type '<class 'numpy.float64'>'\n",
       "\twith 2289585 stored elements in Compressed Sparse Row format>,\n",
       "       <20000x3231961 sparse matrix of type '<class 'numpy.float64'>'\n",
       "\twith 2282518 stored elements in Compressed Sparse Row format>,\n",
       "       <20000x3231961 sparse matrix of type '<class 'numpy.float64'>'\n",
       "\twith 2296394 stored elements in Compressed Sparse Row format>,\n",
       "       <20000x3231961 sparse matrix of type '<class 'numpy.float64'>'\n",
       "\twith 2346194 stored elements in Compressed Sparse Row format>,\n",
       "       <20000x3231961 sparse matrix of type '<class 'numpy.float64'>'\n",
       "\twith 2326696 stored elements in Compressed Sparse Row format>,\n",
       "       <20000x3231961 sparse matrix of type '<class 'numpy.float64'>'\n",
       "\twith 2376178 stored elements in Compressed Sparse Row format>,\n",
       "       <20000x3231961 sparse matrix of type '<class 'numpy.float64'>'\n",
       "\twith 2305369 stored elements in Compressed Sparse Row format>,\n",
       "       <20000x3231961 sparse matrix of type '<class 'numpy.float64'>'\n",
       "\twith 2360941 stored elements in Compressed Sparse Row format>,\n",
       "       <20000x3231961 sparse matrix of type '<class 'numpy.float64'>'\n",
       "\twith 2355785 stored elements in Compressed Sparse Row format>,\n",
       "       <20000x3231961 sparse matrix of type '<class 'numpy.float64'>'\n",
       "\twith 2340800 stored elements in Compressed Sparse Row format>,\n",
       "       <20000x3231961 sparse matrix of type '<class 'numpy.float64'>'\n",
       "\twith 2350258 stored elements in Compressed Sparse Row format>,\n",
       "       <20000x3231961 sparse matrix of type '<class 'numpy.float64'>'\n",
       "\twith 2327751 stored elements in Compressed Sparse Row format>,\n",
       "       <20000x3231961 sparse matrix of type '<class 'numpy.float64'>'\n",
       "\twith 2262535 stored elements in Compressed Sparse Row format>,\n",
       "       <20000x3231961 sparse matrix of type '<class 'numpy.float64'>'\n",
       "\twith 2275360 stored elements in Compressed Sparse Row format>,\n",
       "       <20000x3231961 sparse matrix of type '<class 'numpy.float64'>'\n",
       "\twith 2259781 stored elements in Compressed Sparse Row format>,\n",
       "       <20000x3231961 sparse matrix of type '<class 'numpy.float64'>'\n",
       "\twith 2248372 stored elements in Compressed Sparse Row format>,\n",
       "       <20000x3231961 sparse matrix of type '<class 'numpy.float64'>'\n",
       "\twith 2290760 stored elements in Compressed Sparse Row format>,\n",
       "       <20000x3231961 sparse matrix of type '<class 'numpy.float64'>'\n",
       "\twith 2251949 stored elements in Compressed Sparse Row format>,\n",
       "       <20000x3231961 sparse matrix of type '<class 'numpy.float64'>'\n",
       "\twith 2245868 stored elements in Compressed Sparse Row format>,\n",
       "       <20000x3231961 sparse matrix of type '<class 'numpy.float64'>'\n",
       "\twith 2311224 stored elements in Compressed Sparse Row format>,\n",
       "       <20000x3231961 sparse matrix of type '<class 'numpy.float64'>'\n",
       "\twith 2278792 stored elements in Compressed Sparse Row format>,\n",
       "       <20000x3231961 sparse matrix of type '<class 'numpy.float64'>'\n",
       "\twith 2283634 stored elements in Compressed Sparse Row format>,\n",
       "       <20000x3231961 sparse matrix of type '<class 'numpy.float64'>'\n",
       "\twith 2339028 stored elements in Compressed Sparse Row format>,\n",
       "       <20000x3231961 sparse matrix of type '<class 'numpy.float64'>'\n",
       "\twith 2276463 stored elements in Compressed Sparse Row format>,\n",
       "       <20000x3231961 sparse matrix of type '<class 'numpy.float64'>'\n",
       "\twith 2303165 stored elements in Compressed Sparse Row format>,\n",
       "       <20000x3231961 sparse matrix of type '<class 'numpy.float64'>'\n",
       "\twith 2275257 stored elements in Compressed Sparse Row format>,\n",
       "       <20000x3231961 sparse matrix of type '<class 'numpy.float64'>'\n",
       "\twith 2261819 stored elements in Compressed Sparse Row format>,\n",
       "       <20000x3231961 sparse matrix of type '<class 'numpy.float64'>'\n",
       "\twith 2253014 stored elements in Compressed Sparse Row format>,\n",
       "       <20000x3231961 sparse matrix of type '<class 'numpy.float64'>'\n",
       "\twith 2302256 stored elements in Compressed Sparse Row format>],\n",
       "      dtype=object)"
      ]
     },
     "execution_count": 17,
     "metadata": {},
     "output_type": "execute_result"
    }
   ],
   "source": [
    "x"
   ]
  },
  {
   "cell_type": "code",
   "execution_count": 18,
   "metadata": {},
   "outputs": [
    {
     "data": {
      "text/plain": [
       "array([array([-1., -1., -1., ..., -1., -1., -1.]),\n",
       "       array([-1., -1.,  1., ...,  1.,  1.,  1.]),\n",
       "       array([ 1.,  1.,  1., ...,  1., -1., -1.]),\n",
       "       array([-1.,  1.,  1., ..., -1.,  1.,  1.]),\n",
       "       array([-1.,  1.,  1., ...,  1., -1., -1.]),\n",
       "       array([-1., -1., -1., ..., -1., -1.,  1.]),\n",
       "       array([-1., -1.,  1., ...,  1., -1., -1.]),\n",
       "       array([ 1., -1., -1., ...,  1., -1., -1.]),\n",
       "       array([-1., -1., -1., ...,  1., -1., -1.]),\n",
       "       array([-1., -1.,  1., ..., -1.,  1.,  1.]),\n",
       "       array([-1., -1., -1., ...,  1.,  1., -1.]),\n",
       "       array([-1., -1., -1., ..., -1., -1., -1.]),\n",
       "       array([-1.,  1.,  1., ...,  1., -1., -1.]),\n",
       "       array([-1.,  1., -1., ...,  1., -1., -1.]),\n",
       "       array([ 1.,  1.,  1., ..., -1., -1., -1.]),\n",
       "       array([-1.,  1., -1., ...,  1.,  1.,  1.]),\n",
       "       array([ 1., -1.,  1., ...,  1., -1.,  1.]),\n",
       "       array([ 1., -1., -1., ..., -1., -1.,  1.]),\n",
       "       array([-1., -1., -1., ..., -1., -1., -1.]),\n",
       "       array([-1., -1., -1., ..., -1., -1., -1.]),\n",
       "       array([-1.,  1.,  1., ..., -1., -1., -1.]),\n",
       "       array([-1., -1., -1., ...,  1.,  1.,  1.]),\n",
       "       array([-1., -1., -1., ...,  1., -1.,  1.]),\n",
       "       array([-1.,  1., -1., ...,  1.,  1., -1.]),\n",
       "       array([ 1., -1., -1., ...,  1., -1., -1.]),\n",
       "       array([-1., -1., -1., ..., -1.,  1., -1.]),\n",
       "       array([-1., -1., -1., ..., -1., -1., -1.]),\n",
       "       array([-1., -1., -1., ..., -1., -1., -1.]),\n",
       "       array([-1., -1., -1., ..., -1., -1., -1.]),\n",
       "       array([-1.,  1., -1., ..., -1., -1., -1.]),\n",
       "       array([ 1., -1., -1., ..., -1., -1.,  1.]),\n",
       "       array([-1.,  1.,  1., ..., -1.,  1., -1.]),\n",
       "       array([ 1.,  1., -1., ...,  1.,  1.,  1.]),\n",
       "       array([-1., -1., -1., ...,  1., -1.,  1.]),\n",
       "       array([-1., -1., -1., ..., -1., -1., -1.]),\n",
       "       array([-1.,  1.,  1., ..., -1., -1., -1.]),\n",
       "       array([ 1.,  1., -1., ..., -1., -1., -1.]),\n",
       "       array([-1., -1., -1., ...,  1.,  1.,  1.]),\n",
       "       array([-1., -1., -1., ...,  1., -1.,  1.]),\n",
       "       array([-1., -1., -1., ..., -1., -1.,  1.]),\n",
       "       array([ 1., -1., -1., ...,  1., -1., -1.]),\n",
       "       array([-1., -1., -1., ...,  1., -1., -1.]),\n",
       "       array([-1., -1., -1., ..., -1., -1., -1.]),\n",
       "       array([-1., -1., -1., ...,  1.,  1., -1.]),\n",
       "       array([-1., -1., -1., ..., -1., -1., -1.]),\n",
       "       array([-1.,  1.,  1., ..., -1.,  1., -1.]),\n",
       "       array([-1., -1., -1., ...,  1., -1., -1.]),\n",
       "       array([-1., -1., -1., ..., -1.,  1.,  1.]),\n",
       "       array([-1., -1.,  1., ..., -1., -1., -1.]),\n",
       "       array([-1., -1.,  1., ..., -1., -1.,  1.]),\n",
       "       array([-1., -1.,  1., ...,  1., -1., -1.]),\n",
       "       array([-1., -1., -1., ..., -1.,  1.,  1.]),\n",
       "       array([-1., -1., -1., ..., -1., -1., -1.]),\n",
       "       array([-1.,  1., -1., ..., -1., -1., -1.]),\n",
       "       array([ 1.,  1., -1., ..., -1., -1.,  1.]),\n",
       "       array([-1., -1., -1., ...,  1.,  1., -1.]),\n",
       "       array([-1., -1., -1., ..., -1., -1.,  1.]),\n",
       "       array([-1., -1., -1., ...,  1., -1.,  1.]),\n",
       "       array([ 1.,  1., -1., ..., -1., -1.,  1.]),\n",
       "       array([-1., -1., -1., ..., -1., -1.,  1.]),\n",
       "       array([ 1.,  1., -1., ...,  1., -1.,  1.]),\n",
       "       array([-1., -1., -1., ..., -1., -1., -1.]),\n",
       "       array([-1., -1., -1., ..., -1., -1., -1.]),\n",
       "       array([-1., -1.,  1., ...,  1.,  1., -1.]),\n",
       "       array([ 1., -1.,  1., ...,  1.,  1.,  1.]),\n",
       "       array([ 1., -1.,  1., ..., -1.,  1.,  1.]),\n",
       "       array([-1., -1.,  1., ...,  1., -1., -1.]),\n",
       "       array([-1., -1.,  1., ..., -1., -1.,  1.]),\n",
       "       array([-1.,  1.,  1., ...,  1., -1.,  1.]),\n",
       "       array([ 1., -1., -1., ..., -1., -1.,  1.]),\n",
       "       array([ 1.,  1.,  1., ..., -1., -1.,  1.]),\n",
       "       array([-1., -1., -1., ..., -1., -1., -1.]),\n",
       "       array([-1.,  1.,  1., ..., -1., -1., -1.]),\n",
       "       array([ 1., -1., -1., ...,  1., -1., -1.]),\n",
       "       array([-1.,  1.,  1., ...,  1.,  1.,  1.]),\n",
       "       array([-1., -1., -1., ...,  1., -1.,  1.]),\n",
       "       array([-1.,  1., -1., ..., -1., -1., -1.]),\n",
       "       array([-1., -1.,  1., ..., -1., -1., -1.]),\n",
       "       array([-1., -1.,  1., ...,  1.,  1., -1.]),\n",
       "       array([-1., -1., -1., ..., -1., -1.,  1.]),\n",
       "       array([ 1.,  1., -1., ..., -1.,  1.,  1.]),\n",
       "       array([-1., -1., -1., ...,  1., -1., -1.]),\n",
       "       array([ 1.,  1., -1., ...,  1., -1., -1.]),\n",
       "       array([-1., -1., -1., ..., -1.,  1.,  1.]),\n",
       "       array([-1., -1., -1., ...,  1., -1., -1.]),\n",
       "       array([-1.,  1., -1., ..., -1., -1., -1.]),\n",
       "       array([ 1.,  1.,  1., ..., -1., -1., -1.]),\n",
       "       array([ 1.,  1.,  1., ..., -1., -1.,  1.]),\n",
       "       array([ 1.,  1., -1., ...,  1., -1., -1.]),\n",
       "       array([ 1.,  1.,  1., ...,  1., -1.,  1.]),\n",
       "       array([ 1.,  1.,  1., ...,  1., -1., -1.]),\n",
       "       array([ 1.,  1.,  1., ..., -1.,  1.,  1.]),\n",
       "       array([ 1.,  1.,  1., ..., -1.,  1.,  1.]),\n",
       "       array([ 1.,  1.,  1., ..., -1., -1., -1.]),\n",
       "       array([-1., -1., -1., ..., -1.,  1.,  1.]),\n",
       "       array([-1.,  1., -1., ...,  1.,  1.,  1.]),\n",
       "       array([ 1., -1., -1., ..., -1., -1.,  1.]),\n",
       "       array([ 1.,  1., -1., ..., -1., -1., -1.]),\n",
       "       array([ 1.,  1., -1., ..., -1.,  1., -1.]),\n",
       "       array([ 1.,  1., -1., ..., -1., -1., -1.]),\n",
       "       array([ 1.,  1.,  1., ...,  1.,  1., -1.]),\n",
       "       array([ 1.,  1.,  1., ..., -1.,  1., -1.]),\n",
       "       array([ 1., -1., -1., ...,  1.,  1., -1.]),\n",
       "       array([ 1., -1.,  1., ..., -1., -1.,  1.]),\n",
       "       array([ 1., -1., -1., ..., -1., -1., -1.]),\n",
       "       array([ 1.,  1., -1., ..., -1.,  1., -1.]),\n",
       "       array([ 1., -1.,  1., ...,  1.,  1., -1.]),\n",
       "       array([-1.,  1., -1., ..., -1.,  1., -1.]),\n",
       "       array([ 1.,  1.,  1., ...,  1., -1., -1.]),\n",
       "       array([-1., -1., -1., ..., -1., -1., -1.]),\n",
       "       array([ 1.,  1.,  1., ..., -1., -1., -1.]),\n",
       "       array([ 1.,  1., -1., ..., -1., -1., -1.]),\n",
       "       array([-1., -1., -1., ..., -1.,  1., -1.]),\n",
       "       array([ 1., -1., -1., ...,  1.,  1., -1.]),\n",
       "       array([ 1., -1., -1., ..., -1., -1., -1.]),\n",
       "       array([ 1.,  1.,  1., ...,  1.,  1., -1.]),\n",
       "       array([-1.,  1., -1., ...,  1.,  1.,  1.]),\n",
       "       array([ 1., -1., -1., ..., -1.,  1., -1.]),\n",
       "       array([ 1.,  1.,  1., ...,  1., -1., -1.])], dtype=object)"
      ]
     },
     "execution_count": 18,
     "metadata": {},
     "output_type": "execute_result"
    }
   ],
   "source": [
    "y"
   ]
  },
  {
   "cell_type": "markdown",
   "metadata": {},
   "source": [
    "## Exploratory view on the URLs"
   ]
  },
  {
   "cell_type": "code",
   "execution_count": 25,
   "metadata": {},
   "outputs": [
    {
     "name": "stdout",
     "output_type": "stream",
     "text": [
      "Total dataset size:\n",
      "n_samples: 2380000\n",
      "n_features: 3231961\n",
      "n_classes: 2\n"
     ]
    }
   ],
   "source": [
    "n_samples = len(x) * x[0].shape[0]\n",
    "n_features = x[0].shape[1]\n",
    "n_classes = len(np.unique(y[0]))\n",
    "\n",
    "print(\"Total dataset size:\")\n",
    "print(\"n_samples: %d\" % n_samples)\n",
    "print(\"n_features: %d\" % n_features)\n",
    "print(\"n_classes: %d\" % n_classes)"
   ]
  },
  {
   "cell_type": "code",
   "execution_count": 20,
   "metadata": {},
   "outputs": [],
   "source": [
    "totalurls = np.empty(0)\n",
    "\n",
    "for day in days:\n",
    "    totalurls =np.append(totalurls, day[1])"
   ]
  },
  {
   "cell_type": "code",
   "execution_count": 21,
   "metadata": {},
   "outputs": [
    {
     "data": {
      "text/plain": [
       "array([-1., -1., -1., ...,  1., -1., -1.])"
      ]
     },
     "execution_count": 21,
     "metadata": {},
     "output_type": "execute_result"
    }
   ],
   "source": [
    "totalurls"
   ]
  },
  {
   "cell_type": "code",
   "execution_count": 23,
   "metadata": {
    "scrolled": true
   },
   "outputs": [
    {
     "data": {
      "image/png": "[encoded data removed]",
      "text/plain": [
       "<Figure size 432x288 with 1 Axes>"
      ]
     },
     "metadata": {
      "needs_background": "light"
     },
     "output_type": "display_data"
    }
   ],
   "source": [
    "plt.hist(totalurls, 100)\n",
    "plt.xlabel(\"Range of good and bad URLs\", fontdict={'fontsize': 14, 'family': 'monospace'})\n",
    "plt.show()"
   ]
  },
  {
   "cell_type": "markdown",
   "metadata": {},
   "source": [
    "## Fitting model on raw data"
   ]
  },
  {
   "cell_type": "markdown",
   "metadata": {},
   "source": [
    "Here we try to train and test a SVM model with the raw data of our dataset, in particular we take one random set of days for training and one for testing. From the training set of days we choose one random day and pass it as an input to train the model, the number of data used to train the model is 20000. Then we apply the GridSearch model on our SVM to find the best parameters ( C value and Kernel ) for our data. Finally we test the model on some random days taken from the test set."
   ]
  },
  {
   "cell_type": "markdown",
   "metadata": {},
   "source": [
    "### Model definition"
   ]
  },
  {
   "cell_type": "code",
   "execution_count": 114,
   "metadata": {},
   "outputs": [],
   "source": [
    "estimator = svm.SVC(gamma='auto', random_state=0, probability=True)\n",
    "\n",
    "param_grid = {\n",
    "    'C': [0.1, 1.0, 20.0, 100.0],\n",
    "    'kernel': ['rbf', 'poly', 'linear'],\n",
    "}\n",
    "\n",
    "grid_search = GridSearchCV(estimator, param_grid, n_jobs=-1, cv=2)"
   ]
  },
  {
   "cell_type": "markdown",
   "metadata": {},
   "source": [
    "### Train test split"
   ]
  },
  {
   "cell_type": "code",
   "execution_count": 115,
   "metadata": {},
   "outputs": [
    {
     "name": "stderr",
     "output_type": "stream",
     "text": [
      "/home/giordano/anaconda3/envs/da2019/lib/python3.6/site-packages/sklearn/model_selection/_split.py:2179: FutureWarning: From version 0.21, test_size will always complement train_size unless both are specified.\n",
      "  FutureWarning)\n"
     ]
    }
   ],
   "source": [
    "x_train, x_test, y_train, y_test = train_test_split(x, y, train_size=0.3)"
   ]
  },
  {
   "cell_type": "markdown",
   "metadata": {},
   "source": [
    "### Training the model"
   ]
  },
  {
   "cell_type": "markdown",
   "metadata": {},
   "source": [
    "First apply grid search model to find the best parameters to svm"
   ]
  },
  {
   "cell_type": "code",
   "execution_count": 116,
   "metadata": {},
   "outputs": [],
   "source": [
    "grid_search = GridSearchCV(estimator, param_grid, n_jobs=-1, cv=2)"
   ]
  },
  {
   "cell_type": "code",
   "execution_count": 117,
   "metadata": {},
   "outputs": [],
   "source": [
    "index = random_index(x_train) "
   ]
  },
  {
   "cell_type": "code",
   "execution_count": 118,
   "metadata": {},
   "outputs": [
    {
     "name": "stdout",
     "output_type": "stream",
     "text": [
      "CPU times: user 1h 53min 18s, sys: 11.5 s, total: 1h 53min 30s\n",
      "Wall time: 30min 29s\n"
     ]
    },
    {
     "data": {
      "text/plain": [
       "GridSearchCV(cache_cv=True, cv=2, error_score='raise',\n",
       "       estimator=SVC(C=1.0, cache_size=200, class_weight=None, coef0=0.0,\n",
       "  decision_function_shape='ovr', degree=3, gamma='auto', kernel='rbf',\n",
       "  max_iter=-1, probability=True, random_state=0, shrinking=True, tol=0.001,\n",
       "  verbose=False),\n",
       "       iid=True, n_jobs=-1,\n",
       "       param_grid={'C': [0.1, 1.0, 20.0, 100.0], 'kernel': ['rbf', 'poly', 'linear']},\n",
       "       refit=True, return_train_score='warn', scheduler=None, scoring=None)"
      ]
     },
     "execution_count": 118,
     "metadata": {},
     "output_type": "execute_result"
    }
   ],
   "source": [
    "%time grid_search.fit(x_train[index], y_train[index])"
   ]
  },
  {
   "cell_type": "markdown",
   "metadata": {},
   "source": [
    "Here we can see the result of the cross validation test for the various combination of the parameters and some other informations"
   ]
  },
  {
   "cell_type": "code",
   "execution_count": 119,
   "metadata": {},
   "outputs": [
    {
     "name": "stderr",
     "output_type": "stream",
     "text": [
      "/home/giordano/anaconda3/envs/da2019/lib/python3.6/site-packages/dask_ml/model_selection/utils.py:122: FutureWarning: You are accessing a training score ('split0_train_score'), which will not be available by default any more in sklearn 0.21. If you need training scores, please set return_train_score=True\n",
      "  warnings.warn(*warn_args, **warn_kwargs)\n",
      "/home/giordano/anaconda3/envs/da2019/lib/python3.6/site-packages/dask_ml/model_selection/utils.py:122: FutureWarning: You are accessing a training score ('split1_train_score'), which will not be available by default any more in sklearn 0.21. If you need training scores, please set return_train_score=True\n",
      "  warnings.warn(*warn_args, **warn_kwargs)\n",
      "/home/giordano/anaconda3/envs/da2019/lib/python3.6/site-packages/dask_ml/model_selection/utils.py:122: FutureWarning: You are accessing a training score ('mean_train_score'), which will not be available by default any more in sklearn 0.21. If you need training scores, please set return_train_score=True\n",
      "  warnings.warn(*warn_args, **warn_kwargs)\n",
      "/home/giordano/anaconda3/envs/da2019/lib/python3.6/site-packages/dask_ml/model_selection/utils.py:122: FutureWarning: You are accessing a training score ('std_train_score'), which will not be available by default any more in sklearn 0.21. If you need training scores, please set return_train_score=True\n",
      "  warnings.warn(*warn_args, **warn_kwargs)\n"
     ]
    },
    {
     "data": {
      "text/html": [
       "<div>\n",
       "<style scoped>\n",
       "    .dataframe tbody tr th:only-of-type {\n",
       "        vertical-align: middle;\n",
       "    }\n",
       "\n",
       "    .dataframe tbody tr th {\n",
       "        vertical-align: top;\n",
       "    }\n",
       "\n",
       "    .dataframe thead th {\n",
       "        text-align: right;\n",
       "    }\n",
       "</style>\n",
       "<table border=\"1\" class=\"dataframe\">\n",
       "  <thead>\n",
       "    <tr style=\"text-align: right;\">\n",
       "      <th></th>\n",
       "      <th>params</th>\n",
       "      <th>mean_fit_time</th>\n",
       "      <th>std_fit_time</th>\n",
       "      <th>mean_score_time</th>\n",
       "      <th>std_score_time</th>\n",
       "      <th>split0_test_score</th>\n",
       "      <th>split1_test_score</th>\n",
       "      <th>mean_test_score</th>\n",
       "      <th>std_test_score</th>\n",
       "      <th>rank_test_score</th>\n",
       "      <th>split0_train_score</th>\n",
       "      <th>split1_train_score</th>\n",
       "      <th>mean_train_score</th>\n",
       "      <th>std_train_score</th>\n",
       "      <th>param_C</th>\n",
       "      <th>param_kernel</th>\n",
       "    </tr>\n",
       "  </thead>\n",
       "  <tbody>\n",
       "    <tr>\n",
       "      <th>0</th>\n",
       "      <td>{'C': 0.1, 'kernel': 'rbf'}</td>\n",
       "      <td>308.369061</td>\n",
       "      <td>8.702819</td>\n",
       "      <td>56.811756</td>\n",
       "      <td>0.690229</td>\n",
       "      <td>0.631437</td>\n",
       "      <td>0.631463</td>\n",
       "      <td>0.63145</td>\n",
       "      <td>0.000013</td>\n",
       "      <td>6</td>\n",
       "      <td>0.631463</td>\n",
       "      <td>0.631437</td>\n",
       "      <td>0.631450</td>\n",
       "      <td>1.314500e-05</td>\n",
       "      <td>0.1</td>\n",
       "      <td>rbf</td>\n",
       "    </tr>\n",
       "    <tr>\n",
       "      <th>1</th>\n",
       "      <td>{'C': 0.1, 'kernel': 'poly'}</td>\n",
       "      <td>291.262082</td>\n",
       "      <td>11.585879</td>\n",
       "      <td>49.855733</td>\n",
       "      <td>1.102404</td>\n",
       "      <td>0.631437</td>\n",
       "      <td>0.631463</td>\n",
       "      <td>0.63145</td>\n",
       "      <td>0.000013</td>\n",
       "      <td>6</td>\n",
       "      <td>0.631463</td>\n",
       "      <td>0.631437</td>\n",
       "      <td>0.631450</td>\n",
       "      <td>1.314500e-05</td>\n",
       "      <td>0.1</td>\n",
       "      <td>poly</td>\n",
       "    </tr>\n",
       "    <tr>\n",
       "      <th>2</th>\n",
       "      <td>{'C': 0.1, 'kernel': 'linear'}</td>\n",
       "      <td>49.869594</td>\n",
       "      <td>3.336660</td>\n",
       "      <td>7.730680</td>\n",
       "      <td>0.330571</td>\n",
       "      <td>0.975102</td>\n",
       "      <td>0.980298</td>\n",
       "      <td>0.97770</td>\n",
       "      <td>0.002598</td>\n",
       "      <td>1</td>\n",
       "      <td>0.997500</td>\n",
       "      <td>0.997500</td>\n",
       "      <td>0.997500</td>\n",
       "      <td>2.500000e-07</td>\n",
       "      <td>0.1</td>\n",
       "      <td>linear</td>\n",
       "    </tr>\n",
       "    <tr>\n",
       "      <th>3</th>\n",
       "      <td>{'C': 1.0, 'kernel': 'rbf'}</td>\n",
       "      <td>313.701535</td>\n",
       "      <td>8.804138</td>\n",
       "      <td>52.670144</td>\n",
       "      <td>1.671675</td>\n",
       "      <td>0.631437</td>\n",
       "      <td>0.631463</td>\n",
       "      <td>0.63145</td>\n",
       "      <td>0.000013</td>\n",
       "      <td>6</td>\n",
       "      <td>0.631463</td>\n",
       "      <td>0.631437</td>\n",
       "      <td>0.631450</td>\n",
       "      <td>1.314500e-05</td>\n",
       "      <td>1</td>\n",
       "      <td>rbf</td>\n",
       "    </tr>\n",
       "    <tr>\n",
       "      <th>4</th>\n",
       "      <td>{'C': 1.0, 'kernel': 'poly'}</td>\n",
       "      <td>279.247259</td>\n",
       "      <td>6.617895</td>\n",
       "      <td>46.138575</td>\n",
       "      <td>0.086304</td>\n",
       "      <td>0.631437</td>\n",
       "      <td>0.631463</td>\n",
       "      <td>0.63145</td>\n",
       "      <td>0.000013</td>\n",
       "      <td>6</td>\n",
       "      <td>0.631463</td>\n",
       "      <td>0.631437</td>\n",
       "      <td>0.631450</td>\n",
       "      <td>1.314500e-05</td>\n",
       "      <td>1</td>\n",
       "      <td>poly</td>\n",
       "    </tr>\n",
       "    <tr>\n",
       "      <th>5</th>\n",
       "      <td>{'C': 1.0, 'kernel': 'linear'}</td>\n",
       "      <td>51.039631</td>\n",
       "      <td>3.784847</td>\n",
       "      <td>7.793320</td>\n",
       "      <td>0.440717</td>\n",
       "      <td>0.973603</td>\n",
       "      <td>0.980498</td>\n",
       "      <td>0.97705</td>\n",
       "      <td>0.003448</td>\n",
       "      <td>2</td>\n",
       "      <td>1.000000</td>\n",
       "      <td>1.000000</td>\n",
       "      <td>1.000000</td>\n",
       "      <td>0.000000e+00</td>\n",
       "      <td>1</td>\n",
       "      <td>linear</td>\n",
       "    </tr>\n",
       "    <tr>\n",
       "      <th>6</th>\n",
       "      <td>{'C': 20.0, 'kernel': 'rbf'}</td>\n",
       "      <td>318.811352</td>\n",
       "      <td>10.993538</td>\n",
       "      <td>54.507265</td>\n",
       "      <td>2.195584</td>\n",
       "      <td>0.631437</td>\n",
       "      <td>0.631463</td>\n",
       "      <td>0.63145</td>\n",
       "      <td>0.000013</td>\n",
       "      <td>6</td>\n",
       "      <td>0.631463</td>\n",
       "      <td>0.631437</td>\n",
       "      <td>0.631450</td>\n",
       "      <td>1.314500e-05</td>\n",
       "      <td>20</td>\n",
       "      <td>rbf</td>\n",
       "    </tr>\n",
       "    <tr>\n",
       "      <th>7</th>\n",
       "      <td>{'C': 20.0, 'kernel': 'poly'}</td>\n",
       "      <td>273.386728</td>\n",
       "      <td>8.622309</td>\n",
       "      <td>47.079418</td>\n",
       "      <td>1.577512</td>\n",
       "      <td>0.631437</td>\n",
       "      <td>0.631463</td>\n",
       "      <td>0.63145</td>\n",
       "      <td>0.000013</td>\n",
       "      <td>6</td>\n",
       "      <td>0.631463</td>\n",
       "      <td>0.631437</td>\n",
       "      <td>0.631450</td>\n",
       "      <td>1.314500e-05</td>\n",
       "      <td>20</td>\n",
       "      <td>poly</td>\n",
       "    </tr>\n",
       "    <tr>\n",
       "      <th>8</th>\n",
       "      <td>{'C': 20.0, 'kernel': 'linear'}</td>\n",
       "      <td>51.538848</td>\n",
       "      <td>3.339830</td>\n",
       "      <td>8.123403</td>\n",
       "      <td>0.236409</td>\n",
       "      <td>0.973603</td>\n",
       "      <td>0.980398</td>\n",
       "      <td>0.97700</td>\n",
       "      <td>0.003398</td>\n",
       "      <td>3</td>\n",
       "      <td>1.000000</td>\n",
       "      <td>1.000000</td>\n",
       "      <td>1.000000</td>\n",
       "      <td>0.000000e+00</td>\n",
       "      <td>20</td>\n",
       "      <td>linear</td>\n",
       "    </tr>\n",
       "    <tr>\n",
       "      <th>9</th>\n",
       "      <td>{'C': 100.0, 'kernel': 'rbf'}</td>\n",
       "      <td>291.251503</td>\n",
       "      <td>35.140097</td>\n",
       "      <td>48.511955</td>\n",
       "      <td>6.780016</td>\n",
       "      <td>0.703530</td>\n",
       "      <td>0.843684</td>\n",
       "      <td>0.77360</td>\n",
       "      <td>0.070077</td>\n",
       "      <td>5</td>\n",
       "      <td>0.807781</td>\n",
       "      <td>0.787321</td>\n",
       "      <td>0.797551</td>\n",
       "      <td>1.022976e-02</td>\n",
       "      <td>100</td>\n",
       "      <td>rbf</td>\n",
       "    </tr>\n",
       "    <tr>\n",
       "      <th>10</th>\n",
       "      <td>{'C': 100.0, 'kernel': 'poly'}</td>\n",
       "      <td>271.313107</td>\n",
       "      <td>10.035025</td>\n",
       "      <td>45.053710</td>\n",
       "      <td>0.665126</td>\n",
       "      <td>0.631437</td>\n",
       "      <td>0.631463</td>\n",
       "      <td>0.63145</td>\n",
       "      <td>0.000013</td>\n",
       "      <td>6</td>\n",
       "      <td>0.631463</td>\n",
       "      <td>0.631437</td>\n",
       "      <td>0.631450</td>\n",
       "      <td>1.314500e-05</td>\n",
       "      <td>100</td>\n",
       "      <td>poly</td>\n",
       "    </tr>\n",
       "    <tr>\n",
       "      <th>11</th>\n",
       "      <td>{'C': 100.0, 'kernel': 'linear'}</td>\n",
       "      <td>46.764995</td>\n",
       "      <td>1.784051</td>\n",
       "      <td>6.819942</td>\n",
       "      <td>0.834878</td>\n",
       "      <td>0.973603</td>\n",
       "      <td>0.980398</td>\n",
       "      <td>0.97700</td>\n",
       "      <td>0.003398</td>\n",
       "      <td>3</td>\n",
       "      <td>1.000000</td>\n",
       "      <td>1.000000</td>\n",
       "      <td>1.000000</td>\n",
       "      <td>0.000000e+00</td>\n",
       "      <td>100</td>\n",
       "      <td>linear</td>\n",
       "    </tr>\n",
       "  </tbody>\n",
       "</table>\n",
       "</div>"
      ],
      "text/plain": [
       "                              params  mean_fit_time  std_fit_time  \\\n",
       "0        {'C': 0.1, 'kernel': 'rbf'}     308.369061      8.702819   \n",
       "1       {'C': 0.1, 'kernel': 'poly'}     291.262082     11.585879   \n",
       "2     {'C': 0.1, 'kernel': 'linear'}      49.869594      3.336660   \n",
       "3        {'C': 1.0, 'kernel': 'rbf'}     313.701535      8.804138   \n",
       "4       {'C': 1.0, 'kernel': 'poly'}     279.247259      6.617895   \n",
       "5     {'C': 1.0, 'kernel': 'linear'}      51.039631      3.784847   \n",
       "6       {'C': 20.0, 'kernel': 'rbf'}     318.811352     10.993538   \n",
       "7      {'C': 20.0, 'kernel': 'poly'}     273.386728      8.622309   \n",
       "8    {'C': 20.0, 'kernel': 'linear'}      51.538848      3.339830   \n",
       "9      {'C': 100.0, 'kernel': 'rbf'}     291.251503     35.140097   \n",
       "10    {'C': 100.0, 'kernel': 'poly'}     271.313107     10.035025   \n",
       "11  {'C': 100.0, 'kernel': 'linear'}      46.764995      1.784051   \n",
       "\n",
       "    mean_score_time  std_score_time  split0_test_score  split1_test_score  \\\n",
       "0         56.811756        0.690229           0.631437           0.631463   \n",
       "1         49.855733        1.102404           0.631437           0.631463   \n",
       "2          7.730680        0.330571           0.975102           0.980298   \n",
       "3         52.670144        1.671675           0.631437           0.631463   \n",
       "4         46.138575        0.086304           0.631437           0.631463   \n",
       "5          7.793320        0.440717           0.973603           0.980498   \n",
       "6         54.507265        2.195584           0.631437           0.631463   \n",
       "7         47.079418        1.577512           0.631437           0.631463   \n",
       "8          8.123403        0.236409           0.973603           0.980398   \n",
       "9         48.511955        6.780016           0.703530           0.843684   \n",
       "10        45.053710        0.665126           0.631437           0.631463   \n",
       "11         6.819942        0.834878           0.973603           0.980398   \n",
       "\n",
       "    mean_test_score  std_test_score  rank_test_score  split0_train_score  \\\n",
       "0           0.63145        0.000013                6            0.631463   \n",
       "1           0.63145        0.000013                6            0.631463   \n",
       "2           0.97770        0.002598                1            0.997500   \n",
       "3           0.63145        0.000013                6            0.631463   \n",
       "4           0.63145        0.000013                6            0.631463   \n",
       "5           0.97705        0.003448                2            1.000000   \n",
       "6           0.63145        0.000013                6            0.631463   \n",
       "7           0.63145        0.000013                6            0.631463   \n",
       "8           0.97700        0.003398                3            1.000000   \n",
       "9           0.77360        0.070077                5            0.807781   \n",
       "10          0.63145        0.000013                6            0.631463   \n",
       "11          0.97700        0.003398                3            1.000000   \n",
       "\n",
       "    split1_train_score  mean_train_score  std_train_score param_C param_kernel  \n",
       "0             0.631437          0.631450     1.314500e-05     0.1          rbf  \n",
       "1             0.631437          0.631450     1.314500e-05     0.1         poly  \n",
       "2             0.997500          0.997500     2.500000e-07     0.1       linear  \n",
       "3             0.631437          0.631450     1.314500e-05       1          rbf  \n",
       "4             0.631437          0.631450     1.314500e-05       1         poly  \n",
       "5             1.000000          1.000000     0.000000e+00       1       linear  \n",
       "6             0.631437          0.631450     1.314500e-05      20          rbf  \n",
       "7             0.631437          0.631450     1.314500e-05      20         poly  \n",
       "8             1.000000          1.000000     0.000000e+00      20       linear  \n",
       "9             0.787321          0.797551     1.022976e-02     100          rbf  \n",
       "10            0.631437          0.631450     1.314500e-05     100         poly  \n",
       "11            1.000000          1.000000     0.000000e+00     100       linear  "
      ]
     },
     "execution_count": 119,
     "metadata": {},
     "output_type": "execute_result"
    }
   ],
   "source": [
    "pd.DataFrame(grid_search.cv_results_)"
   ]
  },
  {
   "cell_type": "markdown",
   "metadata": {},
   "source": [
    "The choosen parameters are C = 0.1 and kernel = linear"
   ]
  },
  {
   "cell_type": "code",
   "execution_count": 120,
   "metadata": {},
   "outputs": [
    {
     "data": {
      "text/plain": [
       "{'C': 0.1, 'kernel': 'linear'}"
      ]
     },
     "execution_count": 120,
     "metadata": {},
     "output_type": "execute_result"
    }
   ],
   "source": [
    "grid_search.best_params_"
   ]
  },
  {
   "cell_type": "code",
   "execution_count": 121,
   "metadata": {
    "scrolled": true
   },
   "outputs": [
    {
     "data": {
      "text/plain": [
       "SVC(C=0.1, cache_size=200, class_weight=None, coef0=0.0,\n",
       "  decision_function_shape='ovr', degree=3, gamma='auto', kernel='linear',\n",
       "  max_iter=-1, probability=True, random_state=0, shrinking=True, tol=0.001,\n",
       "  verbose=False)"
      ]
     },
     "execution_count": 121,
     "metadata": {},
     "output_type": "execute_result"
    }
   ],
   "source": [
    "grid_search.best_estimator_"
   ]
  },
  {
   "cell_type": "markdown",
   "metadata": {},
   "source": [
    "Here we try to predict the quality of some random urls and rank the goodness of the results "
   ]
  },
  {
   "cell_type": "code",
   "execution_count": 140,
   "metadata": {},
   "outputs": [
    {
     "name": "stdout",
     "output_type": "stream",
     "text": [
      "CPU times: user 17.6 s, sys: 411 µs, total: 17.6 s\n",
      "Wall time: 17.6 s\n"
     ]
    }
   ],
   "source": [
    "%time result = grid_search.predict(x_test[25])"
   ]
  },
  {
   "cell_type": "code",
   "execution_count": 143,
   "metadata": {},
   "outputs": [
    {
     "name": "stdout",
     "output_type": "stream",
     "text": [
      "              precision    recall  f1-score   support\n",
      "\n",
      "        -1.0       0.98      0.98      0.98     13097\n",
      "         1.0       0.95      0.97      0.96      6903\n",
      "\n",
      "   micro avg       0.97      0.97      0.97     20000\n",
      "   macro avg       0.97      0.97      0.97     20000\n",
      "weighted avg       0.97      0.97      0.97     20000\n",
      "\n"
     ]
    }
   ],
   "source": [
    "print(classification_report(y_test[25], result))"
   ]
  },
  {
   "cell_type": "code",
   "execution_count": 154,
   "metadata": {},
   "outputs": [
    {
     "data": {
      "image/png": "[encoded data removed]",
      "text/plain": [
       "<Figure size 432x288 with 2 Axes>"
      ]
     },
     "metadata": {
      "needs_background": "light"
     },
     "output_type": "display_data"
    }
   ],
   "source": [
    "plot_classification_report(classification_report(y_test[25], result))"
   ]
  },
  {
   "cell_type": "code",
   "execution_count": 124,
   "metadata": {},
   "outputs": [
    {
     "name": "stdout",
     "output_type": "stream",
     "text": [
      "Normalized confusion matrix\n",
      "[[0.97579598 0.02420402]\n",
      " [0.0318702  0.9681298 ]]\n"
     ]
    },
    {
     "data": {
      "text/plain": [
       "<matplotlib.axes._subplots.AxesSubplot at 0x7f4840a8c390>"
      ]
     },
     "execution_count": 124,
     "metadata": {},
     "output_type": "execute_result"
    },
    {
     "data": {
      "image/png": "[encoded data removed]",
      "text/plain": [
       "<Figure size 432x288 with 2 Axes>"
      ]
     },
     "metadata": {
      "needs_background": "light"
     },
     "output_type": "display_data"
    }
   ],
   "source": [
    "plot_confusion_matrix(y_test[25], result, ('good','bad'), normalize=True)"
   ]
  },
  {
   "cell_type": "code",
   "execution_count": 155,
   "metadata": {},
   "outputs": [],
   "source": [
    "pred = grid_search.predict(x_test[27])"
   ]
  },
  {
   "cell_type": "code",
   "execution_count": 134,
   "metadata": {},
   "outputs": [
    {
     "name": "stdout",
     "output_type": "stream",
     "text": [
      "              precision    recall  f1-score   support\n",
      "\n",
      "        -1.0       0.98      0.99      0.99     13578\n",
      "         1.0       0.97      0.97      0.97      6422\n",
      "\n",
      "   micro avg       0.98      0.98      0.98     20000\n",
      "   macro avg       0.98      0.98      0.98     20000\n",
      "weighted avg       0.98      0.98      0.98     20000\n",
      "\n"
     ]
    }
   ],
   "source": [
    "print(classification_report(y_test[27], pred))"
   ]
  },
  {
   "cell_type": "code",
   "execution_count": 156,
   "metadata": {},
   "outputs": [
    {
     "data": {
      "image/png": "[encoded data removed]",
      "text/plain": [
       "<Figure size 432x288 with 2 Axes>"
      ]
     },
     "metadata": {
      "needs_background": "light"
     },
     "output_type": "display_data"
    }
   ],
   "source": [
    "plot_classification_report(classification_report(y_test[27], pred))"
   ]
  },
  {
   "cell_type": "code",
   "execution_count": 135,
   "metadata": {},
   "outputs": [
    {
     "name": "stdout",
     "output_type": "stream",
     "text": [
      "Normalized confusion matrix\n",
      "[[0.98652232 0.01347768]\n",
      " [0.03207723 0.96792277]]\n"
     ]
    },
    {
     "data": {
      "text/plain": [
       "<matplotlib.axes._subplots.AxesSubplot at 0x7f4838ff29e8>"
      ]
     },
     "execution_count": 135,
     "metadata": {},
     "output_type": "execute_result"
    },
    {
     "data": {
      "image/png": "[encoded data removed]",
      "text/plain": [
       "<Figure size 432x288 with 2 Axes>"
      ]
     },
     "metadata": {
      "needs_background": "light"
     },
     "output_type": "display_data"
    }
   ],
   "source": [
    "plot_confusion_matrix(y_test[27], pred, ('good','bad'), normalize=True)"
   ]
  },
  {
   "cell_type": "code",
   "execution_count": 157,
   "metadata": {},
   "outputs": [],
   "source": [
    "index = random_index(x_test)\n",
    "pred = grid_search.predict(x_test[index])"
   ]
  },
  {
   "cell_type": "code",
   "execution_count": 137,
   "metadata": {},
   "outputs": [
    {
     "name": "stdout",
     "output_type": "stream",
     "text": [
      "              precision    recall  f1-score   support\n",
      "\n",
      "        -1.0       0.98      0.97      0.97     13555\n",
      "         1.0       0.94      0.95      0.95      6445\n",
      "\n",
      "   micro avg       0.96      0.96      0.96     20000\n",
      "   macro avg       0.96      0.96      0.96     20000\n",
      "weighted avg       0.97      0.96      0.96     20000\n",
      "\n"
     ]
    }
   ],
   "source": [
    "print(classification_report(y_test[index], pred))"
   ]
  },
  {
   "cell_type": "code",
   "execution_count": 158,
   "metadata": {},
   "outputs": [
    {
     "data": {
      "image/png": "[encoded data removed]",
      "text/plain": [
       "<Figure size 432x288 with 2 Axes>"
      ]
     },
     "metadata": {
      "needs_background": "light"
     },
     "output_type": "display_data"
    }
   ],
   "source": [
    "plot_classification_report(classification_report(y_test[index], pred))"
   ]
  },
  {
   "cell_type": "code",
   "execution_count": 138,
   "metadata": {
    "scrolled": true
   },
   "outputs": [
    {
     "name": "stdout",
     "output_type": "stream",
     "text": [
      "Normalized confusion matrix\n",
      "[[0.97248248 0.02751752]\n",
      " [0.05089216 0.94910784]]\n"
     ]
    },
    {
     "data": {
      "text/plain": [
       "<matplotlib.axes._subplots.AxesSubplot at 0x7f4838da3c18>"
      ]
     },
     "execution_count": 138,
     "metadata": {},
     "output_type": "execute_result"
    },
    {
     "data": {
      "image/png": "[encoded data removed]",
      "text/plain": [
       "<Figure size 432x288 with 2 Axes>"
      ]
     },
     "metadata": {
      "needs_background": "light"
     },
     "output_type": "display_data"
    }
   ],
   "source": [
    "plot_confusion_matrix(y_test[index], pred, ('good','bad'), normalize=True)"
   ]
  },
  {
   "cell_type": "markdown",
   "metadata": {},
   "source": [
    "So we can see, looking to the classification reports and the confusion matrixes, that the model is good trained and is able to predict the quality of random URLs with very low error rates"
   ]
  },
  {
   "cell_type": "markdown",
   "metadata": {},
   "source": [
    "## Test on decomposed data"
   ]
  },
  {
   "cell_type": "markdown",
   "metadata": {},
   "source": [
    "Here instead we try to apply SVM on dimensionally reducted data and see if the model is equally able to predict the quality of the URLs with a very low error score in a shorter time. Since we are dealing with sparse attributes we can not compute PCA to reduce the dimension of our dataset, instead we will use the Truncated SVD model which is a particular kind of PCA, used to reduce the dimension of sparse data."
   ]
  },
  {
   "cell_type": "markdown",
   "metadata": {},
   "source": [
    "### Truncated SVD"
   ]
  },
  {
   "cell_type": "code",
   "execution_count": 164,
   "metadata": {},
   "outputs": [],
   "source": [
    "from sklearn.decomposition import TruncatedSVD"
   ]
  },
  {
   "cell_type": "markdown",
   "metadata": {},
   "source": [
    "Lets first plot the data for day 0 with a 2 components decomposition"
   ]
  },
  {
   "cell_type": "code",
   "execution_count": 165,
   "metadata": {},
   "outputs": [],
   "source": [
    "day0 = TruncatedSVD().fit_transform(x[0])"
   ]
  },
  {
   "cell_type": "code",
   "execution_count": 163,
   "metadata": {
    "scrolled": true
   },
   "outputs": [
    {
     "data": {
      "image/png": "[encoded data removed]",
      "text/plain": [
       "<Figure size 432x288 with 2 Axes>"
      ]
     },
     "metadata": {
      "needs_background": "light"
     },
     "output_type": "display_data"
    }
   ],
   "source": [
    "plt.scatter(day0[:, 0], day0[:, 1],\n",
    "            c=y[0], edgecolor='none', alpha=0.5,\n",
    "            cmap=plt.cm.get_cmap('bwr', 10))\n",
    "plt.xlabel('component 1')\n",
    "plt.ylabel('component 2')\n",
    "plt.colorbar();"
   ]
  },
  {
   "cell_type": "markdown",
   "metadata": {},
   "source": [
    "Since Truncated SVD is a model very complex computationally we are not able to reduce the dataset of only few components. Instead what we want to see is that, keeping only few components, we are able to explain much of the variance of the original dataset. For this test we are projecting our original dataset on a space made of only 25 eigenvectors."
   ]
  },
  {
   "cell_type": "code",
   "execution_count": 29,
   "metadata": {},
   "outputs": [],
   "source": [
    "svd = TruncatedSVD(n_components=25).fit(x[0])"
   ]
  },
  {
   "cell_type": "code",
   "execution_count": 32,
   "metadata": {},
   "outputs": [
    {
     "name": "stdout",
     "output_type": "stream",
     "text": [
      "Cumulative explained variance: 0.46161455754368325\n"
     ]
    },
    {
     "data": {
      "image/png": "[encoded data removed]",
      "text/plain": [
       "<Figure size 432x288 with 1 Axes>"
      ]
     },
     "metadata": {
      "needs_background": "light"
     },
     "output_type": "display_data"
    }
   ],
   "source": [
    "print(\"Cumulative explained variance:\",sum(svd.explained_variance_ratio_))\n",
    "plt.plot(np.cumsum(svd.explained_variance_ratio_))\n",
    "plt.xlabel('number of components')\n",
    "plt.ylabel('cumulative explained variance');"
   ]
  },
  {
   "cell_type": "markdown",
   "metadata": {},
   "source": [
    "Almost 45% of the original variance for day 0 is explained by these new components"
   ]
  },
  {
   "cell_type": "code",
   "execution_count": 166,
   "metadata": {},
   "outputs": [],
   "source": [
    "mem_svd = Memory('./cache_svd')"
   ]
  },
  {
   "cell_type": "code",
   "execution_count": 167,
   "metadata": {},
   "outputs": [],
   "source": [
    "#Save the result of the decomposition on a cache file, so that the future calls are faster\n",
    "@mem_svd.cache\n",
    "def get_svd_array(dataset):\n",
    "    svd = TruncatedSVD(n_components=25)\n",
    "    svd_dataset = np.array([svd.fit_transform(day) for day in dataset])\n",
    "    return svd_dataset"
   ]
  },
  {
   "cell_type": "code",
   "execution_count": 168,
   "metadata": {},
   "outputs": [],
   "source": [
    "svd_x = get_svd_array(x)"
   ]
  },
  {
   "cell_type": "code",
   "execution_count": 169,
   "metadata": {
    "scrolled": true
   },
   "outputs": [
    {
     "name": "stdout",
     "output_type": "stream",
     "text": [
      "Total dataset size:\n",
      "n_samples: 2380000\n",
      "n_features: 25\n",
      "n_classes: 2\n"
     ]
    }
   ],
   "source": [
    "n_samples = len(svd_x) * svd_x[0].shape[0]\n",
    "n_features = svd_x[0].shape[1]\n",
    "n_classes = len(np.unique(y[0]))\n",
    "\n",
    "print(\"Total dataset size:\")\n",
    "print(\"n_samples: %d\" % n_samples)\n",
    "print(\"n_features: %d\" % n_features)\n",
    "print(\"n_classes: %d\" % n_classes)"
   ]
  },
  {
   "cell_type": "markdown",
   "metadata": {},
   "source": [
    "Again here we split our dataset in training and testing and run the SVM classification on these data. We are using the same parameters for the SVM as before, since putting C=1 lets the model train for a time larger then before, making our analysis useless."
   ]
  },
  {
   "cell_type": "code",
   "execution_count": 170,
   "metadata": {
    "scrolled": true
   },
   "outputs": [
    {
     "name": "stderr",
     "output_type": "stream",
     "text": [
      "/home/giordano/anaconda3/envs/da2019/lib/python3.6/site-packages/sklearn/model_selection/_split.py:2179: FutureWarning: From version 0.21, test_size will always complement train_size unless both are specified.\n",
      "  FutureWarning)\n"
     ]
    }
   ],
   "source": [
    "x_train, x_test, y_train, y_test = train_test_split(svd_x, y, train_size=0.3)"
   ]
  },
  {
   "cell_type": "code",
   "execution_count": 87,
   "metadata": {},
   "outputs": [],
   "source": [
    "estimator = svm.SVC(C=0.1, kernel='linear', gamma='auto', random_state=0, probability=True)"
   ]
  },
  {
   "cell_type": "code",
   "execution_count": 88,
   "metadata": {
    "scrolled": true
   },
   "outputs": [
    {
     "name": "stdout",
     "output_type": "stream",
     "text": [
      "CPU times: user 14.1 s, sys: 6.85 ms, total: 14.1 s\n",
      "Wall time: 14.1 s\n"
     ]
    },
    {
     "data": {
      "text/plain": [
       "SVC(C=0.1, cache_size=200, class_weight=None, coef0=0.0,\n",
       "  decision_function_shape='ovr', degree=3, gamma='auto', kernel='linear',\n",
       "  max_iter=-1, probability=True, random_state=0, shrinking=True, tol=0.001,\n",
       "  verbose=False)"
      ]
     },
     "execution_count": 88,
     "metadata": {},
     "output_type": "execute_result"
    }
   ],
   "source": [
    "%time estimator.fit(x_train[0], y_train[0])"
   ]
  },
  {
   "cell_type": "code",
   "execution_count": 89,
   "metadata": {},
   "outputs": [],
   "source": [
    "pred = estimator.predict(x_test[0])"
   ]
  },
  {
   "cell_type": "code",
   "execution_count": 90,
   "metadata": {},
   "outputs": [
    {
     "name": "stdout",
     "output_type": "stream",
     "text": [
      "              precision    recall  f1-score   support\n",
      "\n",
      "        good       0.81      0.72      0.76     15255\n",
      "         bad       0.34      0.46      0.39      4745\n",
      "\n",
      "   micro avg       0.66      0.66      0.66     20000\n",
      "   macro avg       0.58      0.59      0.58     20000\n",
      "weighted avg       0.70      0.66      0.67     20000\n",
      "\n"
     ]
    }
   ],
   "source": [
    "print(classification_report(y_test[0], pred, target_names=['good', 'bad']))"
   ]
  },
  {
   "cell_type": "code",
   "execution_count": 91,
   "metadata": {},
   "outputs": [
    {
     "name": "stdout",
     "output_type": "stream",
     "text": [
      "Normalized confusion matrix\n",
      "[[0.72081285 0.27918715]\n",
      " [0.53972603 0.46027397]]\n"
     ]
    },
    {
     "data": {
      "text/plain": [
       "<matplotlib.axes._subplots.AxesSubplot at 0x7f4841056cf8>"
      ]
     },
     "execution_count": 91,
     "metadata": {},
     "output_type": "execute_result"
    },
    {
     "data": {
      "image/png": "[encoded data removed]",
      "text/plain": [
       "<Figure size 432x288 with 2 Axes>"
      ]
     },
     "metadata": {
      "needs_background": "light"
     },
     "output_type": "display_data"
    }
   ],
   "source": [
    "plot_confusion_matrix(y_test[0], pred, ('good','bad'), normalize=True)"
   ]
  },
  {
   "cell_type": "code",
   "execution_count": 92,
   "metadata": {},
   "outputs": [],
   "source": [
    "pred = estimator.predict(x_test[1])"
   ]
  },
  {
   "cell_type": "code",
   "execution_count": 93,
   "metadata": {
    "scrolled": true
   },
   "outputs": [
    {
     "name": "stdout",
     "output_type": "stream",
     "text": [
      "              precision    recall  f1-score   support\n",
      "\n",
      "        good       0.65      0.74      0.69     12244\n",
      "         bad       0.47      0.37      0.42      7756\n",
      "\n",
      "   micro avg       0.60      0.60      0.60     20000\n",
      "   macro avg       0.56      0.56      0.55     20000\n",
      "weighted avg       0.58      0.60      0.58     20000\n",
      "\n"
     ]
    }
   ],
   "source": [
    "print(classification_report(y_test[1], pred, target_names=['good', 'bad']))"
   ]
  },
  {
   "cell_type": "code",
   "execution_count": 94,
   "metadata": {},
   "outputs": [
    {
     "name": "stdout",
     "output_type": "stream",
     "text": [
      "Normalized confusion matrix\n",
      "[[0.73725907 0.26274093]\n",
      " [0.62661166 0.37338834]]\n"
     ]
    },
    {
     "data": {
      "text/plain": [
       "<matplotlib.axes._subplots.AxesSubplot at 0x7f48411bfa58>"
      ]
     },
     "execution_count": 94,
     "metadata": {},
     "output_type": "execute_result"
    },
    {
     "data": {
      "image/png": "[encoded data removed]",
      "text/plain": [
       "<Figure size 432x288 with 2 Axes>"
      ]
     },
     "metadata": {
      "needs_background": "light"
     },
     "output_type": "display_data"
    }
   ],
   "source": [
    "plot_confusion_matrix(y_test[1], pred, ('good','bad'), normalize=True)"
   ]
  },
  {
   "cell_type": "code",
   "execution_count": 112,
   "metadata": {},
   "outputs": [],
   "source": [
    "index = random_index(x_train, 0)\n",
    "pred = estimator.predict(x_test[5])"
   ]
  },
  {
   "cell_type": "code",
   "execution_count": 113,
   "metadata": {},
   "outputs": [
    {
     "name": "stdout",
     "output_type": "stream",
     "text": [
      "              precision    recall  f1-score   support\n",
      "\n",
      "        good       0.81      0.81      0.81     14266\n",
      "         bad       0.53      0.54      0.54      5734\n",
      "\n",
      "   micro avg       0.73      0.73      0.73     20000\n",
      "   macro avg       0.67      0.68      0.67     20000\n",
      "weighted avg       0.73      0.73      0.73     20000\n",
      "\n",
      "Normalized confusion matrix\n",
      "[[0.81094911 0.18905089]\n",
      " [0.46076038 0.53923962]]\n"
     ]
    },
    {
     "data": {
      "text/plain": [
       "<matplotlib.axes._subplots.AxesSubplot at 0x7f4840b70898>"
      ]
     },
     "execution_count": 113,
     "metadata": {},
     "output_type": "execute_result"
    },
    {
     "data": {
      "image/png": "[encoded data removed]",
      "text/plain": [
       "<Figure size 432x288 with 2 Axes>"
      ]
     },
     "metadata": {
      "needs_background": "light"
     },
     "output_type": "display_data"
    }
   ],
   "source": [
    "print(classification_report(y_test[5], pred, target_names=['good', 'bad']))\n",
    "plot_confusion_matrix(y_test[5], pred, ('good','bad'), normalize=True)"
   ]
  },
  {
   "cell_type": "markdown",
   "metadata": {},
   "source": [
    "So here we can see that, although the model requires a very little time for training and testing, he is not able to predict the quality of an URL with the same accuracy as before"
   ]
  },
  {
   "cell_type": "markdown",
   "metadata": {},
   "source": [
    "## Conclusions"
   ]
  },
  {
   "cell_type": "markdown",
   "metadata": {},
   "source": [
    "<div>In this project we have analyzed the behaviour of the SVM classification model on a very huge dataset. \n",
    "Sampling is the only way to manage these data, since is impossible for us to do computations on the entire dataset at the same time.</div> \n",
    "<div>\n",
    "Training and testing the model on 20000 random samples of the raw data is a bit heavy computationally but gives us a very good model for predicting the quality of an URL.\n",
    "</div>\n",
    "<div>\n",
    "Instead applying the model on a 25 component decomposed dataset is more easy computationally but gives us a model which is not very good in predict the quality of an URL. The bad accuracy of the model can be explained by the low amount of eigenvectors used to project the original data, in fact they explain only less than the 50% of the original variance of the dataset. If we had more computational power to compute more eigenvectors, the quality of the model would have increased.</div>"
   ]
  },
  {
   "cell_type": "code",
   "execution_count": null,
   "metadata": {},
   "outputs": [],
   "source": []
  }
 ],
 "metadata": {
  "kernelspec": {
   "display_name": "Python 3",
   "language": "python",
   "name": "python3"
  },
  "language_info": {
   "codemirror_mode": {
    "name": "ipython",
    "version": 3
   },
   "file_extension": ".py",
   "mimetype": "text/x-python",
   "name": "python",
   "nbconvert_exporter": "python",
   "pygments_lexer": "ipython3",
   "version": "3.6.8"
  }
 },
 "nbformat": 4,
 "nbformat_minor": 2
}
