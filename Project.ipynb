{
 "cells": [
  {
   "cell_type": "code",
   "execution_count": 1,
   "metadata": {},
   "outputs": [],
   "source": [
    "from joblib import Memory\n",
    "from sklearn import svm\n",
    "import sklearn.datasets as sd\n",
    "import scipy.sparse as sparse"
   ]
  },
  {
   "cell_type": "code",
   "execution_count": 2,
   "metadata": {},
   "outputs": [],
   "source": [
    "import matplotlib.pyplot as plt\n",
    "import h5py\n",
    "import numpy as np"
   ]
  },
  {
   "cell_type": "code",
   "execution_count": 3,
   "metadata": {},
   "outputs": [
    {
     "data": {
      "text/plain": [
       "<dask.config.set at 0x7ff0d69a3518>"
      ]
     },
     "execution_count": 3,
     "metadata": {},
     "output_type": "execute_result"
    }
   ],
   "source": [
    "#import dask\n",
    "#import dask.array as da\n",
    "#dask.config.set(scheduler='threads')"
   ]
  },
  {
   "cell_type": "code",
   "execution_count": 4,
   "metadata": {},
   "outputs": [],
   "source": [
    "from sklearn.model_selection import GridSearchCV\n",
    "from dask_ml.wrappers import Incremental\n",
    "from sklearn.linear_model import SGDClassifier"
   ]
  },
  {
   "cell_type": "code",
   "execution_count": 5,
   "metadata": {},
   "outputs": [],
   "source": [
    "filelist = [\"./url_svmlight/Day%s.svm\" % i for i in range(0,121)]"
   ]
  },
  {
   "cell_type": "markdown",
   "metadata": {},
   "source": [
    "## Import file using sklearn datasets"
   ]
  },
  {
   "cell_type": "code",
   "execution_count": 6,
   "metadata": {},
   "outputs": [],
   "source": [
    "mem = Memory(\"./cache\")"
   ]
  },
  {
   "cell_type": "code",
   "execution_count": 7,
   "metadata": {},
   "outputs": [],
   "source": [
    "@mem.cache\n",
    "def get_data():\n",
    "    data = sd.load_svmlight_files(filelist)\n",
    "    return data"
   ]
  },
  {
   "cell_type": "code",
   "execution_count": 8,
   "metadata": {
    "scrolled": true
   },
   "outputs": [],
   "source": [
    "data = get_data()"
   ]
  },
  {
   "cell_type": "code",
   "execution_count": 28,
   "metadata": {},
   "outputs": [],
   "source": [
    "days = np.array([(data[i], data[i+1]) for i in range(0, len(data)) if i%2==0])"
   ]
  },
  {
   "cell_type": "code",
   "execution_count": 29,
   "metadata": {},
   "outputs": [
    {
     "data": {
      "text/plain": [
       "array([[<16000x3231961 sparse matrix of type '<class 'numpy.float64'>'\n",
       "\twith 1847536 stored elements in Compressed Sparse Row format>,\n",
       "        array([-1., -1., -1., ..., -1., -1.,  1.])],\n",
       "       [<20000x3231961 sparse matrix of type '<class 'numpy.float64'>'\n",
       "\twith 2304202 stored elements in Compressed Sparse Row format>,\n",
       "        array([-1., -1., -1., ..., -1., -1., -1.])],\n",
       "       [<20000x3231961 sparse matrix of type '<class 'numpy.float64'>'\n",
       "\twith 2300129 stored elements in Compressed Sparse Row format>,\n",
       "        array([-1., -1.,  1., ...,  1.,  1.,  1.])],\n",
       "       [<20000x3231961 sparse matrix of type '<class 'numpy.float64'>'\n",
       "\twith 2302278 stored elements in Compressed Sparse Row format>,\n",
       "        array([ 1.,  1.,  1., ...,  1., -1., -1.])],\n",
       "       [<20000x3231961 sparse matrix of type '<class 'numpy.float64'>'\n",
       "\twith 2298268 stored elements in Compressed Sparse Row format>,\n",
       "        array([-1.,  1.,  1., ..., -1.,  1.,  1.])],\n",
       "       [<20000x3231961 sparse matrix of type '<class 'numpy.float64'>'\n",
       "\twith 2305094 stored elements in Compressed Sparse Row format>,\n",
       "        array([-1.,  1.,  1., ...,  1., -1., -1.])],\n",
       "       [<20000x3231961 sparse matrix of type '<class 'numpy.float64'>'\n",
       "\twith 2318747 stored elements in Compressed Sparse Row format>,\n",
       "        array([-1., -1., -1., ..., -1., -1.,  1.])],\n",
       "       [<20000x3231961 sparse matrix of type '<class 'numpy.float64'>'\n",
       "\twith 2350415 stored elements in Compressed Sparse Row format>,\n",
       "        array([-1., -1.,  1., ...,  1., -1., -1.])],\n",
       "       [<20000x3231961 sparse matrix of type '<class 'numpy.float64'>'\n",
       "\twith 2323814 stored elements in Compressed Sparse Row format>,\n",
       "        array([ 1., -1., -1., ...,  1., -1., -1.])],\n",
       "       [<20000x3231961 sparse matrix of type '<class 'numpy.float64'>'\n",
       "\twith 2323209 stored elements in Compressed Sparse Row format>,\n",
       "        array([-1., -1., -1., ...,  1., -1., -1.])],\n",
       "       [<20000x3231961 sparse matrix of type '<class 'numpy.float64'>'\n",
       "\twith 2313933 stored elements in Compressed Sparse Row format>,\n",
       "        array([-1., -1.,  1., ..., -1.,  1.,  1.])],\n",
       "       [<20000x3231961 sparse matrix of type '<class 'numpy.float64'>'\n",
       "\twith 2313039 stored elements in Compressed Sparse Row format>,\n",
       "        array([-1., -1., -1., ...,  1.,  1., -1.])],\n",
       "       [<20000x3231961 sparse matrix of type '<class 'numpy.float64'>'\n",
       "\twith 2300858 stored elements in Compressed Sparse Row format>,\n",
       "        array([-1., -1., -1., ..., -1., -1., -1.])],\n",
       "       [<20000x3231961 sparse matrix of type '<class 'numpy.float64'>'\n",
       "\twith 2262174 stored elements in Compressed Sparse Row format>,\n",
       "        array([-1.,  1.,  1., ...,  1., -1., -1.])],\n",
       "       [<20000x3231961 sparse matrix of type '<class 'numpy.float64'>'\n",
       "\twith 2275293 stored elements in Compressed Sparse Row format>,\n",
       "        array([-1.,  1., -1., ...,  1., -1., -1.])],\n",
       "       [<20000x3231961 sparse matrix of type '<class 'numpy.float64'>'\n",
       "\twith 2286674 stored elements in Compressed Sparse Row format>,\n",
       "        array([ 1.,  1.,  1., ..., -1., -1., -1.])],\n",
       "       [<20000x3231961 sparse matrix of type '<class 'numpy.float64'>'\n",
       "\twith 2297863 stored elements in Compressed Sparse Row format>,\n",
       "        array([-1.,  1., -1., ...,  1.,  1.,  1.])],\n",
       "       [<20000x3231961 sparse matrix of type '<class 'numpy.float64'>'\n",
       "\twith 2294389 stored elements in Compressed Sparse Row format>,\n",
       "        array([ 1., -1.,  1., ...,  1., -1.,  1.])],\n",
       "       [<20000x3231961 sparse matrix of type '<class 'numpy.float64'>'\n",
       "\twith 2263777 stored elements in Compressed Sparse Row format>,\n",
       "        array([ 1., -1., -1., ..., -1., -1.,  1.])],\n",
       "       [<20000x3231961 sparse matrix of type '<class 'numpy.float64'>'\n",
       "\twith 2266439 stored elements in Compressed Sparse Row format>,\n",
       "        array([-1., -1., -1., ..., -1., -1., -1.])],\n",
       "       [<20000x3231961 sparse matrix of type '<class 'numpy.float64'>'\n",
       "\twith 2326404 stored elements in Compressed Sparse Row format>,\n",
       "        array([-1., -1., -1., ..., -1., -1., -1.])],\n",
       "       [<20000x3231961 sparse matrix of type '<class 'numpy.float64'>'\n",
       "\twith 2346121 stored elements in Compressed Sparse Row format>,\n",
       "        array([-1.,  1.,  1., ..., -1., -1., -1.])],\n",
       "       [<20000x3231961 sparse matrix of type '<class 'numpy.float64'>'\n",
       "\twith 2356102 stored elements in Compressed Sparse Row format>,\n",
       "        array([-1., -1., -1., ...,  1.,  1.,  1.])],\n",
       "       [<20000x3231961 sparse matrix of type '<class 'numpy.float64'>'\n",
       "\twith 2291848 stored elements in Compressed Sparse Row format>,\n",
       "        array([-1., -1., -1., ...,  1., -1.,  1.])],\n",
       "       [<20000x3231961 sparse matrix of type '<class 'numpy.float64'>'\n",
       "\twith 2343494 stored elements in Compressed Sparse Row format>,\n",
       "        array([-1.,  1., -1., ...,  1.,  1., -1.])],\n",
       "       [<20000x3231961 sparse matrix of type '<class 'numpy.float64'>'\n",
       "\twith 2310788 stored elements in Compressed Sparse Row format>,\n",
       "        array([ 1., -1., -1., ...,  1., -1., -1.])],\n",
       "       [<20000x3231961 sparse matrix of type '<class 'numpy.float64'>'\n",
       "\twith 2085620 stored elements in Compressed Sparse Row format>,\n",
       "        array([-1., -1., -1., ..., -1.,  1., -1.])],\n",
       "       [<20000x3231961 sparse matrix of type '<class 'numpy.float64'>'\n",
       "\twith 2271101 stored elements in Compressed Sparse Row format>,\n",
       "        array([-1., -1., -1., ..., -1., -1., -1.])],\n",
       "       [<20000x3231961 sparse matrix of type '<class 'numpy.float64'>'\n",
       "\twith 2268871 stored elements in Compressed Sparse Row format>,\n",
       "        array([-1., -1., -1., ..., -1., -1., -1.])],\n",
       "       [<20000x3231961 sparse matrix of type '<class 'numpy.float64'>'\n",
       "\twith 2342325 stored elements in Compressed Sparse Row format>,\n",
       "        array([-1., -1., -1., ..., -1., -1., -1.])],\n",
       "       [<20000x3231961 sparse matrix of type '<class 'numpy.float64'>'\n",
       "\twith 2345780 stored elements in Compressed Sparse Row format>,\n",
       "        array([-1.,  1., -1., ..., -1., -1., -1.])],\n",
       "       [<20000x3231961 sparse matrix of type '<class 'numpy.float64'>'\n",
       "\twith 2333930 stored elements in Compressed Sparse Row format>,\n",
       "        array([ 1., -1., -1., ..., -1., -1.,  1.])],\n",
       "       [<20000x3231961 sparse matrix of type '<class 'numpy.float64'>'\n",
       "\twith 2331850 stored elements in Compressed Sparse Row format>,\n",
       "        array([-1.,  1.,  1., ..., -1.,  1., -1.])],\n",
       "       [<20000x3231961 sparse matrix of type '<class 'numpy.float64'>'\n",
       "\twith 2341132 stored elements in Compressed Sparse Row format>,\n",
       "        array([ 1.,  1., -1., ...,  1.,  1.,  1.])],\n",
       "       [<20000x3231961 sparse matrix of type '<class 'numpy.float64'>'\n",
       "\twith 2336599 stored elements in Compressed Sparse Row format>,\n",
       "        array([-1., -1., -1., ...,  1., -1.,  1.])],\n",
       "       [<20000x3231961 sparse matrix of type '<class 'numpy.float64'>'\n",
       "\twith 2353451 stored elements in Compressed Sparse Row format>,\n",
       "        array([-1., -1., -1., ..., -1., -1., -1.])],\n",
       "       [<20000x3231961 sparse matrix of type '<class 'numpy.float64'>'\n",
       "\twith 2334734 stored elements in Compressed Sparse Row format>,\n",
       "        array([-1.,  1.,  1., ..., -1., -1., -1.])],\n",
       "       [<20000x3231961 sparse matrix of type '<class 'numpy.float64'>'\n",
       "\twith 2336160 stored elements in Compressed Sparse Row format>,\n",
       "        array([ 1.,  1., -1., ..., -1., -1., -1.])],\n",
       "       [<20000x3231961 sparse matrix of type '<class 'numpy.float64'>'\n",
       "\twith 2374757 stored elements in Compressed Sparse Row format>,\n",
       "        array([-1., -1., -1., ...,  1.,  1.,  1.])],\n",
       "       [<20000x3231961 sparse matrix of type '<class 'numpy.float64'>'\n",
       "\twith 2363650 stored elements in Compressed Sparse Row format>,\n",
       "        array([-1., -1., -1., ...,  1., -1.,  1.])],\n",
       "       [<20000x3231961 sparse matrix of type '<class 'numpy.float64'>'\n",
       "\twith 2355553 stored elements in Compressed Sparse Row format>,\n",
       "        array([-1., -1., -1., ..., -1., -1.,  1.])],\n",
       "       [<20000x3231961 sparse matrix of type '<class 'numpy.float64'>'\n",
       "\twith 2315809 stored elements in Compressed Sparse Row format>,\n",
       "        array([ 1., -1., -1., ...,  1., -1., -1.])],\n",
       "       [<20000x3231961 sparse matrix of type '<class 'numpy.float64'>'\n",
       "\twith 2315653 stored elements in Compressed Sparse Row format>,\n",
       "        array([-1., -1., -1., ...,  1., -1., -1.])],\n",
       "       [<20000x3231961 sparse matrix of type '<class 'numpy.float64'>'\n",
       "\twith 2311644 stored elements in Compressed Sparse Row format>,\n",
       "        array([-1., -1., -1., ..., -1., -1., -1.])],\n",
       "       [<20000x3231961 sparse matrix of type '<class 'numpy.float64'>'\n",
       "\twith 2310527 stored elements in Compressed Sparse Row format>,\n",
       "        array([-1., -1., -1., ...,  1.,  1., -1.])],\n",
       "       [<130x3231961 sparse matrix of type '<class 'numpy.float64'>'\n",
       "\twith 15020 stored elements in Compressed Sparse Row format>,\n",
       "        array([-1., -1., -1., -1.,  1., -1., -1.,  1.,  1.,  1., -1., -1.,  1.,\n",
       "       -1.,  1., -1.,  1., -1., -1., -1.,  1., -1., -1.,  1., -1., -1.,\n",
       "        1., -1., -1., -1., -1., -1., -1.,  1.,  1., -1., -1.,  1.,  1.,\n",
       "       -1.,  1., -1., -1., -1.,  1., -1., -1.,  1., -1., -1., -1., -1.,\n",
       "       -1., -1., -1., -1., -1., -1., -1., -1.,  1.,  1., -1., -1.,  1.,\n",
       "       -1., -1., -1.,  1.,  1., -1., -1., -1.,  1.,  1., -1.,  1., -1.,\n",
       "       -1., -1., -1., -1., -1., -1.,  1.,  1., -1., -1., -1., -1., -1.,\n",
       "        1.,  1., -1., -1.,  1.,  1.,  1., -1., -1., -1., -1.,  1., -1.,\n",
       "       -1.,  1., -1., -1., -1., -1., -1., -1.,  1., -1.,  1., -1., -1.,\n",
       "       -1., -1., -1., -1.,  1., -1., -1.,  1.,  1.,  1., -1.,  1., -1.])],\n",
       "       [<20000x3231961 sparse matrix of type '<class 'numpy.float64'>'\n",
       "\twith 2327668 stored elements in Compressed Sparse Row format>,\n",
       "        array([-1., -1., -1., ..., -1., -1., -1.])],\n",
       "       [<20000x3231961 sparse matrix of type '<class 'numpy.float64'>'\n",
       "\twith 2337375 stored elements in Compressed Sparse Row format>,\n",
       "        array([-1.,  1.,  1., ..., -1.,  1., -1.])],\n",
       "       [<20000x3231961 sparse matrix of type '<class 'numpy.float64'>'\n",
       "\twith 2352535 stored elements in Compressed Sparse Row format>,\n",
       "        array([-1., -1., -1., ...,  1., -1., -1.])],\n",
       "       [<20000x3231961 sparse matrix of type '<class 'numpy.float64'>'\n",
       "\twith 2367071 stored elements in Compressed Sparse Row format>,\n",
       "        array([-1., -1., -1., ..., -1.,  1.,  1.])],\n",
       "       [<20000x3231961 sparse matrix of type '<class 'numpy.float64'>'\n",
       "\twith 2362283 stored elements in Compressed Sparse Row format>,\n",
       "        array([-1., -1.,  1., ..., -1., -1., -1.])],\n",
       "       [<20000x3231961 sparse matrix of type '<class 'numpy.float64'>'\n",
       "\twith 2339724 stored elements in Compressed Sparse Row format>,\n",
       "        array([-1., -1.,  1., ..., -1., -1.,  1.])],\n",
       "       [<20000x3231961 sparse matrix of type '<class 'numpy.float64'>'\n",
       "\twith 2347018 stored elements in Compressed Sparse Row format>,\n",
       "        array([-1., -1.,  1., ...,  1., -1., -1.])],\n",
       "       [<20000x3231961 sparse matrix of type '<class 'numpy.float64'>'\n",
       "\twith 2375268 stored elements in Compressed Sparse Row format>,\n",
       "        array([-1., -1., -1., ..., -1.,  1.,  1.])],\n",
       "       [<20000x3231961 sparse matrix of type '<class 'numpy.float64'>'\n",
       "\twith 2385920 stored elements in Compressed Sparse Row format>,\n",
       "        array([-1., -1., -1., ..., -1., -1., -1.])],\n",
       "       [<20000x3231961 sparse matrix of type '<class 'numpy.float64'>'\n",
       "\twith 2318742 stored elements in Compressed Sparse Row format>,\n",
       "        array([-1.,  1., -1., ..., -1., -1., -1.])],\n",
       "       [<20000x3231961 sparse matrix of type '<class 'numpy.float64'>'\n",
       "\twith 2318174 stored elements in Compressed Sparse Row format>,\n",
       "        array([ 1.,  1., -1., ..., -1., -1.,  1.])],\n",
       "       [<20000x3231961 sparse matrix of type '<class 'numpy.float64'>'\n",
       "\twith 2314036 stored elements in Compressed Sparse Row format>,\n",
       "        array([-1., -1., -1., ...,  1.,  1., -1.])],\n",
       "       [<20000x3231961 sparse matrix of type '<class 'numpy.float64'>'\n",
       "\twith 2308886 stored elements in Compressed Sparse Row format>,\n",
       "        array([-1., -1., -1., ..., -1., -1.,  1.])],\n",
       "       [<20000x3231961 sparse matrix of type '<class 'numpy.float64'>'\n",
       "\twith 2299309 stored elements in Compressed Sparse Row format>,\n",
       "        array([-1., -1., -1., ...,  1., -1.,  1.])],\n",
       "       [<20000x3231961 sparse matrix of type '<class 'numpy.float64'>'\n",
       "\twith 2292401 stored elements in Compressed Sparse Row format>,\n",
       "        array([ 1.,  1., -1., ..., -1., -1.,  1.])],\n",
       "       [<20000x3231961 sparse matrix of type '<class 'numpy.float64'>'\n",
       "\twith 2310981 stored elements in Compressed Sparse Row format>,\n",
       "        array([-1., -1., -1., ..., -1., -1.,  1.])],\n",
       "       [<20000x3231961 sparse matrix of type '<class 'numpy.float64'>'\n",
       "\twith 2350946 stored elements in Compressed Sparse Row format>,\n",
       "        array([ 1.,  1., -1., ...,  1., -1.,  1.])],\n",
       "       [<20000x3231961 sparse matrix of type '<class 'numpy.float64'>'\n",
       "\twith 2348825 stored elements in Compressed Sparse Row format>,\n",
       "        array([-1., -1., -1., ..., -1., -1., -1.])],\n",
       "       [<20000x3231961 sparse matrix of type '<class 'numpy.float64'>'\n",
       "\twith 2344814 stored elements in Compressed Sparse Row format>,\n",
       "        array([-1., -1., -1., ..., -1., -1., -1.])],\n",
       "       [<20000x3231961 sparse matrix of type '<class 'numpy.float64'>'\n",
       "\twith 2333942 stored elements in Compressed Sparse Row format>,\n",
       "        array([-1., -1.,  1., ...,  1.,  1., -1.])],\n",
       "       [<20000x3231961 sparse matrix of type '<class 'numpy.float64'>'\n",
       "\twith 2336962 stored elements in Compressed Sparse Row format>,\n",
       "        array([ 1., -1.,  1., ...,  1.,  1.,  1.])],\n",
       "       [<20000x3231961 sparse matrix of type '<class 'numpy.float64'>'\n",
       "\twith 2337580 stored elements in Compressed Sparse Row format>,\n",
       "        array([ 1., -1.,  1., ..., -1.,  1.,  1.])],\n",
       "       [<20000x3231961 sparse matrix of type '<class 'numpy.float64'>'\n",
       "\twith 2329406 stored elements in Compressed Sparse Row format>,\n",
       "        array([-1., -1.,  1., ...,  1., -1., -1.])],\n",
       "       [<20000x3231961 sparse matrix of type '<class 'numpy.float64'>'\n",
       "\twith 2364087 stored elements in Compressed Sparse Row format>,\n",
       "        array([-1., -1.,  1., ..., -1., -1.,  1.])],\n",
       "       [<20000x3231961 sparse matrix of type '<class 'numpy.float64'>'\n",
       "\twith 2336661 stored elements in Compressed Sparse Row format>,\n",
       "        array([-1.,  1.,  1., ...,  1., -1.,  1.])],\n",
       "       [<20000x3231961 sparse matrix of type '<class 'numpy.float64'>'\n",
       "\twith 2331935 stored elements in Compressed Sparse Row format>,\n",
       "        array([ 1., -1., -1., ..., -1., -1.,  1.])],\n",
       "       [<20000x3231961 sparse matrix of type '<class 'numpy.float64'>'\n",
       "\twith 2337699 stored elements in Compressed Sparse Row format>,\n",
       "        array([ 1.,  1.,  1., ..., -1., -1.,  1.])],\n",
       "       [<20000x3231961 sparse matrix of type '<class 'numpy.float64'>'\n",
       "\twith 2335832 stored elements in Compressed Sparse Row format>,\n",
       "        array([-1., -1., -1., ..., -1., -1., -1.])],\n",
       "       [<20000x3231961 sparse matrix of type '<class 'numpy.float64'>'\n",
       "\twith 2324031 stored elements in Compressed Sparse Row format>,\n",
       "        array([-1.,  1.,  1., ..., -1., -1., -1.])],\n",
       "       [<20000x3231961 sparse matrix of type '<class 'numpy.float64'>'\n",
       "\twith 2329882 stored elements in Compressed Sparse Row format>,\n",
       "        array([ 1., -1., -1., ...,  1., -1., -1.])],\n",
       "       [<20000x3231961 sparse matrix of type '<class 'numpy.float64'>'\n",
       "\twith 2292964 stored elements in Compressed Sparse Row format>,\n",
       "        array([-1.,  1.,  1., ...,  1.,  1.,  1.])],\n",
       "       [<20000x3231961 sparse matrix of type '<class 'numpy.float64'>'\n",
       "\twith 2272097 stored elements in Compressed Sparse Row format>,\n",
       "        array([-1., -1., -1., ...,  1., -1.,  1.])],\n",
       "       [<20000x3231961 sparse matrix of type '<class 'numpy.float64'>'\n",
       "\twith 2284450 stored elements in Compressed Sparse Row format>,\n",
       "        array([-1.,  1., -1., ..., -1., -1., -1.])],\n",
       "       [<20000x3231961 sparse matrix of type '<class 'numpy.float64'>'\n",
       "\twith 2277027 stored elements in Compressed Sparse Row format>,\n",
       "        array([-1., -1.,  1., ..., -1., -1., -1.])],\n",
       "       [<20000x3231961 sparse matrix of type '<class 'numpy.float64'>'\n",
       "\twith 2277490 stored elements in Compressed Sparse Row format>,\n",
       "        array([-1., -1.,  1., ...,  1.,  1., -1.])],\n",
       "       [<20000x3231961 sparse matrix of type '<class 'numpy.float64'>'\n",
       "\twith 2298819 stored elements in Compressed Sparse Row format>,\n",
       "        array([-1., -1., -1., ..., -1., -1.,  1.])],\n",
       "       [<20000x3231961 sparse matrix of type '<class 'numpy.float64'>'\n",
       "\twith 2291807 stored elements in Compressed Sparse Row format>,\n",
       "        array([ 1.,  1., -1., ..., -1.,  1.,  1.])],\n",
       "       [<20000x3231961 sparse matrix of type '<class 'numpy.float64'>'\n",
       "\twith 2289321 stored elements in Compressed Sparse Row format>,\n",
       "        array([-1., -1., -1., ...,  1., -1., -1.])],\n",
       "       [<20000x3231961 sparse matrix of type '<class 'numpy.float64'>'\n",
       "\twith 2312341 stored elements in Compressed Sparse Row format>,\n",
       "        array([ 1.,  1., -1., ...,  1., -1., -1.])],\n",
       "       [<20000x3231961 sparse matrix of type '<class 'numpy.float64'>'\n",
       "\twith 2299624 stored elements in Compressed Sparse Row format>,\n",
       "        array([-1., -1., -1., ..., -1.,  1.,  1.])],\n",
       "       [<20000x3231961 sparse matrix of type '<class 'numpy.float64'>'\n",
       "\twith 2326550 stored elements in Compressed Sparse Row format>,\n",
       "        array([-1., -1., -1., ...,  1., -1., -1.])],\n",
       "       [<20000x3231961 sparse matrix of type '<class 'numpy.float64'>'\n",
       "\twith 2325339 stored elements in Compressed Sparse Row format>,\n",
       "        array([-1.,  1., -1., ..., -1., -1., -1.])],\n",
       "       [<20000x3231961 sparse matrix of type '<class 'numpy.float64'>'\n",
       "\twith 2317878 stored elements in Compressed Sparse Row format>,\n",
       "        array([ 1.,  1.,  1., ..., -1., -1., -1.])],\n",
       "       [<20000x3231961 sparse matrix of type '<class 'numpy.float64'>'\n",
       "\twith 2288475 stored elements in Compressed Sparse Row format>,\n",
       "        array([ 1.,  1.,  1., ..., -1., -1.,  1.])],\n",
       "       [<20000x3231961 sparse matrix of type '<class 'numpy.float64'>'\n",
       "\twith 2287225 stored elements in Compressed Sparse Row format>,\n",
       "        array([ 1.,  1., -1., ...,  1., -1., -1.])],\n",
       "       [<20000x3231961 sparse matrix of type '<class 'numpy.float64'>'\n",
       "\twith 2272444 stored elements in Compressed Sparse Row format>,\n",
       "        array([ 1.,  1.,  1., ...,  1., -1.,  1.])],\n",
       "       [<20000x3231961 sparse matrix of type '<class 'numpy.float64'>'\n",
       "\twith 2289585 stored elements in Compressed Sparse Row format>,\n",
       "        array([ 1.,  1.,  1., ...,  1., -1., -1.])],\n",
       "       [<20000x3231961 sparse matrix of type '<class 'numpy.float64'>'\n",
       "\twith 2282518 stored elements in Compressed Sparse Row format>,\n",
       "        array([ 1.,  1.,  1., ..., -1.,  1.,  1.])],\n",
       "       [<20000x3231961 sparse matrix of type '<class 'numpy.float64'>'\n",
       "\twith 2296394 stored elements in Compressed Sparse Row format>,\n",
       "        array([ 1.,  1.,  1., ..., -1.,  1.,  1.])],\n",
       "       [<20000x3231961 sparse matrix of type '<class 'numpy.float64'>'\n",
       "\twith 2346194 stored elements in Compressed Sparse Row format>,\n",
       "        array([ 1.,  1.,  1., ..., -1., -1., -1.])],\n",
       "       [<20000x3231961 sparse matrix of type '<class 'numpy.float64'>'\n",
       "\twith 2326696 stored elements in Compressed Sparse Row format>,\n",
       "        array([-1., -1., -1., ..., -1.,  1.,  1.])],\n",
       "       [<20000x3231961 sparse matrix of type '<class 'numpy.float64'>'\n",
       "\twith 2376178 stored elements in Compressed Sparse Row format>,\n",
       "        array([-1.,  1., -1., ...,  1.,  1.,  1.])],\n",
       "       [<20000x3231961 sparse matrix of type '<class 'numpy.float64'>'\n",
       "\twith 2305369 stored elements in Compressed Sparse Row format>,\n",
       "        array([ 1., -1., -1., ..., -1., -1.,  1.])],\n",
       "       [<20000x3231961 sparse matrix of type '<class 'numpy.float64'>'\n",
       "\twith 2360941 stored elements in Compressed Sparse Row format>,\n",
       "        array([ 1.,  1., -1., ..., -1., -1., -1.])],\n",
       "       [<20000x3231961 sparse matrix of type '<class 'numpy.float64'>'\n",
       "\twith 2355785 stored elements in Compressed Sparse Row format>,\n",
       "        array([ 1.,  1., -1., ..., -1.,  1., -1.])],\n",
       "       [<20000x3231961 sparse matrix of type '<class 'numpy.float64'>'\n",
       "\twith 2340800 stored elements in Compressed Sparse Row format>,\n",
       "        array([ 1.,  1., -1., ..., -1., -1., -1.])],\n",
       "       [<20000x3231961 sparse matrix of type '<class 'numpy.float64'>'\n",
       "\twith 2350258 stored elements in Compressed Sparse Row format>,\n",
       "        array([ 1.,  1.,  1., ...,  1.,  1., -1.])],\n",
       "       [<20000x3231961 sparse matrix of type '<class 'numpy.float64'>'\n",
       "\twith 2327751 stored elements in Compressed Sparse Row format>,\n",
       "        array([ 1.,  1.,  1., ..., -1.,  1., -1.])],\n",
       "       [<20000x3231961 sparse matrix of type '<class 'numpy.float64'>'\n",
       "\twith 2262535 stored elements in Compressed Sparse Row format>,\n",
       "        array([ 1., -1., -1., ...,  1.,  1., -1.])],\n",
       "       [<20000x3231961 sparse matrix of type '<class 'numpy.float64'>'\n",
       "\twith 2275360 stored elements in Compressed Sparse Row format>,\n",
       "        array([ 1., -1.,  1., ..., -1., -1.,  1.])],\n",
       "       [<20000x3231961 sparse matrix of type '<class 'numpy.float64'>'\n",
       "\twith 2259781 stored elements in Compressed Sparse Row format>,\n",
       "        array([ 1., -1., -1., ..., -1., -1., -1.])],\n",
       "       [<20000x3231961 sparse matrix of type '<class 'numpy.float64'>'\n",
       "\twith 2248372 stored elements in Compressed Sparse Row format>,\n",
       "        array([ 1.,  1., -1., ..., -1.,  1., -1.])],\n",
       "       [<20000x3231961 sparse matrix of type '<class 'numpy.float64'>'\n",
       "\twith 2290760 stored elements in Compressed Sparse Row format>,\n",
       "        array([ 1., -1.,  1., ...,  1.,  1., -1.])],\n",
       "       [<20000x3231961 sparse matrix of type '<class 'numpy.float64'>'\n",
       "\twith 2251949 stored elements in Compressed Sparse Row format>,\n",
       "        array([-1.,  1., -1., ..., -1.,  1., -1.])],\n",
       "       [<20000x3231961 sparse matrix of type '<class 'numpy.float64'>'\n",
       "\twith 2245868 stored elements in Compressed Sparse Row format>,\n",
       "        array([ 1.,  1.,  1., ...,  1., -1., -1.])],\n",
       "       [<20000x3231961 sparse matrix of type '<class 'numpy.float64'>'\n",
       "\twith 2311224 stored elements in Compressed Sparse Row format>,\n",
       "        array([-1., -1., -1., ..., -1., -1., -1.])],\n",
       "       [<20000x3231961 sparse matrix of type '<class 'numpy.float64'>'\n",
       "\twith 2278792 stored elements in Compressed Sparse Row format>,\n",
       "        array([ 1.,  1.,  1., ..., -1., -1., -1.])],\n",
       "       [<20000x3231961 sparse matrix of type '<class 'numpy.float64'>'\n",
       "\twith 2283634 stored elements in Compressed Sparse Row format>,\n",
       "        array([ 1.,  1., -1., ..., -1., -1., -1.])],\n",
       "       [<20000x3231961 sparse matrix of type '<class 'numpy.float64'>'\n",
       "\twith 2339028 stored elements in Compressed Sparse Row format>,\n",
       "        array([-1., -1., -1., ..., -1.,  1., -1.])],\n",
       "       [<20000x3231961 sparse matrix of type '<class 'numpy.float64'>'\n",
       "\twith 2276463 stored elements in Compressed Sparse Row format>,\n",
       "        array([ 1., -1., -1., ...,  1.,  1., -1.])],\n",
       "       [<20000x3231961 sparse matrix of type '<class 'numpy.float64'>'\n",
       "\twith 2303165 stored elements in Compressed Sparse Row format>,\n",
       "        array([ 1., -1., -1., ..., -1., -1., -1.])],\n",
       "       [<20000x3231961 sparse matrix of type '<class 'numpy.float64'>'\n",
       "\twith 2275257 stored elements in Compressed Sparse Row format>,\n",
       "        array([ 1.,  1.,  1., ...,  1.,  1., -1.])],\n",
       "       [<20000x3231961 sparse matrix of type '<class 'numpy.float64'>'\n",
       "\twith 2261819 stored elements in Compressed Sparse Row format>,\n",
       "        array([-1.,  1., -1., ...,  1.,  1.,  1.])],\n",
       "       [<20000x3231961 sparse matrix of type '<class 'numpy.float64'>'\n",
       "\twith 2253014 stored elements in Compressed Sparse Row format>,\n",
       "        array([ 1., -1., -1., ..., -1.,  1., -1.])],\n",
       "       [<20000x3231961 sparse matrix of type '<class 'numpy.float64'>'\n",
       "\twith 2302256 stored elements in Compressed Sparse Row format>,\n",
       "        array([ 1.,  1.,  1., ...,  1., -1., -1.])]], dtype=object)"
      ]
     },
     "execution_count": 29,
     "metadata": {},
     "output_type": "execute_result"
    }
   ],
   "source": [
    "days"
   ]
  },
  {
   "cell_type": "code",
   "execution_count": 10,
   "metadata": {
    "scrolled": true
   },
   "outputs": [
    {
     "data": {
      "text/plain": [
       "121"
      ]
     },
     "execution_count": 10,
     "metadata": {},
     "output_type": "execute_result"
    }
   ],
   "source": [
    "len(days)"
   ]
  },
  {
   "cell_type": "code",
   "execution_count": null,
   "metadata": {},
   "outputs": [],
   "source": [
    "#da_days = da.from_array(days, chunks=(7000, 7000))"
   ]
  },
  {
   "cell_type": "markdown",
   "metadata": {},
   "source": [
    "# Testing all days"
   ]
  },
  {
   "cell_type": "code",
   "execution_count": 12,
   "metadata": {},
   "outputs": [],
   "source": [
    "totalurls = np.empty(0)\n",
    "\n",
    "for day in days:\n",
    "    totalurls =np.append(totalurls, day[1])"
   ]
  },
  {
   "cell_type": "code",
   "execution_count": 15,
   "metadata": {},
   "outputs": [
    {
     "data": {
      "text/plain": [
       "array([-1., -1., -1., ...,  1., -1., -1.])"
      ]
     },
     "execution_count": 15,
     "metadata": {},
     "output_type": "execute_result"
    }
   ],
   "source": [
    "totalurls"
   ]
  },
  {
   "cell_type": "code",
   "execution_count": 16,
   "metadata": {
    "scrolled": true
   },
   "outputs": [
    {
     "data": {
      "image/png": "[encoded data removed]",
      "text/plain": [
       "<Figure size 432x288 with 1 Axes>"
      ]
     },
     "metadata": {
      "needs_background": "light"
     },
     "output_type": "display_data"
    }
   ],
   "source": [
    "plt.hist(totalurls, 100)\n",
    "plt.xlabel(\"Total days URLs\", fontdict={'fontsize': 14, 'family': 'monospace'})\n",
    "plt.show()"
   ]
  },
  {
   "cell_type": "markdown",
   "metadata": {},
   "source": [
    "<h6> Merge all the attributes into a single numpy matrix so that we can do all the analysis on it </h6>"
   ]
  },
  {
   "cell_type": "code",
   "execution_count": 37,
   "metadata": {},
   "outputs": [],
   "source": [
    "#totalattr = [da.from_array(day[0], chunks=5000) for day in days]"
   ]
  },
  {
   "cell_type": "code",
   "execution_count": 38,
   "metadata": {},
   "outputs": [
    {
     "data": {
      "text/plain": [
       "[dask.array<array, shape=(16000, 3231961), dtype=float64, chunksize=(5000, 5000)>,\n",
       " dask.array<array, shape=(20000, 3231961), dtype=float64, chunksize=(5000, 5000)>,\n",
       " dask.array<array, shape=(20000, 3231961), dtype=float64, chunksize=(5000, 5000)>,\n",
       " dask.array<array, shape=(20000, 3231961), dtype=float64, chunksize=(5000, 5000)>,\n",
       " dask.array<array, shape=(20000, 3231961), dtype=float64, chunksize=(5000, 5000)>,\n",
       " dask.array<array, shape=(20000, 3231961), dtype=float64, chunksize=(5000, 5000)>,\n",
       " dask.array<array, shape=(20000, 3231961), dtype=float64, chunksize=(5000, 5000)>,\n",
       " dask.array<array, shape=(20000, 3231961), dtype=float64, chunksize=(5000, 5000)>,\n",
       " dask.array<array, shape=(20000, 3231961), dtype=float64, chunksize=(5000, 5000)>,\n",
       " dask.array<array, shape=(20000, 3231961), dtype=float64, chunksize=(5000, 5000)>,\n",
       " dask.array<array, shape=(20000, 3231961), dtype=float64, chunksize=(5000, 5000)>,\n",
       " dask.array<array, shape=(20000, 3231961), dtype=float64, chunksize=(5000, 5000)>,\n",
       " dask.array<array, shape=(20000, 3231961), dtype=float64, chunksize=(5000, 5000)>,\n",
       " dask.array<array, shape=(20000, 3231961), dtype=float64, chunksize=(5000, 5000)>,\n",
       " dask.array<array, shape=(20000, 3231961), dtype=float64, chunksize=(5000, 5000)>,\n",
       " dask.array<array, shape=(20000, 3231961), dtype=float64, chunksize=(5000, 5000)>,\n",
       " dask.array<array, shape=(20000, 3231961), dtype=float64, chunksize=(5000, 5000)>,\n",
       " dask.array<array, shape=(20000, 3231961), dtype=float64, chunksize=(5000, 5000)>,\n",
       " dask.array<array, shape=(20000, 3231961), dtype=float64, chunksize=(5000, 5000)>,\n",
       " dask.array<array, shape=(20000, 3231961), dtype=float64, chunksize=(5000, 5000)>,\n",
       " dask.array<array, shape=(20000, 3231961), dtype=float64, chunksize=(5000, 5000)>,\n",
       " dask.array<array, shape=(20000, 3231961), dtype=float64, chunksize=(5000, 5000)>,\n",
       " dask.array<array, shape=(20000, 3231961), dtype=float64, chunksize=(5000, 5000)>,\n",
       " dask.array<array, shape=(20000, 3231961), dtype=float64, chunksize=(5000, 5000)>,\n",
       " dask.array<array, shape=(20000, 3231961), dtype=float64, chunksize=(5000, 5000)>,\n",
       " dask.array<array, shape=(20000, 3231961), dtype=float64, chunksize=(5000, 5000)>,\n",
       " dask.array<array, shape=(20000, 3231961), dtype=float64, chunksize=(5000, 5000)>,\n",
       " dask.array<array, shape=(20000, 3231961), dtype=float64, chunksize=(5000, 5000)>,\n",
       " dask.array<array, shape=(20000, 3231961), dtype=float64, chunksize=(5000, 5000)>,\n",
       " dask.array<array, shape=(20000, 3231961), dtype=float64, chunksize=(5000, 5000)>,\n",
       " dask.array<array, shape=(20000, 3231961), dtype=float64, chunksize=(5000, 5000)>,\n",
       " dask.array<array, shape=(20000, 3231961), dtype=float64, chunksize=(5000, 5000)>,\n",
       " dask.array<array, shape=(20000, 3231961), dtype=float64, chunksize=(5000, 5000)>,\n",
       " dask.array<array, shape=(20000, 3231961), dtype=float64, chunksize=(5000, 5000)>,\n",
       " dask.array<array, shape=(20000, 3231961), dtype=float64, chunksize=(5000, 5000)>,\n",
       " dask.array<array, shape=(20000, 3231961), dtype=float64, chunksize=(5000, 5000)>,\n",
       " dask.array<array, shape=(20000, 3231961), dtype=float64, chunksize=(5000, 5000)>,\n",
       " dask.array<array, shape=(20000, 3231961), dtype=float64, chunksize=(5000, 5000)>,\n",
       " dask.array<array, shape=(20000, 3231961), dtype=float64, chunksize=(5000, 5000)>,\n",
       " dask.array<array, shape=(20000, 3231961), dtype=float64, chunksize=(5000, 5000)>,\n",
       " dask.array<array, shape=(20000, 3231961), dtype=float64, chunksize=(5000, 5000)>,\n",
       " dask.array<array, shape=(20000, 3231961), dtype=float64, chunksize=(5000, 5000)>,\n",
       " dask.array<array, shape=(20000, 3231961), dtype=float64, chunksize=(5000, 5000)>,\n",
       " dask.array<array, shape=(20000, 3231961), dtype=float64, chunksize=(5000, 5000)>,\n",
       " dask.array<array, shape=(20000, 3231961), dtype=float64, chunksize=(5000, 5000)>,\n",
       " dask.array<array, shape=(130, 3231961), dtype=float64, chunksize=(130, 5000)>,\n",
       " dask.array<array, shape=(20000, 3231961), dtype=float64, chunksize=(5000, 5000)>,\n",
       " dask.array<array, shape=(20000, 3231961), dtype=float64, chunksize=(5000, 5000)>,\n",
       " dask.array<array, shape=(20000, 3231961), dtype=float64, chunksize=(5000, 5000)>,\n",
       " dask.array<array, shape=(20000, 3231961), dtype=float64, chunksize=(5000, 5000)>,\n",
       " dask.array<array, shape=(20000, 3231961), dtype=float64, chunksize=(5000, 5000)>,\n",
       " dask.array<array, shape=(20000, 3231961), dtype=float64, chunksize=(5000, 5000)>,\n",
       " dask.array<array, shape=(20000, 3231961), dtype=float64, chunksize=(5000, 5000)>,\n",
       " dask.array<array, shape=(20000, 3231961), dtype=float64, chunksize=(5000, 5000)>,\n",
       " dask.array<array, shape=(20000, 3231961), dtype=float64, chunksize=(5000, 5000)>,\n",
       " dask.array<array, shape=(20000, 3231961), dtype=float64, chunksize=(5000, 5000)>,\n",
       " dask.array<array, shape=(20000, 3231961), dtype=float64, chunksize=(5000, 5000)>,\n",
       " dask.array<array, shape=(20000, 3231961), dtype=float64, chunksize=(5000, 5000)>,\n",
       " dask.array<array, shape=(20000, 3231961), dtype=float64, chunksize=(5000, 5000)>,\n",
       " dask.array<array, shape=(20000, 3231961), dtype=float64, chunksize=(5000, 5000)>,\n",
       " dask.array<array, shape=(20000, 3231961), dtype=float64, chunksize=(5000, 5000)>,\n",
       " dask.array<array, shape=(20000, 3231961), dtype=float64, chunksize=(5000, 5000)>,\n",
       " dask.array<array, shape=(20000, 3231961), dtype=float64, chunksize=(5000, 5000)>,\n",
       " dask.array<array, shape=(20000, 3231961), dtype=float64, chunksize=(5000, 5000)>,\n",
       " dask.array<array, shape=(20000, 3231961), dtype=float64, chunksize=(5000, 5000)>,\n",
       " dask.array<array, shape=(20000, 3231961), dtype=float64, chunksize=(5000, 5000)>,\n",
       " dask.array<array, shape=(20000, 3231961), dtype=float64, chunksize=(5000, 5000)>,\n",
       " dask.array<array, shape=(20000, 3231961), dtype=float64, chunksize=(5000, 5000)>,\n",
       " dask.array<array, shape=(20000, 3231961), dtype=float64, chunksize=(5000, 5000)>,\n",
       " dask.array<array, shape=(20000, 3231961), dtype=float64, chunksize=(5000, 5000)>,\n",
       " dask.array<array, shape=(20000, 3231961), dtype=float64, chunksize=(5000, 5000)>,\n",
       " dask.array<array, shape=(20000, 3231961), dtype=float64, chunksize=(5000, 5000)>,\n",
       " dask.array<array, shape=(20000, 3231961), dtype=float64, chunksize=(5000, 5000)>,\n",
       " dask.array<array, shape=(20000, 3231961), dtype=float64, chunksize=(5000, 5000)>,\n",
       " dask.array<array, shape=(20000, 3231961), dtype=float64, chunksize=(5000, 5000)>,\n",
       " dask.array<array, shape=(20000, 3231961), dtype=float64, chunksize=(5000, 5000)>,\n",
       " dask.array<array, shape=(20000, 3231961), dtype=float64, chunksize=(5000, 5000)>,\n",
       " dask.array<array, shape=(20000, 3231961), dtype=float64, chunksize=(5000, 5000)>,\n",
       " dask.array<array, shape=(20000, 3231961), dtype=float64, chunksize=(5000, 5000)>,\n",
       " dask.array<array, shape=(20000, 3231961), dtype=float64, chunksize=(5000, 5000)>,\n",
       " dask.array<array, shape=(20000, 3231961), dtype=float64, chunksize=(5000, 5000)>,\n",
       " dask.array<array, shape=(20000, 3231961), dtype=float64, chunksize=(5000, 5000)>,\n",
       " dask.array<array, shape=(20000, 3231961), dtype=float64, chunksize=(5000, 5000)>,\n",
       " dask.array<array, shape=(20000, 3231961), dtype=float64, chunksize=(5000, 5000)>,\n",
       " dask.array<array, shape=(20000, 3231961), dtype=float64, chunksize=(5000, 5000)>,\n",
       " dask.array<array, shape=(20000, 3231961), dtype=float64, chunksize=(5000, 5000)>,\n",
       " dask.array<array, shape=(20000, 3231961), dtype=float64, chunksize=(5000, 5000)>,\n",
       " dask.array<array, shape=(20000, 3231961), dtype=float64, chunksize=(5000, 5000)>,\n",
       " dask.array<array, shape=(20000, 3231961), dtype=float64, chunksize=(5000, 5000)>,\n",
       " dask.array<array, shape=(20000, 3231961), dtype=float64, chunksize=(5000, 5000)>,\n",
       " dask.array<array, shape=(20000, 3231961), dtype=float64, chunksize=(5000, 5000)>,\n",
       " dask.array<array, shape=(20000, 3231961), dtype=float64, chunksize=(5000, 5000)>,\n",
       " dask.array<array, shape=(20000, 3231961), dtype=float64, chunksize=(5000, 5000)>,\n",
       " dask.array<array, shape=(20000, 3231961), dtype=float64, chunksize=(5000, 5000)>,\n",
       " dask.array<array, shape=(20000, 3231961), dtype=float64, chunksize=(5000, 5000)>,\n",
       " dask.array<array, shape=(20000, 3231961), dtype=float64, chunksize=(5000, 5000)>,\n",
       " dask.array<array, shape=(20000, 3231961), dtype=float64, chunksize=(5000, 5000)>,\n",
       " dask.array<array, shape=(20000, 3231961), dtype=float64, chunksize=(5000, 5000)>,\n",
       " dask.array<array, shape=(20000, 3231961), dtype=float64, chunksize=(5000, 5000)>,\n",
       " dask.array<array, shape=(20000, 3231961), dtype=float64, chunksize=(5000, 5000)>,\n",
       " dask.array<array, shape=(20000, 3231961), dtype=float64, chunksize=(5000, 5000)>,\n",
       " dask.array<array, shape=(20000, 3231961), dtype=float64, chunksize=(5000, 5000)>,\n",
       " dask.array<array, shape=(20000, 3231961), dtype=float64, chunksize=(5000, 5000)>,\n",
       " dask.array<array, shape=(20000, 3231961), dtype=float64, chunksize=(5000, 5000)>,\n",
       " dask.array<array, shape=(20000, 3231961), dtype=float64, chunksize=(5000, 5000)>,\n",
       " dask.array<array, shape=(20000, 3231961), dtype=float64, chunksize=(5000, 5000)>,\n",
       " dask.array<array, shape=(20000, 3231961), dtype=float64, chunksize=(5000, 5000)>,\n",
       " dask.array<array, shape=(20000, 3231961), dtype=float64, chunksize=(5000, 5000)>,\n",
       " dask.array<array, shape=(20000, 3231961), dtype=float64, chunksize=(5000, 5000)>,\n",
       " dask.array<array, shape=(20000, 3231961), dtype=float64, chunksize=(5000, 5000)>,\n",
       " dask.array<array, shape=(20000, 3231961), dtype=float64, chunksize=(5000, 5000)>,\n",
       " dask.array<array, shape=(20000, 3231961), dtype=float64, chunksize=(5000, 5000)>,\n",
       " dask.array<array, shape=(20000, 3231961), dtype=float64, chunksize=(5000, 5000)>,\n",
       " dask.array<array, shape=(20000, 3231961), dtype=float64, chunksize=(5000, 5000)>,\n",
       " dask.array<array, shape=(20000, 3231961), dtype=float64, chunksize=(5000, 5000)>,\n",
       " dask.array<array, shape=(20000, 3231961), dtype=float64, chunksize=(5000, 5000)>,\n",
       " dask.array<array, shape=(20000, 3231961), dtype=float64, chunksize=(5000, 5000)>,\n",
       " dask.array<array, shape=(20000, 3231961), dtype=float64, chunksize=(5000, 5000)>,\n",
       " dask.array<array, shape=(20000, 3231961), dtype=float64, chunksize=(5000, 5000)>,\n",
       " dask.array<array, shape=(20000, 3231961), dtype=float64, chunksize=(5000, 5000)>,\n",
       " dask.array<array, shape=(20000, 3231961), dtype=float64, chunksize=(5000, 5000)>]"
      ]
     },
     "execution_count": 38,
     "metadata": {},
     "output_type": "execute_result"
    }
   ],
   "source": [
    "#totalattr"
   ]
  },
  {
   "cell_type": "markdown",
   "metadata": {},
   "source": [
    "<h6>We remove the only to elements with a different shape, since they will complicate our analysis </h6>"
   ]
  },
  {
   "cell_type": "code",
   "execution_count": 39,
   "metadata": {},
   "outputs": [
    {
     "name": "stdout",
     "output_type": "stream",
     "text": [
      "0\n",
      "45\n"
     ]
    }
   ],
   "source": [
    "#for i in range(0, len(totalattr)):\n",
    "#    if totalattr[i].shape != (20000, 3231961):\n",
    "#        print(i)"
   ]
  },
  {
   "cell_type": "code",
   "execution_count": 40,
   "metadata": {},
   "outputs": [
    {
     "data": {
      "text/plain": [
       "dask.array<array, shape=(16000, 3231961), dtype=float64, chunksize=(5000, 5000)>"
      ]
     },
     "execution_count": 40,
     "metadata": {},
     "output_type": "execute_result"
    }
   ],
   "source": [
    "#totalattr.pop(0)"
   ]
  },
  {
   "cell_type": "code",
   "execution_count": 41,
   "metadata": {},
   "outputs": [
    {
     "data": {
      "text/plain": [
       "dask.array<array, shape=(130, 3231961), dtype=float64, chunksize=(130, 5000)>"
      ]
     },
     "execution_count": 41,
     "metadata": {},
     "output_type": "execute_result"
    }
   ],
   "source": [
    "#totalattr.pop(44)"
   ]
  },
  {
   "cell_type": "code",
   "execution_count": 42,
   "metadata": {},
   "outputs": [
    {
     "data": {
      "text/plain": [
       "119"
      ]
     },
     "execution_count": 42,
     "metadata": {},
     "output_type": "execute_result"
    }
   ],
   "source": [
    "#len(totalattr)"
   ]
  },
  {
   "cell_type": "code",
   "execution_count": 43,
   "metadata": {},
   "outputs": [],
   "source": [
    "#for i in range(0, len(totalattr)):\n",
    "#    if totalattr[i].shape != (20000, 3231961):\n",
    "#        print(i)"
   ]
  },
  {
   "cell_type": "markdown",
   "metadata": {},
   "source": [
    "## SVM"
   ]
  },
  {
   "cell_type": "code",
   "execution_count": 11,
   "metadata": {},
   "outputs": [],
   "source": [
    "from dask_ml.model_selection import GridSearchCV"
   ]
  },
  {
   "cell_type": "code",
   "execution_count": 34,
   "metadata": {},
   "outputs": [],
   "source": [
    "estimator = svm.SVC(gamma='auto', random_state=0, probability=True)\n",
    "\n",
    "param_grid = {\n",
    "    'C': [0.1, 1.0, 20.0, 100.0],\n",
    "    'kernel': ['rbf', 'poly', 'linear'],\n",
    "}\n",
    "\n",
    "grid_search = GridSearchCV(estimator, param_grid, n_jobs=-1, cv=2)"
   ]
  },
  {
   "cell_type": "code",
   "execution_count": 33,
   "metadata": {},
   "outputs": [],
   "source": [
    "trainingset = days[:60]"
   ]
  },
  {
   "cell_type": "code",
   "execution_count": 30,
   "metadata": {},
   "outputs": [
    {
     "data": {
      "text/plain": [
       "array([[<16000x3231961 sparse matrix of type '<class 'numpy.float64'>'\n",
       "\twith 1847536 stored elements in Compressed Sparse Row format>,\n",
       "        array([-1., -1., -1., ..., -1., -1.,  1.])],\n",
       "       [<20000x3231961 sparse matrix of type '<class 'numpy.float64'>'\n",
       "\twith 2304202 stored elements in Compressed Sparse Row format>,\n",
       "        array([-1., -1., -1., ..., -1., -1., -1.])],\n",
       "       [<20000x3231961 sparse matrix of type '<class 'numpy.float64'>'\n",
       "\twith 2300129 stored elements in Compressed Sparse Row format>,\n",
       "        array([-1., -1.,  1., ...,  1.,  1.,  1.])],\n",
       "       [<20000x3231961 sparse matrix of type '<class 'numpy.float64'>'\n",
       "\twith 2302278 stored elements in Compressed Sparse Row format>,\n",
       "        array([ 1.,  1.,  1., ...,  1., -1., -1.])],\n",
       "       [<20000x3231961 sparse matrix of type '<class 'numpy.float64'>'\n",
       "\twith 2298268 stored elements in Compressed Sparse Row format>,\n",
       "        array([-1.,  1.,  1., ..., -1.,  1.,  1.])],\n",
       "       [<20000x3231961 sparse matrix of type '<class 'numpy.float64'>'\n",
       "\twith 2305094 stored elements in Compressed Sparse Row format>,\n",
       "        array([-1.,  1.,  1., ...,  1., -1., -1.])],\n",
       "       [<20000x3231961 sparse matrix of type '<class 'numpy.float64'>'\n",
       "\twith 2318747 stored elements in Compressed Sparse Row format>,\n",
       "        array([-1., -1., -1., ..., -1., -1.,  1.])],\n",
       "       [<20000x3231961 sparse matrix of type '<class 'numpy.float64'>'\n",
       "\twith 2350415 stored elements in Compressed Sparse Row format>,\n",
       "        array([-1., -1.,  1., ...,  1., -1., -1.])],\n",
       "       [<20000x3231961 sparse matrix of type '<class 'numpy.float64'>'\n",
       "\twith 2323814 stored elements in Compressed Sparse Row format>,\n",
       "        array([ 1., -1., -1., ...,  1., -1., -1.])],\n",
       "       [<20000x3231961 sparse matrix of type '<class 'numpy.float64'>'\n",
       "\twith 2323209 stored elements in Compressed Sparse Row format>,\n",
       "        array([-1., -1., -1., ...,  1., -1., -1.])],\n",
       "       [<20000x3231961 sparse matrix of type '<class 'numpy.float64'>'\n",
       "\twith 2313933 stored elements in Compressed Sparse Row format>,\n",
       "        array([-1., -1.,  1., ..., -1.,  1.,  1.])],\n",
       "       [<20000x3231961 sparse matrix of type '<class 'numpy.float64'>'\n",
       "\twith 2313039 stored elements in Compressed Sparse Row format>,\n",
       "        array([-1., -1., -1., ...,  1.,  1., -1.])],\n",
       "       [<20000x3231961 sparse matrix of type '<class 'numpy.float64'>'\n",
       "\twith 2300858 stored elements in Compressed Sparse Row format>,\n",
       "        array([-1., -1., -1., ..., -1., -1., -1.])],\n",
       "       [<20000x3231961 sparse matrix of type '<class 'numpy.float64'>'\n",
       "\twith 2262174 stored elements in Compressed Sparse Row format>,\n",
       "        array([-1.,  1.,  1., ...,  1., -1., -1.])],\n",
       "       [<20000x3231961 sparse matrix of type '<class 'numpy.float64'>'\n",
       "\twith 2275293 stored elements in Compressed Sparse Row format>,\n",
       "        array([-1.,  1., -1., ...,  1., -1., -1.])],\n",
       "       [<20000x3231961 sparse matrix of type '<class 'numpy.float64'>'\n",
       "\twith 2286674 stored elements in Compressed Sparse Row format>,\n",
       "        array([ 1.,  1.,  1., ..., -1., -1., -1.])],\n",
       "       [<20000x3231961 sparse matrix of type '<class 'numpy.float64'>'\n",
       "\twith 2297863 stored elements in Compressed Sparse Row format>,\n",
       "        array([-1.,  1., -1., ...,  1.,  1.,  1.])],\n",
       "       [<20000x3231961 sparse matrix of type '<class 'numpy.float64'>'\n",
       "\twith 2294389 stored elements in Compressed Sparse Row format>,\n",
       "        array([ 1., -1.,  1., ...,  1., -1.,  1.])],\n",
       "       [<20000x3231961 sparse matrix of type '<class 'numpy.float64'>'\n",
       "\twith 2263777 stored elements in Compressed Sparse Row format>,\n",
       "        array([ 1., -1., -1., ..., -1., -1.,  1.])],\n",
       "       [<20000x3231961 sparse matrix of type '<class 'numpy.float64'>'\n",
       "\twith 2266439 stored elements in Compressed Sparse Row format>,\n",
       "        array([-1., -1., -1., ..., -1., -1., -1.])],\n",
       "       [<20000x3231961 sparse matrix of type '<class 'numpy.float64'>'\n",
       "\twith 2326404 stored elements in Compressed Sparse Row format>,\n",
       "        array([-1., -1., -1., ..., -1., -1., -1.])],\n",
       "       [<20000x3231961 sparse matrix of type '<class 'numpy.float64'>'\n",
       "\twith 2346121 stored elements in Compressed Sparse Row format>,\n",
       "        array([-1.,  1.,  1., ..., -1., -1., -1.])],\n",
       "       [<20000x3231961 sparse matrix of type '<class 'numpy.float64'>'\n",
       "\twith 2356102 stored elements in Compressed Sparse Row format>,\n",
       "        array([-1., -1., -1., ...,  1.,  1.,  1.])],\n",
       "       [<20000x3231961 sparse matrix of type '<class 'numpy.float64'>'\n",
       "\twith 2291848 stored elements in Compressed Sparse Row format>,\n",
       "        array([-1., -1., -1., ...,  1., -1.,  1.])],\n",
       "       [<20000x3231961 sparse matrix of type '<class 'numpy.float64'>'\n",
       "\twith 2343494 stored elements in Compressed Sparse Row format>,\n",
       "        array([-1.,  1., -1., ...,  1.,  1., -1.])],\n",
       "       [<20000x3231961 sparse matrix of type '<class 'numpy.float64'>'\n",
       "\twith 2310788 stored elements in Compressed Sparse Row format>,\n",
       "        array([ 1., -1., -1., ...,  1., -1., -1.])],\n",
       "       [<20000x3231961 sparse matrix of type '<class 'numpy.float64'>'\n",
       "\twith 2085620 stored elements in Compressed Sparse Row format>,\n",
       "        array([-1., -1., -1., ..., -1.,  1., -1.])],\n",
       "       [<20000x3231961 sparse matrix of type '<class 'numpy.float64'>'\n",
       "\twith 2271101 stored elements in Compressed Sparse Row format>,\n",
       "        array([-1., -1., -1., ..., -1., -1., -1.])],\n",
       "       [<20000x3231961 sparse matrix of type '<class 'numpy.float64'>'\n",
       "\twith 2268871 stored elements in Compressed Sparse Row format>,\n",
       "        array([-1., -1., -1., ..., -1., -1., -1.])],\n",
       "       [<20000x3231961 sparse matrix of type '<class 'numpy.float64'>'\n",
       "\twith 2342325 stored elements in Compressed Sparse Row format>,\n",
       "        array([-1., -1., -1., ..., -1., -1., -1.])],\n",
       "       [<20000x3231961 sparse matrix of type '<class 'numpy.float64'>'\n",
       "\twith 2345780 stored elements in Compressed Sparse Row format>,\n",
       "        array([-1.,  1., -1., ..., -1., -1., -1.])],\n",
       "       [<20000x3231961 sparse matrix of type '<class 'numpy.float64'>'\n",
       "\twith 2333930 stored elements in Compressed Sparse Row format>,\n",
       "        array([ 1., -1., -1., ..., -1., -1.,  1.])],\n",
       "       [<20000x3231961 sparse matrix of type '<class 'numpy.float64'>'\n",
       "\twith 2331850 stored elements in Compressed Sparse Row format>,\n",
       "        array([-1.,  1.,  1., ..., -1.,  1., -1.])],\n",
       "       [<20000x3231961 sparse matrix of type '<class 'numpy.float64'>'\n",
       "\twith 2341132 stored elements in Compressed Sparse Row format>,\n",
       "        array([ 1.,  1., -1., ...,  1.,  1.,  1.])],\n",
       "       [<20000x3231961 sparse matrix of type '<class 'numpy.float64'>'\n",
       "\twith 2336599 stored elements in Compressed Sparse Row format>,\n",
       "        array([-1., -1., -1., ...,  1., -1.,  1.])],\n",
       "       [<20000x3231961 sparse matrix of type '<class 'numpy.float64'>'\n",
       "\twith 2353451 stored elements in Compressed Sparse Row format>,\n",
       "        array([-1., -1., -1., ..., -1., -1., -1.])],\n",
       "       [<20000x3231961 sparse matrix of type '<class 'numpy.float64'>'\n",
       "\twith 2334734 stored elements in Compressed Sparse Row format>,\n",
       "        array([-1.,  1.,  1., ..., -1., -1., -1.])],\n",
       "       [<20000x3231961 sparse matrix of type '<class 'numpy.float64'>'\n",
       "\twith 2336160 stored elements in Compressed Sparse Row format>,\n",
       "        array([ 1.,  1., -1., ..., -1., -1., -1.])],\n",
       "       [<20000x3231961 sparse matrix of type '<class 'numpy.float64'>'\n",
       "\twith 2374757 stored elements in Compressed Sparse Row format>,\n",
       "        array([-1., -1., -1., ...,  1.,  1.,  1.])],\n",
       "       [<20000x3231961 sparse matrix of type '<class 'numpy.float64'>'\n",
       "\twith 2363650 stored elements in Compressed Sparse Row format>,\n",
       "        array([-1., -1., -1., ...,  1., -1.,  1.])],\n",
       "       [<20000x3231961 sparse matrix of type '<class 'numpy.float64'>'\n",
       "\twith 2355553 stored elements in Compressed Sparse Row format>,\n",
       "        array([-1., -1., -1., ..., -1., -1.,  1.])],\n",
       "       [<20000x3231961 sparse matrix of type '<class 'numpy.float64'>'\n",
       "\twith 2315809 stored elements in Compressed Sparse Row format>,\n",
       "        array([ 1., -1., -1., ...,  1., -1., -1.])],\n",
       "       [<20000x3231961 sparse matrix of type '<class 'numpy.float64'>'\n",
       "\twith 2315653 stored elements in Compressed Sparse Row format>,\n",
       "        array([-1., -1., -1., ...,  1., -1., -1.])],\n",
       "       [<20000x3231961 sparse matrix of type '<class 'numpy.float64'>'\n",
       "\twith 2311644 stored elements in Compressed Sparse Row format>,\n",
       "        array([-1., -1., -1., ..., -1., -1., -1.])],\n",
       "       [<20000x3231961 sparse matrix of type '<class 'numpy.float64'>'\n",
       "\twith 2310527 stored elements in Compressed Sparse Row format>,\n",
       "        array([-1., -1., -1., ...,  1.,  1., -1.])],\n",
       "       [<130x3231961 sparse matrix of type '<class 'numpy.float64'>'\n",
       "\twith 15020 stored elements in Compressed Sparse Row format>,\n",
       "        array([-1., -1., -1., -1.,  1., -1., -1.,  1.,  1.,  1., -1., -1.,  1.,\n",
       "       -1.,  1., -1.,  1., -1., -1., -1.,  1., -1., -1.,  1., -1., -1.,\n",
       "        1., -1., -1., -1., -1., -1., -1.,  1.,  1., -1., -1.,  1.,  1.,\n",
       "       -1.,  1., -1., -1., -1.,  1., -1., -1.,  1., -1., -1., -1., -1.,\n",
       "       -1., -1., -1., -1., -1., -1., -1., -1.,  1.,  1., -1., -1.,  1.,\n",
       "       -1., -1., -1.,  1.,  1., -1., -1., -1.,  1.,  1., -1.,  1., -1.,\n",
       "       -1., -1., -1., -1., -1., -1.,  1.,  1., -1., -1., -1., -1., -1.,\n",
       "        1.,  1., -1., -1.,  1.,  1.,  1., -1., -1., -1., -1.,  1., -1.,\n",
       "       -1.,  1., -1., -1., -1., -1., -1., -1.,  1., -1.,  1., -1., -1.,\n",
       "       -1., -1., -1., -1.,  1., -1., -1.,  1.,  1.,  1., -1.,  1., -1.])],\n",
       "       [<20000x3231961 sparse matrix of type '<class 'numpy.float64'>'\n",
       "\twith 2327668 stored elements in Compressed Sparse Row format>,\n",
       "        array([-1., -1., -1., ..., -1., -1., -1.])],\n",
       "       [<20000x3231961 sparse matrix of type '<class 'numpy.float64'>'\n",
       "\twith 2337375 stored elements in Compressed Sparse Row format>,\n",
       "        array([-1.,  1.,  1., ..., -1.,  1., -1.])],\n",
       "       [<20000x3231961 sparse matrix of type '<class 'numpy.float64'>'\n",
       "\twith 2352535 stored elements in Compressed Sparse Row format>,\n",
       "        array([-1., -1., -1., ...,  1., -1., -1.])],\n",
       "       [<20000x3231961 sparse matrix of type '<class 'numpy.float64'>'\n",
       "\twith 2367071 stored elements in Compressed Sparse Row format>,\n",
       "        array([-1., -1., -1., ..., -1.,  1.,  1.])],\n",
       "       [<20000x3231961 sparse matrix of type '<class 'numpy.float64'>'\n",
       "\twith 2362283 stored elements in Compressed Sparse Row format>,\n",
       "        array([-1., -1.,  1., ..., -1., -1., -1.])],\n",
       "       [<20000x3231961 sparse matrix of type '<class 'numpy.float64'>'\n",
       "\twith 2339724 stored elements in Compressed Sparse Row format>,\n",
       "        array([-1., -1.,  1., ..., -1., -1.,  1.])],\n",
       "       [<20000x3231961 sparse matrix of type '<class 'numpy.float64'>'\n",
       "\twith 2347018 stored elements in Compressed Sparse Row format>,\n",
       "        array([-1., -1.,  1., ...,  1., -1., -1.])],\n",
       "       [<20000x3231961 sparse matrix of type '<class 'numpy.float64'>'\n",
       "\twith 2375268 stored elements in Compressed Sparse Row format>,\n",
       "        array([-1., -1., -1., ..., -1.,  1.,  1.])],\n",
       "       [<20000x3231961 sparse matrix of type '<class 'numpy.float64'>'\n",
       "\twith 2385920 stored elements in Compressed Sparse Row format>,\n",
       "        array([-1., -1., -1., ..., -1., -1., -1.])],\n",
       "       [<20000x3231961 sparse matrix of type '<class 'numpy.float64'>'\n",
       "\twith 2318742 stored elements in Compressed Sparse Row format>,\n",
       "        array([-1.,  1., -1., ..., -1., -1., -1.])],\n",
       "       [<20000x3231961 sparse matrix of type '<class 'numpy.float64'>'\n",
       "\twith 2318174 stored elements in Compressed Sparse Row format>,\n",
       "        array([ 1.,  1., -1., ..., -1., -1.,  1.])],\n",
       "       [<20000x3231961 sparse matrix of type '<class 'numpy.float64'>'\n",
       "\twith 2314036 stored elements in Compressed Sparse Row format>,\n",
       "        array([-1., -1., -1., ...,  1.,  1., -1.])],\n",
       "       [<20000x3231961 sparse matrix of type '<class 'numpy.float64'>'\n",
       "\twith 2308886 stored elements in Compressed Sparse Row format>,\n",
       "        array([-1., -1., -1., ..., -1., -1.,  1.])],\n",
       "       [<20000x3231961 sparse matrix of type '<class 'numpy.float64'>'\n",
       "\twith 2299309 stored elements in Compressed Sparse Row format>,\n",
       "        array([-1., -1., -1., ...,  1., -1.,  1.])]], dtype=object)"
      ]
     },
     "execution_count": 30,
     "metadata": {},
     "output_type": "execute_result"
    }
   ],
   "source": [
    "trainingset"
   ]
  },
  {
   "cell_type": "code",
   "execution_count": 15,
   "metadata": {},
   "outputs": [],
   "source": [
    "#trainingvalues = [da.from_array(day[0], chunks=5000) for day in trainingset]\n",
    "trainingvalues = np.array([day[0] for day in trainingset])"
   ]
  },
  {
   "cell_type": "code",
   "execution_count": 16,
   "metadata": {},
   "outputs": [],
   "source": [
    "#targetvalues = [da.from_array(day[1], chunks=5000) for day in trainingset]\n",
    "targetvalues = np.array([day[1] for day in trainingset])"
   ]
  },
  {
   "cell_type": "code",
   "execution_count": 17,
   "metadata": {},
   "outputs": [
    {
     "name": "stdout",
     "output_type": "stream",
     "text": [
      "0\n",
      "45\n"
     ]
    }
   ],
   "source": [
    "for i in range(0, len(trainingvalues)):\n",
    "    if trainingvalues[i].shape != (20000, 3231961):\n",
    "        print(i)"
   ]
  },
  {
   "cell_type": "code",
   "execution_count": 18,
   "metadata": {
    "scrolled": true
   },
   "outputs": [],
   "source": [
    "trainingvalues = np.delete(trainingvalues, 0)\n",
    "trainingvalues = np.delete(trainingvalues, 44)\n",
    "#trainingvalues.pop(44)\n",
    "targetvalues = np.delete(targetvalues, 0)\n",
    "targetvalues = np.delete(targetvalues, 44)\n",
    "#targetvalues.pop(44)"
   ]
  },
  {
   "cell_type": "code",
   "execution_count": 19,
   "metadata": {},
   "outputs": [],
   "source": [
    "for i in range(0, len(trainingvalues)):\n",
    "    if trainingvalues[i].shape != (20000, 3231961):\n",
    "        print(i)"
   ]
  },
  {
   "cell_type": "code",
   "execution_count": 20,
   "metadata": {},
   "outputs": [],
   "source": [
    "for i in range(0, len(targetvalues)):\n",
    "    if targetvalues[i].shape != (20000,):\n",
    "        print(i)"
   ]
  },
  {
   "cell_type": "markdown",
   "metadata": {},
   "source": [
    "## Grid search fit"
   ]
  },
  {
   "cell_type": "code",
   "execution_count": 35,
   "metadata": {
    "scrolled": false
   },
   "outputs": [
    {
     "name": "stdout",
     "output_type": "stream",
     "text": [
      "CPU times: user 1h 49min 35s, sys: 23.7 s, total: 1h 49min 58s\n",
      "Wall time: 31min 7s\n"
     ]
    },
    {
     "data": {
      "text/plain": [
       "GridSearchCV(cache_cv=True, cv=2, error_score='raise',\n",
       "       estimator=SVC(C=1.0, cache_size=200, class_weight=None, coef0=0.0,\n",
       "  decision_function_shape='ovr', degree=3, gamma='auto', kernel='rbf',\n",
       "  max_iter=-1, probability=True, random_state=0, shrinking=True, tol=0.001,\n",
       "  verbose=False),\n",
       "       iid=True, n_jobs=-1,\n",
       "       param_grid={'C': [0.1, 1.0, 20.0, 100.0], 'kernel': ['rbf', 'poly', 'linear']},\n",
       "       refit=True, return_train_score='warn', scheduler=None, scoring=None)"
      ]
     },
     "execution_count": 35,
     "metadata": {},
     "output_type": "execute_result"
    }
   ],
   "source": [
    "%time grid_search.fit(trainingvalues[0], targetvalues[0])"
   ]
  },
  {
   "cell_type": "code",
   "execution_count": 47,
   "metadata": {},
   "outputs": [],
   "source": [
    "result = grid_search.predict(days[80][0])"
   ]
  },
  {
   "cell_type": "code",
   "execution_count": 48,
   "metadata": {},
   "outputs": [
    {
     "name": "stdout",
     "output_type": "stream",
     "text": [
      "[-1. -1. -1. ...  1.  1. -1.]\n"
     ]
    }
   ],
   "source": [
    "print(result)"
   ]
  },
  {
   "cell_type": "code",
   "execution_count": 49,
   "metadata": {},
   "outputs": [
    {
     "name": "stdout",
     "output_type": "stream",
     "text": [
      "[-1. -1.  1. ...  1.  1. -1.]\n"
     ]
    }
   ],
   "source": [
    "print(days[80][1])"
   ]
  },
  {
   "cell_type": "code",
   "execution_count": 51,
   "metadata": {
    "scrolled": true
   },
   "outputs": [
    {
     "data": {
      "text/plain": [
       "0.962"
      ]
     },
     "execution_count": 51,
     "metadata": {},
     "output_type": "execute_result"
    }
   ],
   "source": [
    "grid_search.score(days[80][0], days[80][1])"
   ]
  },
  {
   "cell_type": "code",
   "execution_count": 39,
   "metadata": {},
   "outputs": [],
   "source": [
    "import pandas as pd"
   ]
  },
  {
   "cell_type": "code",
   "execution_count": 40,
   "metadata": {},
   "outputs": [
    {
     "name": "stderr",
     "output_type": "stream",
     "text": [
      "/home/giordano/anaconda3/envs/da2019/lib/python3.6/site-packages/dask_ml/model_selection/utils.py:122: FutureWarning: You are accessing a training score ('split0_train_score'), which will not be available by default any more in sklearn 0.21. If you need training scores, please set return_train_score=True\n",
      "  warnings.warn(*warn_args, **warn_kwargs)\n",
      "/home/giordano/anaconda3/envs/da2019/lib/python3.6/site-packages/dask_ml/model_selection/utils.py:122: FutureWarning: You are accessing a training score ('split1_train_score'), which will not be available by default any more in sklearn 0.21. If you need training scores, please set return_train_score=True\n",
      "  warnings.warn(*warn_args, **warn_kwargs)\n",
      "/home/giordano/anaconda3/envs/da2019/lib/python3.6/site-packages/dask_ml/model_selection/utils.py:122: FutureWarning: You are accessing a training score ('mean_train_score'), which will not be available by default any more in sklearn 0.21. If you need training scores, please set return_train_score=True\n",
      "  warnings.warn(*warn_args, **warn_kwargs)\n",
      "/home/giordano/anaconda3/envs/da2019/lib/python3.6/site-packages/dask_ml/model_selection/utils.py:122: FutureWarning: You are accessing a training score ('std_train_score'), which will not be available by default any more in sklearn 0.21. If you need training scores, please set return_train_score=True\n",
      "  warnings.warn(*warn_args, **warn_kwargs)\n"
     ]
    }
   ],
   "source": [
    "dataframe = pd.DataFrame(grid_search.cv_results_)"
   ]
  },
  {
   "cell_type": "code",
   "execution_count": 41,
   "metadata": {},
   "outputs": [
    {
     "data": {
      "text/html": [
       "<div>\n",
       "<style scoped>\n",
       "    .dataframe tbody tr th:only-of-type {\n",
       "        vertical-align: middle;\n",
       "    }\n",
       "\n",
       "    .dataframe tbody tr th {\n",
       "        vertical-align: top;\n",
       "    }\n",
       "\n",
       "    .dataframe thead th {\n",
       "        text-align: right;\n",
       "    }\n",
       "</style>\n",
       "<table border=\"1\" class=\"dataframe\">\n",
       "  <thead>\n",
       "    <tr style=\"text-align: right;\">\n",
       "      <th></th>\n",
       "      <th>params</th>\n",
       "      <th>mean_fit_time</th>\n",
       "      <th>std_fit_time</th>\n",
       "      <th>mean_score_time</th>\n",
       "      <th>std_score_time</th>\n",
       "      <th>split0_test_score</th>\n",
       "      <th>split1_test_score</th>\n",
       "      <th>mean_test_score</th>\n",
       "      <th>std_test_score</th>\n",
       "      <th>rank_test_score</th>\n",
       "      <th>split0_train_score</th>\n",
       "      <th>split1_train_score</th>\n",
       "      <th>mean_train_score</th>\n",
       "      <th>std_train_score</th>\n",
       "      <th>param_C</th>\n",
       "      <th>param_kernel</th>\n",
       "    </tr>\n",
       "  </thead>\n",
       "  <tbody>\n",
       "    <tr>\n",
       "      <th>0</th>\n",
       "      <td>{'C': 0.1, 'kernel': 'rbf'}</td>\n",
       "      <td>283.394730</td>\n",
       "      <td>0.512425</td>\n",
       "      <td>55.476513</td>\n",
       "      <td>0.801296</td>\n",
       "      <td>0.6596</td>\n",
       "      <td>0.6596</td>\n",
       "      <td>0.65960</td>\n",
       "      <td>0.00000</td>\n",
       "      <td>6</td>\n",
       "      <td>0.6596</td>\n",
       "      <td>0.6596</td>\n",
       "      <td>0.6596</td>\n",
       "      <td>0.0000</td>\n",
       "      <td>0.1</td>\n",
       "      <td>rbf</td>\n",
       "    </tr>\n",
       "    <tr>\n",
       "      <th>1</th>\n",
       "      <td>{'C': 0.1, 'kernel': 'poly'}</td>\n",
       "      <td>264.614666</td>\n",
       "      <td>2.212999</td>\n",
       "      <td>49.284485</td>\n",
       "      <td>0.636770</td>\n",
       "      <td>0.6596</td>\n",
       "      <td>0.6596</td>\n",
       "      <td>0.65960</td>\n",
       "      <td>0.00000</td>\n",
       "      <td>6</td>\n",
       "      <td>0.6596</td>\n",
       "      <td>0.6596</td>\n",
       "      <td>0.6596</td>\n",
       "      <td>0.0000</td>\n",
       "      <td>0.1</td>\n",
       "      <td>poly</td>\n",
       "    </tr>\n",
       "    <tr>\n",
       "      <th>2</th>\n",
       "      <td>{'C': 0.1, 'kernel': 'linear'}</td>\n",
       "      <td>56.675708</td>\n",
       "      <td>1.335779</td>\n",
       "      <td>8.591501</td>\n",
       "      <td>0.156480</td>\n",
       "      <td>0.9725</td>\n",
       "      <td>0.9712</td>\n",
       "      <td>0.97185</td>\n",
       "      <td>0.00065</td>\n",
       "      <td>1</td>\n",
       "      <td>0.9971</td>\n",
       "      <td>0.9955</td>\n",
       "      <td>0.9963</td>\n",
       "      <td>0.0008</td>\n",
       "      <td>0.1</td>\n",
       "      <td>linear</td>\n",
       "    </tr>\n",
       "    <tr>\n",
       "      <th>3</th>\n",
       "      <td>{'C': 1.0, 'kernel': 'rbf'}</td>\n",
       "      <td>304.632739</td>\n",
       "      <td>1.721996</td>\n",
       "      <td>53.224661</td>\n",
       "      <td>0.144333</td>\n",
       "      <td>0.6596</td>\n",
       "      <td>0.6596</td>\n",
       "      <td>0.65960</td>\n",
       "      <td>0.00000</td>\n",
       "      <td>6</td>\n",
       "      <td>0.6596</td>\n",
       "      <td>0.6596</td>\n",
       "      <td>0.6596</td>\n",
       "      <td>0.0000</td>\n",
       "      <td>1</td>\n",
       "      <td>rbf</td>\n",
       "    </tr>\n",
       "    <tr>\n",
       "      <th>4</th>\n",
       "      <td>{'C': 1.0, 'kernel': 'poly'}</td>\n",
       "      <td>269.526054</td>\n",
       "      <td>0.465220</td>\n",
       "      <td>43.615194</td>\n",
       "      <td>0.666295</td>\n",
       "      <td>0.6596</td>\n",
       "      <td>0.6596</td>\n",
       "      <td>0.65960</td>\n",
       "      <td>0.00000</td>\n",
       "      <td>6</td>\n",
       "      <td>0.6596</td>\n",
       "      <td>0.6596</td>\n",
       "      <td>0.6596</td>\n",
       "      <td>0.0000</td>\n",
       "      <td>1</td>\n",
       "      <td>poly</td>\n",
       "    </tr>\n",
       "    <tr>\n",
       "      <th>5</th>\n",
       "      <td>{'C': 1.0, 'kernel': 'linear'}</td>\n",
       "      <td>63.028136</td>\n",
       "      <td>2.584315</td>\n",
       "      <td>10.501170</td>\n",
       "      <td>0.220283</td>\n",
       "      <td>0.9711</td>\n",
       "      <td>0.9691</td>\n",
       "      <td>0.97010</td>\n",
       "      <td>0.00100</td>\n",
       "      <td>4</td>\n",
       "      <td>1.0000</td>\n",
       "      <td>1.0000</td>\n",
       "      <td>1.0000</td>\n",
       "      <td>0.0000</td>\n",
       "      <td>1</td>\n",
       "      <td>linear</td>\n",
       "    </tr>\n",
       "    <tr>\n",
       "      <th>6</th>\n",
       "      <td>{'C': 20.0, 'kernel': 'rbf'}</td>\n",
       "      <td>329.679870</td>\n",
       "      <td>1.449176</td>\n",
       "      <td>53.777318</td>\n",
       "      <td>0.312472</td>\n",
       "      <td>0.6596</td>\n",
       "      <td>0.6596</td>\n",
       "      <td>0.65960</td>\n",
       "      <td>0.00000</td>\n",
       "      <td>6</td>\n",
       "      <td>0.6596</td>\n",
       "      <td>0.6596</td>\n",
       "      <td>0.6596</td>\n",
       "      <td>0.0000</td>\n",
       "      <td>20</td>\n",
       "      <td>rbf</td>\n",
       "    </tr>\n",
       "    <tr>\n",
       "      <th>7</th>\n",
       "      <td>{'C': 20.0, 'kernel': 'poly'}</td>\n",
       "      <td>277.102170</td>\n",
       "      <td>0.443885</td>\n",
       "      <td>46.716522</td>\n",
       "      <td>0.318531</td>\n",
       "      <td>0.6596</td>\n",
       "      <td>0.6596</td>\n",
       "      <td>0.65960</td>\n",
       "      <td>0.00000</td>\n",
       "      <td>6</td>\n",
       "      <td>0.6596</td>\n",
       "      <td>0.6596</td>\n",
       "      <td>0.6596</td>\n",
       "      <td>0.0000</td>\n",
       "      <td>20</td>\n",
       "      <td>poly</td>\n",
       "    </tr>\n",
       "    <tr>\n",
       "      <th>8</th>\n",
       "      <td>{'C': 20.0, 'kernel': 'linear'}</td>\n",
       "      <td>57.399282</td>\n",
       "      <td>1.093091</td>\n",
       "      <td>8.617285</td>\n",
       "      <td>0.130812</td>\n",
       "      <td>0.9713</td>\n",
       "      <td>0.9690</td>\n",
       "      <td>0.97015</td>\n",
       "      <td>0.00115</td>\n",
       "      <td>2</td>\n",
       "      <td>1.0000</td>\n",
       "      <td>1.0000</td>\n",
       "      <td>1.0000</td>\n",
       "      <td>0.0000</td>\n",
       "      <td>20</td>\n",
       "      <td>linear</td>\n",
       "    </tr>\n",
       "    <tr>\n",
       "      <th>9</th>\n",
       "      <td>{'C': 100.0, 'kernel': 'rbf'}</td>\n",
       "      <td>323.836632</td>\n",
       "      <td>0.909477</td>\n",
       "      <td>52.142910</td>\n",
       "      <td>0.276029</td>\n",
       "      <td>0.7571</td>\n",
       "      <td>0.7605</td>\n",
       "      <td>0.75880</td>\n",
       "      <td>0.00170</td>\n",
       "      <td>5</td>\n",
       "      <td>0.7543</td>\n",
       "      <td>0.7701</td>\n",
       "      <td>0.7622</td>\n",
       "      <td>0.0079</td>\n",
       "      <td>100</td>\n",
       "      <td>rbf</td>\n",
       "    </tr>\n",
       "    <tr>\n",
       "      <th>10</th>\n",
       "      <td>{'C': 100.0, 'kernel': 'poly'}</td>\n",
       "      <td>282.361777</td>\n",
       "      <td>0.425481</td>\n",
       "      <td>44.513666</td>\n",
       "      <td>0.102478</td>\n",
       "      <td>0.6596</td>\n",
       "      <td>0.6596</td>\n",
       "      <td>0.65960</td>\n",
       "      <td>0.00000</td>\n",
       "      <td>6</td>\n",
       "      <td>0.6596</td>\n",
       "      <td>0.6596</td>\n",
       "      <td>0.6596</td>\n",
       "      <td>0.0000</td>\n",
       "      <td>100</td>\n",
       "      <td>poly</td>\n",
       "    </tr>\n",
       "    <tr>\n",
       "      <th>11</th>\n",
       "      <td>{'C': 100.0, 'kernel': 'linear'}</td>\n",
       "      <td>41.940216</td>\n",
       "      <td>0.076498</td>\n",
       "      <td>5.869366</td>\n",
       "      <td>0.231855</td>\n",
       "      <td>0.9713</td>\n",
       "      <td>0.9690</td>\n",
       "      <td>0.97015</td>\n",
       "      <td>0.00115</td>\n",
       "      <td>2</td>\n",
       "      <td>1.0000</td>\n",
       "      <td>1.0000</td>\n",
       "      <td>1.0000</td>\n",
       "      <td>0.0000</td>\n",
       "      <td>100</td>\n",
       "      <td>linear</td>\n",
       "    </tr>\n",
       "  </tbody>\n",
       "</table>\n",
       "</div>"
      ],
      "text/plain": [
       "                              params  mean_fit_time  std_fit_time  \\\n",
       "0        {'C': 0.1, 'kernel': 'rbf'}     283.394730      0.512425   \n",
       "1       {'C': 0.1, 'kernel': 'poly'}     264.614666      2.212999   \n",
       "2     {'C': 0.1, 'kernel': 'linear'}      56.675708      1.335779   \n",
       "3        {'C': 1.0, 'kernel': 'rbf'}     304.632739      1.721996   \n",
       "4       {'C': 1.0, 'kernel': 'poly'}     269.526054      0.465220   \n",
       "5     {'C': 1.0, 'kernel': 'linear'}      63.028136      2.584315   \n",
       "6       {'C': 20.0, 'kernel': 'rbf'}     329.679870      1.449176   \n",
       "7      {'C': 20.0, 'kernel': 'poly'}     277.102170      0.443885   \n",
       "8    {'C': 20.0, 'kernel': 'linear'}      57.399282      1.093091   \n",
       "9      {'C': 100.0, 'kernel': 'rbf'}     323.836632      0.909477   \n",
       "10    {'C': 100.0, 'kernel': 'poly'}     282.361777      0.425481   \n",
       "11  {'C': 100.0, 'kernel': 'linear'}      41.940216      0.076498   \n",
       "\n",
       "    mean_score_time  std_score_time  split0_test_score  split1_test_score  \\\n",
       "0         55.476513        0.801296             0.6596             0.6596   \n",
       "1         49.284485        0.636770             0.6596             0.6596   \n",
       "2          8.591501        0.156480             0.9725             0.9712   \n",
       "3         53.224661        0.144333             0.6596             0.6596   \n",
       "4         43.615194        0.666295             0.6596             0.6596   \n",
       "5         10.501170        0.220283             0.9711             0.9691   \n",
       "6         53.777318        0.312472             0.6596             0.6596   \n",
       "7         46.716522        0.318531             0.6596             0.6596   \n",
       "8          8.617285        0.130812             0.9713             0.9690   \n",
       "9         52.142910        0.276029             0.7571             0.7605   \n",
       "10        44.513666        0.102478             0.6596             0.6596   \n",
       "11         5.869366        0.231855             0.9713             0.9690   \n",
       "\n",
       "    mean_test_score  std_test_score  rank_test_score  split0_train_score  \\\n",
       "0           0.65960         0.00000                6              0.6596   \n",
       "1           0.65960         0.00000                6              0.6596   \n",
       "2           0.97185         0.00065                1              0.9971   \n",
       "3           0.65960         0.00000                6              0.6596   \n",
       "4           0.65960         0.00000                6              0.6596   \n",
       "5           0.97010         0.00100                4              1.0000   \n",
       "6           0.65960         0.00000                6              0.6596   \n",
       "7           0.65960         0.00000                6              0.6596   \n",
       "8           0.97015         0.00115                2              1.0000   \n",
       "9           0.75880         0.00170                5              0.7543   \n",
       "10          0.65960         0.00000                6              0.6596   \n",
       "11          0.97015         0.00115                2              1.0000   \n",
       "\n",
       "    split1_train_score  mean_train_score  std_train_score param_C param_kernel  \n",
       "0               0.6596            0.6596           0.0000     0.1          rbf  \n",
       "1               0.6596            0.6596           0.0000     0.1         poly  \n",
       "2               0.9955            0.9963           0.0008     0.1       linear  \n",
       "3               0.6596            0.6596           0.0000       1          rbf  \n",
       "4               0.6596            0.6596           0.0000       1         poly  \n",
       "5               1.0000            1.0000           0.0000       1       linear  \n",
       "6               0.6596            0.6596           0.0000      20          rbf  \n",
       "7               0.6596            0.6596           0.0000      20         poly  \n",
       "8               1.0000            1.0000           0.0000      20       linear  \n",
       "9               0.7701            0.7622           0.0079     100          rbf  \n",
       "10              0.6596            0.6596           0.0000     100         poly  \n",
       "11              1.0000            1.0000           0.0000     100       linear  "
      ]
     },
     "execution_count": 41,
     "metadata": {},
     "output_type": "execute_result"
    }
   ],
   "source": [
    "dataframe"
   ]
  },
  {
   "cell_type": "code",
   "execution_count": 104,
   "metadata": {},
   "outputs": [],
   "source": [
    "testset = days[61:]"
   ]
  },
  {
   "cell_type": "code",
   "execution_count": 107,
   "metadata": {},
   "outputs": [],
   "source": [
    "x_test = np.array([day[0] for day in testset])"
   ]
  },
  {
   "cell_type": "code",
   "execution_count": 108,
   "metadata": {},
   "outputs": [],
   "source": [
    "y_test = np.array([day[1] for day in testset])"
   ]
  },
  {
   "cell_type": "code",
   "execution_count": 109,
   "metadata": {},
   "outputs": [
    {
     "data": {
      "text/plain": [
       "0.96565"
      ]
     },
     "execution_count": 109,
     "metadata": {},
     "output_type": "execute_result"
    }
   ],
   "source": [
    "grid_search.score(x_test[0], y_test[0])"
   ]
  },
  {
   "cell_type": "markdown",
   "metadata": {},
   "source": [
    "# Train test split"
   ]
  },
  {
   "cell_type": "code",
   "execution_count": 52,
   "metadata": {},
   "outputs": [],
   "source": [
    "from sklearn.model_selection import train_test_split"
   ]
  },
  {
   "cell_type": "code",
   "execution_count": 53,
   "metadata": {},
   "outputs": [],
   "source": [
    "x = np.array([day[0] for day in days])"
   ]
  },
  {
   "cell_type": "code",
   "execution_count": 55,
   "metadata": {},
   "outputs": [],
   "source": [
    "y = np.array([day[1] for day in days])"
   ]
  },
  {
   "cell_type": "code",
   "execution_count": 57,
   "metadata": {},
   "outputs": [],
   "source": [
    "x = np.delete(x, 0)\n",
    "x = np.delete(x, 44)\n",
    "#trainingvalues.pop(44)\n",
    "y = np.delete(y, 0)\n",
    "y = np.delete(y, 44)"
   ]
  },
  {
   "cell_type": "code",
   "execution_count": 74,
   "metadata": {},
   "outputs": [
    {
     "data": {
      "text/plain": [
       "119"
      ]
     },
     "execution_count": 74,
     "metadata": {},
     "output_type": "execute_result"
    }
   ],
   "source": [
    "len(x)"
   ]
  },
  {
   "cell_type": "code",
   "execution_count": 75,
   "metadata": {},
   "outputs": [
    {
     "data": {
      "text/plain": [
       "119"
      ]
     },
     "execution_count": 75,
     "metadata": {},
     "output_type": "execute_result"
    }
   ],
   "source": [
    "len(y)"
   ]
  },
  {
   "cell_type": "code",
   "execution_count": 58,
   "metadata": {},
   "outputs": [],
   "source": [
    "for i in range(0, len(x)):\n",
    "    if x[i].shape != (20000, 3231961):\n",
    "        print(i)"
   ]
  },
  {
   "cell_type": "code",
   "execution_count": 60,
   "metadata": {},
   "outputs": [],
   "source": [
    "for i in range(0, len(y)):\n",
    "    if y[i].shape != (20000,):\n",
    "        print(i)"
   ]
  },
  {
   "cell_type": "code",
   "execution_count": 79,
   "metadata": {},
   "outputs": [],
   "source": [
    "x_train, x_test, y_train, y_test = train_test_split(x, y, train_size=0.3) "
   ]
  },
  {
   "cell_type": "code",
   "execution_count": 70,
   "metadata": {},
   "outputs": [],
   "source": [
    "grid_search2 = GridSearchCV(estimator, param_grid, n_jobs=-1, cv=2)"
   ]
  },
  {
   "cell_type": "code",
   "execution_count": 83,
   "metadata": {},
   "outputs": [
    {
     "name": "stdout",
     "output_type": "stream",
     "text": [
      "CPU times: user 1h 52min 45s, sys: 18.5 s, total: 1h 53min 4s\n",
      "Wall time: 30min 56s\n"
     ]
    },
    {
     "data": {
      "text/plain": [
       "GridSearchCV(cache_cv=True, cv=2, error_score='raise',\n",
       "       estimator=SVC(C=1.0, cache_size=200, class_weight=None, coef0=0.0,\n",
       "  decision_function_shape='ovr', degree=3, gamma='auto', kernel='rbf',\n",
       "  max_iter=-1, probability=True, random_state=0, shrinking=True, tol=0.001,\n",
       "  verbose=False),\n",
       "       iid=True, n_jobs=-1,\n",
       "       param_grid={'C': [0.1, 1.0, 20.0, 100.0], 'kernel': ['rbf', 'poly', 'linear']},\n",
       "       refit=True, return_train_score='warn', scheduler=None, scoring=None)"
      ]
     },
     "execution_count": 83,
     "metadata": {},
     "output_type": "execute_result"
    }
   ],
   "source": [
    "%time grid_search2.fit(x_train[0], y_train[0])"
   ]
  },
  {
   "cell_type": "code",
   "execution_count": 85,
   "metadata": {},
   "outputs": [
    {
     "name": "stderr",
     "output_type": "stream",
     "text": [
      "/home/giordano/anaconda3/envs/da2019/lib/python3.6/site-packages/dask_ml/model_selection/utils.py:122: FutureWarning: You are accessing a training score ('split0_train_score'), which will not be available by default any more in sklearn 0.21. If you need training scores, please set return_train_score=True\n",
      "  warnings.warn(*warn_args, **warn_kwargs)\n",
      "/home/giordano/anaconda3/envs/da2019/lib/python3.6/site-packages/dask_ml/model_selection/utils.py:122: FutureWarning: You are accessing a training score ('split1_train_score'), which will not be available by default any more in sklearn 0.21. If you need training scores, please set return_train_score=True\n",
      "  warnings.warn(*warn_args, **warn_kwargs)\n",
      "/home/giordano/anaconda3/envs/da2019/lib/python3.6/site-packages/dask_ml/model_selection/utils.py:122: FutureWarning: You are accessing a training score ('mean_train_score'), which will not be available by default any more in sklearn 0.21. If you need training scores, please set return_train_score=True\n",
      "  warnings.warn(*warn_args, **warn_kwargs)\n",
      "/home/giordano/anaconda3/envs/da2019/lib/python3.6/site-packages/dask_ml/model_selection/utils.py:122: FutureWarning: You are accessing a training score ('std_train_score'), which will not be available by default any more in sklearn 0.21. If you need training scores, please set return_train_score=True\n",
      "  warnings.warn(*warn_args, **warn_kwargs)\n"
     ]
    },
    {
     "data": {
      "text/html": [
       "<div>\n",
       "<style scoped>\n",
       "    .dataframe tbody tr th:only-of-type {\n",
       "        vertical-align: middle;\n",
       "    }\n",
       "\n",
       "    .dataframe tbody tr th {\n",
       "        vertical-align: top;\n",
       "    }\n",
       "\n",
       "    .dataframe thead th {\n",
       "        text-align: right;\n",
       "    }\n",
       "</style>\n",
       "<table border=\"1\" class=\"dataframe\">\n",
       "  <thead>\n",
       "    <tr style=\"text-align: right;\">\n",
       "      <th></th>\n",
       "      <th>params</th>\n",
       "      <th>mean_fit_time</th>\n",
       "      <th>std_fit_time</th>\n",
       "      <th>mean_score_time</th>\n",
       "      <th>std_score_time</th>\n",
       "      <th>split0_test_score</th>\n",
       "      <th>split1_test_score</th>\n",
       "      <th>mean_test_score</th>\n",
       "      <th>std_test_score</th>\n",
       "      <th>rank_test_score</th>\n",
       "      <th>split0_train_score</th>\n",
       "      <th>split1_train_score</th>\n",
       "      <th>mean_train_score</th>\n",
       "      <th>std_train_score</th>\n",
       "      <th>param_C</th>\n",
       "      <th>param_kernel</th>\n",
       "    </tr>\n",
       "  </thead>\n",
       "  <tbody>\n",
       "    <tr>\n",
       "      <th>0</th>\n",
       "      <td>{'C': 0.1, 'kernel': 'rbf'}</td>\n",
       "      <td>284.699363</td>\n",
       "      <td>8.713298</td>\n",
       "      <td>52.376557</td>\n",
       "      <td>2.863893</td>\n",
       "      <td>0.6436</td>\n",
       "      <td>0.6436</td>\n",
       "      <td>0.64360</td>\n",
       "      <td>0.00000</td>\n",
       "      <td>7</td>\n",
       "      <td>0.6436</td>\n",
       "      <td>0.6436</td>\n",
       "      <td>0.64360</td>\n",
       "      <td>0.00000</td>\n",
       "      <td>0.1</td>\n",
       "      <td>rbf</td>\n",
       "    </tr>\n",
       "    <tr>\n",
       "      <th>1</th>\n",
       "      <td>{'C': 0.1, 'kernel': 'poly'}</td>\n",
       "      <td>266.704987</td>\n",
       "      <td>8.067899</td>\n",
       "      <td>43.515272</td>\n",
       "      <td>0.270062</td>\n",
       "      <td>0.6436</td>\n",
       "      <td>0.6436</td>\n",
       "      <td>0.64360</td>\n",
       "      <td>0.00000</td>\n",
       "      <td>7</td>\n",
       "      <td>0.6436</td>\n",
       "      <td>0.6436</td>\n",
       "      <td>0.64360</td>\n",
       "      <td>0.00000</td>\n",
       "      <td>0.1</td>\n",
       "      <td>poly</td>\n",
       "    </tr>\n",
       "    <tr>\n",
       "      <th>2</th>\n",
       "      <td>{'C': 0.1, 'kernel': 'linear'}</td>\n",
       "      <td>46.096524</td>\n",
       "      <td>2.008375</td>\n",
       "      <td>6.688051</td>\n",
       "      <td>0.114210</td>\n",
       "      <td>0.9789</td>\n",
       "      <td>0.9845</td>\n",
       "      <td>0.98170</td>\n",
       "      <td>0.00280</td>\n",
       "      <td>1</td>\n",
       "      <td>0.9974</td>\n",
       "      <td>0.9978</td>\n",
       "      <td>0.99760</td>\n",
       "      <td>0.00020</td>\n",
       "      <td>0.1</td>\n",
       "      <td>linear</td>\n",
       "    </tr>\n",
       "    <tr>\n",
       "      <th>3</th>\n",
       "      <td>{'C': 1.0, 'kernel': 'rbf'}</td>\n",
       "      <td>333.701370</td>\n",
       "      <td>3.699107</td>\n",
       "      <td>51.453655</td>\n",
       "      <td>1.268454</td>\n",
       "      <td>0.6436</td>\n",
       "      <td>0.6436</td>\n",
       "      <td>0.64360</td>\n",
       "      <td>0.00000</td>\n",
       "      <td>7</td>\n",
       "      <td>0.6436</td>\n",
       "      <td>0.6436</td>\n",
       "      <td>0.64360</td>\n",
       "      <td>0.00000</td>\n",
       "      <td>1</td>\n",
       "      <td>rbf</td>\n",
       "    </tr>\n",
       "    <tr>\n",
       "      <th>4</th>\n",
       "      <td>{'C': 1.0, 'kernel': 'poly'}</td>\n",
       "      <td>293.805456</td>\n",
       "      <td>3.376055</td>\n",
       "      <td>43.336835</td>\n",
       "      <td>0.414181</td>\n",
       "      <td>0.6436</td>\n",
       "      <td>0.6436</td>\n",
       "      <td>0.64360</td>\n",
       "      <td>0.00000</td>\n",
       "      <td>7</td>\n",
       "      <td>0.6436</td>\n",
       "      <td>0.6436</td>\n",
       "      <td>0.64360</td>\n",
       "      <td>0.00000</td>\n",
       "      <td>1</td>\n",
       "      <td>poly</td>\n",
       "    </tr>\n",
       "    <tr>\n",
       "      <th>5</th>\n",
       "      <td>{'C': 1.0, 'kernel': 'linear'}</td>\n",
       "      <td>43.212669</td>\n",
       "      <td>3.250559</td>\n",
       "      <td>6.704145</td>\n",
       "      <td>0.232342</td>\n",
       "      <td>0.9781</td>\n",
       "      <td>0.9838</td>\n",
       "      <td>0.98095</td>\n",
       "      <td>0.00285</td>\n",
       "      <td>2</td>\n",
       "      <td>1.0000</td>\n",
       "      <td>1.0000</td>\n",
       "      <td>1.00000</td>\n",
       "      <td>0.00000</td>\n",
       "      <td>1</td>\n",
       "      <td>linear</td>\n",
       "    </tr>\n",
       "    <tr>\n",
       "      <th>6</th>\n",
       "      <td>{'C': 20.0, 'kernel': 'rbf'}</td>\n",
       "      <td>305.818440</td>\n",
       "      <td>10.699971</td>\n",
       "      <td>51.876172</td>\n",
       "      <td>1.311737</td>\n",
       "      <td>0.6945</td>\n",
       "      <td>0.6436</td>\n",
       "      <td>0.66905</td>\n",
       "      <td>0.02545</td>\n",
       "      <td>6</td>\n",
       "      <td>0.7777</td>\n",
       "      <td>0.6436</td>\n",
       "      <td>0.71065</td>\n",
       "      <td>0.06705</td>\n",
       "      <td>20</td>\n",
       "      <td>rbf</td>\n",
       "    </tr>\n",
       "    <tr>\n",
       "      <th>7</th>\n",
       "      <td>{'C': 20.0, 'kernel': 'poly'}</td>\n",
       "      <td>271.954021</td>\n",
       "      <td>9.534899</td>\n",
       "      <td>43.547504</td>\n",
       "      <td>0.155623</td>\n",
       "      <td>0.6436</td>\n",
       "      <td>0.6436</td>\n",
       "      <td>0.64360</td>\n",
       "      <td>0.00000</td>\n",
       "      <td>7</td>\n",
       "      <td>0.6436</td>\n",
       "      <td>0.6436</td>\n",
       "      <td>0.64360</td>\n",
       "      <td>0.00000</td>\n",
       "      <td>20</td>\n",
       "      <td>poly</td>\n",
       "    </tr>\n",
       "    <tr>\n",
       "      <th>8</th>\n",
       "      <td>{'C': 20.0, 'kernel': 'linear'}</td>\n",
       "      <td>43.704260</td>\n",
       "      <td>2.909007</td>\n",
       "      <td>6.884579</td>\n",
       "      <td>0.156031</td>\n",
       "      <td>0.9781</td>\n",
       "      <td>0.9837</td>\n",
       "      <td>0.98090</td>\n",
       "      <td>0.00280</td>\n",
       "      <td>3</td>\n",
       "      <td>1.0000</td>\n",
       "      <td>1.0000</td>\n",
       "      <td>1.00000</td>\n",
       "      <td>0.00000</td>\n",
       "      <td>20</td>\n",
       "      <td>linear</td>\n",
       "    </tr>\n",
       "    <tr>\n",
       "      <th>9</th>\n",
       "      <td>{'C': 100.0, 'kernel': 'rbf'}</td>\n",
       "      <td>378.745062</td>\n",
       "      <td>37.512411</td>\n",
       "      <td>43.033727</td>\n",
       "      <td>6.403294</td>\n",
       "      <td>0.7455</td>\n",
       "      <td>0.8719</td>\n",
       "      <td>0.80870</td>\n",
       "      <td>0.06320</td>\n",
       "      <td>5</td>\n",
       "      <td>0.8281</td>\n",
       "      <td>0.8397</td>\n",
       "      <td>0.83390</td>\n",
       "      <td>0.00580</td>\n",
       "      <td>100</td>\n",
       "      <td>rbf</td>\n",
       "    </tr>\n",
       "    <tr>\n",
       "      <th>10</th>\n",
       "      <td>{'C': 100.0, 'kernel': 'poly'}</td>\n",
       "      <td>386.592125</td>\n",
       "      <td>6.026062</td>\n",
       "      <td>44.888611</td>\n",
       "      <td>0.497058</td>\n",
       "      <td>0.6436</td>\n",
       "      <td>0.6436</td>\n",
       "      <td>0.64360</td>\n",
       "      <td>0.00000</td>\n",
       "      <td>7</td>\n",
       "      <td>0.6436</td>\n",
       "      <td>0.6436</td>\n",
       "      <td>0.64360</td>\n",
       "      <td>0.00000</td>\n",
       "      <td>100</td>\n",
       "      <td>poly</td>\n",
       "    </tr>\n",
       "    <tr>\n",
       "      <th>11</th>\n",
       "      <td>{'C': 100.0, 'kernel': 'linear'}</td>\n",
       "      <td>38.613793</td>\n",
       "      <td>1.491670</td>\n",
       "      <td>6.496906</td>\n",
       "      <td>0.656632</td>\n",
       "      <td>0.9781</td>\n",
       "      <td>0.9837</td>\n",
       "      <td>0.98090</td>\n",
       "      <td>0.00280</td>\n",
       "      <td>3</td>\n",
       "      <td>1.0000</td>\n",
       "      <td>1.0000</td>\n",
       "      <td>1.00000</td>\n",
       "      <td>0.00000</td>\n",
       "      <td>100</td>\n",
       "      <td>linear</td>\n",
       "    </tr>\n",
       "  </tbody>\n",
       "</table>\n",
       "</div>"
      ],
      "text/plain": [
       "                              params  mean_fit_time  std_fit_time  \\\n",
       "0        {'C': 0.1, 'kernel': 'rbf'}     284.699363      8.713298   \n",
       "1       {'C': 0.1, 'kernel': 'poly'}     266.704987      8.067899   \n",
       "2     {'C': 0.1, 'kernel': 'linear'}      46.096524      2.008375   \n",
       "3        {'C': 1.0, 'kernel': 'rbf'}     333.701370      3.699107   \n",
       "4       {'C': 1.0, 'kernel': 'poly'}     293.805456      3.376055   \n",
       "5     {'C': 1.0, 'kernel': 'linear'}      43.212669      3.250559   \n",
       "6       {'C': 20.0, 'kernel': 'rbf'}     305.818440     10.699971   \n",
       "7      {'C': 20.0, 'kernel': 'poly'}     271.954021      9.534899   \n",
       "8    {'C': 20.0, 'kernel': 'linear'}      43.704260      2.909007   \n",
       "9      {'C': 100.0, 'kernel': 'rbf'}     378.745062     37.512411   \n",
       "10    {'C': 100.0, 'kernel': 'poly'}     386.592125      6.026062   \n",
       "11  {'C': 100.0, 'kernel': 'linear'}      38.613793      1.491670   \n",
       "\n",
       "    mean_score_time  std_score_time  split0_test_score  split1_test_score  \\\n",
       "0         52.376557        2.863893             0.6436             0.6436   \n",
       "1         43.515272        0.270062             0.6436             0.6436   \n",
       "2          6.688051        0.114210             0.9789             0.9845   \n",
       "3         51.453655        1.268454             0.6436             0.6436   \n",
       "4         43.336835        0.414181             0.6436             0.6436   \n",
       "5          6.704145        0.232342             0.9781             0.9838   \n",
       "6         51.876172        1.311737             0.6945             0.6436   \n",
       "7         43.547504        0.155623             0.6436             0.6436   \n",
       "8          6.884579        0.156031             0.9781             0.9837   \n",
       "9         43.033727        6.403294             0.7455             0.8719   \n",
       "10        44.888611        0.497058             0.6436             0.6436   \n",
       "11         6.496906        0.656632             0.9781             0.9837   \n",
       "\n",
       "    mean_test_score  std_test_score  rank_test_score  split0_train_score  \\\n",
       "0           0.64360         0.00000                7              0.6436   \n",
       "1           0.64360         0.00000                7              0.6436   \n",
       "2           0.98170         0.00280                1              0.9974   \n",
       "3           0.64360         0.00000                7              0.6436   \n",
       "4           0.64360         0.00000                7              0.6436   \n",
       "5           0.98095         0.00285                2              1.0000   \n",
       "6           0.66905         0.02545                6              0.7777   \n",
       "7           0.64360         0.00000                7              0.6436   \n",
       "8           0.98090         0.00280                3              1.0000   \n",
       "9           0.80870         0.06320                5              0.8281   \n",
       "10          0.64360         0.00000                7              0.6436   \n",
       "11          0.98090         0.00280                3              1.0000   \n",
       "\n",
       "    split1_train_score  mean_train_score  std_train_score param_C param_kernel  \n",
       "0               0.6436           0.64360          0.00000     0.1          rbf  \n",
       "1               0.6436           0.64360          0.00000     0.1         poly  \n",
       "2               0.9978           0.99760          0.00020     0.1       linear  \n",
       "3               0.6436           0.64360          0.00000       1          rbf  \n",
       "4               0.6436           0.64360          0.00000       1         poly  \n",
       "5               1.0000           1.00000          0.00000       1       linear  \n",
       "6               0.6436           0.71065          0.06705      20          rbf  \n",
       "7               0.6436           0.64360          0.00000      20         poly  \n",
       "8               1.0000           1.00000          0.00000      20       linear  \n",
       "9               0.8397           0.83390          0.00580     100          rbf  \n",
       "10              0.6436           0.64360          0.00000     100         poly  \n",
       "11              1.0000           1.00000          0.00000     100       linear  "
      ]
     },
     "execution_count": 85,
     "metadata": {},
     "output_type": "execute_result"
    }
   ],
   "source": [
    "pd.DataFrame(grid_search2.cv_results_)"
   ]
  },
  {
   "cell_type": "code",
   "execution_count": 80,
   "metadata": {},
   "outputs": [
    {
     "data": {
      "text/plain": [
       "35"
      ]
     },
     "execution_count": 80,
     "metadata": {},
     "output_type": "execute_result"
    }
   ],
   "source": [
    "len(x_train)"
   ]
  },
  {
   "cell_type": "code",
   "execution_count": 81,
   "metadata": {},
   "outputs": [
    {
     "data": {
      "text/plain": [
       "35"
      ]
     },
     "execution_count": 81,
     "metadata": {},
     "output_type": "execute_result"
    }
   ],
   "source": [
    "len(y_train)"
   ]
  },
  {
   "cell_type": "code",
   "execution_count": 86,
   "metadata": {},
   "outputs": [
    {
     "data": {
      "text/plain": [
       "{'C': 0.1, 'kernel': 'linear'}"
      ]
     },
     "execution_count": 86,
     "metadata": {},
     "output_type": "execute_result"
    }
   ],
   "source": [
    "grid_search2.best_params_"
   ]
  },
  {
   "cell_type": "code",
   "execution_count": 87,
   "metadata": {},
   "outputs": [
    {
     "data": {
      "text/plain": [
       "SVC(C=0.1, cache_size=200, class_weight=None, coef0=0.0,\n",
       "  decision_function_shape='ovr', degree=3, gamma='auto', kernel='linear',\n",
       "  max_iter=-1, probability=True, random_state=0, shrinking=True, tol=0.001,\n",
       "  verbose=False)"
      ]
     },
     "execution_count": 87,
     "metadata": {},
     "output_type": "execute_result"
    }
   ],
   "source": [
    "grid_search2.best_estimator_"
   ]
  },
  {
   "cell_type": "code",
   "execution_count": 89,
   "metadata": {},
   "outputs": [
    {
     "data": {
      "text/plain": [
       "0.96605"
      ]
     },
     "execution_count": 89,
     "metadata": {},
     "output_type": "execute_result"
    }
   ],
   "source": [
    "grid_search2.score(x_test[0], y_test[0])"
   ]
  },
  {
   "cell_type": "code",
   "execution_count": 100,
   "metadata": {},
   "outputs": [
    {
     "name": "stdout",
     "output_type": "stream",
     "text": [
      "CPU times: user 12.6 s, sys: 4.1 ms, total: 12.6 s\n",
      "Wall time: 12.6 s\n"
     ]
    }
   ],
   "source": [
    "%time result = grid_search2.predict(x[25])"
   ]
  },
  {
   "cell_type": "code",
   "execution_count": 101,
   "metadata": {},
   "outputs": [
    {
     "data": {
      "text/plain": [
       "False"
      ]
     },
     "execution_count": 101,
     "metadata": {},
     "output_type": "execute_result"
    }
   ],
   "source": [
    "np.array_equal(result, y[25])"
   ]
  },
  {
   "cell_type": "code",
   "execution_count": 102,
   "metadata": {},
   "outputs": [
    {
     "data": {
      "text/plain": [
       "19540"
      ]
     },
     "execution_count": 102,
     "metadata": {},
     "output_type": "execute_result"
    }
   ],
   "source": [
    "np.sum(result == y[25])"
   ]
  },
  {
   "cell_type": "code",
   "execution_count": 103,
   "metadata": {},
   "outputs": [
    {
     "data": {
      "text/plain": [
       "460"
      ]
     },
     "execution_count": 103,
     "metadata": {},
     "output_type": "execute_result"
    }
   ],
   "source": [
    "np.sum(result != y[25])"
   ]
  },
  {
   "cell_type": "code",
   "execution_count": null,
   "metadata": {},
   "outputs": [],
   "source": []
  }
 ],
 "metadata": {
  "kernelspec": {
   "display_name": "Python 3",
   "language": "python",
   "name": "python3"
  },
  "language_info": {
   "codemirror_mode": {
    "name": "ipython",
    "version": 3
   },
   "file_extension": ".py",
   "mimetype": "text/x-python",
   "name": "python",
   "nbconvert_exporter": "python",
   "pygments_lexer": "ipython3",
   "version": "3.6.8"
  }
 },
 "nbformat": 4,
 "nbformat_minor": 2
}
