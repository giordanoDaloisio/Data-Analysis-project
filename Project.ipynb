{
 "cells": [
  {
   "cell_type": "code",
   "execution_count": 1,
   "metadata": {},
   "outputs": [],
   "source": [
    "import random\n",
    "from joblib import Memory\n",
    "from sklearn import svm\n",
    "import sklearn.datasets as sd\n",
    "import scipy.sparse as sparse"
   ]
  },
  {
   "cell_type": "code",
   "execution_count": 2,
   "metadata": {},
   "outputs": [],
   "source": [
    "import matplotlib.pyplot as plt\n",
    "import h5py\n",
    "import numpy as np\n",
    "import pandas as pd"
   ]
  },
  {
   "cell_type": "code",
   "execution_count": 3,
   "metadata": {},
   "outputs": [],
   "source": [
    "#import dask\n",
    "#import dask.array as da\n",
    "#dask.config.set(scheduler='threads')"
   ]
  },
  {
   "cell_type": "code",
   "execution_count": 4,
   "metadata": {},
   "outputs": [],
   "source": [
    "from sklearn.model_selection import GridSearchCV"
   ]
  },
  {
   "cell_type": "code",
   "execution_count": 5,
   "metadata": {},
   "outputs": [],
   "source": [
    "def random_index(dataset, old_index = \"\"):\n",
    "    new_index = random.randint(0, len(dataset))\n",
    "    while old_index == new_index:\n",
    "         new_index = random.randint(0, len(dataset))\n",
    "    return new_index"
   ]
  },
  {
   "cell_type": "markdown",
   "metadata": {},
   "source": [
    "## Creating the dataset"
   ]
  },
  {
   "cell_type": "code",
   "execution_count": 6,
   "metadata": {},
   "outputs": [],
   "source": [
    "filelist = [\"./url_svmlight/Day%s.svm\" % i for i in range(0,121)]"
   ]
  },
  {
   "cell_type": "code",
   "execution_count": 7,
   "metadata": {},
   "outputs": [],
   "source": [
    "mem = Memory(\"./cache\")"
   ]
  },
  {
   "cell_type": "code",
   "execution_count": 8,
   "metadata": {},
   "outputs": [],
   "source": [
    "@mem.cache\n",
    "def get_data():\n",
    "    data = sd.load_svmlight_files(filelist)\n",
    "    return data"
   ]
  },
  {
   "cell_type": "code",
   "execution_count": 9,
   "metadata": {
    "scrolled": true
   },
   "outputs": [],
   "source": [
    "data = get_data()"
   ]
  },
  {
   "cell_type": "code",
   "execution_count": 10,
   "metadata": {},
   "outputs": [],
   "source": [
    "days = np.array([(data[i], data[i+1]) for i in range(0, len(data)) if i%2==0])"
   ]
  },
  {
   "cell_type": "code",
   "execution_count": 11,
   "metadata": {},
   "outputs": [
    {
     "data": {
      "text/plain": [
       "array([[<16000x3231961 sparse matrix of type '<class 'numpy.float64'>'\n",
       "\twith 1847536 stored elements in Compressed Sparse Row format>,\n",
       "        array([-1., -1., -1., ..., -1., -1.,  1.])],\n",
       "       [<20000x3231961 sparse matrix of type '<class 'numpy.float64'>'\n",
       "\twith 2304202 stored elements in Compressed Sparse Row format>,\n",
       "        array([-1., -1., -1., ..., -1., -1., -1.])],\n",
       "       [<20000x3231961 sparse matrix of type '<class 'numpy.float64'>'\n",
       "\twith 2300129 stored elements in Compressed Sparse Row format>,\n",
       "        array([-1., -1.,  1., ...,  1.,  1.,  1.])],\n",
       "       [<20000x3231961 sparse matrix of type '<class 'numpy.float64'>'\n",
       "\twith 2302278 stored elements in Compressed Sparse Row format>,\n",
       "        array([ 1.,  1.,  1., ...,  1., -1., -1.])],\n",
       "       [<20000x3231961 sparse matrix of type '<class 'numpy.float64'>'\n",
       "\twith 2298268 stored elements in Compressed Sparse Row format>,\n",
       "        array([-1.,  1.,  1., ..., -1.,  1.,  1.])],\n",
       "       [<20000x3231961 sparse matrix of type '<class 'numpy.float64'>'\n",
       "\twith 2305094 stored elements in Compressed Sparse Row format>,\n",
       "        array([-1.,  1.,  1., ...,  1., -1., -1.])],\n",
       "       [<20000x3231961 sparse matrix of type '<class 'numpy.float64'>'\n",
       "\twith 2318747 stored elements in Compressed Sparse Row format>,\n",
       "        array([-1., -1., -1., ..., -1., -1.,  1.])],\n",
       "       [<20000x3231961 sparse matrix of type '<class 'numpy.float64'>'\n",
       "\twith 2350415 stored elements in Compressed Sparse Row format>,\n",
       "        array([-1., -1.,  1., ...,  1., -1., -1.])],\n",
       "       [<20000x3231961 sparse matrix of type '<class 'numpy.float64'>'\n",
       "\twith 2323814 stored elements in Compressed Sparse Row format>,\n",
       "        array([ 1., -1., -1., ...,  1., -1., -1.])],\n",
       "       [<20000x3231961 sparse matrix of type '<class 'numpy.float64'>'\n",
       "\twith 2323209 stored elements in Compressed Sparse Row format>,\n",
       "        array([-1., -1., -1., ...,  1., -1., -1.])],\n",
       "       [<20000x3231961 sparse matrix of type '<class 'numpy.float64'>'\n",
       "\twith 2313933 stored elements in Compressed Sparse Row format>,\n",
       "        array([-1., -1.,  1., ..., -1.,  1.,  1.])],\n",
       "       [<20000x3231961 sparse matrix of type '<class 'numpy.float64'>'\n",
       "\twith 2313039 stored elements in Compressed Sparse Row format>,\n",
       "        array([-1., -1., -1., ...,  1.,  1., -1.])],\n",
       "       [<20000x3231961 sparse matrix of type '<class 'numpy.float64'>'\n",
       "\twith 2300858 stored elements in Compressed Sparse Row format>,\n",
       "        array([-1., -1., -1., ..., -1., -1., -1.])],\n",
       "       [<20000x3231961 sparse matrix of type '<class 'numpy.float64'>'\n",
       "\twith 2262174 stored elements in Compressed Sparse Row format>,\n",
       "        array([-1.,  1.,  1., ...,  1., -1., -1.])],\n",
       "       [<20000x3231961 sparse matrix of type '<class 'numpy.float64'>'\n",
       "\twith 2275293 stored elements in Compressed Sparse Row format>,\n",
       "        array([-1.,  1., -1., ...,  1., -1., -1.])],\n",
       "       [<20000x3231961 sparse matrix of type '<class 'numpy.float64'>'\n",
       "\twith 2286674 stored elements in Compressed Sparse Row format>,\n",
       "        array([ 1.,  1.,  1., ..., -1., -1., -1.])],\n",
       "       [<20000x3231961 sparse matrix of type '<class 'numpy.float64'>'\n",
       "\twith 2297863 stored elements in Compressed Sparse Row format>,\n",
       "        array([-1.,  1., -1., ...,  1.,  1.,  1.])],\n",
       "       [<20000x3231961 sparse matrix of type '<class 'numpy.float64'>'\n",
       "\twith 2294389 stored elements in Compressed Sparse Row format>,\n",
       "        array([ 1., -1.,  1., ...,  1., -1.,  1.])],\n",
       "       [<20000x3231961 sparse matrix of type '<class 'numpy.float64'>'\n",
       "\twith 2263777 stored elements in Compressed Sparse Row format>,\n",
       "        array([ 1., -1., -1., ..., -1., -1.,  1.])],\n",
       "       [<20000x3231961 sparse matrix of type '<class 'numpy.float64'>'\n",
       "\twith 2266439 stored elements in Compressed Sparse Row format>,\n",
       "        array([-1., -1., -1., ..., -1., -1., -1.])],\n",
       "       [<20000x3231961 sparse matrix of type '<class 'numpy.float64'>'\n",
       "\twith 2326404 stored elements in Compressed Sparse Row format>,\n",
       "        array([-1., -1., -1., ..., -1., -1., -1.])],\n",
       "       [<20000x3231961 sparse matrix of type '<class 'numpy.float64'>'\n",
       "\twith 2346121 stored elements in Compressed Sparse Row format>,\n",
       "        array([-1.,  1.,  1., ..., -1., -1., -1.])],\n",
       "       [<20000x3231961 sparse matrix of type '<class 'numpy.float64'>'\n",
       "\twith 2356102 stored elements in Compressed Sparse Row format>,\n",
       "        array([-1., -1., -1., ...,  1.,  1.,  1.])],\n",
       "       [<20000x3231961 sparse matrix of type '<class 'numpy.float64'>'\n",
       "\twith 2291848 stored elements in Compressed Sparse Row format>,\n",
       "        array([-1., -1., -1., ...,  1., -1.,  1.])],\n",
       "       [<20000x3231961 sparse matrix of type '<class 'numpy.float64'>'\n",
       "\twith 2343494 stored elements in Compressed Sparse Row format>,\n",
       "        array([-1.,  1., -1., ...,  1.,  1., -1.])],\n",
       "       [<20000x3231961 sparse matrix of type '<class 'numpy.float64'>'\n",
       "\twith 2310788 stored elements in Compressed Sparse Row format>,\n",
       "        array([ 1., -1., -1., ...,  1., -1., -1.])],\n",
       "       [<20000x3231961 sparse matrix of type '<class 'numpy.float64'>'\n",
       "\twith 2085620 stored elements in Compressed Sparse Row format>,\n",
       "        array([-1., -1., -1., ..., -1.,  1., -1.])],\n",
       "       [<20000x3231961 sparse matrix of type '<class 'numpy.float64'>'\n",
       "\twith 2271101 stored elements in Compressed Sparse Row format>,\n",
       "        array([-1., -1., -1., ..., -1., -1., -1.])],\n",
       "       [<20000x3231961 sparse matrix of type '<class 'numpy.float64'>'\n",
       "\twith 2268871 stored elements in Compressed Sparse Row format>,\n",
       "        array([-1., -1., -1., ..., -1., -1., -1.])],\n",
       "       [<20000x3231961 sparse matrix of type '<class 'numpy.float64'>'\n",
       "\twith 2342325 stored elements in Compressed Sparse Row format>,\n",
       "        array([-1., -1., -1., ..., -1., -1., -1.])],\n",
       "       [<20000x3231961 sparse matrix of type '<class 'numpy.float64'>'\n",
       "\twith 2345780 stored elements in Compressed Sparse Row format>,\n",
       "        array([-1.,  1., -1., ..., -1., -1., -1.])],\n",
       "       [<20000x3231961 sparse matrix of type '<class 'numpy.float64'>'\n",
       "\twith 2333930 stored elements in Compressed Sparse Row format>,\n",
       "        array([ 1., -1., -1., ..., -1., -1.,  1.])],\n",
       "       [<20000x3231961 sparse matrix of type '<class 'numpy.float64'>'\n",
       "\twith 2331850 stored elements in Compressed Sparse Row format>,\n",
       "        array([-1.,  1.,  1., ..., -1.,  1., -1.])],\n",
       "       [<20000x3231961 sparse matrix of type '<class 'numpy.float64'>'\n",
       "\twith 2341132 stored elements in Compressed Sparse Row format>,\n",
       "        array([ 1.,  1., -1., ...,  1.,  1.,  1.])],\n",
       "       [<20000x3231961 sparse matrix of type '<class 'numpy.float64'>'\n",
       "\twith 2336599 stored elements in Compressed Sparse Row format>,\n",
       "        array([-1., -1., -1., ...,  1., -1.,  1.])],\n",
       "       [<20000x3231961 sparse matrix of type '<class 'numpy.float64'>'\n",
       "\twith 2353451 stored elements in Compressed Sparse Row format>,\n",
       "        array([-1., -1., -1., ..., -1., -1., -1.])],\n",
       "       [<20000x3231961 sparse matrix of type '<class 'numpy.float64'>'\n",
       "\twith 2334734 stored elements in Compressed Sparse Row format>,\n",
       "        array([-1.,  1.,  1., ..., -1., -1., -1.])],\n",
       "       [<20000x3231961 sparse matrix of type '<class 'numpy.float64'>'\n",
       "\twith 2336160 stored elements in Compressed Sparse Row format>,\n",
       "        array([ 1.,  1., -1., ..., -1., -1., -1.])],\n",
       "       [<20000x3231961 sparse matrix of type '<class 'numpy.float64'>'\n",
       "\twith 2374757 stored elements in Compressed Sparse Row format>,\n",
       "        array([-1., -1., -1., ...,  1.,  1.,  1.])],\n",
       "       [<20000x3231961 sparse matrix of type '<class 'numpy.float64'>'\n",
       "\twith 2363650 stored elements in Compressed Sparse Row format>,\n",
       "        array([-1., -1., -1., ...,  1., -1.,  1.])],\n",
       "       [<20000x3231961 sparse matrix of type '<class 'numpy.float64'>'\n",
       "\twith 2355553 stored elements in Compressed Sparse Row format>,\n",
       "        array([-1., -1., -1., ..., -1., -1.,  1.])],\n",
       "       [<20000x3231961 sparse matrix of type '<class 'numpy.float64'>'\n",
       "\twith 2315809 stored elements in Compressed Sparse Row format>,\n",
       "        array([ 1., -1., -1., ...,  1., -1., -1.])],\n",
       "       [<20000x3231961 sparse matrix of type '<class 'numpy.float64'>'\n",
       "\twith 2315653 stored elements in Compressed Sparse Row format>,\n",
       "        array([-1., -1., -1., ...,  1., -1., -1.])],\n",
       "       [<20000x3231961 sparse matrix of type '<class 'numpy.float64'>'\n",
       "\twith 2311644 stored elements in Compressed Sparse Row format>,\n",
       "        array([-1., -1., -1., ..., -1., -1., -1.])],\n",
       "       [<20000x3231961 sparse matrix of type '<class 'numpy.float64'>'\n",
       "\twith 2310527 stored elements in Compressed Sparse Row format>,\n",
       "        array([-1., -1., -1., ...,  1.,  1., -1.])],\n",
       "       [<130x3231961 sparse matrix of type '<class 'numpy.float64'>'\n",
       "\twith 15020 stored elements in Compressed Sparse Row format>,\n",
       "        array([-1., -1., -1., -1.,  1., -1., -1.,  1.,  1.,  1., -1., -1.,  1.,\n",
       "       -1.,  1., -1.,  1., -1., -1., -1.,  1., -1., -1.,  1., -1., -1.,\n",
       "        1., -1., -1., -1., -1., -1., -1.,  1.,  1., -1., -1.,  1.,  1.,\n",
       "       -1.,  1., -1., -1., -1.,  1., -1., -1.,  1., -1., -1., -1., -1.,\n",
       "       -1., -1., -1., -1., -1., -1., -1., -1.,  1.,  1., -1., -1.,  1.,\n",
       "       -1., -1., -1.,  1.,  1., -1., -1., -1.,  1.,  1., -1.,  1., -1.,\n",
       "       -1., -1., -1., -1., -1., -1.,  1.,  1., -1., -1., -1., -1., -1.,\n",
       "        1.,  1., -1., -1.,  1.,  1.,  1., -1., -1., -1., -1.,  1., -1.,\n",
       "       -1.,  1., -1., -1., -1., -1., -1., -1.,  1., -1.,  1., -1., -1.,\n",
       "       -1., -1., -1., -1.,  1., -1., -1.,  1.,  1.,  1., -1.,  1., -1.])],\n",
       "       [<20000x3231961 sparse matrix of type '<class 'numpy.float64'>'\n",
       "\twith 2327668 stored elements in Compressed Sparse Row format>,\n",
       "        array([-1., -1., -1., ..., -1., -1., -1.])],\n",
       "       [<20000x3231961 sparse matrix of type '<class 'numpy.float64'>'\n",
       "\twith 2337375 stored elements in Compressed Sparse Row format>,\n",
       "        array([-1.,  1.,  1., ..., -1.,  1., -1.])],\n",
       "       [<20000x3231961 sparse matrix of type '<class 'numpy.float64'>'\n",
       "\twith 2352535 stored elements in Compressed Sparse Row format>,\n",
       "        array([-1., -1., -1., ...,  1., -1., -1.])],\n",
       "       [<20000x3231961 sparse matrix of type '<class 'numpy.float64'>'\n",
       "\twith 2367071 stored elements in Compressed Sparse Row format>,\n",
       "        array([-1., -1., -1., ..., -1.,  1.,  1.])],\n",
       "       [<20000x3231961 sparse matrix of type '<class 'numpy.float64'>'\n",
       "\twith 2362283 stored elements in Compressed Sparse Row format>,\n",
       "        array([-1., -1.,  1., ..., -1., -1., -1.])],\n",
       "       [<20000x3231961 sparse matrix of type '<class 'numpy.float64'>'\n",
       "\twith 2339724 stored elements in Compressed Sparse Row format>,\n",
       "        array([-1., -1.,  1., ..., -1., -1.,  1.])],\n",
       "       [<20000x3231961 sparse matrix of type '<class 'numpy.float64'>'\n",
       "\twith 2347018 stored elements in Compressed Sparse Row format>,\n",
       "        array([-1., -1.,  1., ...,  1., -1., -1.])],\n",
       "       [<20000x3231961 sparse matrix of type '<class 'numpy.float64'>'\n",
       "\twith 2375268 stored elements in Compressed Sparse Row format>,\n",
       "        array([-1., -1., -1., ..., -1.,  1.,  1.])],\n",
       "       [<20000x3231961 sparse matrix of type '<class 'numpy.float64'>'\n",
       "\twith 2385920 stored elements in Compressed Sparse Row format>,\n",
       "        array([-1., -1., -1., ..., -1., -1., -1.])],\n",
       "       [<20000x3231961 sparse matrix of type '<class 'numpy.float64'>'\n",
       "\twith 2318742 stored elements in Compressed Sparse Row format>,\n",
       "        array([-1.,  1., -1., ..., -1., -1., -1.])],\n",
       "       [<20000x3231961 sparse matrix of type '<class 'numpy.float64'>'\n",
       "\twith 2318174 stored elements in Compressed Sparse Row format>,\n",
       "        array([ 1.,  1., -1., ..., -1., -1.,  1.])],\n",
       "       [<20000x3231961 sparse matrix of type '<class 'numpy.float64'>'\n",
       "\twith 2314036 stored elements in Compressed Sparse Row format>,\n",
       "        array([-1., -1., -1., ...,  1.,  1., -1.])],\n",
       "       [<20000x3231961 sparse matrix of type '<class 'numpy.float64'>'\n",
       "\twith 2308886 stored elements in Compressed Sparse Row format>,\n",
       "        array([-1., -1., -1., ..., -1., -1.,  1.])],\n",
       "       [<20000x3231961 sparse matrix of type '<class 'numpy.float64'>'\n",
       "\twith 2299309 stored elements in Compressed Sparse Row format>,\n",
       "        array([-1., -1., -1., ...,  1., -1.,  1.])],\n",
       "       [<20000x3231961 sparse matrix of type '<class 'numpy.float64'>'\n",
       "\twith 2292401 stored elements in Compressed Sparse Row format>,\n",
       "        array([ 1.,  1., -1., ..., -1., -1.,  1.])],\n",
       "       [<20000x3231961 sparse matrix of type '<class 'numpy.float64'>'\n",
       "\twith 2310981 stored elements in Compressed Sparse Row format>,\n",
       "        array([-1., -1., -1., ..., -1., -1.,  1.])],\n",
       "       [<20000x3231961 sparse matrix of type '<class 'numpy.float64'>'\n",
       "\twith 2350946 stored elements in Compressed Sparse Row format>,\n",
       "        array([ 1.,  1., -1., ...,  1., -1.,  1.])],\n",
       "       [<20000x3231961 sparse matrix of type '<class 'numpy.float64'>'\n",
       "\twith 2348825 stored elements in Compressed Sparse Row format>,\n",
       "        array([-1., -1., -1., ..., -1., -1., -1.])],\n",
       "       [<20000x3231961 sparse matrix of type '<class 'numpy.float64'>'\n",
       "\twith 2344814 stored elements in Compressed Sparse Row format>,\n",
       "        array([-1., -1., -1., ..., -1., -1., -1.])],\n",
       "       [<20000x3231961 sparse matrix of type '<class 'numpy.float64'>'\n",
       "\twith 2333942 stored elements in Compressed Sparse Row format>,\n",
       "        array([-1., -1.,  1., ...,  1.,  1., -1.])],\n",
       "       [<20000x3231961 sparse matrix of type '<class 'numpy.float64'>'\n",
       "\twith 2336962 stored elements in Compressed Sparse Row format>,\n",
       "        array([ 1., -1.,  1., ...,  1.,  1.,  1.])],\n",
       "       [<20000x3231961 sparse matrix of type '<class 'numpy.float64'>'\n",
       "\twith 2337580 stored elements in Compressed Sparse Row format>,\n",
       "        array([ 1., -1.,  1., ..., -1.,  1.,  1.])],\n",
       "       [<20000x3231961 sparse matrix of type '<class 'numpy.float64'>'\n",
       "\twith 2329406 stored elements in Compressed Sparse Row format>,\n",
       "        array([-1., -1.,  1., ...,  1., -1., -1.])],\n",
       "       [<20000x3231961 sparse matrix of type '<class 'numpy.float64'>'\n",
       "\twith 2364087 stored elements in Compressed Sparse Row format>,\n",
       "        array([-1., -1.,  1., ..., -1., -1.,  1.])],\n",
       "       [<20000x3231961 sparse matrix of type '<class 'numpy.float64'>'\n",
       "\twith 2336661 stored elements in Compressed Sparse Row format>,\n",
       "        array([-1.,  1.,  1., ...,  1., -1.,  1.])],\n",
       "       [<20000x3231961 sparse matrix of type '<class 'numpy.float64'>'\n",
       "\twith 2331935 stored elements in Compressed Sparse Row format>,\n",
       "        array([ 1., -1., -1., ..., -1., -1.,  1.])],\n",
       "       [<20000x3231961 sparse matrix of type '<class 'numpy.float64'>'\n",
       "\twith 2337699 stored elements in Compressed Sparse Row format>,\n",
       "        array([ 1.,  1.,  1., ..., -1., -1.,  1.])],\n",
       "       [<20000x3231961 sparse matrix of type '<class 'numpy.float64'>'\n",
       "\twith 2335832 stored elements in Compressed Sparse Row format>,\n",
       "        array([-1., -1., -1., ..., -1., -1., -1.])],\n",
       "       [<20000x3231961 sparse matrix of type '<class 'numpy.float64'>'\n",
       "\twith 2324031 stored elements in Compressed Sparse Row format>,\n",
       "        array([-1.,  1.,  1., ..., -1., -1., -1.])],\n",
       "       [<20000x3231961 sparse matrix of type '<class 'numpy.float64'>'\n",
       "\twith 2329882 stored elements in Compressed Sparse Row format>,\n",
       "        array([ 1., -1., -1., ...,  1., -1., -1.])],\n",
       "       [<20000x3231961 sparse matrix of type '<class 'numpy.float64'>'\n",
       "\twith 2292964 stored elements in Compressed Sparse Row format>,\n",
       "        array([-1.,  1.,  1., ...,  1.,  1.,  1.])],\n",
       "       [<20000x3231961 sparse matrix of type '<class 'numpy.float64'>'\n",
       "\twith 2272097 stored elements in Compressed Sparse Row format>,\n",
       "        array([-1., -1., -1., ...,  1., -1.,  1.])],\n",
       "       [<20000x3231961 sparse matrix of type '<class 'numpy.float64'>'\n",
       "\twith 2284450 stored elements in Compressed Sparse Row format>,\n",
       "        array([-1.,  1., -1., ..., -1., -1., -1.])],\n",
       "       [<20000x3231961 sparse matrix of type '<class 'numpy.float64'>'\n",
       "\twith 2277027 stored elements in Compressed Sparse Row format>,\n",
       "        array([-1., -1.,  1., ..., -1., -1., -1.])],\n",
       "       [<20000x3231961 sparse matrix of type '<class 'numpy.float64'>'\n",
       "\twith 2277490 stored elements in Compressed Sparse Row format>,\n",
       "        array([-1., -1.,  1., ...,  1.,  1., -1.])],\n",
       "       [<20000x3231961 sparse matrix of type '<class 'numpy.float64'>'\n",
       "\twith 2298819 stored elements in Compressed Sparse Row format>,\n",
       "        array([-1., -1., -1., ..., -1., -1.,  1.])],\n",
       "       [<20000x3231961 sparse matrix of type '<class 'numpy.float64'>'\n",
       "\twith 2291807 stored elements in Compressed Sparse Row format>,\n",
       "        array([ 1.,  1., -1., ..., -1.,  1.,  1.])],\n",
       "       [<20000x3231961 sparse matrix of type '<class 'numpy.float64'>'\n",
       "\twith 2289321 stored elements in Compressed Sparse Row format>,\n",
       "        array([-1., -1., -1., ...,  1., -1., -1.])],\n",
       "       [<20000x3231961 sparse matrix of type '<class 'numpy.float64'>'\n",
       "\twith 2312341 stored elements in Compressed Sparse Row format>,\n",
       "        array([ 1.,  1., -1., ...,  1., -1., -1.])],\n",
       "       [<20000x3231961 sparse matrix of type '<class 'numpy.float64'>'\n",
       "\twith 2299624 stored elements in Compressed Sparse Row format>,\n",
       "        array([-1., -1., -1., ..., -1.,  1.,  1.])],\n",
       "       [<20000x3231961 sparse matrix of type '<class 'numpy.float64'>'\n",
       "\twith 2326550 stored elements in Compressed Sparse Row format>,\n",
       "        array([-1., -1., -1., ...,  1., -1., -1.])],\n",
       "       [<20000x3231961 sparse matrix of type '<class 'numpy.float64'>'\n",
       "\twith 2325339 stored elements in Compressed Sparse Row format>,\n",
       "        array([-1.,  1., -1., ..., -1., -1., -1.])],\n",
       "       [<20000x3231961 sparse matrix of type '<class 'numpy.float64'>'\n",
       "\twith 2317878 stored elements in Compressed Sparse Row format>,\n",
       "        array([ 1.,  1.,  1., ..., -1., -1., -1.])],\n",
       "       [<20000x3231961 sparse matrix of type '<class 'numpy.float64'>'\n",
       "\twith 2288475 stored elements in Compressed Sparse Row format>,\n",
       "        array([ 1.,  1.,  1., ..., -1., -1.,  1.])],\n",
       "       [<20000x3231961 sparse matrix of type '<class 'numpy.float64'>'\n",
       "\twith 2287225 stored elements in Compressed Sparse Row format>,\n",
       "        array([ 1.,  1., -1., ...,  1., -1., -1.])],\n",
       "       [<20000x3231961 sparse matrix of type '<class 'numpy.float64'>'\n",
       "\twith 2272444 stored elements in Compressed Sparse Row format>,\n",
       "        array([ 1.,  1.,  1., ...,  1., -1.,  1.])],\n",
       "       [<20000x3231961 sparse matrix of type '<class 'numpy.float64'>'\n",
       "\twith 2289585 stored elements in Compressed Sparse Row format>,\n",
       "        array([ 1.,  1.,  1., ...,  1., -1., -1.])],\n",
       "       [<20000x3231961 sparse matrix of type '<class 'numpy.float64'>'\n",
       "\twith 2282518 stored elements in Compressed Sparse Row format>,\n",
       "        array([ 1.,  1.,  1., ..., -1.,  1.,  1.])],\n",
       "       [<20000x3231961 sparse matrix of type '<class 'numpy.float64'>'\n",
       "\twith 2296394 stored elements in Compressed Sparse Row format>,\n",
       "        array([ 1.,  1.,  1., ..., -1.,  1.,  1.])],\n",
       "       [<20000x3231961 sparse matrix of type '<class 'numpy.float64'>'\n",
       "\twith 2346194 stored elements in Compressed Sparse Row format>,\n",
       "        array([ 1.,  1.,  1., ..., -1., -1., -1.])],\n",
       "       [<20000x3231961 sparse matrix of type '<class 'numpy.float64'>'\n",
       "\twith 2326696 stored elements in Compressed Sparse Row format>,\n",
       "        array([-1., -1., -1., ..., -1.,  1.,  1.])],\n",
       "       [<20000x3231961 sparse matrix of type '<class 'numpy.float64'>'\n",
       "\twith 2376178 stored elements in Compressed Sparse Row format>,\n",
       "        array([-1.,  1., -1., ...,  1.,  1.,  1.])],\n",
       "       [<20000x3231961 sparse matrix of type '<class 'numpy.float64'>'\n",
       "\twith 2305369 stored elements in Compressed Sparse Row format>,\n",
       "        array([ 1., -1., -1., ..., -1., -1.,  1.])],\n",
       "       [<20000x3231961 sparse matrix of type '<class 'numpy.float64'>'\n",
       "\twith 2360941 stored elements in Compressed Sparse Row format>,\n",
       "        array([ 1.,  1., -1., ..., -1., -1., -1.])],\n",
       "       [<20000x3231961 sparse matrix of type '<class 'numpy.float64'>'\n",
       "\twith 2355785 stored elements in Compressed Sparse Row format>,\n",
       "        array([ 1.,  1., -1., ..., -1.,  1., -1.])],\n",
       "       [<20000x3231961 sparse matrix of type '<class 'numpy.float64'>'\n",
       "\twith 2340800 stored elements in Compressed Sparse Row format>,\n",
       "        array([ 1.,  1., -1., ..., -1., -1., -1.])],\n",
       "       [<20000x3231961 sparse matrix of type '<class 'numpy.float64'>'\n",
       "\twith 2350258 stored elements in Compressed Sparse Row format>,\n",
       "        array([ 1.,  1.,  1., ...,  1.,  1., -1.])],\n",
       "       [<20000x3231961 sparse matrix of type '<class 'numpy.float64'>'\n",
       "\twith 2327751 stored elements in Compressed Sparse Row format>,\n",
       "        array([ 1.,  1.,  1., ..., -1.,  1., -1.])],\n",
       "       [<20000x3231961 sparse matrix of type '<class 'numpy.float64'>'\n",
       "\twith 2262535 stored elements in Compressed Sparse Row format>,\n",
       "        array([ 1., -1., -1., ...,  1.,  1., -1.])],\n",
       "       [<20000x3231961 sparse matrix of type '<class 'numpy.float64'>'\n",
       "\twith 2275360 stored elements in Compressed Sparse Row format>,\n",
       "        array([ 1., -1.,  1., ..., -1., -1.,  1.])],\n",
       "       [<20000x3231961 sparse matrix of type '<class 'numpy.float64'>'\n",
       "\twith 2259781 stored elements in Compressed Sparse Row format>,\n",
       "        array([ 1., -1., -1., ..., -1., -1., -1.])],\n",
       "       [<20000x3231961 sparse matrix of type '<class 'numpy.float64'>'\n",
       "\twith 2248372 stored elements in Compressed Sparse Row format>,\n",
       "        array([ 1.,  1., -1., ..., -1.,  1., -1.])],\n",
       "       [<20000x3231961 sparse matrix of type '<class 'numpy.float64'>'\n",
       "\twith 2290760 stored elements in Compressed Sparse Row format>,\n",
       "        array([ 1., -1.,  1., ...,  1.,  1., -1.])],\n",
       "       [<20000x3231961 sparse matrix of type '<class 'numpy.float64'>'\n",
       "\twith 2251949 stored elements in Compressed Sparse Row format>,\n",
       "        array([-1.,  1., -1., ..., -1.,  1., -1.])],\n",
       "       [<20000x3231961 sparse matrix of type '<class 'numpy.float64'>'\n",
       "\twith 2245868 stored elements in Compressed Sparse Row format>,\n",
       "        array([ 1.,  1.,  1., ...,  1., -1., -1.])],\n",
       "       [<20000x3231961 sparse matrix of type '<class 'numpy.float64'>'\n",
       "\twith 2311224 stored elements in Compressed Sparse Row format>,\n",
       "        array([-1., -1., -1., ..., -1., -1., -1.])],\n",
       "       [<20000x3231961 sparse matrix of type '<class 'numpy.float64'>'\n",
       "\twith 2278792 stored elements in Compressed Sparse Row format>,\n",
       "        array([ 1.,  1.,  1., ..., -1., -1., -1.])],\n",
       "       [<20000x3231961 sparse matrix of type '<class 'numpy.float64'>'\n",
       "\twith 2283634 stored elements in Compressed Sparse Row format>,\n",
       "        array([ 1.,  1., -1., ..., -1., -1., -1.])],\n",
       "       [<20000x3231961 sparse matrix of type '<class 'numpy.float64'>'\n",
       "\twith 2339028 stored elements in Compressed Sparse Row format>,\n",
       "        array([-1., -1., -1., ..., -1.,  1., -1.])],\n",
       "       [<20000x3231961 sparse matrix of type '<class 'numpy.float64'>'\n",
       "\twith 2276463 stored elements in Compressed Sparse Row format>,\n",
       "        array([ 1., -1., -1., ...,  1.,  1., -1.])],\n",
       "       [<20000x3231961 sparse matrix of type '<class 'numpy.float64'>'\n",
       "\twith 2303165 stored elements in Compressed Sparse Row format>,\n",
       "        array([ 1., -1., -1., ..., -1., -1., -1.])],\n",
       "       [<20000x3231961 sparse matrix of type '<class 'numpy.float64'>'\n",
       "\twith 2275257 stored elements in Compressed Sparse Row format>,\n",
       "        array([ 1.,  1.,  1., ...,  1.,  1., -1.])],\n",
       "       [<20000x3231961 sparse matrix of type '<class 'numpy.float64'>'\n",
       "\twith 2261819 stored elements in Compressed Sparse Row format>,\n",
       "        array([-1.,  1., -1., ...,  1.,  1.,  1.])],\n",
       "       [<20000x3231961 sparse matrix of type '<class 'numpy.float64'>'\n",
       "\twith 2253014 stored elements in Compressed Sparse Row format>,\n",
       "        array([ 1., -1., -1., ..., -1.,  1., -1.])],\n",
       "       [<20000x3231961 sparse matrix of type '<class 'numpy.float64'>'\n",
       "\twith 2302256 stored elements in Compressed Sparse Row format>,\n",
       "        array([ 1.,  1.,  1., ...,  1., -1., -1.])]], dtype=object)"
      ]
     },
     "execution_count": 11,
     "metadata": {},
     "output_type": "execute_result"
    }
   ],
   "source": [
    "days"
   ]
  },
  {
   "cell_type": "code",
   "execution_count": 12,
   "metadata": {
    "scrolled": true
   },
   "outputs": [],
   "source": [
    "x = np.array([day[0] for day in days])"
   ]
  },
  {
   "cell_type": "code",
   "execution_count": 13,
   "metadata": {},
   "outputs": [],
   "source": [
    "y = np.array([day[1] for day in days])"
   ]
  },
  {
   "cell_type": "code",
   "execution_count": 14,
   "metadata": {},
   "outputs": [
    {
     "name": "stdout",
     "output_type": "stream",
     "text": [
      "0\n",
      "45\n"
     ]
    }
   ],
   "source": [
    "for i in range(0, len(x)):\n",
    "    if x[i].shape != (20000, 3231961):\n",
    "        print(i)"
   ]
  },
  {
   "cell_type": "code",
   "execution_count": 15,
   "metadata": {},
   "outputs": [],
   "source": [
    "x = np.delete(x, 0)\n",
    "x = np.delete(x, 44)\n",
    "y = np.delete(y, 0)\n",
    "y = np.delete(y, 44)"
   ]
  },
  {
   "cell_type": "code",
   "execution_count": 16,
   "metadata": {},
   "outputs": [],
   "source": [
    "for i in range(0, len(x)):\n",
    "    if x[i].shape != (20000, 3231961):\n",
    "        print(i)"
   ]
  },
  {
   "cell_type": "code",
   "execution_count": 17,
   "metadata": {},
   "outputs": [
    {
     "data": {
      "text/plain": [
       "array([<20000x3231961 sparse matrix of type '<class 'numpy.float64'>'\n",
       "\twith 2304202 stored elements in Compressed Sparse Row format>,\n",
       "       <20000x3231961 sparse matrix of type '<class 'numpy.float64'>'\n",
       "\twith 2300129 stored elements in Compressed Sparse Row format>,\n",
       "       <20000x3231961 sparse matrix of type '<class 'numpy.float64'>'\n",
       "\twith 2302278 stored elements in Compressed Sparse Row format>,\n",
       "       <20000x3231961 sparse matrix of type '<class 'numpy.float64'>'\n",
       "\twith 2298268 stored elements in Compressed Sparse Row format>,\n",
       "       <20000x3231961 sparse matrix of type '<class 'numpy.float64'>'\n",
       "\twith 2305094 stored elements in Compressed Sparse Row format>,\n",
       "       <20000x3231961 sparse matrix of type '<class 'numpy.float64'>'\n",
       "\twith 2318747 stored elements in Compressed Sparse Row format>,\n",
       "       <20000x3231961 sparse matrix of type '<class 'numpy.float64'>'\n",
       "\twith 2350415 stored elements in Compressed Sparse Row format>,\n",
       "       <20000x3231961 sparse matrix of type '<class 'numpy.float64'>'\n",
       "\twith 2323814 stored elements in Compressed Sparse Row format>,\n",
       "       <20000x3231961 sparse matrix of type '<class 'numpy.float64'>'\n",
       "\twith 2323209 stored elements in Compressed Sparse Row format>,\n",
       "       <20000x3231961 sparse matrix of type '<class 'numpy.float64'>'\n",
       "\twith 2313933 stored elements in Compressed Sparse Row format>,\n",
       "       <20000x3231961 sparse matrix of type '<class 'numpy.float64'>'\n",
       "\twith 2313039 stored elements in Compressed Sparse Row format>,\n",
       "       <20000x3231961 sparse matrix of type '<class 'numpy.float64'>'\n",
       "\twith 2300858 stored elements in Compressed Sparse Row format>,\n",
       "       <20000x3231961 sparse matrix of type '<class 'numpy.float64'>'\n",
       "\twith 2262174 stored elements in Compressed Sparse Row format>,\n",
       "       <20000x3231961 sparse matrix of type '<class 'numpy.float64'>'\n",
       "\twith 2275293 stored elements in Compressed Sparse Row format>,\n",
       "       <20000x3231961 sparse matrix of type '<class 'numpy.float64'>'\n",
       "\twith 2286674 stored elements in Compressed Sparse Row format>,\n",
       "       <20000x3231961 sparse matrix of type '<class 'numpy.float64'>'\n",
       "\twith 2297863 stored elements in Compressed Sparse Row format>,\n",
       "       <20000x3231961 sparse matrix of type '<class 'numpy.float64'>'\n",
       "\twith 2294389 stored elements in Compressed Sparse Row format>,\n",
       "       <20000x3231961 sparse matrix of type '<class 'numpy.float64'>'\n",
       "\twith 2263777 stored elements in Compressed Sparse Row format>,\n",
       "       <20000x3231961 sparse matrix of type '<class 'numpy.float64'>'\n",
       "\twith 2266439 stored elements in Compressed Sparse Row format>,\n",
       "       <20000x3231961 sparse matrix of type '<class 'numpy.float64'>'\n",
       "\twith 2326404 stored elements in Compressed Sparse Row format>,\n",
       "       <20000x3231961 sparse matrix of type '<class 'numpy.float64'>'\n",
       "\twith 2346121 stored elements in Compressed Sparse Row format>,\n",
       "       <20000x3231961 sparse matrix of type '<class 'numpy.float64'>'\n",
       "\twith 2356102 stored elements in Compressed Sparse Row format>,\n",
       "       <20000x3231961 sparse matrix of type '<class 'numpy.float64'>'\n",
       "\twith 2291848 stored elements in Compressed Sparse Row format>,\n",
       "       <20000x3231961 sparse matrix of type '<class 'numpy.float64'>'\n",
       "\twith 2343494 stored elements in Compressed Sparse Row format>,\n",
       "       <20000x3231961 sparse matrix of type '<class 'numpy.float64'>'\n",
       "\twith 2310788 stored elements in Compressed Sparse Row format>,\n",
       "       <20000x3231961 sparse matrix of type '<class 'numpy.float64'>'\n",
       "\twith 2085620 stored elements in Compressed Sparse Row format>,\n",
       "       <20000x3231961 sparse matrix of type '<class 'numpy.float64'>'\n",
       "\twith 2271101 stored elements in Compressed Sparse Row format>,\n",
       "       <20000x3231961 sparse matrix of type '<class 'numpy.float64'>'\n",
       "\twith 2268871 stored elements in Compressed Sparse Row format>,\n",
       "       <20000x3231961 sparse matrix of type '<class 'numpy.float64'>'\n",
       "\twith 2342325 stored elements in Compressed Sparse Row format>,\n",
       "       <20000x3231961 sparse matrix of type '<class 'numpy.float64'>'\n",
       "\twith 2345780 stored elements in Compressed Sparse Row format>,\n",
       "       <20000x3231961 sparse matrix of type '<class 'numpy.float64'>'\n",
       "\twith 2333930 stored elements in Compressed Sparse Row format>,\n",
       "       <20000x3231961 sparse matrix of type '<class 'numpy.float64'>'\n",
       "\twith 2331850 stored elements in Compressed Sparse Row format>,\n",
       "       <20000x3231961 sparse matrix of type '<class 'numpy.float64'>'\n",
       "\twith 2341132 stored elements in Compressed Sparse Row format>,\n",
       "       <20000x3231961 sparse matrix of type '<class 'numpy.float64'>'\n",
       "\twith 2336599 stored elements in Compressed Sparse Row format>,\n",
       "       <20000x3231961 sparse matrix of type '<class 'numpy.float64'>'\n",
       "\twith 2353451 stored elements in Compressed Sparse Row format>,\n",
       "       <20000x3231961 sparse matrix of type '<class 'numpy.float64'>'\n",
       "\twith 2334734 stored elements in Compressed Sparse Row format>,\n",
       "       <20000x3231961 sparse matrix of type '<class 'numpy.float64'>'\n",
       "\twith 2336160 stored elements in Compressed Sparse Row format>,\n",
       "       <20000x3231961 sparse matrix of type '<class 'numpy.float64'>'\n",
       "\twith 2374757 stored elements in Compressed Sparse Row format>,\n",
       "       <20000x3231961 sparse matrix of type '<class 'numpy.float64'>'\n",
       "\twith 2363650 stored elements in Compressed Sparse Row format>,\n",
       "       <20000x3231961 sparse matrix of type '<class 'numpy.float64'>'\n",
       "\twith 2355553 stored elements in Compressed Sparse Row format>,\n",
       "       <20000x3231961 sparse matrix of type '<class 'numpy.float64'>'\n",
       "\twith 2315809 stored elements in Compressed Sparse Row format>,\n",
       "       <20000x3231961 sparse matrix of type '<class 'numpy.float64'>'\n",
       "\twith 2315653 stored elements in Compressed Sparse Row format>,\n",
       "       <20000x3231961 sparse matrix of type '<class 'numpy.float64'>'\n",
       "\twith 2311644 stored elements in Compressed Sparse Row format>,\n",
       "       <20000x3231961 sparse matrix of type '<class 'numpy.float64'>'\n",
       "\twith 2310527 stored elements in Compressed Sparse Row format>,\n",
       "       <20000x3231961 sparse matrix of type '<class 'numpy.float64'>'\n",
       "\twith 2327668 stored elements in Compressed Sparse Row format>,\n",
       "       <20000x3231961 sparse matrix of type '<class 'numpy.float64'>'\n",
       "\twith 2337375 stored elements in Compressed Sparse Row format>,\n",
       "       <20000x3231961 sparse matrix of type '<class 'numpy.float64'>'\n",
       "\twith 2352535 stored elements in Compressed Sparse Row format>,\n",
       "       <20000x3231961 sparse matrix of type '<class 'numpy.float64'>'\n",
       "\twith 2367071 stored elements in Compressed Sparse Row format>,\n",
       "       <20000x3231961 sparse matrix of type '<class 'numpy.float64'>'\n",
       "\twith 2362283 stored elements in Compressed Sparse Row format>,\n",
       "       <20000x3231961 sparse matrix of type '<class 'numpy.float64'>'\n",
       "\twith 2339724 stored elements in Compressed Sparse Row format>,\n",
       "       <20000x3231961 sparse matrix of type '<class 'numpy.float64'>'\n",
       "\twith 2347018 stored elements in Compressed Sparse Row format>,\n",
       "       <20000x3231961 sparse matrix of type '<class 'numpy.float64'>'\n",
       "\twith 2375268 stored elements in Compressed Sparse Row format>,\n",
       "       <20000x3231961 sparse matrix of type '<class 'numpy.float64'>'\n",
       "\twith 2385920 stored elements in Compressed Sparse Row format>,\n",
       "       <20000x3231961 sparse matrix of type '<class 'numpy.float64'>'\n",
       "\twith 2318742 stored elements in Compressed Sparse Row format>,\n",
       "       <20000x3231961 sparse matrix of type '<class 'numpy.float64'>'\n",
       "\twith 2318174 stored elements in Compressed Sparse Row format>,\n",
       "       <20000x3231961 sparse matrix of type '<class 'numpy.float64'>'\n",
       "\twith 2314036 stored elements in Compressed Sparse Row format>,\n",
       "       <20000x3231961 sparse matrix of type '<class 'numpy.float64'>'\n",
       "\twith 2308886 stored elements in Compressed Sparse Row format>,\n",
       "       <20000x3231961 sparse matrix of type '<class 'numpy.float64'>'\n",
       "\twith 2299309 stored elements in Compressed Sparse Row format>,\n",
       "       <20000x3231961 sparse matrix of type '<class 'numpy.float64'>'\n",
       "\twith 2292401 stored elements in Compressed Sparse Row format>,\n",
       "       <20000x3231961 sparse matrix of type '<class 'numpy.float64'>'\n",
       "\twith 2310981 stored elements in Compressed Sparse Row format>,\n",
       "       <20000x3231961 sparse matrix of type '<class 'numpy.float64'>'\n",
       "\twith 2350946 stored elements in Compressed Sparse Row format>,\n",
       "       <20000x3231961 sparse matrix of type '<class 'numpy.float64'>'\n",
       "\twith 2348825 stored elements in Compressed Sparse Row format>,\n",
       "       <20000x3231961 sparse matrix of type '<class 'numpy.float64'>'\n",
       "\twith 2344814 stored elements in Compressed Sparse Row format>,\n",
       "       <20000x3231961 sparse matrix of type '<class 'numpy.float64'>'\n",
       "\twith 2333942 stored elements in Compressed Sparse Row format>,\n",
       "       <20000x3231961 sparse matrix of type '<class 'numpy.float64'>'\n",
       "\twith 2336962 stored elements in Compressed Sparse Row format>,\n",
       "       <20000x3231961 sparse matrix of type '<class 'numpy.float64'>'\n",
       "\twith 2337580 stored elements in Compressed Sparse Row format>,\n",
       "       <20000x3231961 sparse matrix of type '<class 'numpy.float64'>'\n",
       "\twith 2329406 stored elements in Compressed Sparse Row format>,\n",
       "       <20000x3231961 sparse matrix of type '<class 'numpy.float64'>'\n",
       "\twith 2364087 stored elements in Compressed Sparse Row format>,\n",
       "       <20000x3231961 sparse matrix of type '<class 'numpy.float64'>'\n",
       "\twith 2336661 stored elements in Compressed Sparse Row format>,\n",
       "       <20000x3231961 sparse matrix of type '<class 'numpy.float64'>'\n",
       "\twith 2331935 stored elements in Compressed Sparse Row format>,\n",
       "       <20000x3231961 sparse matrix of type '<class 'numpy.float64'>'\n",
       "\twith 2337699 stored elements in Compressed Sparse Row format>,\n",
       "       <20000x3231961 sparse matrix of type '<class 'numpy.float64'>'\n",
       "\twith 2335832 stored elements in Compressed Sparse Row format>,\n",
       "       <20000x3231961 sparse matrix of type '<class 'numpy.float64'>'\n",
       "\twith 2324031 stored elements in Compressed Sparse Row format>,\n",
       "       <20000x3231961 sparse matrix of type '<class 'numpy.float64'>'\n",
       "\twith 2329882 stored elements in Compressed Sparse Row format>,\n",
       "       <20000x3231961 sparse matrix of type '<class 'numpy.float64'>'\n",
       "\twith 2292964 stored elements in Compressed Sparse Row format>,\n",
       "       <20000x3231961 sparse matrix of type '<class 'numpy.float64'>'\n",
       "\twith 2272097 stored elements in Compressed Sparse Row format>,\n",
       "       <20000x3231961 sparse matrix of type '<class 'numpy.float64'>'\n",
       "\twith 2284450 stored elements in Compressed Sparse Row format>,\n",
       "       <20000x3231961 sparse matrix of type '<class 'numpy.float64'>'\n",
       "\twith 2277027 stored elements in Compressed Sparse Row format>,\n",
       "       <20000x3231961 sparse matrix of type '<class 'numpy.float64'>'\n",
       "\twith 2277490 stored elements in Compressed Sparse Row format>,\n",
       "       <20000x3231961 sparse matrix of type '<class 'numpy.float64'>'\n",
       "\twith 2298819 stored elements in Compressed Sparse Row format>,\n",
       "       <20000x3231961 sparse matrix of type '<class 'numpy.float64'>'\n",
       "\twith 2291807 stored elements in Compressed Sparse Row format>,\n",
       "       <20000x3231961 sparse matrix of type '<class 'numpy.float64'>'\n",
       "\twith 2289321 stored elements in Compressed Sparse Row format>,\n",
       "       <20000x3231961 sparse matrix of type '<class 'numpy.float64'>'\n",
       "\twith 2312341 stored elements in Compressed Sparse Row format>,\n",
       "       <20000x3231961 sparse matrix of type '<class 'numpy.float64'>'\n",
       "\twith 2299624 stored elements in Compressed Sparse Row format>,\n",
       "       <20000x3231961 sparse matrix of type '<class 'numpy.float64'>'\n",
       "\twith 2326550 stored elements in Compressed Sparse Row format>,\n",
       "       <20000x3231961 sparse matrix of type '<class 'numpy.float64'>'\n",
       "\twith 2325339 stored elements in Compressed Sparse Row format>,\n",
       "       <20000x3231961 sparse matrix of type '<class 'numpy.float64'>'\n",
       "\twith 2317878 stored elements in Compressed Sparse Row format>,\n",
       "       <20000x3231961 sparse matrix of type '<class 'numpy.float64'>'\n",
       "\twith 2288475 stored elements in Compressed Sparse Row format>,\n",
       "       <20000x3231961 sparse matrix of type '<class 'numpy.float64'>'\n",
       "\twith 2287225 stored elements in Compressed Sparse Row format>,\n",
       "       <20000x3231961 sparse matrix of type '<class 'numpy.float64'>'\n",
       "\twith 2272444 stored elements in Compressed Sparse Row format>,\n",
       "       <20000x3231961 sparse matrix of type '<class 'numpy.float64'>'\n",
       "\twith 2289585 stored elements in Compressed Sparse Row format>,\n",
       "       <20000x3231961 sparse matrix of type '<class 'numpy.float64'>'\n",
       "\twith 2282518 stored elements in Compressed Sparse Row format>,\n",
       "       <20000x3231961 sparse matrix of type '<class 'numpy.float64'>'\n",
       "\twith 2296394 stored elements in Compressed Sparse Row format>,\n",
       "       <20000x3231961 sparse matrix of type '<class 'numpy.float64'>'\n",
       "\twith 2346194 stored elements in Compressed Sparse Row format>,\n",
       "       <20000x3231961 sparse matrix of type '<class 'numpy.float64'>'\n",
       "\twith 2326696 stored elements in Compressed Sparse Row format>,\n",
       "       <20000x3231961 sparse matrix of type '<class 'numpy.float64'>'\n",
       "\twith 2376178 stored elements in Compressed Sparse Row format>,\n",
       "       <20000x3231961 sparse matrix of type '<class 'numpy.float64'>'\n",
       "\twith 2305369 stored elements in Compressed Sparse Row format>,\n",
       "       <20000x3231961 sparse matrix of type '<class 'numpy.float64'>'\n",
       "\twith 2360941 stored elements in Compressed Sparse Row format>,\n",
       "       <20000x3231961 sparse matrix of type '<class 'numpy.float64'>'\n",
       "\twith 2355785 stored elements in Compressed Sparse Row format>,\n",
       "       <20000x3231961 sparse matrix of type '<class 'numpy.float64'>'\n",
       "\twith 2340800 stored elements in Compressed Sparse Row format>,\n",
       "       <20000x3231961 sparse matrix of type '<class 'numpy.float64'>'\n",
       "\twith 2350258 stored elements in Compressed Sparse Row format>,\n",
       "       <20000x3231961 sparse matrix of type '<class 'numpy.float64'>'\n",
       "\twith 2327751 stored elements in Compressed Sparse Row format>,\n",
       "       <20000x3231961 sparse matrix of type '<class 'numpy.float64'>'\n",
       "\twith 2262535 stored elements in Compressed Sparse Row format>,\n",
       "       <20000x3231961 sparse matrix of type '<class 'numpy.float64'>'\n",
       "\twith 2275360 stored elements in Compressed Sparse Row format>,\n",
       "       <20000x3231961 sparse matrix of type '<class 'numpy.float64'>'\n",
       "\twith 2259781 stored elements in Compressed Sparse Row format>,\n",
       "       <20000x3231961 sparse matrix of type '<class 'numpy.float64'>'\n",
       "\twith 2248372 stored elements in Compressed Sparse Row format>,\n",
       "       <20000x3231961 sparse matrix of type '<class 'numpy.float64'>'\n",
       "\twith 2290760 stored elements in Compressed Sparse Row format>,\n",
       "       <20000x3231961 sparse matrix of type '<class 'numpy.float64'>'\n",
       "\twith 2251949 stored elements in Compressed Sparse Row format>,\n",
       "       <20000x3231961 sparse matrix of type '<class 'numpy.float64'>'\n",
       "\twith 2245868 stored elements in Compressed Sparse Row format>,\n",
       "       <20000x3231961 sparse matrix of type '<class 'numpy.float64'>'\n",
       "\twith 2311224 stored elements in Compressed Sparse Row format>,\n",
       "       <20000x3231961 sparse matrix of type '<class 'numpy.float64'>'\n",
       "\twith 2278792 stored elements in Compressed Sparse Row format>,\n",
       "       <20000x3231961 sparse matrix of type '<class 'numpy.float64'>'\n",
       "\twith 2283634 stored elements in Compressed Sparse Row format>,\n",
       "       <20000x3231961 sparse matrix of type '<class 'numpy.float64'>'\n",
       "\twith 2339028 stored elements in Compressed Sparse Row format>,\n",
       "       <20000x3231961 sparse matrix of type '<class 'numpy.float64'>'\n",
       "\twith 2276463 stored elements in Compressed Sparse Row format>,\n",
       "       <20000x3231961 sparse matrix of type '<class 'numpy.float64'>'\n",
       "\twith 2303165 stored elements in Compressed Sparse Row format>,\n",
       "       <20000x3231961 sparse matrix of type '<class 'numpy.float64'>'\n",
       "\twith 2275257 stored elements in Compressed Sparse Row format>,\n",
       "       <20000x3231961 sparse matrix of type '<class 'numpy.float64'>'\n",
       "\twith 2261819 stored elements in Compressed Sparse Row format>,\n",
       "       <20000x3231961 sparse matrix of type '<class 'numpy.float64'>'\n",
       "\twith 2253014 stored elements in Compressed Sparse Row format>,\n",
       "       <20000x3231961 sparse matrix of type '<class 'numpy.float64'>'\n",
       "\twith 2302256 stored elements in Compressed Sparse Row format>],\n",
       "      dtype=object)"
      ]
     },
     "execution_count": 17,
     "metadata": {},
     "output_type": "execute_result"
    }
   ],
   "source": [
    "x"
   ]
  },
  {
   "cell_type": "code",
   "execution_count": 18,
   "metadata": {},
   "outputs": [
    {
     "data": {
      "text/plain": [
       "array([array([-1., -1., -1., ..., -1., -1., -1.]),\n",
       "       array([-1., -1.,  1., ...,  1.,  1.,  1.]),\n",
       "       array([ 1.,  1.,  1., ...,  1., -1., -1.]),\n",
       "       array([-1.,  1.,  1., ..., -1.,  1.,  1.]),\n",
       "       array([-1.,  1.,  1., ...,  1., -1., -1.]),\n",
       "       array([-1., -1., -1., ..., -1., -1.,  1.]),\n",
       "       array([-1., -1.,  1., ...,  1., -1., -1.]),\n",
       "       array([ 1., -1., -1., ...,  1., -1., -1.]),\n",
       "       array([-1., -1., -1., ...,  1., -1., -1.]),\n",
       "       array([-1., -1.,  1., ..., -1.,  1.,  1.]),\n",
       "       array([-1., -1., -1., ...,  1.,  1., -1.]),\n",
       "       array([-1., -1., -1., ..., -1., -1., -1.]),\n",
       "       array([-1.,  1.,  1., ...,  1., -1., -1.]),\n",
       "       array([-1.,  1., -1., ...,  1., -1., -1.]),\n",
       "       array([ 1.,  1.,  1., ..., -1., -1., -1.]),\n",
       "       array([-1.,  1., -1., ...,  1.,  1.,  1.]),\n",
       "       array([ 1., -1.,  1., ...,  1., -1.,  1.]),\n",
       "       array([ 1., -1., -1., ..., -1., -1.,  1.]),\n",
       "       array([-1., -1., -1., ..., -1., -1., -1.]),\n",
       "       array([-1., -1., -1., ..., -1., -1., -1.]),\n",
       "       array([-1.,  1.,  1., ..., -1., -1., -1.]),\n",
       "       array([-1., -1., -1., ...,  1.,  1.,  1.]),\n",
       "       array([-1., -1., -1., ...,  1., -1.,  1.]),\n",
       "       array([-1.,  1., -1., ...,  1.,  1., -1.]),\n",
       "       array([ 1., -1., -1., ...,  1., -1., -1.]),\n",
       "       array([-1., -1., -1., ..., -1.,  1., -1.]),\n",
       "       array([-1., -1., -1., ..., -1., -1., -1.]),\n",
       "       array([-1., -1., -1., ..., -1., -1., -1.]),\n",
       "       array([-1., -1., -1., ..., -1., -1., -1.]),\n",
       "       array([-1.,  1., -1., ..., -1., -1., -1.]),\n",
       "       array([ 1., -1., -1., ..., -1., -1.,  1.]),\n",
       "       array([-1.,  1.,  1., ..., -1.,  1., -1.]),\n",
       "       array([ 1.,  1., -1., ...,  1.,  1.,  1.]),\n",
       "       array([-1., -1., -1., ...,  1., -1.,  1.]),\n",
       "       array([-1., -1., -1., ..., -1., -1., -1.]),\n",
       "       array([-1.,  1.,  1., ..., -1., -1., -1.]),\n",
       "       array([ 1.,  1., -1., ..., -1., -1., -1.]),\n",
       "       array([-1., -1., -1., ...,  1.,  1.,  1.]),\n",
       "       array([-1., -1., -1., ...,  1., -1.,  1.]),\n",
       "       array([-1., -1., -1., ..., -1., -1.,  1.]),\n",
       "       array([ 1., -1., -1., ...,  1., -1., -1.]),\n",
       "       array([-1., -1., -1., ...,  1., -1., -1.]),\n",
       "       array([-1., -1., -1., ..., -1., -1., -1.]),\n",
       "       array([-1., -1., -1., ...,  1.,  1., -1.]),\n",
       "       array([-1., -1., -1., ..., -1., -1., -1.]),\n",
       "       array([-1.,  1.,  1., ..., -1.,  1., -1.]),\n",
       "       array([-1., -1., -1., ...,  1., -1., -1.]),\n",
       "       array([-1., -1., -1., ..., -1.,  1.,  1.]),\n",
       "       array([-1., -1.,  1., ..., -1., -1., -1.]),\n",
       "       array([-1., -1.,  1., ..., -1., -1.,  1.]),\n",
       "       array([-1., -1.,  1., ...,  1., -1., -1.]),\n",
       "       array([-1., -1., -1., ..., -1.,  1.,  1.]),\n",
       "       array([-1., -1., -1., ..., -1., -1., -1.]),\n",
       "       array([-1.,  1., -1., ..., -1., -1., -1.]),\n",
       "       array([ 1.,  1., -1., ..., -1., -1.,  1.]),\n",
       "       array([-1., -1., -1., ...,  1.,  1., -1.]),\n",
       "       array([-1., -1., -1., ..., -1., -1.,  1.]),\n",
       "       array([-1., -1., -1., ...,  1., -1.,  1.]),\n",
       "       array([ 1.,  1., -1., ..., -1., -1.,  1.]),\n",
       "       array([-1., -1., -1., ..., -1., -1.,  1.]),\n",
       "       array([ 1.,  1., -1., ...,  1., -1.,  1.]),\n",
       "       array([-1., -1., -1., ..., -1., -1., -1.]),\n",
       "       array([-1., -1., -1., ..., -1., -1., -1.]),\n",
       "       array([-1., -1.,  1., ...,  1.,  1., -1.]),\n",
       "       array([ 1., -1.,  1., ...,  1.,  1.,  1.]),\n",
       "       array([ 1., -1.,  1., ..., -1.,  1.,  1.]),\n",
       "       array([-1., -1.,  1., ...,  1., -1., -1.]),\n",
       "       array([-1., -1.,  1., ..., -1., -1.,  1.]),\n",
       "       array([-1.,  1.,  1., ...,  1., -1.,  1.]),\n",
       "       array([ 1., -1., -1., ..., -1., -1.,  1.]),\n",
       "       array([ 1.,  1.,  1., ..., -1., -1.,  1.]),\n",
       "       array([-1., -1., -1., ..., -1., -1., -1.]),\n",
       "       array([-1.,  1.,  1., ..., -1., -1., -1.]),\n",
       "       array([ 1., -1., -1., ...,  1., -1., -1.]),\n",
       "       array([-1.,  1.,  1., ...,  1.,  1.,  1.]),\n",
       "       array([-1., -1., -1., ...,  1., -1.,  1.]),\n",
       "       array([-1.,  1., -1., ..., -1., -1., -1.]),\n",
       "       array([-1., -1.,  1., ..., -1., -1., -1.]),\n",
       "       array([-1., -1.,  1., ...,  1.,  1., -1.]),\n",
       "       array([-1., -1., -1., ..., -1., -1.,  1.]),\n",
       "       array([ 1.,  1., -1., ..., -1.,  1.,  1.]),\n",
       "       array([-1., -1., -1., ...,  1., -1., -1.]),\n",
       "       array([ 1.,  1., -1., ...,  1., -1., -1.]),\n",
       "       array([-1., -1., -1., ..., -1.,  1.,  1.]),\n",
       "       array([-1., -1., -1., ...,  1., -1., -1.]),\n",
       "       array([-1.,  1., -1., ..., -1., -1., -1.]),\n",
       "       array([ 1.,  1.,  1., ..., -1., -1., -1.]),\n",
       "       array([ 1.,  1.,  1., ..., -1., -1.,  1.]),\n",
       "       array([ 1.,  1., -1., ...,  1., -1., -1.]),\n",
       "       array([ 1.,  1.,  1., ...,  1., -1.,  1.]),\n",
       "       array([ 1.,  1.,  1., ...,  1., -1., -1.]),\n",
       "       array([ 1.,  1.,  1., ..., -1.,  1.,  1.]),\n",
       "       array([ 1.,  1.,  1., ..., -1.,  1.,  1.]),\n",
       "       array([ 1.,  1.,  1., ..., -1., -1., -1.]),\n",
       "       array([-1., -1., -1., ..., -1.,  1.,  1.]),\n",
       "       array([-1.,  1., -1., ...,  1.,  1.,  1.]),\n",
       "       array([ 1., -1., -1., ..., -1., -1.,  1.]),\n",
       "       array([ 1.,  1., -1., ..., -1., -1., -1.]),\n",
       "       array([ 1.,  1., -1., ..., -1.,  1., -1.]),\n",
       "       array([ 1.,  1., -1., ..., -1., -1., -1.]),\n",
       "       array([ 1.,  1.,  1., ...,  1.,  1., -1.]),\n",
       "       array([ 1.,  1.,  1., ..., -1.,  1., -1.]),\n",
       "       array([ 1., -1., -1., ...,  1.,  1., -1.]),\n",
       "       array([ 1., -1.,  1., ..., -1., -1.,  1.]),\n",
       "       array([ 1., -1., -1., ..., -1., -1., -1.]),\n",
       "       array([ 1.,  1., -1., ..., -1.,  1., -1.]),\n",
       "       array([ 1., -1.,  1., ...,  1.,  1., -1.]),\n",
       "       array([-1.,  1., -1., ..., -1.,  1., -1.]),\n",
       "       array([ 1.,  1.,  1., ...,  1., -1., -1.]),\n",
       "       array([-1., -1., -1., ..., -1., -1., -1.]),\n",
       "       array([ 1.,  1.,  1., ..., -1., -1., -1.]),\n",
       "       array([ 1.,  1., -1., ..., -1., -1., -1.]),\n",
       "       array([-1., -1., -1., ..., -1.,  1., -1.]),\n",
       "       array([ 1., -1., -1., ...,  1.,  1., -1.]),\n",
       "       array([ 1., -1., -1., ..., -1., -1., -1.]),\n",
       "       array([ 1.,  1.,  1., ...,  1.,  1., -1.]),\n",
       "       array([-1.,  1., -1., ...,  1.,  1.,  1.]),\n",
       "       array([ 1., -1., -1., ..., -1.,  1., -1.]),\n",
       "       array([ 1.,  1.,  1., ...,  1., -1., -1.])], dtype=object)"
      ]
     },
     "execution_count": 18,
     "metadata": {},
     "output_type": "execute_result"
    }
   ],
   "source": [
    "y"
   ]
  },
  {
   "cell_type": "code",
   "execution_count": 19,
   "metadata": {},
   "outputs": [],
   "source": [
    "#da_days = da.from_array(days, chunks=(7000, 7000))"
   ]
  },
  {
   "cell_type": "markdown",
   "metadata": {},
   "source": [
    "# Exploratory view on the URLs"
   ]
  },
  {
   "cell_type": "code",
   "execution_count": 20,
   "metadata": {},
   "outputs": [],
   "source": [
    "totalurls = np.empty(0)\n",
    "\n",
    "for day in days:\n",
    "    totalurls =np.append(totalurls, day[1])"
   ]
  },
  {
   "cell_type": "code",
   "execution_count": 21,
   "metadata": {},
   "outputs": [
    {
     "data": {
      "text/plain": [
       "array([-1., -1., -1., ...,  1., -1., -1.])"
      ]
     },
     "execution_count": 21,
     "metadata": {},
     "output_type": "execute_result"
    }
   ],
   "source": [
    "totalurls"
   ]
  },
  {
   "cell_type": "code",
   "execution_count": 23,
   "metadata": {
    "scrolled": true
   },
   "outputs": [
    {
     "data": {
      "image/png": "[encoded data removed]",
      "text/plain": [
       "<Figure size 432x288 with 1 Axes>"
      ]
     },
     "metadata": {
      "needs_background": "light"
     },
     "output_type": "display_data"
    }
   ],
   "source": [
    "plt.hist(totalurls, 100)\n",
    "plt.xlabel(\"Range of good and bad URLs\", fontdict={'fontsize': 14, 'family': 'monospace'})\n",
    "plt.show()"
   ]
  },
  {
   "cell_type": "markdown",
   "metadata": {},
   "source": [
    "# Fitting model on raw data"
   ]
  },
  {
   "cell_type": "markdown",
   "metadata": {},
   "source": [
    "## SVM"
   ]
  },
  {
   "cell_type": "code",
   "execution_count": 24,
   "metadata": {},
   "outputs": [],
   "source": [
    "from dask_ml.model_selection import GridSearchCV"
   ]
  },
  {
   "cell_type": "code",
   "execution_count": 26,
   "metadata": {},
   "outputs": [],
   "source": [
    "from sklearn.model_selection import train_test_split"
   ]
  },
  {
   "cell_type": "code",
   "execution_count": 25,
   "metadata": {},
   "outputs": [],
   "source": [
    "estimator = svm.SVC(gamma='auto', random_state=0, probability=True)\n",
    "\n",
    "param_grid = {\n",
    "    'C': [0.1, 1.0, 20.0, 100.0],\n",
    "    'kernel': ['rbf', 'poly', 'linear'],\n",
    "}\n",
    "\n",
    "grid_search = GridSearchCV(estimator, param_grid, n_jobs=-1, cv=2)"
   ]
  },
  {
   "cell_type": "markdown",
   "metadata": {},
   "source": [
    "## Train test split"
   ]
  },
  {
   "cell_type": "code",
   "execution_count": 30,
   "metadata": {},
   "outputs": [
    {
     "name": "stderr",
     "output_type": "stream",
     "text": [
      "/home/giordano/anaconda3/envs/da2019/lib/python3.6/site-packages/sklearn/model_selection/_split.py:2179: FutureWarning: From version 0.21, test_size will always complement train_size unless both are specified.\n",
      "  FutureWarning)\n"
     ]
    }
   ],
   "source": [
    "x_train, x_test, y_train, y_test = train_test_split(x, y, train_size=0.3)"
   ]
  },
  {
   "cell_type": "code",
   "execution_count": 116,
   "metadata": {
    "collapsed": true
   },
   "outputs": [
    {
     "data": {
      "text/plain": [
       "array([<20000x3231961 sparse matrix of type '<class 'numpy.float64'>'\n",
       "\twith 2299309 stored elements in Compressed Sparse Row format>,\n",
       "       <20000x3231961 sparse matrix of type '<class 'numpy.float64'>'\n",
       "\twith 2300129 stored elements in Compressed Sparse Row format>,\n",
       "       <20000x3231961 sparse matrix of type '<class 'numpy.float64'>'\n",
       "\twith 2302256 stored elements in Compressed Sparse Row format>,\n",
       "       <20000x3231961 sparse matrix of type '<class 'numpy.float64'>'\n",
       "\twith 2340800 stored elements in Compressed Sparse Row format>,\n",
       "       <20000x3231961 sparse matrix of type '<class 'numpy.float64'>'\n",
       "\twith 2355553 stored elements in Compressed Sparse Row format>,\n",
       "       <20000x3231961 sparse matrix of type '<class 'numpy.float64'>'\n",
       "\twith 2318747 stored elements in Compressed Sparse Row format>,\n",
       "       <20000x3231961 sparse matrix of type '<class 'numpy.float64'>'\n",
       "\twith 2347018 stored elements in Compressed Sparse Row format>,\n",
       "       <20000x3231961 sparse matrix of type '<class 'numpy.float64'>'\n",
       "\twith 2303165 stored elements in Compressed Sparse Row format>,\n",
       "       <20000x3231961 sparse matrix of type '<class 'numpy.float64'>'\n",
       "\twith 2335832 stored elements in Compressed Sparse Row format>,\n",
       "       <20000x3231961 sparse matrix of type '<class 'numpy.float64'>'\n",
       "\twith 2374757 stored elements in Compressed Sparse Row format>,\n",
       "       <20000x3231961 sparse matrix of type '<class 'numpy.float64'>'\n",
       "\twith 2311224 stored elements in Compressed Sparse Row format>,\n",
       "       <20000x3231961 sparse matrix of type '<class 'numpy.float64'>'\n",
       "\twith 2253014 stored elements in Compressed Sparse Row format>,\n",
       "       <20000x3231961 sparse matrix of type '<class 'numpy.float64'>'\n",
       "\twith 2298268 stored elements in Compressed Sparse Row format>,\n",
       "       <20000x3231961 sparse matrix of type '<class 'numpy.float64'>'\n",
       "\twith 2290760 stored elements in Compressed Sparse Row format>,\n",
       "       <20000x3231961 sparse matrix of type '<class 'numpy.float64'>'\n",
       "\twith 2310527 stored elements in Compressed Sparse Row format>,\n",
       "       <20000x3231961 sparse matrix of type '<class 'numpy.float64'>'\n",
       "\twith 2271101 stored elements in Compressed Sparse Row format>,\n",
       "       <20000x3231961 sparse matrix of type '<class 'numpy.float64'>'\n",
       "\twith 2296394 stored elements in Compressed Sparse Row format>,\n",
       "       <20000x3231961 sparse matrix of type '<class 'numpy.float64'>'\n",
       "\twith 2356102 stored elements in Compressed Sparse Row format>,\n",
       "       <20000x3231961 sparse matrix of type '<class 'numpy.float64'>'\n",
       "\twith 2337699 stored elements in Compressed Sparse Row format>,\n",
       "       <20000x3231961 sparse matrix of type '<class 'numpy.float64'>'\n",
       "\twith 2336661 stored elements in Compressed Sparse Row format>,\n",
       "       <20000x3231961 sparse matrix of type '<class 'numpy.float64'>'\n",
       "\twith 2312341 stored elements in Compressed Sparse Row format>,\n",
       "       <20000x3231961 sparse matrix of type '<class 'numpy.float64'>'\n",
       "\twith 2333942 stored elements in Compressed Sparse Row format>,\n",
       "       <20000x3231961 sparse matrix of type '<class 'numpy.float64'>'\n",
       "\twith 2262535 stored elements in Compressed Sparse Row format>,\n",
       "       <20000x3231961 sparse matrix of type '<class 'numpy.float64'>'\n",
       "\twith 2337375 stored elements in Compressed Sparse Row format>,\n",
       "       <20000x3231961 sparse matrix of type '<class 'numpy.float64'>'\n",
       "\twith 2291848 stored elements in Compressed Sparse Row format>,\n",
       "       <20000x3231961 sparse matrix of type '<class 'numpy.float64'>'\n",
       "\twith 2362283 stored elements in Compressed Sparse Row format>,\n",
       "       <20000x3231961 sparse matrix of type '<class 'numpy.float64'>'\n",
       "\twith 2385920 stored elements in Compressed Sparse Row format>,\n",
       "       <20000x3231961 sparse matrix of type '<class 'numpy.float64'>'\n",
       "\twith 2277490 stored elements in Compressed Sparse Row format>,\n",
       "       <20000x3231961 sparse matrix of type '<class 'numpy.float64'>'\n",
       "\twith 2245868 stored elements in Compressed Sparse Row format>,\n",
       "       <20000x3231961 sparse matrix of type '<class 'numpy.float64'>'\n",
       "\twith 2304202 stored elements in Compressed Sparse Row format>,\n",
       "       <20000x3231961 sparse matrix of type '<class 'numpy.float64'>'\n",
       "\twith 2344814 stored elements in Compressed Sparse Row format>,\n",
       "       <20000x3231961 sparse matrix of type '<class 'numpy.float64'>'\n",
       "\twith 2375268 stored elements in Compressed Sparse Row format>,\n",
       "       <20000x3231961 sparse matrix of type '<class 'numpy.float64'>'\n",
       "\twith 2275360 stored elements in Compressed Sparse Row format>,\n",
       "       <20000x3231961 sparse matrix of type '<class 'numpy.float64'>'\n",
       "\twith 2275257 stored elements in Compressed Sparse Row format>,\n",
       "       <20000x3231961 sparse matrix of type '<class 'numpy.float64'>'\n",
       "\twith 2339724 stored elements in Compressed Sparse Row format>],\n",
       "      dtype=object)"
      ]
     },
     "execution_count": 116,
     "metadata": {},
     "output_type": "execute_result"
    }
   ],
   "source": [
    "x_train"
   ]
  },
  {
   "cell_type": "markdown",
   "metadata": {},
   "source": [
    "First apply grid search model to find the best parameters to svm"
   ]
  },
  {
   "cell_type": "code",
   "execution_count": 31,
   "metadata": {},
   "outputs": [],
   "source": [
    "grid_search = GridSearchCV(estimator, param_grid, n_jobs=-1, cv=2)"
   ]
  },
  {
   "cell_type": "code",
   "execution_count": 32,
   "metadata": {},
   "outputs": [],
   "source": [
    "index = random.randint(0, len(x_train)) "
   ]
  },
  {
   "cell_type": "code",
   "execution_count": 33,
   "metadata": {},
   "outputs": [
    {
     "name": "stdout",
     "output_type": "stream",
     "text": [
      "CPU times: user 1h 18min 58s, sys: 15.1 s, total: 1h 19min 13s\n",
      "Wall time: 22min 29s\n"
     ]
    },
    {
     "data": {
      "text/plain": [
       "GridSearchCV(cache_cv=True, cv=2, error_score='raise',\n",
       "       estimator=SVC(C=1.0, cache_size=200, class_weight=None, coef0=0.0,\n",
       "  decision_function_shape='ovr', degree=3, gamma='auto', kernel='rbf',\n",
       "  max_iter=-1, probability=True, random_state=0, shrinking=True, tol=0.001,\n",
       "  verbose=False),\n",
       "       iid=True, n_jobs=-1,\n",
       "       param_grid={'C': [0.1, 1.0, 20.0, 100.0], 'kernel': ['rbf', 'poly', 'linear']},\n",
       "       refit=True, return_train_score='warn', scheduler=None, scoring=None)"
      ]
     },
     "execution_count": 33,
     "metadata": {},
     "output_type": "execute_result"
    }
   ],
   "source": [
    "%time grid_search.fit(x_train[index], y_train[index])"
   ]
  },
  {
   "cell_type": "code",
   "execution_count": 69,
   "metadata": {},
   "outputs": [
    {
     "name": "stderr",
     "output_type": "stream",
     "text": [
      "/home/giordano/anaconda3/envs/da2019/lib/python3.6/site-packages/dask_ml/model_selection/utils.py:122: FutureWarning: You are accessing a training score ('split0_train_score'), which will not be available by default any more in sklearn 0.21. If you need training scores, please set return_train_score=True\n",
      "  warnings.warn(*warn_args, **warn_kwargs)\n",
      "/home/giordano/anaconda3/envs/da2019/lib/python3.6/site-packages/dask_ml/model_selection/utils.py:122: FutureWarning: You are accessing a training score ('split1_train_score'), which will not be available by default any more in sklearn 0.21. If you need training scores, please set return_train_score=True\n",
      "  warnings.warn(*warn_args, **warn_kwargs)\n",
      "/home/giordano/anaconda3/envs/da2019/lib/python3.6/site-packages/dask_ml/model_selection/utils.py:122: FutureWarning: You are accessing a training score ('mean_train_score'), which will not be available by default any more in sklearn 0.21. If you need training scores, please set return_train_score=True\n",
      "  warnings.warn(*warn_args, **warn_kwargs)\n",
      "/home/giordano/anaconda3/envs/da2019/lib/python3.6/site-packages/dask_ml/model_selection/utils.py:122: FutureWarning: You are accessing a training score ('std_train_score'), which will not be available by default any more in sklearn 0.21. If you need training scores, please set return_train_score=True\n",
      "  warnings.warn(*warn_args, **warn_kwargs)\n"
     ]
    },
    {
     "data": {
      "text/html": [
       "<div>\n",
       "<style scoped>\n",
       "    .dataframe tbody tr th:only-of-type {\n",
       "        vertical-align: middle;\n",
       "    }\n",
       "\n",
       "    .dataframe tbody tr th {\n",
       "        vertical-align: top;\n",
       "    }\n",
       "\n",
       "    .dataframe thead th {\n",
       "        text-align: right;\n",
       "    }\n",
       "</style>\n",
       "<table border=\"1\" class=\"dataframe\">\n",
       "  <thead>\n",
       "    <tr style=\"text-align: right;\">\n",
       "      <th></th>\n",
       "      <th>params</th>\n",
       "      <th>mean_fit_time</th>\n",
       "      <th>std_fit_time</th>\n",
       "      <th>mean_score_time</th>\n",
       "      <th>std_score_time</th>\n",
       "      <th>split0_test_score</th>\n",
       "      <th>split1_test_score</th>\n",
       "      <th>mean_test_score</th>\n",
       "      <th>std_test_score</th>\n",
       "      <th>rank_test_score</th>\n",
       "      <th>split0_train_score</th>\n",
       "      <th>split1_train_score</th>\n",
       "      <th>mean_train_score</th>\n",
       "      <th>std_train_score</th>\n",
       "      <th>param_C</th>\n",
       "      <th>param_kernel</th>\n",
       "    </tr>\n",
       "  </thead>\n",
       "  <tbody>\n",
       "    <tr>\n",
       "      <th>0</th>\n",
       "      <td>{'C': 0.1, 'kernel': 'rbf'}</td>\n",
       "      <td>287.717076</td>\n",
       "      <td>0.238698</td>\n",
       "      <td>48.722722</td>\n",
       "      <td>0.027018</td>\n",
       "      <td>0.6770</td>\n",
       "      <td>0.6770</td>\n",
       "      <td>0.67700</td>\n",
       "      <td>0.00000</td>\n",
       "      <td>6</td>\n",
       "      <td>0.6770</td>\n",
       "      <td>0.6770</td>\n",
       "      <td>0.6770</td>\n",
       "      <td>0.0000</td>\n",
       "      <td>0.1</td>\n",
       "      <td>rbf</td>\n",
       "    </tr>\n",
       "    <tr>\n",
       "      <th>1</th>\n",
       "      <td>{'C': 0.1, 'kernel': 'poly'}</td>\n",
       "      <td>270.936259</td>\n",
       "      <td>2.517677</td>\n",
       "      <td>40.392232</td>\n",
       "      <td>0.321165</td>\n",
       "      <td>0.6770</td>\n",
       "      <td>0.6770</td>\n",
       "      <td>0.67700</td>\n",
       "      <td>0.00000</td>\n",
       "      <td>6</td>\n",
       "      <td>0.6770</td>\n",
       "      <td>0.6770</td>\n",
       "      <td>0.6770</td>\n",
       "      <td>0.0000</td>\n",
       "      <td>0.1</td>\n",
       "      <td>poly</td>\n",
       "    </tr>\n",
       "    <tr>\n",
       "      <th>2</th>\n",
       "      <td>{'C': 0.1, 'kernel': 'linear'}</td>\n",
       "      <td>48.920876</td>\n",
       "      <td>5.378895</td>\n",
       "      <td>7.708634</td>\n",
       "      <td>0.054018</td>\n",
       "      <td>0.9836</td>\n",
       "      <td>0.9820</td>\n",
       "      <td>0.98280</td>\n",
       "      <td>0.00080</td>\n",
       "      <td>1</td>\n",
       "      <td>0.9991</td>\n",
       "      <td>0.9989</td>\n",
       "      <td>0.9990</td>\n",
       "      <td>0.0001</td>\n",
       "      <td>0.1</td>\n",
       "      <td>linear</td>\n",
       "    </tr>\n",
       "    <tr>\n",
       "      <th>3</th>\n",
       "      <td>{'C': 1.0, 'kernel': 'rbf'}</td>\n",
       "      <td>312.948779</td>\n",
       "      <td>2.221242</td>\n",
       "      <td>50.013410</td>\n",
       "      <td>0.522697</td>\n",
       "      <td>0.6770</td>\n",
       "      <td>0.6770</td>\n",
       "      <td>0.67700</td>\n",
       "      <td>0.00000</td>\n",
       "      <td>6</td>\n",
       "      <td>0.6770</td>\n",
       "      <td>0.6770</td>\n",
       "      <td>0.6770</td>\n",
       "      <td>0.0000</td>\n",
       "      <td>1</td>\n",
       "      <td>rbf</td>\n",
       "    </tr>\n",
       "    <tr>\n",
       "      <th>4</th>\n",
       "      <td>{'C': 1.0, 'kernel': 'poly'}</td>\n",
       "      <td>271.050207</td>\n",
       "      <td>1.548006</td>\n",
       "      <td>42.146087</td>\n",
       "      <td>0.603089</td>\n",
       "      <td>0.6770</td>\n",
       "      <td>0.6770</td>\n",
       "      <td>0.67700</td>\n",
       "      <td>0.00000</td>\n",
       "      <td>6</td>\n",
       "      <td>0.6770</td>\n",
       "      <td>0.6770</td>\n",
       "      <td>0.6770</td>\n",
       "      <td>0.0000</td>\n",
       "      <td>1</td>\n",
       "      <td>poly</td>\n",
       "    </tr>\n",
       "    <tr>\n",
       "      <th>5</th>\n",
       "      <td>{'C': 1.0, 'kernel': 'linear'}</td>\n",
       "      <td>42.206410</td>\n",
       "      <td>0.882814</td>\n",
       "      <td>6.214107</td>\n",
       "      <td>0.597595</td>\n",
       "      <td>0.9832</td>\n",
       "      <td>0.9817</td>\n",
       "      <td>0.98245</td>\n",
       "      <td>0.00075</td>\n",
       "      <td>2</td>\n",
       "      <td>1.0000</td>\n",
       "      <td>1.0000</td>\n",
       "      <td>1.0000</td>\n",
       "      <td>0.0000</td>\n",
       "      <td>1</td>\n",
       "      <td>linear</td>\n",
       "    </tr>\n",
       "    <tr>\n",
       "      <th>6</th>\n",
       "      <td>{'C': 20.0, 'kernel': 'rbf'}</td>\n",
       "      <td>325.010774</td>\n",
       "      <td>3.499314</td>\n",
       "      <td>53.640535</td>\n",
       "      <td>1.272588</td>\n",
       "      <td>0.6770</td>\n",
       "      <td>0.6770</td>\n",
       "      <td>0.67700</td>\n",
       "      <td>0.00000</td>\n",
       "      <td>6</td>\n",
       "      <td>0.6770</td>\n",
       "      <td>0.6770</td>\n",
       "      <td>0.6770</td>\n",
       "      <td>0.0000</td>\n",
       "      <td>20</td>\n",
       "      <td>rbf</td>\n",
       "    </tr>\n",
       "    <tr>\n",
       "      <th>7</th>\n",
       "      <td>{'C': 20.0, 'kernel': 'poly'}</td>\n",
       "      <td>274.124039</td>\n",
       "      <td>1.979885</td>\n",
       "      <td>49.443014</td>\n",
       "      <td>4.305748</td>\n",
       "      <td>0.6770</td>\n",
       "      <td>0.6770</td>\n",
       "      <td>0.67700</td>\n",
       "      <td>0.00000</td>\n",
       "      <td>6</td>\n",
       "      <td>0.6770</td>\n",
       "      <td>0.6770</td>\n",
       "      <td>0.6770</td>\n",
       "      <td>0.0000</td>\n",
       "      <td>20</td>\n",
       "      <td>poly</td>\n",
       "    </tr>\n",
       "    <tr>\n",
       "      <th>8</th>\n",
       "      <td>{'C': 20.0, 'kernel': 'linear'}</td>\n",
       "      <td>42.483388</td>\n",
       "      <td>2.738713</td>\n",
       "      <td>6.922708</td>\n",
       "      <td>0.394217</td>\n",
       "      <td>0.9825</td>\n",
       "      <td>0.9816</td>\n",
       "      <td>0.98205</td>\n",
       "      <td>0.00045</td>\n",
       "      <td>3</td>\n",
       "      <td>1.0000</td>\n",
       "      <td>1.0000</td>\n",
       "      <td>1.0000</td>\n",
       "      <td>0.0000</td>\n",
       "      <td>20</td>\n",
       "      <td>linear</td>\n",
       "    </tr>\n",
       "    <tr>\n",
       "      <th>9</th>\n",
       "      <td>{'C': 100.0, 'kernel': 'rbf'}</td>\n",
       "      <td>317.728947</td>\n",
       "      <td>4.355591</td>\n",
       "      <td>54.637758</td>\n",
       "      <td>0.753373</td>\n",
       "      <td>0.7822</td>\n",
       "      <td>0.7739</td>\n",
       "      <td>0.77805</td>\n",
       "      <td>0.00415</td>\n",
       "      <td>5</td>\n",
       "      <td>0.8239</td>\n",
       "      <td>0.7729</td>\n",
       "      <td>0.7984</td>\n",
       "      <td>0.0255</td>\n",
       "      <td>100</td>\n",
       "      <td>rbf</td>\n",
       "    </tr>\n",
       "    <tr>\n",
       "      <th>10</th>\n",
       "      <td>{'C': 100.0, 'kernel': 'poly'}</td>\n",
       "      <td>272.910074</td>\n",
       "      <td>0.108677</td>\n",
       "      <td>46.988651</td>\n",
       "      <td>0.637925</td>\n",
       "      <td>0.6770</td>\n",
       "      <td>0.6770</td>\n",
       "      <td>0.67700</td>\n",
       "      <td>0.00000</td>\n",
       "      <td>6</td>\n",
       "      <td>0.6770</td>\n",
       "      <td>0.6770</td>\n",
       "      <td>0.6770</td>\n",
       "      <td>0.0000</td>\n",
       "      <td>100</td>\n",
       "      <td>poly</td>\n",
       "    </tr>\n",
       "    <tr>\n",
       "      <th>11</th>\n",
       "      <td>{'C': 100.0, 'kernel': 'linear'}</td>\n",
       "      <td>37.210549</td>\n",
       "      <td>1.793639</td>\n",
       "      <td>4.529937</td>\n",
       "      <td>0.744610</td>\n",
       "      <td>0.9825</td>\n",
       "      <td>0.9816</td>\n",
       "      <td>0.98205</td>\n",
       "      <td>0.00045</td>\n",
       "      <td>3</td>\n",
       "      <td>1.0000</td>\n",
       "      <td>1.0000</td>\n",
       "      <td>1.0000</td>\n",
       "      <td>0.0000</td>\n",
       "      <td>100</td>\n",
       "      <td>linear</td>\n",
       "    </tr>\n",
       "  </tbody>\n",
       "</table>\n",
       "</div>"
      ],
      "text/plain": [
       "                              params  mean_fit_time  std_fit_time  \\\n",
       "0        {'C': 0.1, 'kernel': 'rbf'}     287.717076      0.238698   \n",
       "1       {'C': 0.1, 'kernel': 'poly'}     270.936259      2.517677   \n",
       "2     {'C': 0.1, 'kernel': 'linear'}      48.920876      5.378895   \n",
       "3        {'C': 1.0, 'kernel': 'rbf'}     312.948779      2.221242   \n",
       "4       {'C': 1.0, 'kernel': 'poly'}     271.050207      1.548006   \n",
       "5     {'C': 1.0, 'kernel': 'linear'}      42.206410      0.882814   \n",
       "6       {'C': 20.0, 'kernel': 'rbf'}     325.010774      3.499314   \n",
       "7      {'C': 20.0, 'kernel': 'poly'}     274.124039      1.979885   \n",
       "8    {'C': 20.0, 'kernel': 'linear'}      42.483388      2.738713   \n",
       "9      {'C': 100.0, 'kernel': 'rbf'}     317.728947      4.355591   \n",
       "10    {'C': 100.0, 'kernel': 'poly'}     272.910074      0.108677   \n",
       "11  {'C': 100.0, 'kernel': 'linear'}      37.210549      1.793639   \n",
       "\n",
       "    mean_score_time  std_score_time  split0_test_score  split1_test_score  \\\n",
       "0         48.722722        0.027018             0.6770             0.6770   \n",
       "1         40.392232        0.321165             0.6770             0.6770   \n",
       "2          7.708634        0.054018             0.9836             0.9820   \n",
       "3         50.013410        0.522697             0.6770             0.6770   \n",
       "4         42.146087        0.603089             0.6770             0.6770   \n",
       "5          6.214107        0.597595             0.9832             0.9817   \n",
       "6         53.640535        1.272588             0.6770             0.6770   \n",
       "7         49.443014        4.305748             0.6770             0.6770   \n",
       "8          6.922708        0.394217             0.9825             0.9816   \n",
       "9         54.637758        0.753373             0.7822             0.7739   \n",
       "10        46.988651        0.637925             0.6770             0.6770   \n",
       "11         4.529937        0.744610             0.9825             0.9816   \n",
       "\n",
       "    mean_test_score  std_test_score  rank_test_score  split0_train_score  \\\n",
       "0           0.67700         0.00000                6              0.6770   \n",
       "1           0.67700         0.00000                6              0.6770   \n",
       "2           0.98280         0.00080                1              0.9991   \n",
       "3           0.67700         0.00000                6              0.6770   \n",
       "4           0.67700         0.00000                6              0.6770   \n",
       "5           0.98245         0.00075                2              1.0000   \n",
       "6           0.67700         0.00000                6              0.6770   \n",
       "7           0.67700         0.00000                6              0.6770   \n",
       "8           0.98205         0.00045                3              1.0000   \n",
       "9           0.77805         0.00415                5              0.8239   \n",
       "10          0.67700         0.00000                6              0.6770   \n",
       "11          0.98205         0.00045                3              1.0000   \n",
       "\n",
       "    split1_train_score  mean_train_score  std_train_score param_C param_kernel  \n",
       "0               0.6770            0.6770           0.0000     0.1          rbf  \n",
       "1               0.6770            0.6770           0.0000     0.1         poly  \n",
       "2               0.9989            0.9990           0.0001     0.1       linear  \n",
       "3               0.6770            0.6770           0.0000       1          rbf  \n",
       "4               0.6770            0.6770           0.0000       1         poly  \n",
       "5               1.0000            1.0000           0.0000       1       linear  \n",
       "6               0.6770            0.6770           0.0000      20          rbf  \n",
       "7               0.6770            0.6770           0.0000      20         poly  \n",
       "8               1.0000            1.0000           0.0000      20       linear  \n",
       "9               0.7729            0.7984           0.0255     100          rbf  \n",
       "10              0.6770            0.6770           0.0000     100         poly  \n",
       "11              1.0000            1.0000           0.0000     100       linear  "
      ]
     },
     "execution_count": 69,
     "metadata": {},
     "output_type": "execute_result"
    }
   ],
   "source": [
    "pd.DataFrame(grid_search2.cv_results_)"
   ]
  },
  {
   "cell_type": "code",
   "execution_count": 37,
   "metadata": {},
   "outputs": [
    {
     "data": {
      "text/plain": [
       "{'C': 0.1, 'kernel': 'linear'}"
      ]
     },
     "execution_count": 37,
     "metadata": {},
     "output_type": "execute_result"
    }
   ],
   "source": [
    "grid_search.best_params_"
   ]
  },
  {
   "cell_type": "code",
   "execution_count": 38,
   "metadata": {},
   "outputs": [
    {
     "data": {
      "text/plain": [
       "SVC(C=0.1, cache_size=200, class_weight=None, coef0=0.0,\n",
       "  decision_function_shape='ovr', degree=3, gamma='auto', kernel='linear',\n",
       "  max_iter=-1, probability=True, random_state=0, shrinking=True, tol=0.001,\n",
       "  verbose=False)"
      ]
     },
     "execution_count": 38,
     "metadata": {},
     "output_type": "execute_result"
    }
   ],
   "source": [
    "grid_search.best_estimator_"
   ]
  },
  {
   "cell_type": "code",
   "execution_count": 40,
   "metadata": {},
   "outputs": [
    {
     "data": {
      "text/plain": [
       "0.95055"
      ]
     },
     "execution_count": 40,
     "metadata": {},
     "output_type": "execute_result"
    }
   ],
   "source": [
    "grid_search.score(x_test[7], y_test[7])"
   ]
  },
  {
   "cell_type": "code",
   "execution_count": 41,
   "metadata": {},
   "outputs": [
    {
     "name": "stdout",
     "output_type": "stream",
     "text": [
      "CPU times: user 16 s, sys: 8.08 ms, total: 16 s\n",
      "Wall time: 16 s\n"
     ]
    }
   ],
   "source": [
    "%time result = grid_search.predict(x_test[25])"
   ]
  },
  {
   "cell_type": "code",
   "execution_count": 42,
   "metadata": {
    "scrolled": true
   },
   "outputs": [
    {
     "data": {
      "text/plain": [
       "False"
      ]
     },
     "execution_count": 42,
     "metadata": {},
     "output_type": "execute_result"
    }
   ],
   "source": [
    "np.array_equal(result, y_test[25])"
   ]
  },
  {
   "cell_type": "code",
   "execution_count": 43,
   "metadata": {},
   "outputs": [
    {
     "data": {
      "text/plain": [
       "19470"
      ]
     },
     "execution_count": 43,
     "metadata": {},
     "output_type": "execute_result"
    }
   ],
   "source": [
    "np.sum(result == y_test[25])"
   ]
  },
  {
   "cell_type": "code",
   "execution_count": 44,
   "metadata": {
    "scrolled": true
   },
   "outputs": [
    {
     "data": {
      "text/plain": [
       "530"
      ]
     },
     "execution_count": 44,
     "metadata": {},
     "output_type": "execute_result"
    }
   ],
   "source": [
    "np.sum(result != y_test[25])"
   ]
  },
  {
   "cell_type": "markdown",
   "metadata": {},
   "source": [
    "Train the model with other random urls from the training set"
   ]
  },
  {
   "cell_type": "code",
   "execution_count": 63,
   "metadata": {},
   "outputs": [],
   "source": [
    "index2 = random_index(x_test, index)"
   ]
  },
  {
   "cell_type": "code",
   "execution_count": 64,
   "metadata": {},
   "outputs": [
    {
     "data": {
      "text/plain": [
       "GridSearchCV(cache_cv=True, cv=2, error_score='raise',\n",
       "       estimator=SVC(C=1.0, cache_size=200, class_weight=None, coef0=0.0,\n",
       "  decision_function_shape='ovr', degree=3, gamma='auto', kernel='rbf',\n",
       "  max_iter=-1, probability=True, random_state=0, shrinking=True, tol=0.001,\n",
       "  verbose=False),\n",
       "       iid=True, n_jobs=-1,\n",
       "       param_grid={'C': [0.1, 1.0, 20.0, 100.0], 'kernel': ['rbf', 'poly', 'linear']},\n",
       "       refit=True, return_train_score='warn', scheduler=None, scoring=None)"
      ]
     },
     "execution_count": 64,
     "metadata": {},
     "output_type": "execute_result"
    }
   ],
   "source": [
    "grid_search.fit(x_test[index2], y_test[index2])"
   ]
  },
  {
   "cell_type": "code",
   "execution_count": 65,
   "metadata": {},
   "outputs": [
    {
     "data": {
      "text/plain": [
       "{'C': 0.1, 'kernel': 'linear'}"
      ]
     },
     "execution_count": 65,
     "metadata": {},
     "output_type": "execute_result"
    }
   ],
   "source": [
    "grid_search.best_params_"
   ]
  },
  {
   "cell_type": "code",
   "execution_count": 67,
   "metadata": {},
   "outputs": [
    {
     "data": {
      "text/plain": [
       "0.9666"
      ]
     },
     "execution_count": 67,
     "metadata": {},
     "output_type": "execute_result"
    }
   ],
   "source": [
    "index_test = random_index(x_test)\n",
    "grid_search.score(x_test[index_test], y_test[index_test])"
   ]
  },
  {
   "cell_type": "code",
   "execution_count": 70,
   "metadata": {
    "scrolled": true
   },
   "outputs": [
    {
     "data": {
      "text/plain": [
       "0.9723"
      ]
     },
     "execution_count": 70,
     "metadata": {},
     "output_type": "execute_result"
    }
   ],
   "source": [
    "index_test2 = random_index(x_test, index_test)\n",
    "grid_search.score(x_test[index_test2], y_test[index_test2])"
   ]
  },
  {
   "cell_type": "code",
   "execution_count": 71,
   "metadata": {},
   "outputs": [],
   "source": [
    "index3 = random_index(x_train, index2)"
   ]
  },
  {
   "cell_type": "markdown",
   "metadata": {},
   "source": [
    "Training with a smaller dataset"
   ]
  },
  {
   "cell_type": "code",
   "execution_count": 89,
   "metadata": {
    "scrolled": true
   },
   "outputs": [
    {
     "name": "stdout",
     "output_type": "stream",
     "text": [
      "CPU times: user 1h 1min 55s, sys: 7.51 s, total: 1h 2min 3s\n",
      "Wall time: 17min 27s\n"
     ]
    },
    {
     "data": {
      "text/plain": [
       "GridSearchCV(cache_cv=True, cv=2, error_score='raise',\n",
       "       estimator=SVC(C=1.0, cache_size=200, class_weight=None, coef0=0.0,\n",
       "  decision_function_shape='ovr', degree=3, gamma='auto', kernel='rbf',\n",
       "  max_iter=-1, probability=True, random_state=0, shrinking=True, tol=0.001,\n",
       "  verbose=False),\n",
       "       iid=True, n_jobs=-1,\n",
       "       param_grid={'C': [0.1, 1.0, 20.0, 100.0], 'kernel': ['rbf', 'poly', 'linear']},\n",
       "       refit=True, return_train_score='warn', scheduler=None, scoring=None)"
      ]
     },
     "execution_count": 89,
     "metadata": {},
     "output_type": "execute_result"
    }
   ],
   "source": [
    "%time grid_search.fit(x_train[index3][:15000,:], y_train[index3][:15000,])"
   ]
  },
  {
   "cell_type": "code",
   "execution_count": 92,
   "metadata": {},
   "outputs": [
    {
     "data": {
      "text/plain": [
       "0.9624"
      ]
     },
     "execution_count": 92,
     "metadata": {},
     "output_type": "execute_result"
    }
   ],
   "source": [
    "index_test4 = random_index(x_test, index_test3)\n",
    "grid_search.score(x_test[index_test4], y_test[index_test4])"
   ]
  },
  {
   "cell_type": "markdown",
   "metadata": {},
   "source": [
    "# Test on preprocessed data"
   ]
  },
  {
   "cell_type": "markdown",
   "metadata": {},
   "source": [
    "## Truncated SVD"
   ]
  },
  {
   "cell_type": "code",
   "execution_count": 19,
   "metadata": {},
   "outputs": [],
   "source": [
    "from sklearn.decomposition import TruncatedSVD"
   ]
  },
  {
   "cell_type": "code",
   "execution_count": 20,
   "metadata": {},
   "outputs": [],
   "source": [
    "mem_svd = Memory('./cache_svd')"
   ]
  },
  {
   "cell_type": "code",
   "execution_count": 24,
   "metadata": {},
   "outputs": [],
   "source": [
    "@mem_svd.cache\n",
    "def get_svd_array(dataset):\n",
    "    svd = TruncatedSVD(n_components=10)\n",
    "    svd_dataset = np.array([svd.fit_transform(day) for day in dataset])\n",
    "    return svd_dataset"
   ]
  },
  {
   "cell_type": "code",
   "execution_count": null,
   "metadata": {},
   "outputs": [
    {
     "name": "stderr",
     "output_type": "stream",
     "text": [
      "WARNING:root:[MemorizedFunc(func=<function get_svd_array at 0x7f38df1f4a60>, location=./cache_svd/joblib)]: Clearing function cache identified by __main__--home-giordano-Documenti-Universita-seas-Primo anno - secondo semestre-Data-Analitycs-Data-Analysis-project-__ipython-input__/get_svd_array\n"
     ]
    },
    {
     "name": "stdout",
     "output_type": "stream",
     "text": [
      "________________________________________________________________________________\n",
      "[Memory] Calling __main__--home-giordano-Documenti-Universita-seas-Primo anno - secondo semestre-Data-Analitycs-Data-Analysis-project-__ipython-input__.get_svd_array...\n",
      "get_svd_array(array([<20000x3231961 sparse matrix of type '<class 'numpy.float64'>'\n",
      "\twith 2304202 stored elements in Compressed Sparse Row format>,\n",
      "       ...,\n",
      "       <20000x3231961 sparse matrix of type '<class 'numpy.float64'>'\n",
      "\twith 2302256 stored elements in Compressed Sparse Row format>],\n",
      "      dtype=object))\n"
     ]
    }
   ],
   "source": [
    "svd_x = get_svd_array(x)"
   ]
  },
  {
   "cell_type": "code",
   "execution_count": 23,
   "metadata": {},
   "outputs": [],
   "source": []
  },
  {
   "cell_type": "code",
   "execution_count": null,
   "metadata": {},
   "outputs": [],
   "source": []
  }
 ],
 "metadata": {
  "kernelspec": {
   "display_name": "Python 3",
   "language": "python",
   "name": "python3"
  },
  "language_info": {
   "codemirror_mode": {
    "name": "ipython",
    "version": 3
   },
   "file_extension": ".py",
   "mimetype": "text/x-python",
   "name": "python",
   "nbconvert_exporter": "python",
   "pygments_lexer": "ipython3",
   "version": "3.6.8"
  }
 },
 "nbformat": 4,
 "nbformat_minor": 2
}
