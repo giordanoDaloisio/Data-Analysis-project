{
 "cells": [
  {
   "cell_type": "code",
   "execution_count": 1,
   "metadata": {},
   "outputs": [],
   "source": [
    "from joblib import Memory\n",
    "import sklearn.datasets as sd\n",
    "from sklearn import svm\n",
    "import scipy.sparse as sparse"
   ]
  },
  {
   "cell_type": "code",
   "execution_count": 2,
   "metadata": {},
   "outputs": [],
   "source": [
    "import pandas as pd\n",
    "import numpy as np\n",
    "import matplotlib.pyplot as plt\n",
    "%load_ext memory_profiler\n",
    "%load_ext line_profiler"
   ]
  },
  {
   "cell_type": "code",
   "execution_count": 3,
   "metadata": {},
   "outputs": [
    {
     "data": {
      "text/plain": [
       "<dask.config.set at 0x7f542989a0b8>"
      ]
     },
     "execution_count": 3,
     "metadata": {},
     "output_type": "execute_result"
    }
   ],
   "source": [
    "import dask\n",
    "import dask.dataframe as dd\n",
    "import dask.array as da\n",
    "dask.config.set(scheduler='threads')"
   ]
  },
  {
   "cell_type": "code",
   "execution_count": 4,
   "metadata": {},
   "outputs": [],
   "source": [
    "filelist = [\"./url_svmlight/Day%s.svm\" % i for i in range(0,121)]"
   ]
  },
  {
   "cell_type": "code",
   "execution_count": 5,
   "metadata": {},
   "outputs": [],
   "source": [
    "def descriptiveStat (x):\n",
    "    print ('Dataset lenght:', x.size)\n",
    "    print ('Minimum value:', np.min(x))\n",
    "    print ('Maximum value:', np.max(x))\n",
    "    print ('Mean value:', np.mean(x))\n",
    "    #print ('Median value:', np.median(x))"
   ]
  },
  {
   "cell_type": "markdown",
   "metadata": {},
   "source": [
    "## Import file using sklearn datasets"
   ]
  },
  {
   "cell_type": "code",
   "execution_count": 6,
   "metadata": {},
   "outputs": [],
   "source": [
    "mem = Memory(\"./cache\")"
   ]
  },
  {
   "cell_type": "code",
   "execution_count": 7,
   "metadata": {},
   "outputs": [],
   "source": [
    "@mem.cache\n",
    "def get_data():\n",
    "    data = sd.load_svmlight_files(filelist)\n",
    "    return data"
   ]
  },
  {
   "cell_type": "code",
   "execution_count": 8,
   "metadata": {
    "scrolled": true
   },
   "outputs": [],
   "source": [
    "data = get_data()"
   ]
  },
  {
   "cell_type": "code",
   "execution_count": 9,
   "metadata": {},
   "outputs": [],
   "source": [
    "days = np.array([(data[i], data[i+1]) for i in range(0, len(data)) if i%2==0])"
   ]
  },
  {
   "cell_type": "code",
   "execution_count": 11,
   "metadata": {
    "scrolled": true
   },
   "outputs": [
    {
     "data": {
      "text/plain": [
       "121"
      ]
     },
     "execution_count": 11,
     "metadata": {},
     "output_type": "execute_result"
    }
   ],
   "source": [
    "len(days)"
   ]
  },
  {
   "cell_type": "code",
   "execution_count": 12,
   "metadata": {},
   "outputs": [],
   "source": [
    "day0 = days[0]\n",
    "day1 = days[1]"
   ]
  },
  {
   "cell_type": "markdown",
   "metadata": {},
   "source": [
    "# Testing all days"
   ]
  },
  {
   "cell_type": "code",
   "execution_count": 26,
   "metadata": {},
   "outputs": [],
   "source": [
    "totalurls = np.empty(0)\n",
    "\n",
    "for day in days:\n",
    "    totalurls =np.append(totalurls, day[1])"
   ]
  },
  {
   "cell_type": "code",
   "execution_count": 27,
   "metadata": {},
   "outputs": [
    {
     "data": {
      "text/plain": [
       "array([-1., -1., -1., ...,  1., -1., -1.])"
      ]
     },
     "execution_count": 27,
     "metadata": {},
     "output_type": "execute_result"
    }
   ],
   "source": [
    "totalurls"
   ]
  },
  {
   "cell_type": "code",
   "execution_count": 28,
   "metadata": {
    "scrolled": true
   },
   "outputs": [
    {
     "data": {
      "image/png": "[encoded data removed]",
      "text/plain": [
       "<Figure size 432x288 with 1 Axes>"
      ]
     },
     "metadata": {
      "needs_background": "light"
     },
     "output_type": "display_data"
    }
   ],
   "source": [
    "plt.hist(totalurls, 100)\n",
    "plt.xlabel(\"Total days URLs\", fontdict={'fontsize': 14, 'family': 'monospace'})\n",
    "plt.show()"
   ]
  },
  {
   "cell_type": "markdown",
   "metadata": {},
   "source": [
    "<h6> Merge all the attributes into a single numpy matrix so that we can do all the analysis on it </h6>"
   ]
  },
  {
   "cell_type": "code",
   "execution_count": 10,
   "metadata": {},
   "outputs": [],
   "source": [
    "totalattr = [da.from_array(day[0], chunks=(5000,5000)) for day in days]"
   ]
  },
  {
   "cell_type": "code",
   "execution_count": 12,
   "metadata": {},
   "outputs": [
    {
     "data": {
      "text/plain": [
       "[dask.array<array, shape=(16000, 3231961), dtype=float64, chunksize=(5000, 5000)>,\n",
       " dask.array<array, shape=(20000, 3231961), dtype=float64, chunksize=(5000, 5000)>,\n",
       " dask.array<array, shape=(20000, 3231961), dtype=float64, chunksize=(5000, 5000)>,\n",
       " dask.array<array, shape=(20000, 3231961), dtype=float64, chunksize=(5000, 5000)>,\n",
       " dask.array<array, shape=(20000, 3231961), dtype=float64, chunksize=(5000, 5000)>,\n",
       " dask.array<array, shape=(20000, 3231961), dtype=float64, chunksize=(5000, 5000)>,\n",
       " dask.array<array, shape=(20000, 3231961), dtype=float64, chunksize=(5000, 5000)>,\n",
       " dask.array<array, shape=(20000, 3231961), dtype=float64, chunksize=(5000, 5000)>,\n",
       " dask.array<array, shape=(20000, 3231961), dtype=float64, chunksize=(5000, 5000)>,\n",
       " dask.array<array, shape=(20000, 3231961), dtype=float64, chunksize=(5000, 5000)>,\n",
       " dask.array<array, shape=(20000, 3231961), dtype=float64, chunksize=(5000, 5000)>,\n",
       " dask.array<array, shape=(20000, 3231961), dtype=float64, chunksize=(5000, 5000)>,\n",
       " dask.array<array, shape=(20000, 3231961), dtype=float64, chunksize=(5000, 5000)>,\n",
       " dask.array<array, shape=(20000, 3231961), dtype=float64, chunksize=(5000, 5000)>,\n",
       " dask.array<array, shape=(20000, 3231961), dtype=float64, chunksize=(5000, 5000)>,\n",
       " dask.array<array, shape=(20000, 3231961), dtype=float64, chunksize=(5000, 5000)>,\n",
       " dask.array<array, shape=(20000, 3231961), dtype=float64, chunksize=(5000, 5000)>,\n",
       " dask.array<array, shape=(20000, 3231961), dtype=float64, chunksize=(5000, 5000)>,\n",
       " dask.array<array, shape=(20000, 3231961), dtype=float64, chunksize=(5000, 5000)>,\n",
       " dask.array<array, shape=(20000, 3231961), dtype=float64, chunksize=(5000, 5000)>,\n",
       " dask.array<array, shape=(20000, 3231961), dtype=float64, chunksize=(5000, 5000)>,\n",
       " dask.array<array, shape=(20000, 3231961), dtype=float64, chunksize=(5000, 5000)>,\n",
       " dask.array<array, shape=(20000, 3231961), dtype=float64, chunksize=(5000, 5000)>,\n",
       " dask.array<array, shape=(20000, 3231961), dtype=float64, chunksize=(5000, 5000)>,\n",
       " dask.array<array, shape=(20000, 3231961), dtype=float64, chunksize=(5000, 5000)>,\n",
       " dask.array<array, shape=(20000, 3231961), dtype=float64, chunksize=(5000, 5000)>,\n",
       " dask.array<array, shape=(20000, 3231961), dtype=float64, chunksize=(5000, 5000)>,\n",
       " dask.array<array, shape=(20000, 3231961), dtype=float64, chunksize=(5000, 5000)>,\n",
       " dask.array<array, shape=(20000, 3231961), dtype=float64, chunksize=(5000, 5000)>,\n",
       " dask.array<array, shape=(20000, 3231961), dtype=float64, chunksize=(5000, 5000)>,\n",
       " dask.array<array, shape=(20000, 3231961), dtype=float64, chunksize=(5000, 5000)>,\n",
       " dask.array<array, shape=(20000, 3231961), dtype=float64, chunksize=(5000, 5000)>,\n",
       " dask.array<array, shape=(20000, 3231961), dtype=float64, chunksize=(5000, 5000)>,\n",
       " dask.array<array, shape=(20000, 3231961), dtype=float64, chunksize=(5000, 5000)>,\n",
       " dask.array<array, shape=(20000, 3231961), dtype=float64, chunksize=(5000, 5000)>,\n",
       " dask.array<array, shape=(20000, 3231961), dtype=float64, chunksize=(5000, 5000)>,\n",
       " dask.array<array, shape=(20000, 3231961), dtype=float64, chunksize=(5000, 5000)>,\n",
       " dask.array<array, shape=(20000, 3231961), dtype=float64, chunksize=(5000, 5000)>,\n",
       " dask.array<array, shape=(20000, 3231961), dtype=float64, chunksize=(5000, 5000)>,\n",
       " dask.array<array, shape=(20000, 3231961), dtype=float64, chunksize=(5000, 5000)>,\n",
       " dask.array<array, shape=(20000, 3231961), dtype=float64, chunksize=(5000, 5000)>,\n",
       " dask.array<array, shape=(20000, 3231961), dtype=float64, chunksize=(5000, 5000)>,\n",
       " dask.array<array, shape=(20000, 3231961), dtype=float64, chunksize=(5000, 5000)>,\n",
       " dask.array<array, shape=(20000, 3231961), dtype=float64, chunksize=(5000, 5000)>,\n",
       " dask.array<array, shape=(20000, 3231961), dtype=float64, chunksize=(5000, 5000)>,\n",
       " dask.array<array, shape=(130, 3231961), dtype=float64, chunksize=(130, 5000)>,\n",
       " dask.array<array, shape=(20000, 3231961), dtype=float64, chunksize=(5000, 5000)>,\n",
       " dask.array<array, shape=(20000, 3231961), dtype=float64, chunksize=(5000, 5000)>,\n",
       " dask.array<array, shape=(20000, 3231961), dtype=float64, chunksize=(5000, 5000)>,\n",
       " dask.array<array, shape=(20000, 3231961), dtype=float64, chunksize=(5000, 5000)>,\n",
       " dask.array<array, shape=(20000, 3231961), dtype=float64, chunksize=(5000, 5000)>,\n",
       " dask.array<array, shape=(20000, 3231961), dtype=float64, chunksize=(5000, 5000)>,\n",
       " dask.array<array, shape=(20000, 3231961), dtype=float64, chunksize=(5000, 5000)>,\n",
       " dask.array<array, shape=(20000, 3231961), dtype=float64, chunksize=(5000, 5000)>,\n",
       " dask.array<array, shape=(20000, 3231961), dtype=float64, chunksize=(5000, 5000)>,\n",
       " dask.array<array, shape=(20000, 3231961), dtype=float64, chunksize=(5000, 5000)>,\n",
       " dask.array<array, shape=(20000, 3231961), dtype=float64, chunksize=(5000, 5000)>,\n",
       " dask.array<array, shape=(20000, 3231961), dtype=float64, chunksize=(5000, 5000)>,\n",
       " dask.array<array, shape=(20000, 3231961), dtype=float64, chunksize=(5000, 5000)>,\n",
       " dask.array<array, shape=(20000, 3231961), dtype=float64, chunksize=(5000, 5000)>,\n",
       " dask.array<array, shape=(20000, 3231961), dtype=float64, chunksize=(5000, 5000)>,\n",
       " dask.array<array, shape=(20000, 3231961), dtype=float64, chunksize=(5000, 5000)>,\n",
       " dask.array<array, shape=(20000, 3231961), dtype=float64, chunksize=(5000, 5000)>,\n",
       " dask.array<array, shape=(20000, 3231961), dtype=float64, chunksize=(5000, 5000)>,\n",
       " dask.array<array, shape=(20000, 3231961), dtype=float64, chunksize=(5000, 5000)>,\n",
       " dask.array<array, shape=(20000, 3231961), dtype=float64, chunksize=(5000, 5000)>,\n",
       " dask.array<array, shape=(20000, 3231961), dtype=float64, chunksize=(5000, 5000)>,\n",
       " dask.array<array, shape=(20000, 3231961), dtype=float64, chunksize=(5000, 5000)>,\n",
       " dask.array<array, shape=(20000, 3231961), dtype=float64, chunksize=(5000, 5000)>,\n",
       " dask.array<array, shape=(20000, 3231961), dtype=float64, chunksize=(5000, 5000)>,\n",
       " dask.array<array, shape=(20000, 3231961), dtype=float64, chunksize=(5000, 5000)>,\n",
       " dask.array<array, shape=(20000, 3231961), dtype=float64, chunksize=(5000, 5000)>,\n",
       " dask.array<array, shape=(20000, 3231961), dtype=float64, chunksize=(5000, 5000)>,\n",
       " dask.array<array, shape=(20000, 3231961), dtype=float64, chunksize=(5000, 5000)>,\n",
       " dask.array<array, shape=(20000, 3231961), dtype=float64, chunksize=(5000, 5000)>,\n",
       " dask.array<array, shape=(20000, 3231961), dtype=float64, chunksize=(5000, 5000)>,\n",
       " dask.array<array, shape=(20000, 3231961), dtype=float64, chunksize=(5000, 5000)>,\n",
       " dask.array<array, shape=(20000, 3231961), dtype=float64, chunksize=(5000, 5000)>,\n",
       " dask.array<array, shape=(20000, 3231961), dtype=float64, chunksize=(5000, 5000)>,\n",
       " dask.array<array, shape=(20000, 3231961), dtype=float64, chunksize=(5000, 5000)>,\n",
       " dask.array<array, shape=(20000, 3231961), dtype=float64, chunksize=(5000, 5000)>,\n",
       " dask.array<array, shape=(20000, 3231961), dtype=float64, chunksize=(5000, 5000)>,\n",
       " dask.array<array, shape=(20000, 3231961), dtype=float64, chunksize=(5000, 5000)>,\n",
       " dask.array<array, shape=(20000, 3231961), dtype=float64, chunksize=(5000, 5000)>,\n",
       " dask.array<array, shape=(20000, 3231961), dtype=float64, chunksize=(5000, 5000)>,\n",
       " dask.array<array, shape=(20000, 3231961), dtype=float64, chunksize=(5000, 5000)>,\n",
       " dask.array<array, shape=(20000, 3231961), dtype=float64, chunksize=(5000, 5000)>,\n",
       " dask.array<array, shape=(20000, 3231961), dtype=float64, chunksize=(5000, 5000)>,\n",
       " dask.array<array, shape=(20000, 3231961), dtype=float64, chunksize=(5000, 5000)>,\n",
       " dask.array<array, shape=(20000, 3231961), dtype=float64, chunksize=(5000, 5000)>,\n",
       " dask.array<array, shape=(20000, 3231961), dtype=float64, chunksize=(5000, 5000)>,\n",
       " dask.array<array, shape=(20000, 3231961), dtype=float64, chunksize=(5000, 5000)>,\n",
       " dask.array<array, shape=(20000, 3231961), dtype=float64, chunksize=(5000, 5000)>,\n",
       " dask.array<array, shape=(20000, 3231961), dtype=float64, chunksize=(5000, 5000)>,\n",
       " dask.array<array, shape=(20000, 3231961), dtype=float64, chunksize=(5000, 5000)>,\n",
       " dask.array<array, shape=(20000, 3231961), dtype=float64, chunksize=(5000, 5000)>,\n",
       " dask.array<array, shape=(20000, 3231961), dtype=float64, chunksize=(5000, 5000)>,\n",
       " dask.array<array, shape=(20000, 3231961), dtype=float64, chunksize=(5000, 5000)>,\n",
       " dask.array<array, shape=(20000, 3231961), dtype=float64, chunksize=(5000, 5000)>,\n",
       " dask.array<array, shape=(20000, 3231961), dtype=float64, chunksize=(5000, 5000)>,\n",
       " dask.array<array, shape=(20000, 3231961), dtype=float64, chunksize=(5000, 5000)>,\n",
       " dask.array<array, shape=(20000, 3231961), dtype=float64, chunksize=(5000, 5000)>,\n",
       " dask.array<array, shape=(20000, 3231961), dtype=float64, chunksize=(5000, 5000)>,\n",
       " dask.array<array, shape=(20000, 3231961), dtype=float64, chunksize=(5000, 5000)>,\n",
       " dask.array<array, shape=(20000, 3231961), dtype=float64, chunksize=(5000, 5000)>,\n",
       " dask.array<array, shape=(20000, 3231961), dtype=float64, chunksize=(5000, 5000)>,\n",
       " dask.array<array, shape=(20000, 3231961), dtype=float64, chunksize=(5000, 5000)>,\n",
       " dask.array<array, shape=(20000, 3231961), dtype=float64, chunksize=(5000, 5000)>,\n",
       " dask.array<array, shape=(20000, 3231961), dtype=float64, chunksize=(5000, 5000)>,\n",
       " dask.array<array, shape=(20000, 3231961), dtype=float64, chunksize=(5000, 5000)>,\n",
       " dask.array<array, shape=(20000, 3231961), dtype=float64, chunksize=(5000, 5000)>,\n",
       " dask.array<array, shape=(20000, 3231961), dtype=float64, chunksize=(5000, 5000)>,\n",
       " dask.array<array, shape=(20000, 3231961), dtype=float64, chunksize=(5000, 5000)>,\n",
       " dask.array<array, shape=(20000, 3231961), dtype=float64, chunksize=(5000, 5000)>,\n",
       " dask.array<array, shape=(20000, 3231961), dtype=float64, chunksize=(5000, 5000)>,\n",
       " dask.array<array, shape=(20000, 3231961), dtype=float64, chunksize=(5000, 5000)>,\n",
       " dask.array<array, shape=(20000, 3231961), dtype=float64, chunksize=(5000, 5000)>,\n",
       " dask.array<array, shape=(20000, 3231961), dtype=float64, chunksize=(5000, 5000)>,\n",
       " dask.array<array, shape=(20000, 3231961), dtype=float64, chunksize=(5000, 5000)>,\n",
       " dask.array<array, shape=(20000, 3231961), dtype=float64, chunksize=(5000, 5000)>,\n",
       " dask.array<array, shape=(20000, 3231961), dtype=float64, chunksize=(5000, 5000)>]"
      ]
     },
     "execution_count": 12,
     "metadata": {},
     "output_type": "execute_result"
    }
   ],
   "source": [
    "totalattr"
   ]
  },
  {
   "cell_type": "markdown",
   "metadata": {},
   "source": [
    "<h6>We remove the only to elements with a different shape, since they will complicate our analysis </h6>"
   ]
  },
  {
   "cell_type": "code",
   "execution_count": 17,
   "metadata": {},
   "outputs": [
    {
     "name": "stdout",
     "output_type": "stream",
     "text": [
      "0\n",
      "45\n"
     ]
    }
   ],
   "source": [
    "for i in range(0, len(totalattr)):\n",
    "    if totalattr[i].shape != (20000, 3231961):\n",
    "        print(i)"
   ]
  },
  {
   "cell_type": "code",
   "execution_count": 30,
   "metadata": {},
   "outputs": [],
   "source": [
    "new_totalattr = totalattr[1:45]"
   ]
  },
  {
   "cell_type": "code",
   "execution_count": 33,
   "metadata": {},
   "outputs": [],
   "source": [
    "new_totalattr += totalattr[46:]"
   ]
  },
  {
   "cell_type": "code",
   "execution_count": 34,
   "metadata": {},
   "outputs": [],
   "source": [
    "for i in range(0, len(new_totalattr)):\n",
    "    if new_totalattr[i].shape != (20000, 3231961):\n",
    "        print(i)"
   ]
  },
  {
   "cell_type": "markdown",
   "metadata": {},
   "source": [
    "## Testing TruncatedSVD"
   ]
  },
  {
   "cell_type": "code",
   "execution_count": 37,
   "metadata": {
    "scrolled": true
   },
   "outputs": [],
   "source": [
    "import dask_ml.decomposition as dec"
   ]
  },
  {
   "cell_type": "code",
   "execution_count": 38,
   "metadata": {},
   "outputs": [],
   "source": [
    "svd = dec.TruncatedSVD(n_components=5)"
   ]
  },
  {
   "cell_type": "code",
   "execution_count": 40,
   "metadata": {},
   "outputs": [
    {
     "ename": "ValueError",
     "evalue": "Input must have the following properties:\n  1. Have two dimensions\n  2. Have only one column of blocks\n\nNote: This function (tsqr) supports QR decomposition in the case of\ntall-and-skinny matrices (single column chunk/block; see qr)Current shape: (119, 20000, 3231961),\nCurrent chunksize: (1, 5000, 5000)",
     "output_type": "error",
     "traceback": [
      "\u001b[0;31m---------------------------------------------------------------------------\u001b[0m",
      "\u001b[0;31mValueError\u001b[0m                                Traceback (most recent call last)",
      "\u001b[0;32m<ipython-input-40-e6d58085d44e>\u001b[0m in \u001b[0;36m<module>\u001b[0;34m\u001b[0m\n\u001b[0;32m----> 1\u001b[0;31m \u001b[0msvd\u001b[0m\u001b[0;34m.\u001b[0m\u001b[0mfit\u001b[0m\u001b[0;34m(\u001b[0m\u001b[0mx\u001b[0m\u001b[0;34m)\u001b[0m\u001b[0;34m\u001b[0m\u001b[0;34m\u001b[0m\u001b[0m\n\u001b[0m",
      "\u001b[0;32m~/anaconda3/envs/da2019/lib/python3.6/site-packages/dask_ml/decomposition/truncated_svd.py\u001b[0m in \u001b[0;36mfit\u001b[0;34m(self, X, y)\u001b[0m\n\u001b[1;32m    131\u001b[0m             \u001b[0mReturns\u001b[0m \u001b[0mthe\u001b[0m \u001b[0mtransformer\u001b[0m \u001b[0mobject\u001b[0m\u001b[0;34m.\u001b[0m\u001b[0;34m\u001b[0m\u001b[0;34m\u001b[0m\u001b[0m\n\u001b[1;32m    132\u001b[0m         \"\"\"\n\u001b[0;32m--> 133\u001b[0;31m         \u001b[0mself\u001b[0m\u001b[0;34m.\u001b[0m\u001b[0mfit_transform\u001b[0m\u001b[0;34m(\u001b[0m\u001b[0mX\u001b[0m\u001b[0;34m)\u001b[0m\u001b[0;34m\u001b[0m\u001b[0;34m\u001b[0m\u001b[0m\n\u001b[0m\u001b[1;32m    134\u001b[0m         \u001b[0;32mreturn\u001b[0m \u001b[0mself\u001b[0m\u001b[0;34m\u001b[0m\u001b[0;34m\u001b[0m\u001b[0m\n\u001b[1;32m    135\u001b[0m \u001b[0;34m\u001b[0m\u001b[0m\n",
      "\u001b[0;32m~/anaconda3/envs/da2019/lib/python3.6/site-packages/dask_ml/decomposition/truncated_svd.py\u001b[0m in \u001b[0;36mfit_transform\u001b[0;34m(self, X, y)\u001b[0m\n\u001b[1;32m    164\u001b[0m             \u001b[0;32mraise\u001b[0m \u001b[0mValueError\u001b[0m\u001b[0;34m(\u001b[0m\u001b[0;34m)\u001b[0m\u001b[0;34m\u001b[0m\u001b[0;34m\u001b[0m\u001b[0m\n\u001b[1;32m    165\u001b[0m         \u001b[0;32mif\u001b[0m \u001b[0mself\u001b[0m\u001b[0;34m.\u001b[0m\u001b[0malgorithm\u001b[0m \u001b[0;34m==\u001b[0m \u001b[0;34m\"tsqr\"\u001b[0m\u001b[0;34m:\u001b[0m\u001b[0;34m\u001b[0m\u001b[0;34m\u001b[0m\u001b[0m\n\u001b[0;32m--> 166\u001b[0;31m             \u001b[0mu\u001b[0m\u001b[0;34m,\u001b[0m \u001b[0ms\u001b[0m\u001b[0;34m,\u001b[0m \u001b[0mv\u001b[0m \u001b[0;34m=\u001b[0m \u001b[0mda\u001b[0m\u001b[0;34m.\u001b[0m\u001b[0mlinalg\u001b[0m\u001b[0;34m.\u001b[0m\u001b[0msvd\u001b[0m\u001b[0;34m(\u001b[0m\u001b[0mX\u001b[0m\u001b[0;34m)\u001b[0m\u001b[0;34m\u001b[0m\u001b[0;34m\u001b[0m\u001b[0m\n\u001b[0m\u001b[1;32m    167\u001b[0m             \u001b[0mu\u001b[0m \u001b[0;34m=\u001b[0m \u001b[0mu\u001b[0m\u001b[0;34m[\u001b[0m\u001b[0;34m:\u001b[0m\u001b[0;34m,\u001b[0m \u001b[0;34m:\u001b[0m \u001b[0mself\u001b[0m\u001b[0;34m.\u001b[0m\u001b[0mn_components\u001b[0m\u001b[0;34m]\u001b[0m\u001b[0;34m\u001b[0m\u001b[0;34m\u001b[0m\u001b[0m\n\u001b[1;32m    168\u001b[0m             \u001b[0ms\u001b[0m \u001b[0;34m=\u001b[0m \u001b[0ms\u001b[0m\u001b[0;34m[\u001b[0m\u001b[0;34m:\u001b[0m \u001b[0mself\u001b[0m\u001b[0;34m.\u001b[0m\u001b[0mn_components\u001b[0m\u001b[0;34m]\u001b[0m\u001b[0;34m\u001b[0m\u001b[0;34m\u001b[0m\u001b[0m\n",
      "\u001b[0;32m~/anaconda3/envs/da2019/lib/python3.6/site-packages/dask/array/linalg.py\u001b[0m in \u001b[0;36msvd\u001b[0;34m(a)\u001b[0m\n\u001b[1;32m    665\u001b[0m     \u001b[0mdask\u001b[0m\u001b[0;34m.\u001b[0m\u001b[0marray\u001b[0m\u001b[0;34m.\u001b[0m\u001b[0mlinalg\u001b[0m\u001b[0;34m.\u001b[0m\u001b[0mtsqr\u001b[0m\u001b[0;34m:\u001b[0m \u001b[0mImplementation\u001b[0m \u001b[0;32mfor\u001b[0m \u001b[0mtall\u001b[0m\u001b[0;34m-\u001b[0m\u001b[0;32mand\u001b[0m\u001b[0;34m-\u001b[0m\u001b[0mskinny\u001b[0m \u001b[0marrays\u001b[0m\u001b[0;34m\u001b[0m\u001b[0;34m\u001b[0m\u001b[0m\n\u001b[1;32m    666\u001b[0m     \"\"\"\n\u001b[0;32m--> 667\u001b[0;31m     \u001b[0;32mreturn\u001b[0m \u001b[0mtsqr\u001b[0m\u001b[0;34m(\u001b[0m\u001b[0ma\u001b[0m\u001b[0;34m,\u001b[0m \u001b[0mcompute_svd\u001b[0m\u001b[0;34m=\u001b[0m\u001b[0;32mTrue\u001b[0m\u001b[0;34m)\u001b[0m\u001b[0;34m\u001b[0m\u001b[0;34m\u001b[0m\u001b[0m\n\u001b[0m\u001b[1;32m    668\u001b[0m \u001b[0;34m\u001b[0m\u001b[0m\n\u001b[1;32m    669\u001b[0m \u001b[0;34m\u001b[0m\u001b[0m\n",
      "\u001b[0;32m~/anaconda3/envs/da2019/lib/python3.6/site-packages/dask/array/linalg.py\u001b[0m in \u001b[0;36mtsqr\u001b[0;34m(data, compute_svd, _max_vchunk_size)\u001b[0m\n\u001b[1;32m    113\u001b[0m             \u001b[0;34m\"Note: This function (tsqr) supports QR decomposition in the case of\\n\"\u001b[0m\u001b[0;34m\u001b[0m\u001b[0;34m\u001b[0m\u001b[0m\n\u001b[1;32m    114\u001b[0m             \u001b[0;34m\"tall-and-skinny matrices (single column chunk/block; see qr)\"\u001b[0m\u001b[0;34m\u001b[0m\u001b[0;34m\u001b[0m\u001b[0m\n\u001b[0;32m--> 115\u001b[0;31m             \u001b[0;34m\"Current shape: {},\\nCurrent chunksize: {}\"\u001b[0m\u001b[0;34m.\u001b[0m\u001b[0mformat\u001b[0m\u001b[0;34m(\u001b[0m\u001b[0mdata\u001b[0m\u001b[0;34m.\u001b[0m\u001b[0mshape\u001b[0m\u001b[0;34m,\u001b[0m \u001b[0mdata\u001b[0m\u001b[0;34m.\u001b[0m\u001b[0mchunksize\u001b[0m\u001b[0;34m)\u001b[0m\u001b[0;34m\u001b[0m\u001b[0;34m\u001b[0m\u001b[0m\n\u001b[0m\u001b[1;32m    116\u001b[0m         )\n\u001b[1;32m    117\u001b[0m \u001b[0;34m\u001b[0m\u001b[0m\n",
      "\u001b[0;31mValueError\u001b[0m: Input must have the following properties:\n  1. Have two dimensions\n  2. Have only one column of blocks\n\nNote: This function (tsqr) supports QR decomposition in the case of\ntall-and-skinny matrices (single column chunk/block; see qr)Current shape: (119, 20000, 3231961),\nCurrent chunksize: (1, 5000, 5000)"
     ]
    }
   ],
   "source": [
    "svd.fit(x)"
   ]
  },
  {
   "cell_type": "code",
   "execution_count": null,
   "metadata": {},
   "outputs": [],
   "source": []
  },
  {
   "cell_type": "markdown",
   "metadata": {},
   "source": [
    "# Test for Dask DataFrame on Day 0"
   ]
  },
  {
   "cell_type": "code",
   "execution_count": null,
   "metadata": {},
   "outputs": [],
   "source": [
    "%%timeit\n",
    "%memit sd.load_svmlight_file('url_svmlight/Day0.svm')"
   ]
  },
  {
   "cell_type": "code",
   "execution_count": null,
   "metadata": {},
   "outputs": [],
   "source": [
    "da_day0 = da.from_array(day0[0])"
   ]
  },
  {
   "cell_type": "code",
   "execution_count": null,
   "metadata": {},
   "outputs": [],
   "source": [
    "da_day0"
   ]
  },
  {
   "cell_type": "code",
   "execution_count": null,
   "metadata": {},
   "outputs": [],
   "source": []
  }
 ],
 "metadata": {
  "kernelspec": {
   "display_name": "Python 3",
   "language": "python",
   "name": "python3"
  },
  "language_info": {
   "codemirror_mode": {
    "name": "ipython",
    "version": 3
   },
   "file_extension": ".py",
   "mimetype": "text/x-python",
   "name": "python",
   "nbconvert_exporter": "python",
   "pygments_lexer": "ipython3",
   "version": "3.6.8"
  }
 },
 "nbformat": 4,
 "nbformat_minor": 2
}
