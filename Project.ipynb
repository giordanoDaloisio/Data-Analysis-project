{
 "cells": [
  {
   "cell_type": "code",
   "execution_count": 1,
   "metadata": {},
   "outputs": [],
   "source": [
    "from joblib import Memory\n",
    "import sklearn.datasets as sd\n",
    "from sklearn import svm\n",
    "import scipy.sparse as sparse"
   ]
  },
  {
   "cell_type": "code",
   "execution_count": 2,
   "metadata": {},
   "outputs": [],
   "source": [
    "import pandas as pd\n",
    "import numpy as np\n",
    "import matplotlib.pyplot as plt\n",
    "%load_ext memory_profiler\n",
    "%load_ext line_profiler"
   ]
  },
  {
   "cell_type": "code",
   "execution_count": 3,
   "metadata": {},
   "outputs": [],
   "source": [
    "filelist = [\"./url_svmlight/Day%s.svm\" % i for i in range(0,121)]"
   ]
  },
  {
   "cell_type": "code",
   "execution_count": 4,
   "metadata": {},
   "outputs": [],
   "source": [
    "def descriptiveStat (x):\n",
    "    print ('Dataset lenght:', x.size)\n",
    "    print ('Minimum value:', np.min(x))\n",
    "    print ('Maximum value:', np.max(x))\n",
    "    print ('Mean value:', np.mean(x))\n",
    "    #print ('Median value:', np.median(x))"
   ]
  },
  {
   "cell_type": "markdown",
   "metadata": {},
   "source": [
    "## Import file using standard python library"
   ]
  },
  {
   "cell_type": "code",
   "execution_count": null,
   "metadata": {},
   "outputs": [],
   "source": [
    "content = []\n",
    "\n",
    "for file in filelist:\n",
    "    f = open(file)\n",
    "    content += f.read() "
   ]
  },
  {
   "cell_type": "markdown",
   "metadata": {},
   "source": [
    "## Import file using sklearn datasets"
   ]
  },
  {
   "cell_type": "code",
   "execution_count": 5,
   "metadata": {},
   "outputs": [],
   "source": [
    "mem = Memory(\"./cache\")"
   ]
  },
  {
   "cell_type": "code",
   "execution_count": 6,
   "metadata": {},
   "outputs": [],
   "source": [
    "@mem.cache\n",
    "def get_data():\n",
    "    data = sd.load_svmlight_files(filelist)\n",
    "    return data"
   ]
  },
  {
   "cell_type": "code",
   "execution_count": 7,
   "metadata": {
    "scrolled": true
   },
   "outputs": [],
   "source": [
    "data = get_data()"
   ]
  },
  {
   "cell_type": "code",
   "execution_count": 8,
   "metadata": {},
   "outputs": [],
   "source": [
    "days = np.array([(data[i], data[i+1]) for i in range(0, len(data)) if i%2==0])"
   ]
  },
  {
   "cell_type": "code",
   "execution_count": 10,
   "metadata": {
    "scrolled": true
   },
   "outputs": [
    {
     "data": {
      "text/plain": [
       "121"
      ]
     },
     "execution_count": 10,
     "metadata": {},
     "output_type": "execute_result"
    }
   ],
   "source": [
    "len(days)"
   ]
  },
  {
   "cell_type": "code",
   "execution_count": 10,
   "metadata": {},
   "outputs": [],
   "source": [
    "day0 = days[0]\n",
    "day1 = days[1]"
   ]
  },
  {
   "cell_type": "markdown",
   "metadata": {},
   "source": [
    "# Testing Day0"
   ]
  },
  {
   "cell_type": "code",
   "execution_count": 12,
   "metadata": {},
   "outputs": [
    {
     "name": "stdout",
     "output_type": "stream",
     "text": [
      "  (0, 3)\t0.0788382\n",
      "  (0, 4)\t0.124138\n",
      "  (0, 5)\t0.117647\n",
      "  (0, 10)\t0.428571\n",
      "  (0, 15)\t0.1\n",
      "  (0, 16)\t0.749633\n",
      "  (0, 17)\t0.843029\n",
      "  (0, 18)\t0.197344\n",
      "  (0, 20)\t0.142856\n",
      "  (0, 21)\t0.142857\n",
      "  (0, 22)\t0.142857\n",
      "  (0, 27)\t1.0\n",
      "  (0, 32)\t0.0555556\n",
      "  (0, 40)\t0.1\n",
      "  (0, 53)\t1.0\n",
      "  (0, 55)\t1.0\n",
      "  (0, 63)\t1.0\n",
      "  (0, 69)\t1.0\n",
      "  (0, 71)\t1.0\n",
      "  (0, 73)\t1.0\n",
      "  (0, 75)\t1.0\n",
      "  (0, 81)\t1.0\n",
      "  (0, 83)\t1.0\n",
      "  (0, 85)\t1.0\n",
      "  (0, 87)\t1.0\n",
      "  :\t:\n",
      "  (15999, 155191)\t1.0\n",
      "  (15999, 155192)\t1.0\n",
      "  (15999, 155193)\t1.0\n",
      "  (15999, 155194)\t1.0\n",
      "  (15999, 155195)\t1.0\n",
      "  (15999, 155196)\t1.0\n",
      "  (15999, 155197)\t1.0\n",
      "  (15999, 155198)\t1.0\n",
      "  (15999, 155199)\t1.0\n",
      "  (15999, 155200)\t1.0\n",
      "  (15999, 155201)\t1.0\n",
      "  (15999, 155202)\t1.0\n",
      "  (15999, 155203)\t1.0\n",
      "  (15999, 155204)\t1.0\n",
      "  (15999, 155205)\t1.0\n",
      "  (15999, 155206)\t1.0\n",
      "  (15999, 155207)\t1.0\n",
      "  (15999, 155208)\t1.0\n",
      "  (15999, 155209)\t1.0\n",
      "  (15999, 155210)\t1.0\n",
      "  (15999, 155211)\t1.0\n",
      "  (15999, 155212)\t1.0\n",
      "  (15999, 303785)\t1.0\n",
      "  (15999, 1418394)\t1.0\n",
      "  (15999, 2384702)\t1.0\n"
     ]
    }
   ],
   "source": [
    "print(day0[0])"
   ]
  },
  {
   "cell_type": "code",
   "execution_count": 13,
   "metadata": {
    "scrolled": false
   },
   "outputs": [
    {
     "data": {
      "image/png": "[encoded data removed]",
      "text/plain": [
       "<Figure size 432x288 with 1 Axes>"
      ]
     },
     "metadata": {
      "needs_background": "light"
     },
     "output_type": "display_data"
    }
   ],
   "source": [
    "hist0 = plt.hist(day0[1], 100)\n",
    "plt.xlabel(\"Day 0 URLs\", fontdict={'fontsize': 14, 'family': 'monospace'})\n",
    "\n",
    "plt.show()"
   ]
  },
  {
   "cell_type": "code",
   "execution_count": 11,
   "metadata": {},
   "outputs": [
    {
     "name": "stdout",
     "output_type": "stream",
     "text": [
      "Dataset lenght: 1847536\n",
      "Minimum value: 0.0\n",
      "Maximum value: 1.0\n",
      "Mean value: 3.3005424586218573e-05\n"
     ]
    }
   ],
   "source": [
    "descriptiveStat(day0[0])"
   ]
  },
  {
   "cell_type": "code",
   "execution_count": 15,
   "metadata": {
    "scrolled": true
   },
   "outputs": [
    {
     "data": {
      "image/png": "[encoded data removed]",
      "text/plain": [
       "<Figure size 432x288 with 1 Axes>"
      ]
     },
     "metadata": {
      "needs_background": "light"
     },
     "output_type": "display_data"
    }
   ],
   "source": [
    "ax = plt.subplot()\n",
    "ax.spy(day0[0], markersize=1, origin='lower')\n",
    "plt.show()"
   ]
  },
  {
   "cell_type": "markdown",
   "metadata": {},
   "source": [
    "# Testing all days"
   ]
  },
  {
   "cell_type": "code",
   "execution_count": 16,
   "metadata": {},
   "outputs": [],
   "source": [
    "totalset = np.array([day[1] for day in days])"
   ]
  },
  {
   "cell_type": "code",
   "execution_count": 17,
   "metadata": {},
   "outputs": [],
   "source": [
    "totalset_list = []"
   ]
  },
  {
   "cell_type": "code",
   "execution_count": 18,
   "metadata": {
    "scrolled": true
   },
   "outputs": [],
   "source": [
    "for day in days:\n",
    "    totalset_list += day[1].tolist()"
   ]
  },
  {
   "cell_type": "code",
   "execution_count": 23,
   "metadata": {
    "scrolled": true
   },
   "outputs": [
    {
     "data": {
      "image/png": "[encoded data removed]",
      "text/plain": [
       "<Figure size 432x288 with 1 Axes>"
      ]
     },
     "metadata": {
      "needs_background": "light"
     },
     "output_type": "display_data"
    }
   ],
   "source": [
    "plt.hist(totalset, 100)\n",
    "plt.xlabel(\"Total days URLs\", fontdict={'fontsize': 14, 'family': 'monospace'})\n",
    "plt.show()"
   ]
  },
  {
   "cell_type": "code",
   "execution_count": 19,
   "metadata": {},
   "outputs": [],
   "source": [
    "df_days = pd.DataFrame(days, columns=['Attributes', 'URL Reputations'])"
   ]
  },
  {
   "cell_type": "code",
   "execution_count": 19,
   "metadata": {
    "scrolled": true
   },
   "outputs": [
    {
     "data": {
      "text/html": [
       "<div>\n",
       "<style scoped>\n",
       "    .dataframe tbody tr th:only-of-type {\n",
       "        vertical-align: middle;\n",
       "    }\n",
       "\n",
       "    .dataframe tbody tr th {\n",
       "        vertical-align: top;\n",
       "    }\n",
       "\n",
       "    .dataframe thead th {\n",
       "        text-align: right;\n",
       "    }\n",
       "</style>\n",
       "<table border=\"1\" class=\"dataframe\">\n",
       "  <thead>\n",
       "    <tr style=\"text-align: right;\">\n",
       "      <th></th>\n",
       "      <th>Attributes</th>\n",
       "      <th>URL Reputations</th>\n",
       "    </tr>\n",
       "  </thead>\n",
       "  <tbody>\n",
       "    <tr>\n",
       "      <th>0</th>\n",
       "      <td>(0, 3)\\t0.0788382\\n  (0, 4)\\t0.124138\\n  (0,...</td>\n",
       "      <td>[-1.0, -1.0, -1.0, -1.0, 1.0, -1.0, -1.0, -1.0...</td>\n",
       "    </tr>\n",
       "    <tr>\n",
       "      <th>1</th>\n",
       "      <td>(0, 3)\\t0.0788382\\n  (0, 4)\\t0.124138\\n  (0,...</td>\n",
       "      <td>[-1.0, -1.0, -1.0, 1.0, -1.0, 1.0, -1.0, 1.0, ...</td>\n",
       "    </tr>\n",
       "    <tr>\n",
       "      <th>2</th>\n",
       "      <td>(0, 1)\\t1.0\\n  (0, 3)\\t0.128631\\n  (0, 4)\\t0...</td>\n",
       "      <td>[-1.0, -1.0, 1.0, -1.0, -1.0, -1.0, -1.0, -1.0...</td>\n",
       "    </tr>\n",
       "    <tr>\n",
       "      <th>3</th>\n",
       "      <td>(0, 3)\\t0.0705394\\n  (0, 4)\\t0.117241\\n  (0,...</td>\n",
       "      <td>[1.0, 1.0, 1.0, -1.0, -1.0, -1.0, 1.0, 1.0, -1...</td>\n",
       "    </tr>\n",
       "    <tr>\n",
       "      <th>4</th>\n",
       "      <td>(0, 3)\\t0.0373444\\n  (0, 4)\\t0.0551724\\n  (0...</td>\n",
       "      <td>[-1.0, 1.0, 1.0, 1.0, -1.0, -1.0, 1.0, 1.0, 1....</td>\n",
       "    </tr>\n",
       "    <tr>\n",
       "      <th>5</th>\n",
       "      <td>(0, 3)\\t0.0580913\\n  (0, 4)\\t0.0896552\\n  (0...</td>\n",
       "      <td>[-1.0, 1.0, 1.0, -1.0, 1.0, -1.0, -1.0, 1.0, 1...</td>\n",
       "    </tr>\n",
       "    <tr>\n",
       "      <th>6</th>\n",
       "      <td>(0, 1)\\t1.0\\n  (0, 3)\\t0.0912863\\n  (0, 4)\\t...</td>\n",
       "      <td>[-1.0, -1.0, -1.0, -1.0, -1.0, -1.0, -1.0, -1....</td>\n",
       "    </tr>\n",
       "    <tr>\n",
       "      <th>7</th>\n",
       "      <td>(0, 1)\\t1.0\\n  (0, 3)\\t0.0622407\\n  (0, 4)\\t...</td>\n",
       "      <td>[-1.0, -1.0, 1.0, -1.0, -1.0, 1.0, 1.0, 1.0, 1...</td>\n",
       "    </tr>\n",
       "    <tr>\n",
       "      <th>8</th>\n",
       "      <td>(0, 3)\\t0.0580913\\n  (0, 4)\\t0.0965517\\n  (0...</td>\n",
       "      <td>[1.0, -1.0, -1.0, -1.0, 1.0, 1.0, -1.0, 1.0, -...</td>\n",
       "    </tr>\n",
       "    <tr>\n",
       "      <th>9</th>\n",
       "      <td>(0, 3)\\t0.0539419\\n  (0, 4)\\t0.0827586\\n  (0...</td>\n",
       "      <td>[-1.0, -1.0, -1.0, -1.0, -1.0, -1.0, -1.0, -1....</td>\n",
       "    </tr>\n",
       "    <tr>\n",
       "      <th>10</th>\n",
       "      <td>(0, 1)\\t1.0\\n  (0, 3)\\t0.120332\\n  (0, 4)\\t0...</td>\n",
       "      <td>[-1.0, -1.0, 1.0, -1.0, 1.0, -1.0, -1.0, 1.0, ...</td>\n",
       "    </tr>\n",
       "    <tr>\n",
       "      <th>11</th>\n",
       "      <td>(0, 1)\\t1.0\\n  (0, 3)\\t0.0746888\\n  (0, 4)\\t...</td>\n",
       "      <td>[-1.0, -1.0, -1.0, -1.0, -1.0, -1.0, -1.0, -1....</td>\n",
       "    </tr>\n",
       "    <tr>\n",
       "      <th>12</th>\n",
       "      <td>(0, 3)\\t0.0871369\\n  (0, 4)\\t0.0551724\\n  (0...</td>\n",
       "      <td>[-1.0, -1.0, -1.0, -1.0, -1.0, -1.0, -1.0, -1....</td>\n",
       "    </tr>\n",
       "    <tr>\n",
       "      <th>13</th>\n",
       "      <td>(0, 3)\\t0.0705394\\n  (0, 4)\\t0.110345\\n  (0,...</td>\n",
       "      <td>[-1.0, 1.0, 1.0, -1.0, 1.0, -1.0, -1.0, -1.0, ...</td>\n",
       "    </tr>\n",
       "    <tr>\n",
       "      <th>14</th>\n",
       "      <td>(0, 1)\\t1.0\\n  (0, 3)\\t0.0705394\\n  (0, 4)\\t...</td>\n",
       "      <td>[-1.0, 1.0, -1.0, -1.0, -1.0, -1.0, 1.0, 1.0, ...</td>\n",
       "    </tr>\n",
       "    <tr>\n",
       "      <th>15</th>\n",
       "      <td>(0, 3)\\t0.282158\\n  (0, 4)\\t0.0344828\\n  (0,...</td>\n",
       "      <td>[1.0, 1.0, 1.0, -1.0, -1.0, 1.0, -1.0, -1.0, -...</td>\n",
       "    </tr>\n",
       "    <tr>\n",
       "      <th>16</th>\n",
       "      <td>(0, 3)\\t0.0414938\\n  (0, 4)\\t0.062069\\n  (0,...</td>\n",
       "      <td>[-1.0, 1.0, -1.0, -1.0, -1.0, -1.0, -1.0, -1.0...</td>\n",
       "    </tr>\n",
       "    <tr>\n",
       "      <th>17</th>\n",
       "      <td>(0, 3)\\t0.0414938\\n  (0, 4)\\t0.0689655\\n  (0...</td>\n",
       "      <td>[1.0, -1.0, 1.0, -1.0, 1.0, 1.0, 1.0, -1.0, -1...</td>\n",
       "    </tr>\n",
       "    <tr>\n",
       "      <th>18</th>\n",
       "      <td>(0, 1)\\t1.0\\n  (0, 3)\\t0.0290456\\n  (0, 4)\\t...</td>\n",
       "      <td>[1.0, -1.0, -1.0, -1.0, -1.0, 1.0, -1.0, -1.0,...</td>\n",
       "    </tr>\n",
       "    <tr>\n",
       "      <th>19</th>\n",
       "      <td>(0, 1)\\t1.0\\n  (0, 3)\\t0.0456432\\n  (0, 4)\\t...</td>\n",
       "      <td>[-1.0, -1.0, -1.0, -1.0, -1.0, -1.0, -1.0, -1....</td>\n",
       "    </tr>\n",
       "    <tr>\n",
       "      <th>20</th>\n",
       "      <td>(0, 1)\\t1.0\\n  (0, 3)\\t0.112033\\n  (0, 4)\\t0...</td>\n",
       "      <td>[-1.0, -1.0, -1.0, -1.0, 1.0, -1.0, 1.0, -1.0,...</td>\n",
       "    </tr>\n",
       "    <tr>\n",
       "      <th>21</th>\n",
       "      <td>(0, 3)\\t0.136929\\n  (0, 4)\\t0.0827586\\n  (0,...</td>\n",
       "      <td>[-1.0, 1.0, 1.0, -1.0, -1.0, -1.0, -1.0, 1.0, ...</td>\n",
       "    </tr>\n",
       "    <tr>\n",
       "      <th>22</th>\n",
       "      <td>(0, 3)\\t0.0788382\\n  (0, 4)\\t0.0758621\\n  (0...</td>\n",
       "      <td>[-1.0, -1.0, -1.0, 1.0, 1.0, -1.0, -1.0, 1.0, ...</td>\n",
       "    </tr>\n",
       "    <tr>\n",
       "      <th>23</th>\n",
       "      <td>(0, 1)\\t1.0\\n  (0, 3)\\t0.0871369\\n  (0, 4)\\t...</td>\n",
       "      <td>[-1.0, -1.0, -1.0, -1.0, -1.0, -1.0, -1.0, 1.0...</td>\n",
       "    </tr>\n",
       "    <tr>\n",
       "      <th>24</th>\n",
       "      <td>(0, 1)\\t1.0\\n  (0, 3)\\t0.0622407\\n  (0, 4)\\t...</td>\n",
       "      <td>[-1.0, 1.0, -1.0, 1.0, -1.0, -1.0, 1.0, -1.0, ...</td>\n",
       "    </tr>\n",
       "    <tr>\n",
       "      <th>25</th>\n",
       "      <td>(0, 3)\\t0.0497925\\n  (0, 4)\\t0.0827586\\n  (0...</td>\n",
       "      <td>[1.0, -1.0, -1.0, -1.0, 1.0, 1.0, 1.0, -1.0, 1...</td>\n",
       "    </tr>\n",
       "    <tr>\n",
       "      <th>26</th>\n",
       "      <td>(0, 1)\\t1.0\\n  (0, 3)\\t0.145228\\n  (0, 4)\\t0...</td>\n",
       "      <td>[-1.0, -1.0, -1.0, -1.0, -1.0, -1.0, -1.0, -1....</td>\n",
       "    </tr>\n",
       "    <tr>\n",
       "      <th>27</th>\n",
       "      <td>(0, 3)\\t0.0746888\\n  (0, 4)\\t0.117241\\n  (0,...</td>\n",
       "      <td>[-1.0, -1.0, -1.0, -1.0, -1.0, 1.0, 1.0, 1.0, ...</td>\n",
       "    </tr>\n",
       "    <tr>\n",
       "      <th>28</th>\n",
       "      <td>(0, 1)\\t1.0\\n  (0, 3)\\t0.0829876\\n  (0, 4)\\t...</td>\n",
       "      <td>[-1.0, -1.0, -1.0, -1.0, -1.0, -1.0, -1.0, -1....</td>\n",
       "    </tr>\n",
       "    <tr>\n",
       "      <th>29</th>\n",
       "      <td>(0, 3)\\t0.0705394\\n  (0, 4)\\t0.110345\\n  (0,...</td>\n",
       "      <td>[-1.0, -1.0, -1.0, -1.0, -1.0, 1.0, 1.0, -1.0,...</td>\n",
       "    </tr>\n",
       "    <tr>\n",
       "      <th>...</th>\n",
       "      <td>...</td>\n",
       "      <td>...</td>\n",
       "    </tr>\n",
       "    <tr>\n",
       "      <th>91</th>\n",
       "      <td>(0, 3)\\t0.477178\\n  (0, 4)\\t0.0689655\\n  (0,...</td>\n",
       "      <td>[1.0, 1.0, 1.0, -1.0, -1.0, -1.0, -1.0, -1.0, ...</td>\n",
       "    </tr>\n",
       "    <tr>\n",
       "      <th>92</th>\n",
       "      <td>(0, 1)\\t1.0\\n  (0, 3)\\t0.0248963\\n  (0, 4)\\t...</td>\n",
       "      <td>[1.0, 1.0, 1.0, 1.0, 1.0, -1.0, 1.0, -1.0, -1....</td>\n",
       "    </tr>\n",
       "    <tr>\n",
       "      <th>93</th>\n",
       "      <td>(0, 1)\\t1.0\\n  (0, 3)\\t0.0580913\\n  (0, 4)\\t...</td>\n",
       "      <td>[1.0, 1.0, 1.0, 1.0, 1.0, -1.0, -1.0, -1.0, -1...</td>\n",
       "    </tr>\n",
       "    <tr>\n",
       "      <th>94</th>\n",
       "      <td>(0, 1)\\t1.0\\n  (0, 3)\\t0.0995851\\n  (0, 4)\\t...</td>\n",
       "      <td>[1.0, 1.0, 1.0, 1.0, 1.0, -1.0, -1.0, -1.0, -1...</td>\n",
       "    </tr>\n",
       "    <tr>\n",
       "      <th>95</th>\n",
       "      <td>(0, 1)\\t1.0\\n  (0, 3)\\t0.112033\\n  (0, 4)\\t0...</td>\n",
       "      <td>[1.0, 1.0, 1.0, -1.0, -1.0, -1.0, -1.0, -1.0, ...</td>\n",
       "    </tr>\n",
       "    <tr>\n",
       "      <th>96</th>\n",
       "      <td>(0, 3)\\t0.178423\\n  (0, 4)\\t0.0551724\\n  (0,...</td>\n",
       "      <td>[-1.0, -1.0, -1.0, 1.0, -1.0, -1.0, -1.0, -1.0...</td>\n",
       "    </tr>\n",
       "    <tr>\n",
       "      <th>97</th>\n",
       "      <td>(0, 3)\\t0.0705394\\n  (0, 4)\\t0.062069\\n  (0,...</td>\n",
       "      <td>[-1.0, 1.0, -1.0, -1.0, -1.0, -1.0, -1.0, -1.0...</td>\n",
       "    </tr>\n",
       "    <tr>\n",
       "      <th>98</th>\n",
       "      <td>(0, 3)\\t0.0456432\\n  (0, 4)\\t0.0758621\\n  (0...</td>\n",
       "      <td>[1.0, -1.0, -1.0, -1.0, 1.0, -1.0, 1.0, -1.0, ...</td>\n",
       "    </tr>\n",
       "    <tr>\n",
       "      <th>99</th>\n",
       "      <td>(0, 3)\\t0.0497925\\n  (0, 4)\\t0.0827586\\n  (0...</td>\n",
       "      <td>[1.0, 1.0, -1.0, -1.0, -1.0, -1.0, 1.0, -1.0, ...</td>\n",
       "    </tr>\n",
       "    <tr>\n",
       "      <th>100</th>\n",
       "      <td>(0, 3)\\t0.0290456\\n  (0, 4)\\t0.0482759\\n  (0...</td>\n",
       "      <td>[1.0, 1.0, -1.0, -1.0, -1.0, -1.0, 1.0, -1.0, ...</td>\n",
       "    </tr>\n",
       "    <tr>\n",
       "      <th>101</th>\n",
       "      <td>(0, 1)\\t1.0\\n  (0, 3)\\t0.0871369\\n  (0, 4)\\t...</td>\n",
       "      <td>[1.0, 1.0, -1.0, 1.0, -1.0, -1.0, 1.0, -1.0, -...</td>\n",
       "    </tr>\n",
       "    <tr>\n",
       "      <th>102</th>\n",
       "      <td>(0, 3)\\t0.0248963\\n  (0, 4)\\t0.0413793\\n  (0...</td>\n",
       "      <td>[1.0, 1.0, 1.0, -1.0, -1.0, -1.0, -1.0, 1.0, -...</td>\n",
       "    </tr>\n",
       "    <tr>\n",
       "      <th>103</th>\n",
       "      <td>(0, 3)\\t0.0497925\\n  (0, 4)\\t0.0827586\\n  (0...</td>\n",
       "      <td>[1.0, 1.0, 1.0, -1.0, -1.0, -1.0, -1.0, 1.0, -...</td>\n",
       "    </tr>\n",
       "    <tr>\n",
       "      <th>104</th>\n",
       "      <td>(0, 3)\\t0.06639\\n  (0, 4)\\t0.110345\\n  (0, 5...</td>\n",
       "      <td>[1.0, -1.0, -1.0, -1.0, -1.0, -1.0, -1.0, -1.0...</td>\n",
       "    </tr>\n",
       "    <tr>\n",
       "      <th>105</th>\n",
       "      <td>(0, 1)\\t1.0\\n  (0, 3)\\t0.0622407\\n  (0, 4)\\t...</td>\n",
       "      <td>[1.0, -1.0, 1.0, -1.0, 1.0, 1.0, -1.0, -1.0, -...</td>\n",
       "    </tr>\n",
       "    <tr>\n",
       "      <th>106</th>\n",
       "      <td>(0, 3)\\t0.0290456\\n  (0, 4)\\t0.0482759\\n  (0...</td>\n",
       "      <td>[1.0, -1.0, -1.0, -1.0, -1.0, 1.0, -1.0, -1.0,...</td>\n",
       "    </tr>\n",
       "    <tr>\n",
       "      <th>107</th>\n",
       "      <td>(0, 1)\\t1.0\\n  (0, 3)\\t0.0788382\\n  (0, 4)\\t...</td>\n",
       "      <td>[1.0, 1.0, -1.0, -1.0, -1.0, -1.0, 1.0, -1.0, ...</td>\n",
       "    </tr>\n",
       "    <tr>\n",
       "      <th>108</th>\n",
       "      <td>(0, 3)\\t0.033195\\n  (0, 4)\\t0.0137931\\n  (0,...</td>\n",
       "      <td>[1.0, -1.0, 1.0, -1.0, -1.0, -1.0, -1.0, -1.0,...</td>\n",
       "    </tr>\n",
       "    <tr>\n",
       "      <th>109</th>\n",
       "      <td>(0, 1)\\t1.0\\n  (0, 3)\\t0.06639\\n  (0, 4)\\t0....</td>\n",
       "      <td>[-1.0, 1.0, -1.0, -1.0, -1.0, 1.0, 1.0, -1.0, ...</td>\n",
       "    </tr>\n",
       "    <tr>\n",
       "      <th>110</th>\n",
       "      <td>(0, 3)\\t0.033195\\n  (0, 4)\\t0.0551724\\n  (0,...</td>\n",
       "      <td>[1.0, 1.0, 1.0, 1.0, -1.0, -1.0, 1.0, 1.0, -1....</td>\n",
       "    </tr>\n",
       "    <tr>\n",
       "      <th>111</th>\n",
       "      <td>(0, 1)\\t1.0\\n  (0, 3)\\t0.174274\\n  (0, 4)\\t0...</td>\n",
       "      <td>[-1.0, -1.0, -1.0, 1.0, -1.0, -1.0, 1.0, 1.0, ...</td>\n",
       "    </tr>\n",
       "    <tr>\n",
       "      <th>112</th>\n",
       "      <td>(0, 3)\\t0.0995851\\n  (0, 4)\\t0.165517\\n  (0,...</td>\n",
       "      <td>[1.0, 1.0, 1.0, 1.0, -1.0, -1.0, -1.0, -1.0, -...</td>\n",
       "    </tr>\n",
       "    <tr>\n",
       "      <th>113</th>\n",
       "      <td>(0, 3)\\t0.0373444\\n  (0, 4)\\t0.062069\\n  (0,...</td>\n",
       "      <td>[1.0, 1.0, -1.0, -1.0, 1.0, 1.0, -1.0, -1.0, -...</td>\n",
       "    </tr>\n",
       "    <tr>\n",
       "      <th>114</th>\n",
       "      <td>(0, 3)\\t0.124481\\n  (0, 4)\\t0.0827586\\n  (0,...</td>\n",
       "      <td>[-1.0, -1.0, -1.0, -1.0, 1.0, -1.0, -1.0, -1.0...</td>\n",
       "    </tr>\n",
       "    <tr>\n",
       "      <th>115</th>\n",
       "      <td>(0, 3)\\t0.0414938\\n  (0, 4)\\t0.0689655\\n  (0...</td>\n",
       "      <td>[1.0, -1.0, -1.0, 1.0, -1.0, 1.0, -1.0, -1.0, ...</td>\n",
       "    </tr>\n",
       "    <tr>\n",
       "      <th>116</th>\n",
       "      <td>(0, 1)\\t1.0\\n  (0, 3)\\t0.0580913\\n  (0, 4)\\t...</td>\n",
       "      <td>[1.0, -1.0, -1.0, 1.0, 1.0, 1.0, -1.0, -1.0, 1...</td>\n",
       "    </tr>\n",
       "    <tr>\n",
       "      <th>117</th>\n",
       "      <td>(0, 3)\\t0.0290456\\n  (0, 4)\\t0.0482759\\n  (0...</td>\n",
       "      <td>[1.0, 1.0, 1.0, -1.0, -1.0, -1.0, -1.0, -1.0, ...</td>\n",
       "    </tr>\n",
       "    <tr>\n",
       "      <th>118</th>\n",
       "      <td>(0, 3)\\t0.0829876\\n  (0, 4)\\t0.062069\\n  (0,...</td>\n",
       "      <td>[-1.0, 1.0, -1.0, -1.0, -1.0, 1.0, -1.0, -1.0,...</td>\n",
       "    </tr>\n",
       "    <tr>\n",
       "      <th>119</th>\n",
       "      <td>(0, 0)\\t1.0\\n  (0, 1)\\t1.0\\n  (0, 2)\\t1.0\\n ...</td>\n",
       "      <td>[1.0, -1.0, -1.0, -1.0, -1.0, -1.0, 1.0, -1.0,...</td>\n",
       "    </tr>\n",
       "    <tr>\n",
       "      <th>120</th>\n",
       "      <td>(0, 3)\\t0.0373444\\n  (0, 4)\\t0.062069\\n  (0,...</td>\n",
       "      <td>[1.0, 1.0, 1.0, 1.0, 1.0, -1.0, -1.0, -1.0, -1...</td>\n",
       "    </tr>\n",
       "  </tbody>\n",
       "</table>\n",
       "<p>121 rows × 2 columns</p>\n",
       "</div>"
      ],
      "text/plain": [
       "                                            Attributes  \\\n",
       "0      (0, 3)\\t0.0788382\\n  (0, 4)\\t0.124138\\n  (0,...   \n",
       "1      (0, 3)\\t0.0788382\\n  (0, 4)\\t0.124138\\n  (0,...   \n",
       "2      (0, 1)\\t1.0\\n  (0, 3)\\t0.128631\\n  (0, 4)\\t0...   \n",
       "3      (0, 3)\\t0.0705394\\n  (0, 4)\\t0.117241\\n  (0,...   \n",
       "4      (0, 3)\\t0.0373444\\n  (0, 4)\\t0.0551724\\n  (0...   \n",
       "5      (0, 3)\\t0.0580913\\n  (0, 4)\\t0.0896552\\n  (0...   \n",
       "6      (0, 1)\\t1.0\\n  (0, 3)\\t0.0912863\\n  (0, 4)\\t...   \n",
       "7      (0, 1)\\t1.0\\n  (0, 3)\\t0.0622407\\n  (0, 4)\\t...   \n",
       "8      (0, 3)\\t0.0580913\\n  (0, 4)\\t0.0965517\\n  (0...   \n",
       "9      (0, 3)\\t0.0539419\\n  (0, 4)\\t0.0827586\\n  (0...   \n",
       "10     (0, 1)\\t1.0\\n  (0, 3)\\t0.120332\\n  (0, 4)\\t0...   \n",
       "11     (0, 1)\\t1.0\\n  (0, 3)\\t0.0746888\\n  (0, 4)\\t...   \n",
       "12     (0, 3)\\t0.0871369\\n  (0, 4)\\t0.0551724\\n  (0...   \n",
       "13     (0, 3)\\t0.0705394\\n  (0, 4)\\t0.110345\\n  (0,...   \n",
       "14     (0, 1)\\t1.0\\n  (0, 3)\\t0.0705394\\n  (0, 4)\\t...   \n",
       "15     (0, 3)\\t0.282158\\n  (0, 4)\\t0.0344828\\n  (0,...   \n",
       "16     (0, 3)\\t0.0414938\\n  (0, 4)\\t0.062069\\n  (0,...   \n",
       "17     (0, 3)\\t0.0414938\\n  (0, 4)\\t0.0689655\\n  (0...   \n",
       "18     (0, 1)\\t1.0\\n  (0, 3)\\t0.0290456\\n  (0, 4)\\t...   \n",
       "19     (0, 1)\\t1.0\\n  (0, 3)\\t0.0456432\\n  (0, 4)\\t...   \n",
       "20     (0, 1)\\t1.0\\n  (0, 3)\\t0.112033\\n  (0, 4)\\t0...   \n",
       "21     (0, 3)\\t0.136929\\n  (0, 4)\\t0.0827586\\n  (0,...   \n",
       "22     (0, 3)\\t0.0788382\\n  (0, 4)\\t0.0758621\\n  (0...   \n",
       "23     (0, 1)\\t1.0\\n  (0, 3)\\t0.0871369\\n  (0, 4)\\t...   \n",
       "24     (0, 1)\\t1.0\\n  (0, 3)\\t0.0622407\\n  (0, 4)\\t...   \n",
       "25     (0, 3)\\t0.0497925\\n  (0, 4)\\t0.0827586\\n  (0...   \n",
       "26     (0, 1)\\t1.0\\n  (0, 3)\\t0.145228\\n  (0, 4)\\t0...   \n",
       "27     (0, 3)\\t0.0746888\\n  (0, 4)\\t0.117241\\n  (0,...   \n",
       "28     (0, 1)\\t1.0\\n  (0, 3)\\t0.0829876\\n  (0, 4)\\t...   \n",
       "29     (0, 3)\\t0.0705394\\n  (0, 4)\\t0.110345\\n  (0,...   \n",
       "..                                                 ...   \n",
       "91     (0, 3)\\t0.477178\\n  (0, 4)\\t0.0689655\\n  (0,...   \n",
       "92     (0, 1)\\t1.0\\n  (0, 3)\\t0.0248963\\n  (0, 4)\\t...   \n",
       "93     (0, 1)\\t1.0\\n  (0, 3)\\t0.0580913\\n  (0, 4)\\t...   \n",
       "94     (0, 1)\\t1.0\\n  (0, 3)\\t0.0995851\\n  (0, 4)\\t...   \n",
       "95     (0, 1)\\t1.0\\n  (0, 3)\\t0.112033\\n  (0, 4)\\t0...   \n",
       "96     (0, 3)\\t0.178423\\n  (0, 4)\\t0.0551724\\n  (0,...   \n",
       "97     (0, 3)\\t0.0705394\\n  (0, 4)\\t0.062069\\n  (0,...   \n",
       "98     (0, 3)\\t0.0456432\\n  (0, 4)\\t0.0758621\\n  (0...   \n",
       "99     (0, 3)\\t0.0497925\\n  (0, 4)\\t0.0827586\\n  (0...   \n",
       "100    (0, 3)\\t0.0290456\\n  (0, 4)\\t0.0482759\\n  (0...   \n",
       "101    (0, 1)\\t1.0\\n  (0, 3)\\t0.0871369\\n  (0, 4)\\t...   \n",
       "102    (0, 3)\\t0.0248963\\n  (0, 4)\\t0.0413793\\n  (0...   \n",
       "103    (0, 3)\\t0.0497925\\n  (0, 4)\\t0.0827586\\n  (0...   \n",
       "104    (0, 3)\\t0.06639\\n  (0, 4)\\t0.110345\\n  (0, 5...   \n",
       "105    (0, 1)\\t1.0\\n  (0, 3)\\t0.0622407\\n  (0, 4)\\t...   \n",
       "106    (0, 3)\\t0.0290456\\n  (0, 4)\\t0.0482759\\n  (0...   \n",
       "107    (0, 1)\\t1.0\\n  (0, 3)\\t0.0788382\\n  (0, 4)\\t...   \n",
       "108    (0, 3)\\t0.033195\\n  (0, 4)\\t0.0137931\\n  (0,...   \n",
       "109    (0, 1)\\t1.0\\n  (0, 3)\\t0.06639\\n  (0, 4)\\t0....   \n",
       "110    (0, 3)\\t0.033195\\n  (0, 4)\\t0.0551724\\n  (0,...   \n",
       "111    (0, 1)\\t1.0\\n  (0, 3)\\t0.174274\\n  (0, 4)\\t0...   \n",
       "112    (0, 3)\\t0.0995851\\n  (0, 4)\\t0.165517\\n  (0,...   \n",
       "113    (0, 3)\\t0.0373444\\n  (0, 4)\\t0.062069\\n  (0,...   \n",
       "114    (0, 3)\\t0.124481\\n  (0, 4)\\t0.0827586\\n  (0,...   \n",
       "115    (0, 3)\\t0.0414938\\n  (0, 4)\\t0.0689655\\n  (0...   \n",
       "116    (0, 1)\\t1.0\\n  (0, 3)\\t0.0580913\\n  (0, 4)\\t...   \n",
       "117    (0, 3)\\t0.0290456\\n  (0, 4)\\t0.0482759\\n  (0...   \n",
       "118    (0, 3)\\t0.0829876\\n  (0, 4)\\t0.062069\\n  (0,...   \n",
       "119    (0, 0)\\t1.0\\n  (0, 1)\\t1.0\\n  (0, 2)\\t1.0\\n ...   \n",
       "120    (0, 3)\\t0.0373444\\n  (0, 4)\\t0.062069\\n  (0,...   \n",
       "\n",
       "                                       URL Reputations  \n",
       "0    [-1.0, -1.0, -1.0, -1.0, 1.0, -1.0, -1.0, -1.0...  \n",
       "1    [-1.0, -1.0, -1.0, 1.0, -1.0, 1.0, -1.0, 1.0, ...  \n",
       "2    [-1.0, -1.0, 1.0, -1.0, -1.0, -1.0, -1.0, -1.0...  \n",
       "3    [1.0, 1.0, 1.0, -1.0, -1.0, -1.0, 1.0, 1.0, -1...  \n",
       "4    [-1.0, 1.0, 1.0, 1.0, -1.0, -1.0, 1.0, 1.0, 1....  \n",
       "5    [-1.0, 1.0, 1.0, -1.0, 1.0, -1.0, -1.0, 1.0, 1...  \n",
       "6    [-1.0, -1.0, -1.0, -1.0, -1.0, -1.0, -1.0, -1....  \n",
       "7    [-1.0, -1.0, 1.0, -1.0, -1.0, 1.0, 1.0, 1.0, 1...  \n",
       "8    [1.0, -1.0, -1.0, -1.0, 1.0, 1.0, -1.0, 1.0, -...  \n",
       "9    [-1.0, -1.0, -1.0, -1.0, -1.0, -1.0, -1.0, -1....  \n",
       "10   [-1.0, -1.0, 1.0, -1.0, 1.0, -1.0, -1.0, 1.0, ...  \n",
       "11   [-1.0, -1.0, -1.0, -1.0, -1.0, -1.0, -1.0, -1....  \n",
       "12   [-1.0, -1.0, -1.0, -1.0, -1.0, -1.0, -1.0, -1....  \n",
       "13   [-1.0, 1.0, 1.0, -1.0, 1.0, -1.0, -1.0, -1.0, ...  \n",
       "14   [-1.0, 1.0, -1.0, -1.0, -1.0, -1.0, 1.0, 1.0, ...  \n",
       "15   [1.0, 1.0, 1.0, -1.0, -1.0, 1.0, -1.0, -1.0, -...  \n",
       "16   [-1.0, 1.0, -1.0, -1.0, -1.0, -1.0, -1.0, -1.0...  \n",
       "17   [1.0, -1.0, 1.0, -1.0, 1.0, 1.0, 1.0, -1.0, -1...  \n",
       "18   [1.0, -1.0, -1.0, -1.0, -1.0, 1.0, -1.0, -1.0,...  \n",
       "19   [-1.0, -1.0, -1.0, -1.0, -1.0, -1.0, -1.0, -1....  \n",
       "20   [-1.0, -1.0, -1.0, -1.0, 1.0, -1.0, 1.0, -1.0,...  \n",
       "21   [-1.0, 1.0, 1.0, -1.0, -1.0, -1.0, -1.0, 1.0, ...  \n",
       "22   [-1.0, -1.0, -1.0, 1.0, 1.0, -1.0, -1.0, 1.0, ...  \n",
       "23   [-1.0, -1.0, -1.0, -1.0, -1.0, -1.0, -1.0, 1.0...  \n",
       "24   [-1.0, 1.0, -1.0, 1.0, -1.0, -1.0, 1.0, -1.0, ...  \n",
       "25   [1.0, -1.0, -1.0, -1.0, 1.0, 1.0, 1.0, -1.0, 1...  \n",
       "26   [-1.0, -1.0, -1.0, -1.0, -1.0, -1.0, -1.0, -1....  \n",
       "27   [-1.0, -1.0, -1.0, -1.0, -1.0, 1.0, 1.0, 1.0, ...  \n",
       "28   [-1.0, -1.0, -1.0, -1.0, -1.0, -1.0, -1.0, -1....  \n",
       "29   [-1.0, -1.0, -1.0, -1.0, -1.0, 1.0, 1.0, -1.0,...  \n",
       "..                                                 ...  \n",
       "91   [1.0, 1.0, 1.0, -1.0, -1.0, -1.0, -1.0, -1.0, ...  \n",
       "92   [1.0, 1.0, 1.0, 1.0, 1.0, -1.0, 1.0, -1.0, -1....  \n",
       "93   [1.0, 1.0, 1.0, 1.0, 1.0, -1.0, -1.0, -1.0, -1...  \n",
       "94   [1.0, 1.0, 1.0, 1.0, 1.0, -1.0, -1.0, -1.0, -1...  \n",
       "95   [1.0, 1.0, 1.0, -1.0, -1.0, -1.0, -1.0, -1.0, ...  \n",
       "96   [-1.0, -1.0, -1.0, 1.0, -1.0, -1.0, -1.0, -1.0...  \n",
       "97   [-1.0, 1.0, -1.0, -1.0, -1.0, -1.0, -1.0, -1.0...  \n",
       "98   [1.0, -1.0, -1.0, -1.0, 1.0, -1.0, 1.0, -1.0, ...  \n",
       "99   [1.0, 1.0, -1.0, -1.0, -1.0, -1.0, 1.0, -1.0, ...  \n",
       "100  [1.0, 1.0, -1.0, -1.0, -1.0, -1.0, 1.0, -1.0, ...  \n",
       "101  [1.0, 1.0, -1.0, 1.0, -1.0, -1.0, 1.0, -1.0, -...  \n",
       "102  [1.0, 1.0, 1.0, -1.0, -1.0, -1.0, -1.0, 1.0, -...  \n",
       "103  [1.0, 1.0, 1.0, -1.0, -1.0, -1.0, -1.0, 1.0, -...  \n",
       "104  [1.0, -1.0, -1.0, -1.0, -1.0, -1.0, -1.0, -1.0...  \n",
       "105  [1.0, -1.0, 1.0, -1.0, 1.0, 1.0, -1.0, -1.0, -...  \n",
       "106  [1.0, -1.0, -1.0, -1.0, -1.0, 1.0, -1.0, -1.0,...  \n",
       "107  [1.0, 1.0, -1.0, -1.0, -1.0, -1.0, 1.0, -1.0, ...  \n",
       "108  [1.0, -1.0, 1.0, -1.0, -1.0, -1.0, -1.0, -1.0,...  \n",
       "109  [-1.0, 1.0, -1.0, -1.0, -1.0, 1.0, 1.0, -1.0, ...  \n",
       "110  [1.0, 1.0, 1.0, 1.0, -1.0, -1.0, 1.0, 1.0, -1....  \n",
       "111  [-1.0, -1.0, -1.0, 1.0, -1.0, -1.0, 1.0, 1.0, ...  \n",
       "112  [1.0, 1.0, 1.0, 1.0, -1.0, -1.0, -1.0, -1.0, -...  \n",
       "113  [1.0, 1.0, -1.0, -1.0, 1.0, 1.0, -1.0, -1.0, -...  \n",
       "114  [-1.0, -1.0, -1.0, -1.0, 1.0, -1.0, -1.0, -1.0...  \n",
       "115  [1.0, -1.0, -1.0, 1.0, -1.0, 1.0, -1.0, -1.0, ...  \n",
       "116  [1.0, -1.0, -1.0, 1.0, 1.0, 1.0, -1.0, -1.0, 1...  \n",
       "117  [1.0, 1.0, 1.0, -1.0, -1.0, -1.0, -1.0, -1.0, ...  \n",
       "118  [-1.0, 1.0, -1.0, -1.0, -1.0, 1.0, -1.0, -1.0,...  \n",
       "119  [1.0, -1.0, -1.0, -1.0, -1.0, -1.0, 1.0, -1.0,...  \n",
       "120  [1.0, 1.0, 1.0, 1.0, 1.0, -1.0, -1.0, -1.0, -1...  \n",
       "\n",
       "[121 rows x 2 columns]"
      ]
     },
     "execution_count": 19,
     "metadata": {},
     "output_type": "execute_result"
    }
   ],
   "source": [
    "df_days"
   ]
  },
  {
   "cell_type": "code",
   "execution_count": 20,
   "metadata": {},
   "outputs": [
    {
     "data": {
      "text/plain": [
       "0        (0, 3)\\t0.0788382\\n  (0, 4)\\t0.124138\\n  (0,...\n",
       "1        (0, 3)\\t0.0788382\\n  (0, 4)\\t0.124138\\n  (0,...\n",
       "2        (0, 1)\\t1.0\\n  (0, 3)\\t0.128631\\n  (0, 4)\\t0...\n",
       "3        (0, 3)\\t0.0705394\\n  (0, 4)\\t0.117241\\n  (0,...\n",
       "4        (0, 3)\\t0.0373444\\n  (0, 4)\\t0.0551724\\n  (0...\n",
       "5        (0, 3)\\t0.0580913\\n  (0, 4)\\t0.0896552\\n  (0...\n",
       "6        (0, 1)\\t1.0\\n  (0, 3)\\t0.0912863\\n  (0, 4)\\t...\n",
       "7        (0, 1)\\t1.0\\n  (0, 3)\\t0.0622407\\n  (0, 4)\\t...\n",
       "8        (0, 3)\\t0.0580913\\n  (0, 4)\\t0.0965517\\n  (0...\n",
       "9        (0, 3)\\t0.0539419\\n  (0, 4)\\t0.0827586\\n  (0...\n",
       "10       (0, 1)\\t1.0\\n  (0, 3)\\t0.120332\\n  (0, 4)\\t0...\n",
       "11       (0, 1)\\t1.0\\n  (0, 3)\\t0.0746888\\n  (0, 4)\\t...\n",
       "12       (0, 3)\\t0.0871369\\n  (0, 4)\\t0.0551724\\n  (0...\n",
       "13       (0, 3)\\t0.0705394\\n  (0, 4)\\t0.110345\\n  (0,...\n",
       "14       (0, 1)\\t1.0\\n  (0, 3)\\t0.0705394\\n  (0, 4)\\t...\n",
       "15       (0, 3)\\t0.282158\\n  (0, 4)\\t0.0344828\\n  (0,...\n",
       "16       (0, 3)\\t0.0414938\\n  (0, 4)\\t0.062069\\n  (0,...\n",
       "17       (0, 3)\\t0.0414938\\n  (0, 4)\\t0.0689655\\n  (0...\n",
       "18       (0, 1)\\t1.0\\n  (0, 3)\\t0.0290456\\n  (0, 4)\\t...\n",
       "19       (0, 1)\\t1.0\\n  (0, 3)\\t0.0456432\\n  (0, 4)\\t...\n",
       "20       (0, 1)\\t1.0\\n  (0, 3)\\t0.112033\\n  (0, 4)\\t0...\n",
       "21       (0, 3)\\t0.136929\\n  (0, 4)\\t0.0827586\\n  (0,...\n",
       "22       (0, 3)\\t0.0788382\\n  (0, 4)\\t0.0758621\\n  (0...\n",
       "23       (0, 1)\\t1.0\\n  (0, 3)\\t0.0871369\\n  (0, 4)\\t...\n",
       "24       (0, 1)\\t1.0\\n  (0, 3)\\t0.0622407\\n  (0, 4)\\t...\n",
       "25       (0, 3)\\t0.0497925\\n  (0, 4)\\t0.0827586\\n  (0...\n",
       "26       (0, 1)\\t1.0\\n  (0, 3)\\t0.145228\\n  (0, 4)\\t0...\n",
       "27       (0, 3)\\t0.0746888\\n  (0, 4)\\t0.117241\\n  (0,...\n",
       "28       (0, 1)\\t1.0\\n  (0, 3)\\t0.0829876\\n  (0, 4)\\t...\n",
       "29       (0, 3)\\t0.0705394\\n  (0, 4)\\t0.110345\\n  (0,...\n",
       "                             ...                        \n",
       "91       (0, 3)\\t0.477178\\n  (0, 4)\\t0.0689655\\n  (0,...\n",
       "92       (0, 1)\\t1.0\\n  (0, 3)\\t0.0248963\\n  (0, 4)\\t...\n",
       "93       (0, 1)\\t1.0\\n  (0, 3)\\t0.0580913\\n  (0, 4)\\t...\n",
       "94       (0, 1)\\t1.0\\n  (0, 3)\\t0.0995851\\n  (0, 4)\\t...\n",
       "95       (0, 1)\\t1.0\\n  (0, 3)\\t0.112033\\n  (0, 4)\\t0...\n",
       "96       (0, 3)\\t0.178423\\n  (0, 4)\\t0.0551724\\n  (0,...\n",
       "97       (0, 3)\\t0.0705394\\n  (0, 4)\\t0.062069\\n  (0,...\n",
       "98       (0, 3)\\t0.0456432\\n  (0, 4)\\t0.0758621\\n  (0...\n",
       "99       (0, 3)\\t0.0497925\\n  (0, 4)\\t0.0827586\\n  (0...\n",
       "100      (0, 3)\\t0.0290456\\n  (0, 4)\\t0.0482759\\n  (0...\n",
       "101      (0, 1)\\t1.0\\n  (0, 3)\\t0.0871369\\n  (0, 4)\\t...\n",
       "102      (0, 3)\\t0.0248963\\n  (0, 4)\\t0.0413793\\n  (0...\n",
       "103      (0, 3)\\t0.0497925\\n  (0, 4)\\t0.0827586\\n  (0...\n",
       "104      (0, 3)\\t0.06639\\n  (0, 4)\\t0.110345\\n  (0, 5...\n",
       "105      (0, 1)\\t1.0\\n  (0, 3)\\t0.0622407\\n  (0, 4)\\t...\n",
       "106      (0, 3)\\t0.0290456\\n  (0, 4)\\t0.0482759\\n  (0...\n",
       "107      (0, 1)\\t1.0\\n  (0, 3)\\t0.0788382\\n  (0, 4)\\t...\n",
       "108      (0, 3)\\t0.033195\\n  (0, 4)\\t0.0137931\\n  (0,...\n",
       "109      (0, 1)\\t1.0\\n  (0, 3)\\t0.06639\\n  (0, 4)\\t0....\n",
       "110      (0, 3)\\t0.033195\\n  (0, 4)\\t0.0551724\\n  (0,...\n",
       "111      (0, 1)\\t1.0\\n  (0, 3)\\t0.174274\\n  (0, 4)\\t0...\n",
       "112      (0, 3)\\t0.0995851\\n  (0, 4)\\t0.165517\\n  (0,...\n",
       "113      (0, 3)\\t0.0373444\\n  (0, 4)\\t0.062069\\n  (0,...\n",
       "114      (0, 3)\\t0.124481\\n  (0, 4)\\t0.0827586\\n  (0,...\n",
       "115      (0, 3)\\t0.0414938\\n  (0, 4)\\t0.0689655\\n  (0...\n",
       "116      (0, 1)\\t1.0\\n  (0, 3)\\t0.0580913\\n  (0, 4)\\t...\n",
       "117      (0, 3)\\t0.0290456\\n  (0, 4)\\t0.0482759\\n  (0...\n",
       "118      (0, 3)\\t0.0829876\\n  (0, 4)\\t0.062069\\n  (0,...\n",
       "119      (0, 0)\\t1.0\\n  (0, 1)\\t1.0\\n  (0, 2)\\t1.0\\n ...\n",
       "120      (0, 3)\\t0.0373444\\n  (0, 4)\\t0.062069\\n  (0,...\n",
       "Name: Attributes, Length: 121, dtype: object"
      ]
     },
     "execution_count": 20,
     "metadata": {},
     "output_type": "execute_result"
    }
   ],
   "source": [
    "df_days.get('Attributes')"
   ]
  },
  {
   "cell_type": "markdown",
   "metadata": {},
   "source": [
    "## Testing Sklearn SVM classification"
   ]
  },
  {
   "cell_type": "code",
   "execution_count": 12,
   "metadata": {},
   "outputs": [],
   "source": [
    "clf = svm.SVC(C=100)"
   ]
  },
  {
   "cell_type": "markdown",
   "metadata": {},
   "source": [
    "### Training test: data of day 0"
   ]
  },
  {
   "cell_type": "code",
   "execution_count": 13,
   "metadata": {},
   "outputs": [
    {
     "name": "stderr",
     "output_type": "stream",
     "text": [
      "/home/giordano/anaconda3/envs/da2019/lib/python3.6/site-packages/sklearn/svm/base.py:196: FutureWarning: The default value of gamma will change from 'auto' to 'scale' in version 0.22 to account better for unscaled features. Set gamma explicitly to 'auto' or 'scale' to avoid this warning.\n",
      "  \"avoid this warning.\", FutureWarning)\n"
     ]
    },
    {
     "data": {
      "text/plain": [
       "SVC(C=100, cache_size=200, class_weight=None, coef0=0.0,\n",
       "  decision_function_shape='ovr', degree=3, gamma='auto_deprecated',\n",
       "  kernel='rbf', max_iter=-1, probability=False, random_state=None,\n",
       "  shrinking=True, tol=0.001, verbose=False)"
      ]
     },
     "execution_count": 13,
     "metadata": {},
     "output_type": "execute_result"
    }
   ],
   "source": [
    "clf.fit(day0[0], day0[1])"
   ]
  },
  {
   "cell_type": "markdown",
   "metadata": {},
   "source": [
    "### Predicting data of Day 1"
   ]
  },
  {
   "cell_type": "code",
   "execution_count": 15,
   "metadata": {
    "scrolled": true
   },
   "outputs": [
    {
     "data": {
      "text/plain": [
       "array([-1., -1., -1., ..., -1., -1., -1.])"
      ]
     },
     "execution_count": 15,
     "metadata": {},
     "output_type": "execute_result"
    }
   ],
   "source": [
    "clf.predict(day1[0])"
   ]
  },
  {
   "cell_type": "code",
   "execution_count": 19,
   "metadata": {},
   "outputs": [
    {
     "data": {
      "text/plain": [
       "0.8705"
      ]
     },
     "execution_count": 19,
     "metadata": {},
     "output_type": "execute_result"
    }
   ],
   "source": [
    "clf.score(day1[0], day1[1])"
   ]
  },
  {
   "cell_type": "markdown",
   "metadata": {},
   "source": [
    "## Testing PCA"
   ]
  },
  {
   "cell_type": "code",
   "execution_count": 8,
   "metadata": {},
   "outputs": [],
   "source": [
    "from sklearn.decomposition import TruncatedSVD"
   ]
  },
  {
   "cell_type": "code",
   "execution_count": null,
   "metadata": {},
   "outputs": [],
   "source": [
    "pd.SparseDataFrame(day0[0])"
   ]
  },
  {
   "cell_type": "code",
   "execution_count": 12,
   "metadata": {},
   "outputs": [],
   "source": [
    "svd = TruncatedSVD(n_components=10)"
   ]
  },
  {
   "cell_type": "code",
   "execution_count": 13,
   "metadata": {},
   "outputs": [
    {
     "ename": "MemoryError",
     "evalue": "",
     "output_type": "error",
     "traceback": [
      "\u001b[0;31m---------------------------------------------------------------------------\u001b[0m",
      "\u001b[0;31mMemoryError\u001b[0m                               Traceback (most recent call last)",
      "\u001b[0;32m<ipython-input-13-c8936160fefb>\u001b[0m in \u001b[0;36m<module>\u001b[0;34m\u001b[0m\n\u001b[0;32m----> 1\u001b[0;31m \u001b[0msvd\u001b[0m\u001b[0;34m.\u001b[0m\u001b[0mfit\u001b[0m\u001b[0;34m(\u001b[0m\u001b[0mtotalattributes\u001b[0m\u001b[0;34m)\u001b[0m\u001b[0;34m\u001b[0m\u001b[0;34m\u001b[0m\u001b[0m\n\u001b[0m",
      "\u001b[0;32m~/anaconda3/envs/da2019/lib/python3.6/site-packages/sklearn/decomposition/truncated_svd.py\u001b[0m in \u001b[0;36mfit\u001b[0;34m(self, X, y)\u001b[0m\n\u001b[1;32m    139\u001b[0m             \u001b[0mReturns\u001b[0m \u001b[0mthe\u001b[0m \u001b[0mtransformer\u001b[0m \u001b[0mobject\u001b[0m\u001b[0;34m.\u001b[0m\u001b[0;34m\u001b[0m\u001b[0;34m\u001b[0m\u001b[0m\n\u001b[1;32m    140\u001b[0m         \"\"\"\n\u001b[0;32m--> 141\u001b[0;31m         \u001b[0mself\u001b[0m\u001b[0;34m.\u001b[0m\u001b[0mfit_transform\u001b[0m\u001b[0;34m(\u001b[0m\u001b[0mX\u001b[0m\u001b[0;34m)\u001b[0m\u001b[0;34m\u001b[0m\u001b[0;34m\u001b[0m\u001b[0m\n\u001b[0m\u001b[1;32m    142\u001b[0m         \u001b[0;32mreturn\u001b[0m \u001b[0mself\u001b[0m\u001b[0;34m\u001b[0m\u001b[0;34m\u001b[0m\u001b[0m\n\u001b[1;32m    143\u001b[0m \u001b[0;34m\u001b[0m\u001b[0m\n",
      "\u001b[0;32m~/anaconda3/envs/da2019/lib/python3.6/site-packages/sklearn/decomposition/truncated_svd.py\u001b[0m in \u001b[0;36mfit_transform\u001b[0;34m(self, X, y)\u001b[0m\n\u001b[1;32m    175\u001b[0m             U, Sigma, VT = randomized_svd(X, self.n_components,\n\u001b[1;32m    176\u001b[0m                                           \u001b[0mn_iter\u001b[0m\u001b[0;34m=\u001b[0m\u001b[0mself\u001b[0m\u001b[0;34m.\u001b[0m\u001b[0mn_iter\u001b[0m\u001b[0;34m,\u001b[0m\u001b[0;34m\u001b[0m\u001b[0;34m\u001b[0m\u001b[0m\n\u001b[0;32m--> 177\u001b[0;31m                                           random_state=random_state)\n\u001b[0m\u001b[1;32m    178\u001b[0m         \u001b[0;32melse\u001b[0m\u001b[0;34m:\u001b[0m\u001b[0;34m\u001b[0m\u001b[0;34m\u001b[0m\u001b[0m\n\u001b[1;32m    179\u001b[0m             \u001b[0;32mraise\u001b[0m \u001b[0mValueError\u001b[0m\u001b[0;34m(\u001b[0m\u001b[0;34m\"unknown algorithm %r\"\u001b[0m \u001b[0;34m%\u001b[0m \u001b[0mself\u001b[0m\u001b[0;34m.\u001b[0m\u001b[0malgorithm\u001b[0m\u001b[0;34m)\u001b[0m\u001b[0;34m\u001b[0m\u001b[0;34m\u001b[0m\u001b[0m\n",
      "\u001b[0;32m~/anaconda3/envs/da2019/lib/python3.6/site-packages/sklearn/utils/extmath.py\u001b[0m in \u001b[0;36mrandomized_svd\u001b[0;34m(M, n_components, n_oversamples, n_iter, power_iteration_normalizer, transpose, flip_sign, random_state)\u001b[0m\n\u001b[1;32m    363\u001b[0m \u001b[0;34m\u001b[0m\u001b[0m\n\u001b[1;32m    364\u001b[0m     Q = randomized_range_finder(M, n_random, n_iter,\n\u001b[0;32m--> 365\u001b[0;31m                                 power_iteration_normalizer, random_state)\n\u001b[0m\u001b[1;32m    366\u001b[0m \u001b[0;34m\u001b[0m\u001b[0m\n\u001b[1;32m    367\u001b[0m     \u001b[0;31m# project M to the (k + p) dimensional space using the basis vectors\u001b[0m\u001b[0;34m\u001b[0m\u001b[0;34m\u001b[0m\u001b[0;34m\u001b[0m\u001b[0m\n",
      "\u001b[0;32m~/anaconda3/envs/da2019/lib/python3.6/site-packages/sklearn/utils/extmath.py\u001b[0m in \u001b[0;36mrandomized_range_finder\u001b[0;34m(A, size, n_iter, power_iteration_normalizer, random_state)\u001b[0m\n\u001b[1;32m    247\u001b[0m             \u001b[0mQ\u001b[0m \u001b[0;34m=\u001b[0m \u001b[0msafe_sparse_dot\u001b[0m\u001b[0;34m(\u001b[0m\u001b[0mA\u001b[0m\u001b[0;34m.\u001b[0m\u001b[0mT\u001b[0m\u001b[0;34m,\u001b[0m \u001b[0mQ\u001b[0m\u001b[0;34m)\u001b[0m\u001b[0;34m\u001b[0m\u001b[0;34m\u001b[0m\u001b[0m\n\u001b[1;32m    248\u001b[0m         \u001b[0;32melif\u001b[0m \u001b[0mpower_iteration_normalizer\u001b[0m \u001b[0;34m==\u001b[0m \u001b[0;34m'LU'\u001b[0m\u001b[0;34m:\u001b[0m\u001b[0;34m\u001b[0m\u001b[0;34m\u001b[0m\u001b[0m\n\u001b[0;32m--> 249\u001b[0;31m             \u001b[0mQ\u001b[0m\u001b[0;34m,\u001b[0m \u001b[0m_\u001b[0m \u001b[0;34m=\u001b[0m \u001b[0mlinalg\u001b[0m\u001b[0;34m.\u001b[0m\u001b[0mlu\u001b[0m\u001b[0;34m(\u001b[0m\u001b[0msafe_sparse_dot\u001b[0m\u001b[0;34m(\u001b[0m\u001b[0mA\u001b[0m\u001b[0;34m,\u001b[0m \u001b[0mQ\u001b[0m\u001b[0;34m)\u001b[0m\u001b[0;34m,\u001b[0m \u001b[0mpermute_l\u001b[0m\u001b[0;34m=\u001b[0m\u001b[0;32mTrue\u001b[0m\u001b[0;34m)\u001b[0m\u001b[0;34m\u001b[0m\u001b[0;34m\u001b[0m\u001b[0m\n\u001b[0m\u001b[1;32m    250\u001b[0m             \u001b[0mQ\u001b[0m\u001b[0;34m,\u001b[0m \u001b[0m_\u001b[0m \u001b[0;34m=\u001b[0m \u001b[0mlinalg\u001b[0m\u001b[0;34m.\u001b[0m\u001b[0mlu\u001b[0m\u001b[0;34m(\u001b[0m\u001b[0msafe_sparse_dot\u001b[0m\u001b[0;34m(\u001b[0m\u001b[0mA\u001b[0m\u001b[0;34m.\u001b[0m\u001b[0mT\u001b[0m\u001b[0;34m,\u001b[0m \u001b[0mQ\u001b[0m\u001b[0;34m)\u001b[0m\u001b[0;34m,\u001b[0m \u001b[0mpermute_l\u001b[0m\u001b[0;34m=\u001b[0m\u001b[0;32mTrue\u001b[0m\u001b[0;34m)\u001b[0m\u001b[0;34m\u001b[0m\u001b[0;34m\u001b[0m\u001b[0m\n\u001b[1;32m    251\u001b[0m         \u001b[0;32melif\u001b[0m \u001b[0mpower_iteration_normalizer\u001b[0m \u001b[0;34m==\u001b[0m \u001b[0;34m'QR'\u001b[0m\u001b[0;34m:\u001b[0m\u001b[0;34m\u001b[0m\u001b[0;34m\u001b[0m\u001b[0m\n",
      "\u001b[0;32m~/anaconda3/envs/da2019/lib/python3.6/site-packages/sklearn/utils/extmath.py\u001b[0m in \u001b[0;36msafe_sparse_dot\u001b[0;34m(a, b, dense_output)\u001b[0m\n\u001b[1;32m    166\u001b[0m     \"\"\"\n\u001b[1;32m    167\u001b[0m     \u001b[0;32mif\u001b[0m \u001b[0msparse\u001b[0m\u001b[0;34m.\u001b[0m\u001b[0missparse\u001b[0m\u001b[0;34m(\u001b[0m\u001b[0ma\u001b[0m\u001b[0;34m)\u001b[0m \u001b[0;32mor\u001b[0m \u001b[0msparse\u001b[0m\u001b[0;34m.\u001b[0m\u001b[0missparse\u001b[0m\u001b[0;34m(\u001b[0m\u001b[0mb\u001b[0m\u001b[0;34m)\u001b[0m\u001b[0;34m:\u001b[0m\u001b[0;34m\u001b[0m\u001b[0;34m\u001b[0m\u001b[0m\n\u001b[0;32m--> 168\u001b[0;31m         \u001b[0mret\u001b[0m \u001b[0;34m=\u001b[0m \u001b[0ma\u001b[0m \u001b[0;34m*\u001b[0m \u001b[0mb\u001b[0m\u001b[0;34m\u001b[0m\u001b[0;34m\u001b[0m\u001b[0m\n\u001b[0m\u001b[1;32m    169\u001b[0m         \u001b[0;32mif\u001b[0m \u001b[0mdense_output\u001b[0m \u001b[0;32mand\u001b[0m \u001b[0mhasattr\u001b[0m\u001b[0;34m(\u001b[0m\u001b[0mret\u001b[0m\u001b[0;34m,\u001b[0m \u001b[0;34m\"toarray\"\u001b[0m\u001b[0;34m)\u001b[0m\u001b[0;34m:\u001b[0m\u001b[0;34m\u001b[0m\u001b[0;34m\u001b[0m\u001b[0m\n\u001b[1;32m    170\u001b[0m             \u001b[0mret\u001b[0m \u001b[0;34m=\u001b[0m \u001b[0mret\u001b[0m\u001b[0;34m.\u001b[0m\u001b[0mtoarray\u001b[0m\u001b[0;34m(\u001b[0m\u001b[0;34m)\u001b[0m\u001b[0;34m\u001b[0m\u001b[0;34m\u001b[0m\u001b[0m\n",
      "\u001b[0;32m~/anaconda3/envs/da2019/lib/python3.6/site-packages/scipy/sparse/base.py\u001b[0m in \u001b[0;36m__mul__\u001b[0;34m(self, other)\u001b[0m\n\u001b[1;32m    471\u001b[0m                 \u001b[0;32mreturn\u001b[0m \u001b[0mself\u001b[0m\u001b[0;34m.\u001b[0m\u001b[0m_mul_vector\u001b[0m\u001b[0;34m(\u001b[0m\u001b[0mother\u001b[0m\u001b[0;34m.\u001b[0m\u001b[0mravel\u001b[0m\u001b[0;34m(\u001b[0m\u001b[0;34m)\u001b[0m\u001b[0;34m)\u001b[0m\u001b[0;34m.\u001b[0m\u001b[0mreshape\u001b[0m\u001b[0;34m(\u001b[0m\u001b[0mM\u001b[0m\u001b[0;34m,\u001b[0m \u001b[0;36m1\u001b[0m\u001b[0;34m)\u001b[0m\u001b[0;34m\u001b[0m\u001b[0;34m\u001b[0m\u001b[0m\n\u001b[1;32m    472\u001b[0m             \u001b[0;32melif\u001b[0m \u001b[0mother\u001b[0m\u001b[0;34m.\u001b[0m\u001b[0mndim\u001b[0m \u001b[0;34m==\u001b[0m \u001b[0;36m2\u001b[0m \u001b[0;32mand\u001b[0m \u001b[0mother\u001b[0m\u001b[0;34m.\u001b[0m\u001b[0mshape\u001b[0m\u001b[0;34m[\u001b[0m\u001b[0;36m0\u001b[0m\u001b[0;34m]\u001b[0m \u001b[0;34m==\u001b[0m \u001b[0mN\u001b[0m\u001b[0;34m:\u001b[0m\u001b[0;34m\u001b[0m\u001b[0;34m\u001b[0m\u001b[0m\n\u001b[0;32m--> 473\u001b[0;31m                 \u001b[0;32mreturn\u001b[0m \u001b[0mself\u001b[0m\u001b[0;34m.\u001b[0m\u001b[0m_mul_multivector\u001b[0m\u001b[0;34m(\u001b[0m\u001b[0mother\u001b[0m\u001b[0;34m)\u001b[0m\u001b[0;34m\u001b[0m\u001b[0;34m\u001b[0m\u001b[0m\n\u001b[0m\u001b[1;32m    474\u001b[0m \u001b[0;34m\u001b[0m\u001b[0m\n\u001b[1;32m    475\u001b[0m         \u001b[0;32mif\u001b[0m \u001b[0misscalarlike\u001b[0m\u001b[0;34m(\u001b[0m\u001b[0mother\u001b[0m\u001b[0;34m)\u001b[0m\u001b[0;34m:\u001b[0m\u001b[0;34m\u001b[0m\u001b[0;34m\u001b[0m\u001b[0m\n",
      "\u001b[0;32m~/anaconda3/envs/da2019/lib/python3.6/site-packages/scipy/sparse/compressed.py\u001b[0m in \u001b[0;36m_mul_multivector\u001b[0;34m(self, other)\u001b[0m\n\u001b[1;32m    475\u001b[0m \u001b[0;34m\u001b[0m\u001b[0m\n\u001b[1;32m    476\u001b[0m         result = np.zeros((M, n_vecs),\n\u001b[0;32m--> 477\u001b[0;31m                           dtype=upcast_char(self.dtype.char, other.dtype.char))\n\u001b[0m\u001b[1;32m    478\u001b[0m \u001b[0;34m\u001b[0m\u001b[0m\n\u001b[1;32m    479\u001b[0m         \u001b[0;31m# csr_matvecs or csc_matvecs\u001b[0m\u001b[0;34m\u001b[0m\u001b[0;34m\u001b[0m\u001b[0;34m\u001b[0m\u001b[0m\n",
      "\u001b[0;31mMemoryError\u001b[0m: "
     ]
    }
   ],
   "source": [
    "svd.fit(totalattributes)"
   ]
  },
  {
   "cell_type": "code",
   "execution_count": 27,
   "metadata": {},
   "outputs": [
    {
     "data": {
      "text/plain": [
       "0.34053416640586137"
      ]
     },
     "execution_count": 27,
     "metadata": {},
     "output_type": "execute_result"
    }
   ],
   "source": [
    "svd.explained_variance_ratio_.sum()"
   ]
  },
  {
   "cell_type": "markdown",
   "metadata": {},
   "source": [
    "# Test for Day 1"
   ]
  },
  {
   "cell_type": "code",
   "execution_count": 27,
   "metadata": {},
   "outputs": [
    {
     "name": "stdout",
     "output_type": "stream",
     "text": [
      "peak memory: 3724.99 MiB, increment: 0.09 MiB\n",
      "peak memory: 3724.99 MiB, increment: 0.00 MiB\n",
      "peak memory: 3724.99 MiB, increment: 0.00 MiB\n",
      "peak memory: 3724.99 MiB, increment: 0.00 MiB\n",
      "peak memory: 3724.99 MiB, increment: 0.00 MiB\n",
      "peak memory: 3724.99 MiB, increment: 0.00 MiB\n",
      "peak memory: 3725.00 MiB, increment: 0.00 MiB\n",
      "peak memory: 3725.00 MiB, increment: 0.00 MiB\n",
      "1.07 s ± 4.67 ms per loop (mean ± std. dev. of 7 runs, 1 loop each)\n"
     ]
    }
   ],
   "source": [
    "%%timeit\n",
    "%memit sd.load_svmlight_file('url_svmlight/Day0.svm')"
   ]
  },
  {
   "cell_type": "code",
   "execution_count": null,
   "metadata": {},
   "outputs": [],
   "source": []
  }
 ],
 "metadata": {
  "kernelspec": {
   "display_name": "Python 3",
   "language": "python",
   "name": "python3"
  },
  "language_info": {
   "codemirror_mode": {
    "name": "ipython",
    "version": 3
   },
   "file_extension": ".py",
   "mimetype": "text/x-python",
   "name": "python",
   "nbconvert_exporter": "python",
   "pygments_lexer": "ipython3",
   "version": "3.6.8"
  }
 },
 "nbformat": 4,
 "nbformat_minor": 2
}
